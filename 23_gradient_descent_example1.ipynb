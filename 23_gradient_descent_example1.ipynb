{
  "nbformat": 4,
  "nbformat_minor": 0,
  "metadata": {
    "colab": {
      "provenance": []
    },
    "kernelspec": {
      "name": "python3",
      "display_name": "Python 3"
    },
    "language_info": {
      "name": "python"
    }
  },
  "cells": [
    {
      "cell_type": "code",
      "execution_count": null,
      "metadata": {
        "id": "CUkHZ9UekSAG"
      },
      "outputs": [],
      "source": [
        "# 2.3 Gradient descent understanding.\n",
        "# Tratemos de entender el proceso por el cual la red meuronal \"aprende\"."
      ]
    },
    {
      "cell_type": "code",
      "source": [
        "# :)"
      ],
      "metadata": {
        "id": "3wlAMG8qkVgA"
      },
      "execution_count": null,
      "outputs": []
    },
    {
      "cell_type": "markdown",
      "source": [
        "# 2.3 Gradient descent understanding.\n",
        "#### Example 1\n",
        " Tratemos de entender el proceso por el cual la red meuronal \"aprende\".\n",
        "\n",
        "En el examplo0, sabíamos la función, y sabemos en consecuencia, la derivada de la función de costo o loss.\n",
        "\n",
        "Supongamos que deseamos estimar el siguiente modelo:\n",
        "\n",
        "$ y = \\theta_0 + \\theta_1 x$\n",
        "\n",
        "basado en un conjunto de muestras de entrenamiento en el par $(x,y)$.\n",
        "\n",
        "De acuerdo a GD, necesitamos estimar los parámetros $\\theta_0$ y $\\theta_1$ para minimizar el loss o cost.\n",
        "\n",
        "Nuestra función de costo o pérdida podría ser:\n",
        "\n",
        "$MSE = \\frac{1}{n} \\sum_{i=1}^{n} (\\hat{y}_i - y_i)^2$\n",
        "\n",
        "Pero $\\hat{y}_i$ depende de los parámetros $\\theta_0$ y $\\theta_1$, por lo que se puede re-escribir como:\n",
        "\n",
        "$ MSE =  \\frac{1}{n} \\sum_{i=1}^{n} (\\hat{\\theta}_0 + \\hat{\\theta}_1 x - y_i)^2 $\n",
        "\n",
        "Así, por ejemplo, el gradiente del MSE, respecto a $\\theta_1$ sería:\n",
        "\n",
        "\n",
        "$ \\frac{2}{n} \\sum_{i=1}^{n} (\\hat{\\theta}_0 + \\hat{\\theta}_1 x - y_i)x$\n",
        "\n",
        "Entonces, de acuardo a GD, nuestro algoritmo aproxima los parámetros de acuerdo a:\n",
        "\n",
        "$\\theta_j := \\theta_j - \\eta \\frac{1}{n}\\sum_{i=1}^{n} (h_{\\theta}(x^{(i)}) - y^{(i)})x_{j}^{(i)}$\n",
        "\n",
        "\n",
        "Veamos una alternativa de implementar esto en python, para el modelo lineal.\n"
      ],
      "metadata": {
        "id": "UAXznIt7kjKw"
      }
    },
    {
      "cell_type": "code",
      "source": [
        "# Para el ejemplo, veamos un set de datos real, como por ejemplo del de los precios de\n",
        "# departamentos (Boston dataset)\n",
        "\n",
        "import numpy as np\n",
        "import pandas as pd\n",
        "#import plotly.express as px\n",
        "import matplotlib.pyplot as plt\n",
        "from sklearn.metrics import mean_squared_error\n",
        "\n",
        "\n",
        "# Carga de Boston data set:\n",
        "# https://www.kaggle.com/competitions/boston-housing/data?select=train.csv\n",
        "\n",
        "url = 'https://raw.githubusercontent.com/MAValle/deepLearning_intro_course/main/boston_train.csv'\n",
        "data = pd.read_csv(url)\n",
        "\n",
        "data = data.drop(['ID'], axis=1)\n",
        "data.rename(columns = {'medv':'target'}, inplace = True) # vD: valor US$X1000\n",
        "\n",
        "data.head()"
      ],
      "metadata": {
        "id": "VEtZjdrUplMJ",
        "colab": {
          "base_uri": "https://localhost:8080/",
          "height": 206
        },
        "outputId": "4e557375-a96c-438e-8afb-59dcf36aee76"
      },
      "execution_count": 6,
      "outputs": [
        {
          "output_type": "execute_result",
          "data": {
            "text/plain": [
              "      crim    zn  indus  chas    nox     rm   age     dis  rad  tax  ptratio  \\\n",
              "0  0.00632  18.0   2.31     0  0.538  6.575  65.2  4.0900    1  296     15.3   \n",
              "1  0.02731   0.0   7.07     0  0.469  6.421  78.9  4.9671    2  242     17.8   \n",
              "2  0.03237   0.0   2.18     0  0.458  6.998  45.8  6.0622    3  222     18.7   \n",
              "3  0.06905   0.0   2.18     0  0.458  7.147  54.2  6.0622    3  222     18.7   \n",
              "4  0.08829  12.5   7.87     0  0.524  6.012  66.6  5.5605    5  311     15.2   \n",
              "\n",
              "    black  lstat  target  \n",
              "0  396.90   4.98    24.0  \n",
              "1  396.90   9.14    21.6  \n",
              "2  394.63   2.94    33.4  \n",
              "3  396.90   5.33    36.2  \n",
              "4  395.60  12.43    22.9  "
            ],
            "text/html": [
              "\n",
              "\n",
              "  <div id=\"df-e3a2dfa1-caa7-4add-99eb-b8f0822a0078\">\n",
              "    <div class=\"colab-df-container\">\n",
              "      <div>\n",
              "<style scoped>\n",
              "    .dataframe tbody tr th:only-of-type {\n",
              "        vertical-align: middle;\n",
              "    }\n",
              "\n",
              "    .dataframe tbody tr th {\n",
              "        vertical-align: top;\n",
              "    }\n",
              "\n",
              "    .dataframe thead th {\n",
              "        text-align: right;\n",
              "    }\n",
              "</style>\n",
              "<table border=\"1\" class=\"dataframe\">\n",
              "  <thead>\n",
              "    <tr style=\"text-align: right;\">\n",
              "      <th></th>\n",
              "      <th>crim</th>\n",
              "      <th>zn</th>\n",
              "      <th>indus</th>\n",
              "      <th>chas</th>\n",
              "      <th>nox</th>\n",
              "      <th>rm</th>\n",
              "      <th>age</th>\n",
              "      <th>dis</th>\n",
              "      <th>rad</th>\n",
              "      <th>tax</th>\n",
              "      <th>ptratio</th>\n",
              "      <th>black</th>\n",
              "      <th>lstat</th>\n",
              "      <th>target</th>\n",
              "    </tr>\n",
              "  </thead>\n",
              "  <tbody>\n",
              "    <tr>\n",
              "      <th>0</th>\n",
              "      <td>0.00632</td>\n",
              "      <td>18.0</td>\n",
              "      <td>2.31</td>\n",
              "      <td>0</td>\n",
              "      <td>0.538</td>\n",
              "      <td>6.575</td>\n",
              "      <td>65.2</td>\n",
              "      <td>4.0900</td>\n",
              "      <td>1</td>\n",
              "      <td>296</td>\n",
              "      <td>15.3</td>\n",
              "      <td>396.90</td>\n",
              "      <td>4.98</td>\n",
              "      <td>24.0</td>\n",
              "    </tr>\n",
              "    <tr>\n",
              "      <th>1</th>\n",
              "      <td>0.02731</td>\n",
              "      <td>0.0</td>\n",
              "      <td>7.07</td>\n",
              "      <td>0</td>\n",
              "      <td>0.469</td>\n",
              "      <td>6.421</td>\n",
              "      <td>78.9</td>\n",
              "      <td>4.9671</td>\n",
              "      <td>2</td>\n",
              "      <td>242</td>\n",
              "      <td>17.8</td>\n",
              "      <td>396.90</td>\n",
              "      <td>9.14</td>\n",
              "      <td>21.6</td>\n",
              "    </tr>\n",
              "    <tr>\n",
              "      <th>2</th>\n",
              "      <td>0.03237</td>\n",
              "      <td>0.0</td>\n",
              "      <td>2.18</td>\n",
              "      <td>0</td>\n",
              "      <td>0.458</td>\n",
              "      <td>6.998</td>\n",
              "      <td>45.8</td>\n",
              "      <td>6.0622</td>\n",
              "      <td>3</td>\n",
              "      <td>222</td>\n",
              "      <td>18.7</td>\n",
              "      <td>394.63</td>\n",
              "      <td>2.94</td>\n",
              "      <td>33.4</td>\n",
              "    </tr>\n",
              "    <tr>\n",
              "      <th>3</th>\n",
              "      <td>0.06905</td>\n",
              "      <td>0.0</td>\n",
              "      <td>2.18</td>\n",
              "      <td>0</td>\n",
              "      <td>0.458</td>\n",
              "      <td>7.147</td>\n",
              "      <td>54.2</td>\n",
              "      <td>6.0622</td>\n",
              "      <td>3</td>\n",
              "      <td>222</td>\n",
              "      <td>18.7</td>\n",
              "      <td>396.90</td>\n",
              "      <td>5.33</td>\n",
              "      <td>36.2</td>\n",
              "    </tr>\n",
              "    <tr>\n",
              "      <th>4</th>\n",
              "      <td>0.08829</td>\n",
              "      <td>12.5</td>\n",
              "      <td>7.87</td>\n",
              "      <td>0</td>\n",
              "      <td>0.524</td>\n",
              "      <td>6.012</td>\n",
              "      <td>66.6</td>\n",
              "      <td>5.5605</td>\n",
              "      <td>5</td>\n",
              "      <td>311</td>\n",
              "      <td>15.2</td>\n",
              "      <td>395.60</td>\n",
              "      <td>12.43</td>\n",
              "      <td>22.9</td>\n",
              "    </tr>\n",
              "  </tbody>\n",
              "</table>\n",
              "</div>\n",
              "      <button class=\"colab-df-convert\" onclick=\"convertToInteractive('df-e3a2dfa1-caa7-4add-99eb-b8f0822a0078')\"\n",
              "              title=\"Convert this dataframe to an interactive table.\"\n",
              "              style=\"display:none;\">\n",
              "\n",
              "  <svg xmlns=\"http://www.w3.org/2000/svg\" height=\"24px\"viewBox=\"0 0 24 24\"\n",
              "       width=\"24px\">\n",
              "    <path d=\"M0 0h24v24H0V0z\" fill=\"none\"/>\n",
              "    <path d=\"M18.56 5.44l.94 2.06.94-2.06 2.06-.94-2.06-.94-.94-2.06-.94 2.06-2.06.94zm-11 1L8.5 8.5l.94-2.06 2.06-.94-2.06-.94L8.5 2.5l-.94 2.06-2.06.94zm10 10l.94 2.06.94-2.06 2.06-.94-2.06-.94-.94-2.06-.94 2.06-2.06.94z\"/><path d=\"M17.41 7.96l-1.37-1.37c-.4-.4-.92-.59-1.43-.59-.52 0-1.04.2-1.43.59L10.3 9.45l-7.72 7.72c-.78.78-.78 2.05 0 2.83L4 21.41c.39.39.9.59 1.41.59.51 0 1.02-.2 1.41-.59l7.78-7.78 2.81-2.81c.8-.78.8-2.07 0-2.86zM5.41 20L4 18.59l7.72-7.72 1.47 1.35L5.41 20z\"/>\n",
              "  </svg>\n",
              "      </button>\n",
              "\n",
              "\n",
              "\n",
              "    <div id=\"df-3a39afbc-d88d-4cfb-803b-99562d630e7c\">\n",
              "      <button class=\"colab-df-quickchart\" onclick=\"quickchart('df-3a39afbc-d88d-4cfb-803b-99562d630e7c')\"\n",
              "              title=\"Suggest charts.\"\n",
              "              style=\"display:none;\">\n",
              "\n",
              "<svg xmlns=\"http://www.w3.org/2000/svg\" height=\"24px\"viewBox=\"0 0 24 24\"\n",
              "     width=\"24px\">\n",
              "    <g>\n",
              "        <path d=\"M19 3H5c-1.1 0-2 .9-2 2v14c0 1.1.9 2 2 2h14c1.1 0 2-.9 2-2V5c0-1.1-.9-2-2-2zM9 17H7v-7h2v7zm4 0h-2V7h2v10zm4 0h-2v-4h2v4z\"/>\n",
              "    </g>\n",
              "</svg>\n",
              "      </button>\n",
              "    </div>\n",
              "\n",
              "<style>\n",
              "  .colab-df-quickchart {\n",
              "    background-color: #E8F0FE;\n",
              "    border: none;\n",
              "    border-radius: 50%;\n",
              "    cursor: pointer;\n",
              "    display: none;\n",
              "    fill: #1967D2;\n",
              "    height: 32px;\n",
              "    padding: 0 0 0 0;\n",
              "    width: 32px;\n",
              "  }\n",
              "\n",
              "  .colab-df-quickchart:hover {\n",
              "    background-color: #E2EBFA;\n",
              "    box-shadow: 0px 1px 2px rgba(60, 64, 67, 0.3), 0px 1px 3px 1px rgba(60, 64, 67, 0.15);\n",
              "    fill: #174EA6;\n",
              "  }\n",
              "\n",
              "  [theme=dark] .colab-df-quickchart {\n",
              "    background-color: #3B4455;\n",
              "    fill: #D2E3FC;\n",
              "  }\n",
              "\n",
              "  [theme=dark] .colab-df-quickchart:hover {\n",
              "    background-color: #434B5C;\n",
              "    box-shadow: 0px 1px 3px 1px rgba(0, 0, 0, 0.15);\n",
              "    filter: drop-shadow(0px 1px 2px rgba(0, 0, 0, 0.3));\n",
              "    fill: #FFFFFF;\n",
              "  }\n",
              "</style>\n",
              "\n",
              "    <script>\n",
              "      async function quickchart(key) {\n",
              "        const containerElement = document.querySelector('#' + key);\n",
              "        const charts = await google.colab.kernel.invokeFunction(\n",
              "            'suggestCharts', [key], {});\n",
              "      }\n",
              "    </script>\n",
              "\n",
              "      <script>\n",
              "\n",
              "function displayQuickchartButton(domScope) {\n",
              "  let quickchartButtonEl =\n",
              "    domScope.querySelector('#df-3a39afbc-d88d-4cfb-803b-99562d630e7c button.colab-df-quickchart');\n",
              "  quickchartButtonEl.style.display =\n",
              "    google.colab.kernel.accessAllowed ? 'block' : 'none';\n",
              "}\n",
              "\n",
              "        displayQuickchartButton(document);\n",
              "      </script>\n",
              "      <style>\n",
              "    .colab-df-container {\n",
              "      display:flex;\n",
              "      flex-wrap:wrap;\n",
              "      gap: 12px;\n",
              "    }\n",
              "\n",
              "    .colab-df-convert {\n",
              "      background-color: #E8F0FE;\n",
              "      border: none;\n",
              "      border-radius: 50%;\n",
              "      cursor: pointer;\n",
              "      display: none;\n",
              "      fill: #1967D2;\n",
              "      height: 32px;\n",
              "      padding: 0 0 0 0;\n",
              "      width: 32px;\n",
              "    }\n",
              "\n",
              "    .colab-df-convert:hover {\n",
              "      background-color: #E2EBFA;\n",
              "      box-shadow: 0px 1px 2px rgba(60, 64, 67, 0.3), 0px 1px 3px 1px rgba(60, 64, 67, 0.15);\n",
              "      fill: #174EA6;\n",
              "    }\n",
              "\n",
              "    [theme=dark] .colab-df-convert {\n",
              "      background-color: #3B4455;\n",
              "      fill: #D2E3FC;\n",
              "    }\n",
              "\n",
              "    [theme=dark] .colab-df-convert:hover {\n",
              "      background-color: #434B5C;\n",
              "      box-shadow: 0px 1px 3px 1px rgba(0, 0, 0, 0.15);\n",
              "      filter: drop-shadow(0px 1px 2px rgba(0, 0, 0, 0.3));\n",
              "      fill: #FFFFFF;\n",
              "    }\n",
              "  </style>\n",
              "\n",
              "      <script>\n",
              "        const buttonEl =\n",
              "          document.querySelector('#df-e3a2dfa1-caa7-4add-99eb-b8f0822a0078 button.colab-df-convert');\n",
              "        buttonEl.style.display =\n",
              "          google.colab.kernel.accessAllowed ? 'block' : 'none';\n",
              "\n",
              "        async function convertToInteractive(key) {\n",
              "          const element = document.querySelector('#df-e3a2dfa1-caa7-4add-99eb-b8f0822a0078');\n",
              "          const dataTable =\n",
              "            await google.colab.kernel.invokeFunction('convertToInteractive',\n",
              "                                                     [key], {});\n",
              "          if (!dataTable) return;\n",
              "\n",
              "          const docLinkHtml = 'Like what you see? Visit the ' +\n",
              "            '<a target=\"_blank\" href=https://colab.research.google.com/notebooks/data_table.ipynb>data table notebook</a>'\n",
              "            + ' to learn more about interactive tables.';\n",
              "          element.innerHTML = '';\n",
              "          dataTable['output_type'] = 'display_data';\n",
              "          await google.colab.output.renderOutput(dataTable, element);\n",
              "          const docLink = document.createElement('div');\n",
              "          docLink.innerHTML = docLinkHtml;\n",
              "          element.appendChild(docLink);\n",
              "        }\n",
              "      </script>\n",
              "    </div>\n",
              "  </div>\n"
            ]
          },
          "metadata": {},
          "execution_count": 6
        }
      ]
    },
    {
      "cell_type": "code",
      "source": [
        "# Generamos una matriz de features o prodictores (X) y el vector de targets (y).\n",
        "# También vamos a inicializar el vector de parametros Theta1 y theta2.\n",
        "\n",
        "X,y = data.drop('target',axis=1), data['target']\n",
        "#y\n",
        "thetas = np.zeros(X.shape[1]) # como son 13 predictores, tendremos 13 thetas\n",
        "thetas"
      ],
      "metadata": {
        "colab": {
          "base_uri": "https://localhost:8080/"
        },
        "id": "RGoF2SZg6bsw",
        "outputId": "ed39d279-bba6-4161-b38d-417764decdaf"
      },
      "execution_count": 10,
      "outputs": [
        {
          "output_type": "execute_result",
          "data": {
            "text/plain": [
              "array([0., 0., 0., 0., 0., 0., 0., 0., 0., 0., 0., 0., 0.])"
            ]
          },
          "metadata": {},
          "execution_count": 10
        }
      ]
    },
    {
      "cell_type": "code",
      "source": [
        "# no olvidemos escalar los predictores:\n",
        "X_norm = (X - X.min()) / (X.max() - X.min())\n",
        "X = X_norm"
      ],
      "metadata": {
        "id": "dpgSLfUp74sB"
      },
      "execution_count": 14,
      "outputs": []
    },
    {
      "cell_type": "code",
      "source": [
        "# Definimos nuestra funcion de loss:\n",
        "# compare esto con lo que teníamos arriba en la explicacion.\n",
        "\n",
        "def loss_function(X,Y, B):\n",
        "    predictions = np.dot(X,B.T) # aqui calculamos la prediccion de y (en forma matricial)\n",
        "    loss = (1/len(Y)) * np.sum((predictions - Y) ** 2)\n",
        "    return loss\n",
        "\n",
        "# probando probando\n",
        "# loss_function(X,y,thetas)"
      ],
      "metadata": {
        "id": "07HE_inD69aK"
      },
      "execution_count": 16,
      "outputs": []
    },
    {
      "cell_type": "code",
      "source": [
        "# Ahora al GD!!\n",
        "# Implementamos una funcion que haga GD para este caso:\n",
        "# Inputs:\n",
        "# X, Y ... datos de train\n",
        "# theta : vector de los parametros del modelo\n",
        "# eta: learning rate\n",
        "# iters:  numero de iteraciones de gd\n",
        "\n",
        "def gd(X, Y, thetas, eta, iters):\n",
        "    loss_history = [0] * iters  # inicializar el vector de loss para ir registrando valor de loss\n",
        "    for i in range(iters):\n",
        "        prediction = np.dot(X,thetas.T)\n",
        "        thetas = thetas - (eta/len(Y)) * np.dot(prediction - Y, X)   # note que es nuestro gradiente\n",
        "        loss_history[i] = loss_function(X, Y, thetas)\n",
        "    return thetas, loss_history\n",
        "\n",
        "# probando probando\n",
        "batch_thetas, batch_history = gd(X, y, thetas, 0.05, 500)\n",
        "print(batch_thetas)\n",
        "print(loss_function(X, y, batch_thetas) )\n",
        "print(len(batch_history))"
      ],
      "metadata": {
        "colab": {
          "base_uri": "https://localhost:8080/"
        },
        "id": "GYTqK50b795z",
        "outputId": "4b5d20ce-ebb5-4d3e-ac28-9bb1ab382a4e"
      },
      "execution_count": 31,
      "outputs": [
        {
          "output_type": "stream",
          "name": "stdout",
          "text": [
            "[-1.24883117  5.41949228 -0.75243053  4.8530056   1.00782252 19.81771606\n",
            "  3.69395449  3.37832578  1.51646474 -1.66471734 -1.95666481 13.51866563\n",
            " -9.65726743]\n",
            "35.7955443267188\n",
            "500\n"
          ]
        }
      ]
    },
    {
      "cell_type": "code",
      "source": [
        "# grafiquemos la evolucion de loss, que es nuestro indicador de como va la cosa:\n",
        "import matplotlib.pyplot as plt\n",
        "plt.plot(batch_history)\n",
        "plt.title(\"Loss evolution\")\n",
        "plt.xlabel(\"Iteration\")\n",
        "plt.ylabel(\"Loss\")\n",
        "#type(batch_history)\n",
        "\n",
        "\n"
      ],
      "metadata": {
        "colab": {
          "base_uri": "https://localhost:8080/",
          "height": 490
        },
        "id": "O-n66Lzu9Wr7",
        "outputId": "a1392658-5bb8-4ea6-b590-b2f5c9e7553a"
      },
      "execution_count": 38,
      "outputs": [
        {
          "output_type": "execute_result",
          "data": {
            "text/plain": [
              "Text(0, 0.5, 'Loss')"
            ]
          },
          "metadata": {},
          "execution_count": 38
        },
        {
          "output_type": "display_data",
          "data": {
            "text/plain": [
              "<Figure size 640x480 with 1 Axes>"
            ],
            "image/png": "[encoded data removed]"
          },
          "metadata": {}
        }
      ]
    },
    {
      "cell_type": "markdown",
      "source": [
        "### Conclusión\n",
        "Consideremos algunas observaciones:\n",
        "\n",
        "1. En el ejemplo anterior, tomábamos el set completo de X (toda la base de datos) para hacer un upgrade de los parámetros. A veces esto no es posible, y debemos tomar un \"batch\", es decir, una muestra más pequeña para hacer el upgrade. Los batches van cambiando en cada iteración. este método se denomian stochastic gradient descent.\n",
        "\n",
        "2. La tasa de aprendizaje siempre está fija. No obstante, conforme converge la función de loss, es deseable que esta tasa vaya disminutyendo para hacer ajustes cada vez más precisos. Esto se denomina \"Learning Schedule\". Ojo que la Tasa no debe ser ni muy grande (o de otra forma tendremos sobre ajustes), ni muy chica (o el aprendizaje es muy lento).\n"
      ],
      "metadata": {
        "id": "tkOh9tzh_aI6"
      }
    }
  ]
}