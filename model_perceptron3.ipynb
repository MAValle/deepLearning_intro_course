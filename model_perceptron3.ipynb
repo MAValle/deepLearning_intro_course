{
 "cells": [
  {
   "cell_type": "code",
   "execution_count": 1,
   "metadata": {},
   "outputs": [],
   "source": [
    "# En model_perceptron2.ipynb, hemos visto que mal se desempeña el perceptron con el set de datos IRIS.\n",
    "# Recordemos que el perceptron es un modelo de clasificacion binario. Mientras que el set de datos IRIS\n",
    "# Posee 3 clases.\n",
    "\n",
    "# ¿por que funciona tan mal el perceptron para un problema de clasficacion que no es binario?\n",
    "# ¿alguna idea?\n",
    "\n",
    "# Lo que vamos a hacer ahora, es modelar un perceptron para un problema de clasificacion bianrio,\n",
    "# con el mismo set de datos IRIS, pero restringiendo la clasificacion a la clase 0 y a la clase 1, \n",
    "# es decir, que el perceptron sea capaz de discriminar entre setosa (0) y versicolor ( 1)\n",
    "\n",
    "# Para esto tenemos que seleccionar las instancias correspondientes a setosa (0) y versicolor ( 1)."
   ]
  },
  {
   "cell_type": "code",
   "execution_count": 151,
   "metadata": {},
   "outputs": [
    {
     "name": "stdout",
     "output_type": "stream",
     "text": [
      "      Id  SepalLengthCm  SepalWidthCm  PetalLengthCm  PetalWidthCm  \\\n",
      "0      1            5.1           3.5            1.4           0.2   \n",
      "1      2            4.9           3.0            1.4           0.2   \n",
      "2      3            4.7           3.2            1.3           0.2   \n",
      "3      4            4.6           3.1            1.5           0.2   \n",
      "4      5            5.0           3.6            1.4           0.2   \n",
      "..   ...            ...           ...            ...           ...   \n",
      "145  146            6.7           3.0            5.2           2.3   \n",
      "146  147            6.3           2.5            5.0           1.9   \n",
      "147  148            6.5           3.0            5.2           2.0   \n",
      "148  149            6.2           3.4            5.4           2.3   \n",
      "149  150            5.9           3.0            5.1           1.8   \n",
      "\n",
      "            Species  \n",
      "0       Iris-setosa  \n",
      "1       Iris-setosa  \n",
      "2       Iris-setosa  \n",
      "3       Iris-setosa  \n",
      "4       Iris-setosa  \n",
      "..              ...  \n",
      "145  Iris-virginica  \n",
      "146  Iris-virginica  \n",
      "147  Iris-virginica  \n",
      "148  Iris-virginica  \n",
      "149  Iris-virginica  \n",
      "\n",
      "[150 rows x 6 columns]\n"
     ]
    }
   ],
   "source": [
    "# Carga de paquetes y dependencias\n",
    "from tensorflow.keras.models import Sequential\n",
    "from tensorflow.keras.layers import Dense\n",
    "import numpy as np #nos permite manejar arrays\n",
    "\n",
    "# Carga de los datos\n",
    "# vamos a aprender a trabajar directamente con datos en formato csv utilizando PANDAS.\n",
    "# descargamos dataset iris de https://www.kaggle.com/uciml/iris\n",
    "\n",
    "# Id\n",
    "# SepalLengthCm\n",
    "# SepalWidthCm\n",
    "# PetalLengthCm\n",
    "# PetalWidthCm\n",
    "# Species\n",
    "\n",
    "import pandas as pd\n",
    "\n",
    "# Read in the survey CSV\n",
    "data_df = pd.read_csv(\"Iris.csv\")\n",
    "\n",
    "print(data_df)\n",
    "\n",
    "\n"
   ]
  },
  {
   "cell_type": "code",
   "execution_count": 152,
   "metadata": {},
   "outputs": [
    {
     "name": "stdout",
     "output_type": "stream",
     "text": [
      "     Id  SepalLengthCm  SepalWidthCm  PetalLengthCm  PetalWidthCm  \\\n",
      "0     1            5.1           3.5            1.4           0.2   \n",
      "1     2            4.9           3.0            1.4           0.2   \n",
      "2     3            4.7           3.2            1.3           0.2   \n",
      "3     4            4.6           3.1            1.5           0.2   \n",
      "4     5            5.0           3.6            1.4           0.2   \n",
      "..  ...            ...           ...            ...           ...   \n",
      "95   96            5.7           3.0            4.2           1.2   \n",
      "96   97            5.7           2.9            4.2           1.3   \n",
      "97   98            6.2           2.9            4.3           1.3   \n",
      "98   99            5.1           2.5            3.0           1.1   \n",
      "99  100            5.7           2.8            4.1           1.3   \n",
      "\n",
      "            Species  \n",
      "0       Iris-setosa  \n",
      "1       Iris-setosa  \n",
      "2       Iris-setosa  \n",
      "3       Iris-setosa  \n",
      "4       Iris-setosa  \n",
      "..              ...  \n",
      "95  Iris-versicolor  \n",
      "96  Iris-versicolor  \n",
      "97  Iris-versicolor  \n",
      "98  Iris-versicolor  \n",
      "99  Iris-versicolor  \n",
      "\n",
      "[100 rows x 6 columns]\n"
     ]
    }
   ],
   "source": [
    "# nos quedamos con las instancias Iris-setosa  y Iris-versicolor\n",
    "\n",
    "newdata = data_df[data_df.Species != 'Iris-virginica']\n",
    "\n",
    "print(newdata)"
   ]
  },
  {
   "cell_type": "code",
   "execution_count": 198,
   "metadata": {},
   "outputs": [
    {
     "name": "stdout",
     "output_type": "stream",
     "text": [
      "    SepalLengthCm  SepalWidthCm  PetalLengthCm  PetalWidthCm\n",
      "0             5.1           3.5            1.4           0.2\n",
      "1             4.9           3.0            1.4           0.2\n",
      "2             4.7           3.2            1.3           0.2\n",
      "3             4.6           3.1            1.5           0.2\n",
      "4             5.0           3.6            1.4           0.2\n",
      "..            ...           ...            ...           ...\n",
      "95            5.7           3.0            4.2           1.2\n",
      "96            5.7           2.9            4.2           1.3\n",
      "97            6.2           2.9            4.3           1.3\n",
      "98            5.1           2.5            3.0           1.1\n",
      "99            5.7           2.8            4.1           1.3\n",
      "\n",
      "[100 rows x 4 columns]\n"
     ]
    }
   ],
   "source": [
    "# seleccionamos los atributos de entrada X  y la clase Y\n",
    "\n",
    "X = newdata.iloc[:, 1:5] # aqui el 5 no incluye la variable clase. Cosas de Python.\n",
    "\n",
    "# si solo queremos utilizar SepalLengthCm y  SepalWidthCm\n",
    "#X = newdata.iloc[:, 1:3] #.\n",
    "\n",
    "\n",
    "print(X)\n",
    "#type(X)\n",
    "Y = newdata['Species']\n",
    "#print(Y)"
   ]
  },
  {
   "cell_type": "code",
   "execution_count": 199,
   "metadata": {},
   "outputs": [
    {
     "name": "stdout",
     "output_type": "stream",
     "text": [
      "[[5.1 3.5 1.4 0.2]\n",
      " [4.9 3.  1.4 0.2]\n",
      " [4.7 3.2 1.3 0.2]\n",
      " [4.6 3.1 1.5 0.2]\n",
      " [5.  3.6 1.4 0.2]\n",
      " [5.4 3.9 1.7 0.4]\n",
      " [4.6 3.4 1.4 0.3]\n",
      " [5.  3.4 1.5 0.2]\n",
      " [4.4 2.9 1.4 0.2]\n",
      " [4.9 3.1 1.5 0.1]\n",
      " [5.4 3.7 1.5 0.2]\n",
      " [4.8 3.4 1.6 0.2]\n",
      " [4.8 3.  1.4 0.1]\n",
      " [4.3 3.  1.1 0.1]\n",
      " [5.8 4.  1.2 0.2]\n",
      " [5.7 4.4 1.5 0.4]\n",
      " [5.4 3.9 1.3 0.4]\n",
      " [5.1 3.5 1.4 0.3]\n",
      " [5.7 3.8 1.7 0.3]\n",
      " [5.1 3.8 1.5 0.3]\n",
      " [5.4 3.4 1.7 0.2]\n",
      " [5.1 3.7 1.5 0.4]\n",
      " [4.6 3.6 1.  0.2]\n",
      " [5.1 3.3 1.7 0.5]\n",
      " [4.8 3.4 1.9 0.2]\n",
      " [5.  3.  1.6 0.2]\n",
      " [5.  3.4 1.6 0.4]\n",
      " [5.2 3.5 1.5 0.2]\n",
      " [5.2 3.4 1.4 0.2]\n",
      " [4.7 3.2 1.6 0.2]\n",
      " [4.8 3.1 1.6 0.2]\n",
      " [5.4 3.4 1.5 0.4]\n",
      " [5.2 4.1 1.5 0.1]\n",
      " [5.5 4.2 1.4 0.2]\n",
      " [4.9 3.1 1.5 0.1]\n",
      " [5.  3.2 1.2 0.2]\n",
      " [5.5 3.5 1.3 0.2]\n",
      " [4.9 3.1 1.5 0.1]\n",
      " [4.4 3.  1.3 0.2]\n",
      " [5.1 3.4 1.5 0.2]\n",
      " [5.  3.5 1.3 0.3]\n",
      " [4.5 2.3 1.3 0.3]\n",
      " [4.4 3.2 1.3 0.2]\n",
      " [5.  3.5 1.6 0.6]\n",
      " [5.1 3.8 1.9 0.4]\n",
      " [4.8 3.  1.4 0.3]\n",
      " [5.1 3.8 1.6 0.2]\n",
      " [4.6 3.2 1.4 0.2]\n",
      " [5.3 3.7 1.5 0.2]\n",
      " [5.  3.3 1.4 0.2]\n",
      " [7.  3.2 4.7 1.4]\n",
      " [6.4 3.2 4.5 1.5]\n",
      " [6.9 3.1 4.9 1.5]\n",
      " [5.5 2.3 4.  1.3]\n",
      " [6.5 2.8 4.6 1.5]\n",
      " [5.7 2.8 4.5 1.3]\n",
      " [6.3 3.3 4.7 1.6]\n",
      " [4.9 2.4 3.3 1. ]\n",
      " [6.6 2.9 4.6 1.3]\n",
      " [5.2 2.7 3.9 1.4]\n",
      " [5.  2.  3.5 1. ]\n",
      " [5.9 3.  4.2 1.5]\n",
      " [6.  2.2 4.  1. ]\n",
      " [6.1 2.9 4.7 1.4]\n",
      " [5.6 2.9 3.6 1.3]\n",
      " [6.7 3.1 4.4 1.4]\n",
      " [5.6 3.  4.5 1.5]\n",
      " [5.8 2.7 4.1 1. ]\n",
      " [6.2 2.2 4.5 1.5]\n",
      " [5.6 2.5 3.9 1.1]\n",
      " [5.9 3.2 4.8 1.8]\n",
      " [6.1 2.8 4.  1.3]\n",
      " [6.3 2.5 4.9 1.5]\n",
      " [6.1 2.8 4.7 1.2]\n",
      " [6.4 2.9 4.3 1.3]\n",
      " [6.6 3.  4.4 1.4]\n",
      " [6.8 2.8 4.8 1.4]\n",
      " [6.7 3.  5.  1.7]\n",
      " [6.  2.9 4.5 1.5]\n",
      " [5.7 2.6 3.5 1. ]\n",
      " [5.5 2.4 3.8 1.1]\n",
      " [5.5 2.4 3.7 1. ]\n",
      " [5.8 2.7 3.9 1.2]\n",
      " [6.  2.7 5.1 1.6]\n",
      " [5.4 3.  4.5 1.5]\n",
      " [6.  3.4 4.5 1.6]\n",
      " [6.7 3.1 4.7 1.5]\n",
      " [6.3 2.3 4.4 1.3]\n",
      " [5.6 3.  4.1 1.3]\n",
      " [5.5 2.5 4.  1.3]\n",
      " [5.5 2.6 4.4 1.2]\n",
      " [6.1 3.  4.6 1.4]\n",
      " [5.8 2.6 4.  1.2]\n",
      " [5.  2.3 3.3 1. ]\n",
      " [5.6 2.7 4.2 1.3]\n",
      " [5.7 3.  4.2 1.2]\n",
      " [5.7 2.9 4.2 1.3]\n",
      " [6.2 2.9 4.3 1.3]\n",
      " [5.1 2.5 3.  1.1]\n",
      " [5.7 2.8 4.1 1.3]]\n"
     ]
    }
   ],
   "source": [
    "# Pero resulta que X e Y estan en formato DataFrame. Tenemos que convertirlos a ARRAY.\n",
    "\n",
    "X = X.to_numpy()\n",
    "# X = X[[\"SepalLengthCm\", \"SepalWidthCm\", \"PetalLengthCm\", \"PetalWidthCm\"]].to_numpy()\n",
    "print(X)\n"
   ]
  },
  {
   "cell_type": "code",
   "execution_count": 156,
   "metadata": {},
   "outputs": [
    {
     "data": {
      "text/plain": [
       "numpy.ndarray"
      ]
     },
     "execution_count": 156,
     "metadata": {},
     "output_type": "execute_result"
    }
   ],
   "source": [
    "type(X)\n"
   ]
  },
  {
   "cell_type": "code",
   "execution_count": 200,
   "metadata": {},
   "outputs": [
    {
     "name": "stdout",
     "output_type": "stream",
     "text": [
      "[-1 -1 -1 -1 -1 -1 -1 -1 -1 -1 -1 -1 -1 -1 -1 -1 -1 -1 -1 -1 -1 -1 -1 -1\n",
      " -1 -1 -1 -1 -1 -1 -1 -1 -1 -1 -1 -1 -1 -1 -1 -1 -1 -1 -1 -1 -1 -1 -1 -1\n",
      " -1 -1  1  1  1  1  1  1  1  1  1  1  1  1  1  1  1  1  1  1  1  1  1  1\n",
      "  1  1  1  1  1  1  1  1  1  1  1  1  1  1  1  1  1  1  1  1  1  1  1  1\n",
      "  1  1  1  1]\n"
     ]
    }
   ],
   "source": [
    "# Con el array Y, estan en formato factor (tenemmos que transformar a 0 / 1)\n",
    "Y = pd.factorize(Y)[0]\n",
    "\n",
    "# y ahora a array (no es necesario porque el pd.factorize lo hace)\n",
    "#Y = Y.to_numpy()\n",
    "\n",
    "#Y = 2*Y -1\n",
    "type(Y)\n",
    "print(Y)\n",
    "\n"
   ]
  },
  {
   "cell_type": "code",
   "execution_count": 201,
   "metadata": {},
   "outputs": [],
   "source": [
    "# Ahora creamos el modelo y agregamos el perceptron, es cual es una Dense layer\n",
    "\n",
    "model = Sequential()\n",
    "# incializamos así:\n",
    "# model.add(Dense(units = 1, activation='hard_sigmoid'))\n",
    "\n",
    "model.add(Dense(1, input_shape=(4,), activation='hard_sigmoid', kernel_initializer='random_uniform'))\n",
    "#model.add(Dense(1, input_shape=(2,), activation='hard_sigmoid', kernel_initializer='random_uniform'))\n",
    "\n",
    "\n",
    "# Ahora compilamos el modelo y lo inicializamos\n",
    "model.compile(loss='binary_crossentropy', optimizer='adam', metrics=['accuracy'])"
   ]
  },
  {
   "cell_type": "code",
   "execution_count": 202,
   "metadata": {},
   "outputs": [],
   "source": [
    "# hacemos fit de datos en este psudo perceptron (entrenamiento).\n",
    "# Presentamos los datos a nuestro pseudo perceptron. Esto le dice a Keras que comience el proceso de \n",
    "# entrenamiento.\n",
    "    \n",
    "history = model.fit(X, Y, epochs=225, batch_size=25, verbose=0, validation_split=0.2)"
   ]
  },
  {
   "cell_type": "code",
   "execution_count": 203,
   "metadata": {},
   "outputs": [
    {
     "data": {
      "text/plain": [
       "Text(0, 0.5, 'Accuracy')"
      ]
     },
     "execution_count": 203,
     "metadata": {},
     "output_type": "execute_result"
    },
    {
     "data": {
      "image/png": "[encoded data removed]",
      "text/plain": [
       "<Figure size 432x288 with 1 Axes>"
      ]
     },
     "metadata": {
      "needs_background": "light"
     },
     "output_type": "display_data"
    }
   ],
   "source": [
    "# Veamos cómo se desarrolla el accuracy en las iteraciones\n",
    "\n",
    "import matplotlib.pyplot as plt #cargamos paquete para graficar\n",
    "\n",
    "epochs = range(len(history.epoch))  #creamos un vector rango de 0 a 255\n",
    "\n",
    "plt.figure()\n",
    "plt.plot(epochs, history.history['accuracy'])\n",
    "plt.xlabel('Epochs')\n",
    "plt.ylabel('Accuracy')"
   ]
  },
  {
   "cell_type": "code",
   "execution_count": 204,
   "metadata": {},
   "outputs": [
    {
     "data": {
      "text/plain": [
       "Text(0, 0.5, 'Loss')"
      ]
     },
     "execution_count": 204,
     "metadata": {},
     "output_type": "execute_result"
    },
    {
     "data": {
      "image/png": "[encoded data removed]",
      "text/plain": [
       "<Figure size 432x288 with 1 Axes>"
      ]
     },
     "metadata": {
      "needs_background": "light"
     },
     "output_type": "display_data"
    }
   ],
   "source": [
    "# Veamos un plot de la funcion de perdida a traves de las iteraciones\n",
    "\n",
    "plt.figure()\n",
    "plt.plot(epochs, history.history['loss'])\n",
    "plt.xlabel('Epochs')\n",
    "plt.ylabel('Loss')"
   ]
  },
  {
   "cell_type": "code",
   "execution_count": 205,
   "metadata": {},
   "outputs": [],
   "source": [
    "# recuperemos los pesos\n",
    "\n",
    "#extract weights and bias from model\n",
    "weights = model.layers[0].get_weights()[0]\n",
    "biases = model.layers[0].get_weights()[1]\n",
    "\n",
    "w1 = weights[0][0] #a\n",
    "w2 = weights[1][0] #b\n",
    "w3 = weights[2][0] #c\n",
    "w4 = weights[3][0] #c\n",
    "b = biases[0]      #d"
   ]
  },
  {
   "cell_type": "code",
   "execution_count": 206,
   "metadata": {},
   "outputs": [
    {
     "name": "stdout",
     "output_type": "stream",
     "text": [
      "[[-0.26791894]\n",
      " [-0.35912582]\n",
      " [ 0.08256736]\n",
      " [ 0.29432705]]\n",
      "-0.29932258\n"
     ]
    }
   ],
   "source": [
    "print(weights)\n",
    "print(b)"
   ]
  },
  {
   "cell_type": "code",
   "execution_count": 207,
   "metadata": {},
   "outputs": [],
   "source": [
    "# w1*x + w2*y + b = 0  ec de la recta\n",
    "# y = -(b - w1*x) / w1\n",
    "\n",
    "\n",
    "x_min = X[:,0].min()\n",
    "x_max = X[:,0].max()\n",
    "x = np.linspace(x_min, x_max, 100)\n",
    "\n",
    "#y_min = X[:,1].min()\n",
    "#y_max = X[:,1].max()\n",
    "#y = np.linspace(x_min, x_max, 100)\n",
    "\n",
    "y = (-(w1 / w2))*x + (-b / w2) \n",
    "\n",
    "\n"
   ]
  },
  {
   "cell_type": "code",
   "execution_count": 94,
   "metadata": {},
   "outputs": [],
   "source": []
  },
  {
   "cell_type": "code",
   "execution_count": 208,
   "metadata": {},
   "outputs": [
    {
     "data": {
      "text/plain": [
       "Text(0, 0.5, 'Sepal width')"
      ]
     },
     "execution_count": 208,
     "metadata": {},
     "output_type": "execute_result"
    },
    {
     "data": {
      "image/png": "[encoded data removed]",
      "text/plain": [
       "<Figure size 432x288 with 1 Axes>"
      ]
     },
     "metadata": {
      "needs_background": "light"
     },
     "output_type": "display_data"
    }
   ],
   "source": [
    "#Xs = np.meshgrid(x)\n",
    "#Ys = ( a*x - d)/b \n",
    "\n",
    "\n",
    "plt.figure()\n",
    "plt.clf()\n",
    "\n",
    "# Plot the training points\n",
    "plt.scatter(X[:, 0], X[:, 1], c=Y, cmap=plt.cm.Set1,\n",
    "            edgecolor='k')\n",
    "plt.scatter(x, y, cmap=plt.cm.Set1, edgecolor='k')\n",
    "\n",
    "plt.xlabel('Sepal length')\n",
    "plt.ylabel('Sepal width')\n",
    "\n"
   ]
  },
  {
   "cell_type": "code",
   "execution_count": 150,
   "metadata": {},
   "outputs": [
    {
     "name": "stdout",
     "output_type": "stream",
     "text": [
      "[-0.15435171]\n"
     ]
    }
   ],
   "source": [
    "print(biases)\n"
   ]
  },
  {
   "cell_type": "code",
   "execution_count": null,
   "metadata": {},
   "outputs": [],
   "source": []
  },
  {
   "cell_type": "code",
   "execution_count": null,
   "metadata": {},
   "outputs": [],
   "source": []
  }
 ],
 "metadata": {
  "kernelspec": {
   "display_name": "Python 3",
   "language": "python",
   "name": "python3"
  },
  "language_info": {
   "codemirror_mode": {
    "name": "ipython",
    "version": 3
   },
   "file_extension": ".py",
   "mimetype": "text/x-python",
   "name": "python",
   "nbconvert_exporter": "python",
   "pygments_lexer": "ipython3",
   "version": "3.7.6"
  }
 },
 "nbformat": 4,
 "nbformat_minor": 4
}
