{
 "cells": [
  {
   "cell_type": "code",
   "execution_count": 1,
   "metadata": {},
   "outputs": [],
   "source": [
    "# Esto es solo unejemplo de mostrativo para fines didacticos.\n",
    "# intención de cómo funciona una red neuronal.\n",
    "# vamos a crear la red neuronal mas pequeña y sumple posible (1 neurona) y la vamos a entrenar.\n",
    "\n",
    "# A neural network is a collection of weights. We can train a neural network on a set of input and output(target or label). \n",
    "# The weights inside the neural net interact with the input and produce an output. As the network is trained, the weights are \n",
    "# updated such that it tries to match the output with the target value. In short neural net learns the mapping between input and \n",
    "# output. Now let’s see what do I mean by all of this.\n",
    "\n",
    "# la idea:\n",
    "# tendremos solo 1 neurona con 1 solo peso (w) la cual alimentamos con input (x), la cual es multiplicada por el pso \n",
    "# y el resultado es el output (y) de la red.\n",
    "\n",
    "#   x ----> W ------> y\n",
    "\n",
    "# y = f(w,x) = w*x\n",
    "\n",
    "# La tarea es alimentar cualquier numero a esta red (aleatoriamente) y la red solo cambiará el signo\n",
    "# de este numero. Por ejemplo, si la entrada es 3, entonces la red tendra como salida un -3."
   ]
  },
  {
   "cell_type": "code",
   "execution_count": 14,
   "metadata": {},
   "outputs": [],
   "source": [
    "# vamos a crear la red en Keras.\n",
    "\n",
    "#import keras\n",
    "#from keras.layers import Dense\n",
    "#model = keras.models.Sequential()\n",
    "#model.add(Dense(1, input_shape=(1,)))\n",
    "#model.compile(loss = 'mse', optimizer = 'adam')\n",
    "\n",
    "\n",
    "\n",
    "from tensorflow.keras.models import Sequential\n",
    "from tensorflow.keras.layers import Dense\n",
    "\n",
    "model = Sequential()\n",
    "#model.add(Dense(1, input_shape=(1,), activation='hard_sigmoid', kernel_initializer='random_uniform'))\n",
    "model.add(Dense(1, input_shape=(1,)))\n",
    "model.compile(loss='mse', optimizer='adam')"
   ]
  },
  {
   "cell_type": "code",
   "execution_count": 9,
   "metadata": {},
   "outputs": [],
   "source": [
    "# ya hemos creado la red con solo 1 peso. Ahora vamos a crear los datos de entrenamiento:\n",
    "# los datos tendran 100K números aleatorios y la salida ser auna variable continua igual al \n",
    "# negativo de la entrada.\n",
    "\n",
    "import numpy as np\n",
    "\n",
    "data_input = np.random.normal(size = 100000)\n",
    "\n",
    "data_label = -(data_input)\n"
   ]
  },
  {
   "cell_type": "code",
   "execution_count": 15,
   "metadata": {},
   "outputs": [
    {
     "data": {
      "text/plain": [
       "[array([[-1.1831973]], dtype=float32), array([0.], dtype=float32)]"
      ]
     },
     "execution_count": 15,
     "metadata": {},
     "output_type": "execute_result"
    }
   ],
   "source": [
    "# entrenamiento de la red:\n",
    "# al principio el peso de la red se inicializa con un valor aleatorio. \n",
    "\n",
    "# esto nos da el valor inicial del peso\n",
    "\n",
    "model.layers[0].get_weights()"
   ]
  },
  {
   "cell_type": "code",
   "execution_count": 16,
   "metadata": {},
   "outputs": [
    {
     "name": "stdout",
     "output_type": "stream",
     "text": [
      "Train on 100000 samples\n",
      "100000/100000 [==============================] - 3s 34us/sample - loss: 8.2705e-04\n"
     ]
    },
    {
     "data": {
      "text/plain": [
       "<tensorflow.python.keras.callbacks.History at 0x6556f3f10>"
      ]
     },
     "execution_count": 16,
     "metadata": {},
     "output_type": "execute_result"
    }
   ],
   "source": [
    "# Ahore entrenemos la red:\n",
    "\n",
    "model.fit(data_input, data_label)\n"
   ]
  },
  {
   "cell_type": "code",
   "execution_count": 17,
   "metadata": {},
   "outputs": [
    {
     "data": {
      "text/plain": [
       "array([[-2.5000014]], dtype=float32)"
      ]
     },
     "execution_count": 17,
     "metadata": {},
     "output_type": "execute_result"
    }
   ],
   "source": [
    "# habiendo entrenado la red, hagamos una prueba.\n",
    "# ingrresemos como input el valor 2.5. La salida debiera ser -2,5\n",
    "\n",
    "model.predict([2.5])"
   ]
  },
  {
   "cell_type": "code",
   "execution_count": 18,
   "metadata": {},
   "outputs": [
    {
     "data": {
      "text/plain": [
       "[array([[-1.0000006]], dtype=float32), array([4.9398714e-08], dtype=float32)]"
      ]
     },
     "execution_count": 18,
     "metadata": {},
     "output_type": "execute_result"
    }
   ],
   "source": [
    "# Vemos que la red no lo hace tan mal. El peso ha cambiado de si valor original a -1\n",
    "# como tendria que ser.\n",
    "\n",
    "model.layers[0].get_weights()"
   ]
  },
  {
   "cell_type": "code",
   "execution_count": null,
   "metadata": {},
   "outputs": [],
   "source": []
  }
 ],
 "metadata": {
  "kernelspec": {
   "display_name": "Python 3",
   "language": "python",
   "name": "python3"
  },
  "language_info": {
   "codemirror_mode": {
    "name": "ipython",
    "version": 3
   },
   "file_extension": ".py",
   "mimetype": "text/x-python",
   "name": "python",
   "nbconvert_exporter": "python",
   "pygments_lexer": "ipython3",
   "version": "3.7.6"
  }
 },
 "nbformat": 4,
 "nbformat_minor": 4
}
