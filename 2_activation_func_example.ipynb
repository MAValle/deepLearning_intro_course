{
 "cells": [
  {
   "cell_type": "code",
   "execution_count": null,
   "metadata": {},
   "outputs": [],
   "source": [
    "# Una funcion de activacion es una funcion que se aplica al input de cada nodo de la capa escondida.\n",
    "# convierte el input a un nodo en un output.\n",
    "\n",
    "# una funcion de activacion que es muy utilizada en NN es la llamada rectified linear activation function\n",
    "# o RELU. Esta funcion toma un numero como input, y retorna 0 si es negativo, o el mismo numero si es positivo.\n"
   ]
  },
  {
   "cell_type": "code",
   "execution_count": 1,
   "metadata": {},
   "outputs": [],
   "source": [
    "# Vamos a hacer una \"funcion\" en python que nos permita definir nuestra funcion RELU:\n",
    "# entrada: input valor numerico\n",
    "# salida : valor numerico 0 si entrada es negativo, igual a entrada en otro caso.\n",
    "\n",
    "import numpy as np \n",
    "\n",
    "def relu(input):\n",
    "    output = max(0, input)\n",
    "    # salida\n",
    "    return(output)\n",
    "\n"
   ]
  },
  {
   "cell_type": "code",
   "execution_count": 3,
   "metadata": {},
   "outputs": [
    {
     "data": {
      "text/plain": [
       "{'node_1': array([2, 4]), 'node_2': array([ 4, -5]), 'output': array([2, 7])}"
      ]
     },
     "execution_count": 3,
     "metadata": {},
     "output_type": "execute_result"
    }
   ],
   "source": [
    "# cargemos la red del ejemplo anterior:\n",
    "\n",
    "\n",
    "# vector de entrada / la instancia tiene  3 cuentas y 5 hijos\n",
    "input_data = np.array([3, 5])\n",
    "\n",
    "# un diccionario que compone los pesos de la red\n",
    "weights = {'node_1': np.array([2, 4]), 'node_2': np.array([ 4, -5]), 'output': np.array([2, 7])}\n",
    "weights\n",
    "\n"
   ]
  },
  {
   "cell_type": "code",
   "execution_count": 4,
   "metadata": {},
   "outputs": [
    {
     "data": {
      "text/plain": [
       "26"
      ]
     },
     "execution_count": 4,
     "metadata": {},
     "output_type": "execute_result"
    }
   ],
   "source": [
    "# Ahora apliquemos nuestra funcion RELU:\n",
    "\n",
    "# Calculamos valor del nodo 0: \n",
    "node_1_input = (input_data * weights['node_1']).sum()\n",
    "node_1_output = relu(node_1_input)\n",
    "node_1_output\n"
   ]
  },
  {
   "cell_type": "code",
   "execution_count": 5,
   "metadata": {},
   "outputs": [
    {
     "data": {
      "text/plain": [
       "0"
      ]
     },
     "execution_count": 5,
     "metadata": {},
     "output_type": "execute_result"
    }
   ],
   "source": [
    "# Calculamos valor del nodo 1:\n",
    "node_2_input = (input_data * weights['node_2']).sum()\n",
    "node_2_output = relu(node_2_input)\n",
    "node_2_output"
   ]
  },
  {
   "cell_type": "code",
   "execution_count": 7,
   "metadata": {},
   "outputs": [
    {
     "data": {
      "text/plain": [
       "array([26,  0])"
      ]
     },
     "execution_count": 7,
     "metadata": {},
     "output_type": "execute_result"
    }
   ],
   "source": [
    "# vamos a poner los valores de los nodos en un array:\n",
    "\n",
    "hidden_layer_outputs = np.array([node_1_output, node_2_output])\n",
    "hidden_layer_outputs"
   ]
  },
  {
   "cell_type": "code",
   "execution_count": 8,
   "metadata": {},
   "outputs": [
    {
     "data": {
      "text/plain": [
       "52"
      ]
     },
     "execution_count": 8,
     "metadata": {},
     "output_type": "execute_result"
    }
   ],
   "source": [
    "\n",
    "#calcular el output:\n",
    "\n",
    "output = (hidden_layer_outputs * weights['output']).sum()\n",
    "output"
   ]
  },
  {
   "cell_type": "code",
   "execution_count": null,
   "metadata": {},
   "outputs": [],
   "source": []
  }
 ],
 "metadata": {
  "kernelspec": {
   "display_name": "Python 3",
   "language": "python",
   "name": "python3"
  },
  "language_info": {
   "codemirror_mode": {
    "name": "ipython",
    "version": 3
   },
   "file_extension": ".py",
   "mimetype": "text/x-python",
   "name": "python",
   "nbconvert_exporter": "python",
   "pygments_lexer": "ipython3",
   "version": "3.7.1"
  }
 },
 "nbformat": 4,
 "nbformat_minor": 5
}
