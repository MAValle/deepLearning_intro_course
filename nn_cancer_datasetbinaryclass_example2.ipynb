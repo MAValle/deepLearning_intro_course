{
 "cells": [
  {
   "cell_type": "code",
   "execution_count": 1,
   "id": "rubber-venezuela",
   "metadata": {},
   "outputs": [],
   "source": [
    "# Seguimos con el ejemplo de nn_cancer_datasetbinaryclass_example.ipynb.\n",
    "# Ahora vamos a hacer algunas pruebas adicionales para \n",
    "# 1. evaluar el performance para distintas learning rates\n",
    "# 2. parar el algoritmo cuando ya no hay mejora en el performance."
   ]
  },
  {
   "cell_type": "code",
   "execution_count": 1,
   "id": "disabled-director",
   "metadata": {},
   "outputs": [],
   "source": [
    "# paquetes para analisis de datos\n",
    "import numpy \n",
    "import pandas as pd\n",
    "import matplotlib.pyplot as plt\n",
    "import seaborn as sns\n",
    "%matplotlib inline\n",
    "from sklearn.model_selection import train_test_split\n",
    "from sklearn.preprocessing import LabelEncoder\n",
    "from sklearn.preprocessing import StandardScaler\n",
    "from sklearn.pipeline import Pipeline"
   ]
  },
  {
   "cell_type": "code",
   "execution_count": 2,
   "id": "suffering-series",
   "metadata": {},
   "outputs": [
    {
     "name": "stderr",
     "output_type": "stream",
     "text": [
      "/srv/conda/envs/notebook/lib/python3.7/site-packages/tensorflow/python/framework/dtypes.py:526: FutureWarning: Passing (type, 1) or '1type' as a synonym of type is deprecated; in a future version of numpy, it will be understood as (type, (1,)) / '(1,)type'.\n",
      "  _np_qint8 = np.dtype([(\"qint8\", np.int8, 1)])\n",
      "/srv/conda/envs/notebook/lib/python3.7/site-packages/tensorflow/python/framework/dtypes.py:527: FutureWarning: Passing (type, 1) or '1type' as a synonym of type is deprecated; in a future version of numpy, it will be understood as (type, (1,)) / '(1,)type'.\n",
      "  _np_quint8 = np.dtype([(\"quint8\", np.uint8, 1)])\n",
      "/srv/conda/envs/notebook/lib/python3.7/site-packages/tensorflow/python/framework/dtypes.py:528: FutureWarning: Passing (type, 1) or '1type' as a synonym of type is deprecated; in a future version of numpy, it will be understood as (type, (1,)) / '(1,)type'.\n",
      "  _np_qint16 = np.dtype([(\"qint16\", np.int16, 1)])\n",
      "/srv/conda/envs/notebook/lib/python3.7/site-packages/tensorflow/python/framework/dtypes.py:529: FutureWarning: Passing (type, 1) or '1type' as a synonym of type is deprecated; in a future version of numpy, it will be understood as (type, (1,)) / '(1,)type'.\n",
      "  _np_quint16 = np.dtype([(\"quint16\", np.uint16, 1)])\n",
      "/srv/conda/envs/notebook/lib/python3.7/site-packages/tensorflow/python/framework/dtypes.py:530: FutureWarning: Passing (type, 1) or '1type' as a synonym of type is deprecated; in a future version of numpy, it will be understood as (type, (1,)) / '(1,)type'.\n",
      "  _np_qint32 = np.dtype([(\"qint32\", np.int32, 1)])\n",
      "/srv/conda/envs/notebook/lib/python3.7/site-packages/tensorflow/python/framework/dtypes.py:535: FutureWarning: Passing (type, 1) or '1type' as a synonym of type is deprecated; in a future version of numpy, it will be understood as (type, (1,)) / '(1,)type'.\n",
      "  np_resource = np.dtype([(\"resource\", np.ubyte, 1)])\n"
     ]
    }
   ],
   "source": [
    "# paquetes para Keras\n",
    "\n",
    "#from keras.models import Sequential\n",
    "#from keras.layers import Dense\n",
    "#from keras.wrappers.scikit_learn import KerasClassifier\n",
    "#from sklearn.model_selection import StratifiedKFold\n",
    "#from sklearn.model_selection import cross_val_score\n",
    "\n",
    "# Mejor esta alternativa\n",
    "import tensorflow as tf\n",
    "import matplotlib.pyplot as plt\n",
    "layers = tf.keras.layers"
   ]
  },
  {
   "cell_type": "code",
   "execution_count": 33,
   "id": "polished-morris",
   "metadata": {},
   "outputs": [
    {
     "name": "stdout",
     "output_type": "stream",
     "text": [
      "       id diagnosis  radius_mean  texture_mean  perimeter_mean  area_mean  \\\n",
      "0  842302         M        17.99         10.38           122.8     1001.0   \n",
      "1  842517         M        20.57         17.77           132.9     1326.0   \n",
      "\n",
      "   smoothness_mean  compactness_mean  concavity_mean  concave points_mean  \\\n",
      "0          0.11840           0.27760          0.3001              0.14710   \n",
      "1          0.08474           0.07864          0.0869              0.07017   \n",
      "\n",
      "   ...  texture_worst  perimeter_worst  area_worst  smoothness_worst  \\\n",
      "0  ...          17.33            184.6      2019.0            0.1622   \n",
      "1  ...          23.41            158.8      1956.0            0.1238   \n",
      "\n",
      "   compactness_worst  concavity_worst  concave points_worst  symmetry_worst  \\\n",
      "0             0.6656           0.7119                0.2654          0.4601   \n",
      "1             0.1866           0.2416                0.1860          0.2750   \n",
      "\n",
      "   fractal_dimension_worst  Unnamed: 32  \n",
      "0                  0.11890          NaN  \n",
      "1                  0.08902          NaN  \n",
      "\n",
      "[2 rows x 33 columns]\n"
     ]
    }
   ],
   "source": [
    "# carga de datos\n",
    "\n",
    "data = pd.read_csv(\"cancer.csv\", header=0) # Row number(s) to use as the column names, and the start of the data. Default behavior is to infer the column names: if no names are passed the behavior is identical to header=0 and column names are inferred from the first line of the file\n",
    "\n",
    "#seed = 5\n",
    "#numpy.random.seed(seed)\n",
    "\n",
    "print(data.head(2))"
   ]
  },
  {
   "cell_type": "code",
   "execution_count": 6,
   "id": "balanced-extra",
   "metadata": {},
   "outputs": [
    {
     "name": "stdout",
     "output_type": "stream",
     "text": [
      "<class 'pandas.core.frame.DataFrame'>\n",
      "RangeIndex: 569 entries, 0 to 568\n",
      "Data columns (total 33 columns):\n",
      " #   Column                   Non-Null Count  Dtype  \n",
      "---  ------                   --------------  -----  \n",
      " 0   id                       569 non-null    int64  \n",
      " 1   diagnosis                569 non-null    object \n",
      " 2   radius_mean              569 non-null    float64\n",
      " 3   texture_mean             569 non-null    float64\n",
      " 4   perimeter_mean           569 non-null    float64\n",
      " 5   area_mean                569 non-null    float64\n",
      " 6   smoothness_mean          569 non-null    float64\n",
      " 7   compactness_mean         569 non-null    float64\n",
      " 8   concavity_mean           569 non-null    float64\n",
      " 9   concave points_mean      569 non-null    float64\n",
      " 10  symmetry_mean            569 non-null    float64\n",
      " 11  fractal_dimension_mean   569 non-null    float64\n",
      " 12  radius_se                569 non-null    float64\n",
      " 13  texture_se               569 non-null    float64\n",
      " 14  perimeter_se             569 non-null    float64\n",
      " 15  area_se                  569 non-null    float64\n",
      " 16  smoothness_se            569 non-null    float64\n",
      " 17  compactness_se           569 non-null    float64\n",
      " 18  concavity_se             569 non-null    float64\n",
      " 19  concave points_se        569 non-null    float64\n",
      " 20  symmetry_se              569 non-null    float64\n",
      " 21  fractal_dimension_se     569 non-null    float64\n",
      " 22  radius_worst             569 non-null    float64\n",
      " 23  texture_worst            569 non-null    float64\n",
      " 24  perimeter_worst          569 non-null    float64\n",
      " 25  area_worst               569 non-null    float64\n",
      " 26  smoothness_worst         569 non-null    float64\n",
      " 27  compactness_worst        569 non-null    float64\n",
      " 28  concavity_worst          569 non-null    float64\n",
      " 29  concave points_worst     569 non-null    float64\n",
      " 30  symmetry_worst           569 non-null    float64\n",
      " 31  fractal_dimension_worst  569 non-null    float64\n",
      " 32  Unnamed: 32              0 non-null      float64\n",
      "dtypes: float64(31), int64(1), object(1)\n",
      "memory usage: 146.8+ KB\n"
     ]
    }
   ],
   "source": [
    "data.info()"
   ]
  },
  {
   "cell_type": "code",
   "execution_count": 34,
   "id": "informed-designation",
   "metadata": {},
   "outputs": [],
   "source": [
    "# tenemos 32 columnas sin nombre! las vamos a quitar\n",
    "data.drop(\"Unnamed: 32\",axis=1,inplace=True)  # inplace = does not return a copy\n",
    "data.drop(\"id\", axis=1, inplace=True)"
   ]
  },
  {
   "cell_type": "code",
   "execution_count": 6,
   "id": "thorough-scanner",
   "metadata": {},
   "outputs": [
    {
     "data": {
      "text/plain": [
       "Index(['diagnosis', 'radius_mean', 'texture_mean', 'perimeter_mean',\n",
       "       'area_mean', 'smoothness_mean', 'compactness_mean', 'concavity_mean',\n",
       "       'concave points_mean', 'symmetry_mean', 'fractal_dimension_mean',\n",
       "       'radius_se', 'texture_se', 'perimeter_se', 'area_se', 'smoothness_se',\n",
       "       'compactness_se', 'concavity_se', 'concave points_se', 'symmetry_se',\n",
       "       'fractal_dimension_se', 'radius_worst', 'texture_worst',\n",
       "       'perimeter_worst', 'area_worst', 'smoothness_worst',\n",
       "       'compactness_worst', 'concavity_worst', 'concave points_worst',\n",
       "       'symmetry_worst', 'fractal_dimension_worst'],\n",
       "      dtype='object')"
      ]
     },
     "execution_count": 6,
     "metadata": {},
     "output_type": "execute_result"
    }
   ],
   "source": [
    "# chequeo\n",
    "# Check whether the column has been dropped\n",
    "data.columns"
   ]
  },
  {
   "cell_type": "code",
   "execution_count": 35,
   "id": "permanent-working",
   "metadata": {},
   "outputs": [],
   "source": [
    "# seleccionamos columnas que nos interesen\n",
    "\n",
    "prediction_var = ['radius_mean', 'texture_mean', 'perimeter_mean',\n",
    "       'area_mean', 'smoothness_mean', 'compactness_mean', 'concavity_mean',\n",
    "       'concave points_mean', 'symmetry_mean', 'fractal_dimension_mean',\n",
    "       'radius_se', 'texture_se', 'perimeter_se', 'area_se', 'smoothness_se',\n",
    "       'compactness_se', 'concavity_se', 'concave points_se', 'symmetry_se',\n",
    "       'fractal_dimension_se', 'radius_worst', 'texture_worst',\n",
    "       'perimeter_worst', 'area_worst', 'smoothness_worst',\n",
    "       'compactness_worst', 'concavity_worst', 'concave points_worst',\n",
    "       'symmetry_worst', 'fractal_dimension_worst']\n",
    "X = data[prediction_var].values\n",
    "Y = data.diagnosis.values"
   ]
  },
  {
   "cell_type": "code",
   "execution_count": 36,
   "id": "advised-tribune",
   "metadata": {},
   "outputs": [
    {
     "name": "stdout",
     "output_type": "stream",
     "text": [
      "[1 1 1 1 1 1 1 1 1 1 1 1 1 1 1 1 1 1 1 0 0 0 1 1 1 1 1 1 1 1 1 1 1 1 1 1 1\n",
      " 0 1 1 1 1 1 1 1 1 0 1 0 0 0 0 0 1 1 0 1 1 0 0 0 0 1 0 1 1 0 0 0 0 1 0 1 1\n",
      " 0 1 0 1 1 0 0 0 1 1 0 1 1 1 0 0 0 1 0 0 1 1 0 0 0 1 1 0 0 0 0 1 0 0 1 0 0\n",
      " 0 0 0 0 0 0 1 1 1 0 1 1 0 0 0 1 1 0 1 0 1 1 0 1 1 0 0 1 0 0 1 0 0 0 0 1 0\n",
      " 0 0 0 0 0 0 0 0 1 0 0 0 0 1 1 0 1 0 0 1 1 0 0 1 1 0 0 0 0 1 0 0 1 1 1 0 1\n",
      " 0 1 0 0 0 1 0 0 1 1 0 1 1 1 1 0 1 1 1 0 1 0 1 0 0 1 0 1 1 1 1 0 0 1 1 0 0\n",
      " 0 1 0 0 0 0 0 1 1 0 0 1 0 0 1 1 0 1 0 0 0 0 1 0 0 0 0 0 1 0 1 1 1 1 1 1 1\n",
      " 1 1 1 1 1 1 1 0 0 0 0 0 0 1 0 1 0 0 1 0 0 1 0 1 1 0 0 0 0 0 0 0 0 0 0 0 0\n",
      " 0 1 0 0 1 0 1 0 0 0 0 0 0 0 0 0 0 0 0 0 0 1 0 0 0 1 0 1 0 0 0 0 1 1 1 0 0\n",
      " 0 0 1 0 1 0 1 0 0 0 1 0 0 0 0 0 0 0 1 1 1 0 0 0 0 0 0 0 0 0 0 0 1 1 0 1 1\n",
      " 1 0 1 1 0 0 0 0 0 1 0 0 0 0 0 1 0 0 0 1 0 0 1 1 0 0 0 0 0 0 1 0 0 0 0 0 0\n",
      " 0 1 0 0 0 0 0 1 0 0 1 0 0 0 0 0 0 0 0 0 0 0 0 1 0 1 1 0 1 0 0 0 0 0 1 0 0\n",
      " 1 0 1 0 0 1 0 1 0 0 0 0 0 0 0 0 1 1 0 0 0 0 0 0 1 0 0 0 0 0 0 0 0 0 0 1 0\n",
      " 0 0 0 0 0 0 1 0 1 0 0 1 0 0 0 0 0 1 1 0 1 0 1 0 0 0 0 0 1 0 0 1 0 1 0 1 1\n",
      " 0 0 0 1 0 0 0 0 0 0 0 0 0 0 0 1 0 1 1 0 0 0 0 0 0 0 0 0 0 0 0 0 0 0 0 0 0\n",
      " 0 0 0 0 0 0 0 1 1 1 1 1 1 0]\n"
     ]
    }
   ],
   "source": [
    "# Las clases (diagnosticos) son texto. Los vamos a cambiar a valor numerico utilizando\n",
    "# LabelEncoder\n",
    "\n",
    "#from keras.utils import to_categorical\n",
    "#y_binary = to_categorical(y_int)\n",
    "\n",
    "encoder = LabelEncoder()\n",
    "encoder.fit(Y)\n",
    "encoded_Y = encoder.transform(Y)\n",
    "\n",
    "print(encoded_Y) # [1 1 1 1 1 1 1 1 1 1 1 1 1 1 1 1 1 1 1 0 0 0 1 1 1 1 1 1 1 1 1 1 1 1 1 1 1"
   ]
  },
  {
   "cell_type": "code",
   "execution_count": 18,
   "id": "announced-lawrence",
   "metadata": {},
   "outputs": [],
   "source": [
    "# # # # # # # # # # # # # # # # # # # # # # # # # # # # # # # # # \n",
    "# # # # # # # # # # # # # # # # # # # # # # # # # # # # # # # # # \n",
    "\n",
    "# Vamos a ver el efecto de ca,biar el learning rate (LR) en el proceso de optimziacion.\n",
    "# Vamos a poner un LR bien bajo, uno bien alto, y otro termino medio.\n",
    "# Consideremos que un valor muy bajo o muy alto no es bueno para el proceso de minimizacion.\n",
    "\n",
    "# Comenzaremos por definir una funcion que establece la arquitectura del modelo. Vamos\n",
    "# a considerar la misma arquitectura que antes: capa de entrada con 30 atributos, una escondida\n",
    "# con 10 neuronas activacion RELU y la de salida con activación sigmoid.\n",
    "\n",
    "# por default, el LR en keras es de 0.001.\n",
    "\n",
    "from tensorflow.keras.models import Sequential\n",
    "from tensorflow.keras.layers import Dense\n",
    "\n",
    "def nuevo_modelo():\n",
    "    model = Sequential()\n",
    "    model.add(Dense(10, input_dim=30, kernel_initializer='normal', activation='relu'))\n",
    "    model.add(Dense(1, kernel_initializer='normal', activation='sigmoid'))\n",
    "    return(model)\n",
    "\n",
    "# y definimos los LR\n",
    "lr_to_test = [0.000001, 0.01, 1]\n",
    "\n",
    "# vamos a importar SGD (stochastic gradien descent) \n",
    "#from keras.optimizers import SGD\n",
    "from tensorflow.keras.optimizers import SGD"
   ]
  },
  {
   "cell_type": "code",
   "execution_count": 27,
   "id": "lightweight-cholesterol",
   "metadata": {},
   "outputs": [
    {
     "name": "stdout",
     "output_type": "stream",
     "text": [
      "\n",
      "\n",
      " Testeo de modelo con LR: 0.000001\n",
      "\n",
      "569/569 [==============================] - 0s 502us/sample - loss: 1.6425 - acc: 0.6274\n",
      "\n",
      "\n",
      " Testeo de modelo con LR: 0.010000\n",
      "\n",
      "569/569 [==============================] - 0s 486us/sample - loss: 5.7587 - acc: 0.6098\n",
      "\n",
      "\n",
      " Testeo de modelo con LR: 1.000000\n",
      "\n",
      "569/569 [==============================] - 0s 511us/sample - loss: 0.7046 - acc: 0.5923\n"
     ]
    }
   ],
   "source": [
    "# Ahora hacemos el loop sobre el mismo modelo con los distintos LR\n",
    "\n",
    "for lr in lr_to_test:\n",
    "    print('\\n\\n Testeo de modelo con LR: %f\\n'%lr )\n",
    "    \n",
    "    # Inicializamos nuevo modelo \n",
    "    model = nuevo_modelo()\n",
    "    \n",
    "    # inicializamos el optimizador con mi propio LR. \n",
    "    my_optimizer = SGD(lr=lr)\n",
    "    \n",
    "    # compilar\n",
    "    model.compile(optimizer = my_optimizer, loss = 'binary_crossentropy', metrics=['accuracy'])\n",
    "    \n",
    "    # fiteo\n",
    "    model.fit(X, encoded_Y) # default: batch size = 32, epoch = 1\n",
    "    #model.fit(X, encoded_Y, batch_size=256, epochs=1000, verbose=2, validation_split=0.2)"
   ]
  },
  {
   "cell_type": "code",
   "execution_count": 38,
   "id": "seven-repository",
   "metadata": {},
   "outputs": [],
   "source": [
    "# # # # # # # # # # # # # # # # # # # # # # # # # # # # # # # # # \n",
    "# # # # # # # # # # # # # # # # # # # # # # # # # # # # # # # # # \n",
    "\n",
    "# Ahora veamos el paro del algoritmo.\n",
    "\n",
    "# En cada epoch (una pasada por todo el set de training), se calcula la \n",
    "# medida de desempeño y el loss en el train y con el set de validacion.\n",
    "# La idea es que veamos que por cada epoch, la performance vaya mejorando\n",
    "# y que pare cuando ya no haya mejora. Esto se puede hacer con el \n",
    "# \"Early stopping\".\n",
    "# Podemos utilizar Early stopping con:\n",
    "\n",
    "from tensorflow.keras.callbacks import EarlyStopping\n",
    "#from keras.callbacks import EarlyStopping\n"
   ]
  },
  {
   "cell_type": "code",
   "execution_count": 41,
   "id": "round-toronto",
   "metadata": {},
   "outputs": [],
   "source": [
    "# Especificamos el modelo igual que antes:\n",
    "\n",
    "from tensorflow.keras.models import Sequential\n",
    "from tensorflow.keras.layers import Dense\n",
    "\n",
    "model = Sequential()\n",
    "model.add(Dense(10, input_dim=30, kernel_initializer='normal', activation='relu'))\n",
    "model.add(Dense(1, kernel_initializer='normal', activation='sigmoid'))\n",
    "model.compile(loss='binary_crossentropy', optimizer='adam', metrics=['accuracy'])"
   ]
  },
  {
   "cell_type": "code",
   "execution_count": 42,
   "id": "greenhouse-sacrifice",
   "metadata": {},
   "outputs": [
    {
     "name": "stdout",
     "output_type": "stream",
     "text": [
      "Train on 455 samples, validate on 114 samples\n",
      "Epoch 1/10\n",
      "455/455 [==============================] - 0s 1ms/sample - loss: 2.6584 - acc: 0.4088 - val_loss: 3.2068 - val_acc: 0.2281\n",
      "Epoch 2/10\n",
      "455/455 [==============================] - 0s 18us/sample - loss: 2.3358 - acc: 0.4088 - val_loss: 2.7846 - val_acc: 0.2281\n",
      "Epoch 3/10\n",
      "455/455 [==============================] - 0s 84us/sample - loss: 2.0276 - acc: 0.4088 - val_loss: 2.3833 - val_acc: 0.2281\n",
      "Epoch 4/10\n",
      "455/455 [==============================] - 0s 18us/sample - loss: 1.7316 - acc: 0.4088 - val_loss: 2.0026 - val_acc: 0.2281\n",
      "Epoch 5/10\n",
      "455/455 [==============================] - 0s 17us/sample - loss: 1.4587 - acc: 0.4088 - val_loss: 1.6445 - val_acc: 0.2281\n",
      "Epoch 6/10\n",
      "455/455 [==============================] - 0s 17us/sample - loss: 1.1931 - acc: 0.4088 - val_loss: 1.3159 - val_acc: 0.2281\n",
      "Epoch 7/10\n",
      "455/455 [==============================] - 0s 18us/sample - loss: 0.9639 - acc: 0.4088 - val_loss: 1.0259 - val_acc: 0.2281\n",
      "Epoch 8/10\n",
      "455/455 [==============================] - 0s 127us/sample - loss: 0.7788 - acc: 0.4088 - val_loss: 0.7925 - val_acc: 0.2544\n",
      "Epoch 9/10\n",
      "455/455 [==============================] - 0s 17us/sample - loss: 0.6544 - acc: 0.4242 - val_loss: 0.6423 - val_acc: 0.5965\n",
      "Epoch 10/10\n",
      "455/455 [==============================] - 0s 18us/sample - loss: 0.6143 - acc: 0.7055 - val_loss: 0.5893 - val_acc: 0.8070\n"
     ]
    }
   ],
   "source": [
    "# Y ahora definimos el early_stopping_monitor\n",
    "early_stopping_monitor =  EarlyStopping(patience=2)\n",
    "\n",
    "# fiteo\n",
    "#history = model.fit(X, encoded_Y, batch_size=256, epochs=10, verbose=1, validation_split=0.2) # original\n",
    "history = model.fit(X, encoded_Y, batch_size=256, epochs=10, verbose=1, validation_split=0.2, callbacks = [early_stopping_monitor])\n",
    "\n",
    "# # Aqui lo que hacemos es que si el modelo no mejora (diminuye el loss) luego de 2 epoch\n",
    "# entonces, paramos (patience=2).\n",
    "\n"
   ]
  },
  {
   "cell_type": "code",
   "execution_count": 43,
   "id": "silent-depression",
   "metadata": {},
   "outputs": [],
   "source": [
    "# # # # # # # # # # # # # # # # # # # # # # # # # # # # # # # # # \n",
    "# # # # # # # # # # # # # # # # # # # # # # # # # # # # # # # # # \n",
    "# # # # # # # # # # # # # # # # # # # # # # # # # # # # # # # # # \n",
    "# # # # # # # # # # # # # # # # # # # # # # # # # # # # # # # # # \n",
    "\n",
    "# lo anterior podria ser util para comparar modelos.\n",
    "# Vamos a generar 2 modelos: model1 (el mismo que antes) y modelo2, que es el modelo original pero con una capa escondida\n",
    "# adicional con 10 neuronas:\n",
    "\n",
    "\n",
    "from tensorflow.keras.models import Sequential\n",
    "from tensorflow.keras.layers import Dense\n",
    "\n",
    "early_stopping_monitor =  EarlyStopping(patience=2)\n",
    "\n",
    "# modelo 1\n",
    "model1 = Sequential()\n",
    "model1.add(Dense(10, input_dim=30, kernel_initializer='normal', activation='relu'))\n",
    "model1.add(Dense(1, kernel_initializer='normal', activation='sigmoid'))\n",
    "model1.compile(loss='binary_crossentropy', optimizer='adam', metrics=['accuracy'])\n",
    "\n",
    "#modelo 2\n",
    "model2 = Sequential()\n",
    "model2.add(Dense(10, input_dim=30, kernel_initializer='normal', activation='relu'))\n",
    "model2.add(Dense(10, kernel_initializer='normal', activation='relu'))\n",
    "model2.add(Dense(1, kernel_initializer='normal', activation='sigmoid'))\n",
    "model2.compile(loss='binary_crossentropy', optimizer='adam', metrics=['accuracy'])\n",
    "\n",
    "# fiteo de modelos\n",
    "history1 = model1.fit(X, encoded_Y, batch_size=256, epochs=10, verbose=0, validation_split=0.2, callbacks = [early_stopping_monitor])\n",
    "history2 = model2.fit(X, encoded_Y, batch_size=256, epochs=10, verbose=0, validation_split=0.2, callbacks = [early_stopping_monitor])\n",
    "\n"
   ]
  },
  {
   "cell_type": "code",
   "execution_count": 44,
   "id": "front-storage",
   "metadata": {},
   "outputs": [
    {
     "data": {
      "image/png": "[encoded data removed]",
      "text/plain": [
       "<Figure size 432x288 with 1 Axes>"
      ]
     },
     "metadata": {
      "needs_background": "light"
     },
     "output_type": "display_data"
    }
   ],
   "source": [
    "# Y ahora la parte mas entretenida: el ploteo para comparar\n",
    "\n",
    "plt.plot(history1.history['val_loss'], 'r', history2.history['val_loss'], 'b')\n",
    "plt.xlabel('Epochs')\n",
    "plt.ylabel('Validation score')\n",
    "plt.show()\n",
    "\n"
   ]
  },
  {
   "cell_type": "code",
   "execution_count": null,
   "id": "fifty-father",
   "metadata": {},
   "outputs": [],
   "source": [
    "# Podemos ver que agregar una capa adicional NO mejora en nada las cosas, de hecho las empeora.\n",
    "# Trabajo in situ:\n",
    "\n",
    "#Desarrolle pruebas por Ud mismo que intente mejorar el modelo base (model1) utilizando el mismo esquema mostrado aquí."
   ]
  },
  {
   "cell_type": "code",
   "execution_count": null,
   "id": "second-postage",
   "metadata": {},
   "outputs": [],
   "source": []
  }
 ],
 "metadata": {
  "kernelspec": {
   "display_name": "Python 3",
   "language": "python",
   "name": "python3"
  },
  "language_info": {
   "codemirror_mode": {
    "name": "ipython",
    "version": 3
   },
   "file_extension": ".py",
   "mimetype": "text/x-python",
   "name": "python",
   "nbconvert_exporter": "python",
   "pygments_lexer": "ipython3",
   "version": "3.7.8"
  }
 },
 "nbformat": 4,
 "nbformat_minor": 5
}
