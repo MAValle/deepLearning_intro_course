{
 "cells": [
  {
   "cell_type": "code",
   "execution_count": 3,
   "id": "consecutive-lodging",
   "metadata": {},
   "outputs": [],
   "source": [
    "# prediccion de stocks de Google\n",
    "\n",
    "import numpy as np\n",
    "import matplotlib.pyplot as plt\n",
    "import pandas as pd"
   ]
  },
  {
   "cell_type": "code",
   "execution_count": 17,
   "id": "existing-testimony",
   "metadata": {},
   "outputs": [
    {
     "name": "stdout",
     "output_type": "stream",
     "text": [
      "(1258, 6)\n",
      "<bound method NDFrame.head of             Date    Open    High     Low   Close      Volume\n",
      "0       1/3/2012  325.25  332.83  324.97  663.59   7,380,500\n",
      "1       1/4/2012  331.27  333.87  329.08  666.45   5,749,400\n",
      "2       1/5/2012  329.83  330.75  326.89  657.21   6,590,300\n",
      "3       1/6/2012  328.34  328.77  323.68  648.24   5,405,900\n",
      "4       1/9/2012  322.04  322.29  309.46  620.76  11,688,800\n",
      "...          ...     ...     ...     ...     ...         ...\n",
      "1253  12/23/2016  790.90  792.74  787.28  789.91     623,400\n",
      "1254  12/27/2016  790.68  797.86  787.66  791.55     789,100\n",
      "1255  12/28/2016  793.70  794.23  783.20  785.05   1,153,800\n",
      "1256  12/29/2016  783.33  785.93  778.92  782.79     744,300\n",
      "1257  12/30/2016  782.75  782.78  770.41  771.82   1,770,000\n",
      "\n",
      "[1258 rows x 6 columns]>\n",
      "[[325.25]\n",
      " [331.27]\n",
      " [329.83]\n",
      " ...\n",
      " [793.7 ]\n",
      " [783.33]\n",
      " [782.75]]\n"
     ]
    }
   ],
   "source": [
    "# cargar set de entranamiento\n",
    "\n",
    "dataset_train = pd.read_csv('Google_Stock_Price_Train.csv')\n",
    "print(dataset_train.shape)\n",
    "\n",
    "print(dataset_train.head)\n",
    "\n",
    "training_set = dataset_train.iloc[:, 1:2].values\n",
    "print(training_set)"
   ]
  },
  {
   "cell_type": "code",
   "execution_count": 15,
   "id": "careful-emerald",
   "metadata": {},
   "outputs": [
    {
     "name": "stdout",
     "output_type": "stream",
     "text": [
      "[[0.08581368]\n",
      " [0.09701243]\n",
      " [0.09433366]\n",
      " ...\n",
      " [0.95725128]\n",
      " [0.93796041]\n",
      " [0.93688146]]\n"
     ]
    }
   ],
   "source": [
    "# scaling data\n",
    "from sklearn.preprocessing import MinMaxScaler\n",
    "sc = MinMaxScaler(feature_range = (0,1))\n",
    "training_set_scaled = sc.fit_transform(training_set)\n",
    "print(training_set_scaled)\n"
   ]
  },
  {
   "cell_type": "code",
   "execution_count": 38,
   "id": "sudden-thumb",
   "metadata": {},
   "outputs": [
    {
     "name": "stdout",
     "output_type": "stream",
     "text": [
      "(1198, 60)\n",
      "x-train-shape=  (1198, 60, 1)\n",
      "y-train-shape=  (1198,)\n",
      "[[0.08581368]\n",
      " [0.09701243]\n",
      " [0.09433366]\n",
      " [0.09156187]\n",
      " [0.07984225]\n",
      " [0.0643277 ]\n",
      " [0.0585423 ]\n",
      " [0.06568569]\n",
      " [0.06109085]\n",
      " [0.06639259]\n",
      " [0.0614257 ]\n",
      " [0.07474514]\n",
      " [0.02797827]\n",
      " [0.02379269]\n",
      " [0.02409033]\n",
      " [0.0159238 ]\n",
      " [0.01078949]\n",
      " [0.00967334]\n",
      " [0.01642607]\n",
      " [0.02100231]\n",
      " [0.02280676]\n",
      " [0.02273235]\n",
      " [0.02810849]\n",
      " [0.03212665]\n",
      " [0.0433812 ]\n",
      " [0.04475779]\n",
      " [0.04790163]\n",
      " [0.0440695 ]\n",
      " [0.04648783]\n",
      " [0.04745517]\n",
      " [0.04873875]\n",
      " [0.03936305]\n",
      " [0.04137213]\n",
      " [0.04034898]\n",
      " [0.04784582]\n",
      " [0.04325099]\n",
      " [0.04356723]\n",
      " [0.04286033]\n",
      " [0.04602277]\n",
      " [0.05398467]\n",
      " [0.05738894]\n",
      " [0.05714711]\n",
      " [0.05569611]\n",
      " [0.04421832]\n",
      " [0.04514845]\n",
      " [0.04605997]\n",
      " [0.04412531]\n",
      " [0.03675869]\n",
      " [0.04486941]\n",
      " [0.05065481]\n",
      " [0.05214302]\n",
      " [0.05612397]\n",
      " [0.05818885]\n",
      " [0.06540665]\n",
      " [0.06882953]\n",
      " [0.07243843]\n",
      " [0.07993526]\n",
      " [0.07846566]\n",
      " [0.08034452]\n",
      " [0.08497656]]\n"
     ]
    }
   ],
   "source": [
    "# crear estructura para  60 timestamps y 1 salida\n",
    "\n",
    "X_train = []\n",
    "y_train = []\n",
    "\n",
    "for i in range(60, 1258):\n",
    "    X_train.append(training_set_scaled[i-60:i, 0])\n",
    "    y_train.append(training_set_scaled[i, 0])\n",
    "    \n",
    "X_train, y_train = np.array(X_train), np.array(y_train)\n",
    "\n",
    "print(X_train.shape)\n",
    "\n",
    "X_train=X_train.reshape(X_train.shape[0], X_train.shape[1], 1) #reshaped for RNN\n",
    "\n",
    "\n",
    "print(\"x-train-shape= \",X_train.shape)\n",
    "print(\"y-train-shape= \",y_train.shape)\n",
    "\n",
    "print(X_train[0])\n",
    "#print(y_train)\n"
   ]
  },
  {
   "cell_type": "code",
   "execution_count": 24,
   "id": "integral-arrest",
   "metadata": {},
   "outputs": [
    {
     "name": "stderr",
     "output_type": "stream",
     "text": [
      "/srv/conda/envs/notebook/lib/python3.7/site-packages/tensorflow/python/framework/dtypes.py:526: FutureWarning: Passing (type, 1) or '1type' as a synonym of type is deprecated; in a future version of numpy, it will be understood as (type, (1,)) / '(1,)type'.\n",
      "  _np_qint8 = np.dtype([(\"qint8\", np.int8, 1)])\n",
      "/srv/conda/envs/notebook/lib/python3.7/site-packages/tensorflow/python/framework/dtypes.py:527: FutureWarning: Passing (type, 1) or '1type' as a synonym of type is deprecated; in a future version of numpy, it will be understood as (type, (1,)) / '(1,)type'.\n",
      "  _np_quint8 = np.dtype([(\"quint8\", np.uint8, 1)])\n",
      "/srv/conda/envs/notebook/lib/python3.7/site-packages/tensorflow/python/framework/dtypes.py:528: FutureWarning: Passing (type, 1) or '1type' as a synonym of type is deprecated; in a future version of numpy, it will be understood as (type, (1,)) / '(1,)type'.\n",
      "  _np_qint16 = np.dtype([(\"qint16\", np.int16, 1)])\n",
      "/srv/conda/envs/notebook/lib/python3.7/site-packages/tensorflow/python/framework/dtypes.py:529: FutureWarning: Passing (type, 1) or '1type' as a synonym of type is deprecated; in a future version of numpy, it will be understood as (type, (1,)) / '(1,)type'.\n",
      "  _np_quint16 = np.dtype([(\"quint16\", np.uint16, 1)])\n",
      "/srv/conda/envs/notebook/lib/python3.7/site-packages/tensorflow/python/framework/dtypes.py:530: FutureWarning: Passing (type, 1) or '1type' as a synonym of type is deprecated; in a future version of numpy, it will be understood as (type, (1,)) / '(1,)type'.\n",
      "  _np_qint32 = np.dtype([(\"qint32\", np.int32, 1)])\n",
      "/srv/conda/envs/notebook/lib/python3.7/site-packages/tensorflow/python/framework/dtypes.py:535: FutureWarning: Passing (type, 1) or '1type' as a synonym of type is deprecated; in a future version of numpy, it will be understood as (type, (1,)) / '(1,)type'.\n",
      "  np_resource = np.dtype([(\"resource\", np.ubyte, 1)])\n"
     ]
    }
   ],
   "source": [
    "#  red neuronal\n",
    "\n",
    "import tensorflow as tf\n",
    "from tensorflow.keras import Sequential\n",
    "from tensorflow.keras.layers import Dense, LSTM, Dropout,Flatten, SimpleRNN"
   ]
  },
  {
   "cell_type": "code",
   "execution_count": 39,
   "id": "remarkable-oriental",
   "metadata": {},
   "outputs": [
    {
     "name": "stdout",
     "output_type": "stream",
     "text": [
      "WARNING:tensorflow:From /srv/conda/envs/notebook/lib/python3.7/site-packages/tensorflow/python/ops/math_ops.py:3066: to_int32 (from tensorflow.python.ops.math_ops) is deprecated and will be removed in a future version.\n",
      "Instructions for updating:\n",
      "Use tf.cast instead.\n",
      "Epoch 1/5\n",
      "1198/1198 [==============================] - 42s 35ms/sample - loss: 0.0579\n",
      "Epoch 2/5\n",
      "1198/1198 [==============================] - 35s 29ms/sample - loss: 0.0064\n",
      "Epoch 3/5\n",
      "1198/1198 [==============================] - 35s 30ms/sample - loss: 0.0051\n",
      "Epoch 4/5\n",
      "1198/1198 [==============================] - 35s 29ms/sample - loss: 0.0045\n",
      "Epoch 5/5\n",
      "1198/1198 [==============================] - 35s 29ms/sample - loss: 0.0049\n"
     ]
    },
    {
     "data": {
      "text/plain": [
       "<tensorflow.python.keras.callbacks.History at 0x7f10c0f98fd0>"
      ]
     },
     "execution_count": 39,
     "metadata": {},
     "output_type": "execute_result"
    }
   ],
   "source": [
    "# Arquitectura\n",
    "\n",
    "model = Sequential()\n",
    "model.add(LSTM(50, return_sequences=True, input_shape=(X_train.shape[1], 1)))\n",
    "model.add(Dropout(0.2))\n",
    "\n",
    "model.add(LSTM(50, return_sequences=True))\n",
    "model.add(Dropout(0.2))\n",
    "\n",
    "model.add(LSTM(50, return_sequences=True))\n",
    "model.add(Dropout(0.2))\n",
    "\n",
    "model.add(LSTM(50, return_sequences=False))\n",
    "#model.add(LSTM(50))\n",
    "model.add(Dropout(0.2))\n",
    "\n",
    "model.add(Dense(1))\n",
    "\n",
    "#COMPILAR\n",
    "model.compile(optimizer = 'adam', loss=\"mean_squared_error\")\n",
    "model.fit(X_train, y_train, epochs= 5, batch_size=32)\n",
    " "
   ]
  },
  {
   "cell_type": "code",
   "execution_count": 40,
   "id": "brilliant-promise",
   "metadata": {},
   "outputs": [
    {
     "name": "stdout",
     "output_type": "stream",
     "text": [
      "(20, 6)\n",
      "<bound method NDFrame.head of          Date    Open    High     Low   Close     Volume\n",
      "0    1/3/2017  778.81  789.63  775.80  786.14  1,657,300\n",
      "1    1/4/2017  788.36  791.34  783.16  786.90  1,073,000\n",
      "2    1/5/2017  786.08  794.48  785.02  794.02  1,335,200\n",
      "3    1/6/2017  795.26  807.90  792.20  806.15  1,640,200\n",
      "4    1/9/2017  806.40  809.97  802.83  806.65  1,272,400\n",
      "5   1/10/2017  807.86  809.13  803.51  804.79  1,176,800\n",
      "6   1/11/2017  805.00  808.15  801.37  807.91  1,065,900\n",
      "7   1/12/2017  807.14  807.39  799.17  806.36  1,353,100\n",
      "8   1/13/2017  807.48  811.22  806.69  807.88  1,099,200\n",
      "9   1/17/2017  807.08  807.14  800.37  804.61  1,362,100\n",
      "10  1/18/2017  805.81  806.21  800.99  806.07  1,294,400\n",
      "11  1/19/2017  805.12  809.48  801.80  802.17    919,300\n",
      "12  1/20/2017  806.91  806.91  801.69  805.02  1,670,000\n",
      "13  1/23/2017  807.25  820.87  803.74  819.31  1,963,600\n",
      "14  1/24/2017  822.30  825.90  817.82  823.87  1,474,000\n",
      "15  1/25/2017  829.62  835.77  825.06  835.67  1,494,500\n",
      "16  1/26/2017  837.81  838.00  827.01  832.15  2,973,900\n",
      "17  1/27/2017  834.71  841.95  820.44  823.31  2,965,800\n",
      "18  1/30/2017  814.66  815.84  799.80  802.32  3,246,600\n",
      "19  1/31/2017  796.86  801.25  790.52  796.79  2,160,600>\n",
      "[[778.81]\n",
      " [788.36]\n",
      " [786.08]\n",
      " [795.26]\n",
      " [806.4 ]\n",
      " [807.86]\n",
      " [805.  ]\n",
      " [807.14]\n",
      " [807.48]\n",
      " [807.08]\n",
      " [805.81]\n",
      " [805.12]\n",
      " [806.91]\n",
      " [807.25]\n",
      " [822.3 ]\n",
      " [829.62]\n",
      " [837.81]\n",
      " [834.71]\n",
      " [814.66]\n",
      " [796.86]]\n"
     ]
    }
   ],
   "source": [
    "# carguemos los datos de test\n",
    "\n",
    "dataset_test = pd.read_csv('Google_Stock_Price_Test.csv')\n",
    "print(dataset_test.shape)\n",
    "\n",
    "print(dataset_test.head)\n",
    "\n",
    "real_stock_price = dataset_test.iloc[:, 1:2].values\n",
    "print(real_stock_price)"
   ]
  },
  {
   "cell_type": "code",
   "execution_count": 72,
   "id": "about-apparel",
   "metadata": {},
   "outputs": [
    {
     "name": "stdout",
     "output_type": "stream",
     "text": [
      "<class 'list'>\n",
      "[[[0.9299055 ]\n",
      "  [0.93113327]\n",
      "  [0.92750577]\n",
      "  ...\n",
      "  [0.95725128]\n",
      "  [0.93796041]\n",
      "  [0.93688146]]\n",
      "\n",
      " [[0.93113327]\n",
      "  [0.92750577]\n",
      "  [0.94415507]\n",
      "  ...\n",
      "  [0.93796041]\n",
      "  [0.93688146]\n",
      "  [0.92955205]]\n",
      "\n",
      " [[0.92750577]\n",
      "  [0.94415507]\n",
      "  [0.93876032]\n",
      "  ...\n",
      "  [0.93688146]\n",
      "  [0.92955205]\n",
      "  [0.94731751]]\n",
      "\n",
      " ...\n",
      "\n",
      " [[0.96054394]\n",
      "  [0.9371419 ]\n",
      "  [0.92841729]\n",
      "  ...\n",
      "  [1.01045465]\n",
      "  [1.02407173]\n",
      "  [1.03930724]]\n",
      "\n",
      " [[0.9371419 ]\n",
      "  [0.92841729]\n",
      "  [0.90804747]\n",
      "  ...\n",
      "  [1.02407173]\n",
      "  [1.03930724]\n",
      "  [1.03354044]]\n",
      "\n",
      " [[0.92841729]\n",
      "  [0.90804747]\n",
      "  [0.8771858 ]\n",
      "  ...\n",
      "  [1.03930724]\n",
      "  [1.03354044]\n",
      "  [0.99624228]]]\n"
     ]
    }
   ],
   "source": [
    "# predicciones para el 2017\n",
    "\n",
    "dataset_total = pd.concat((dataset_train['Open'], dataset_test['Open']), axis = 0)\n",
    "inputs = dataset_total[len(dataset_total) - len(dataset_test) - 60:].values\n",
    "inputs = inputs.reshape(-1, 1)\n",
    "inputs = sc.transform(inputs)\n",
    "#inputs.shape # (80,1)\n",
    "\n",
    "X_test = []\n",
    "\n",
    "for i in range(60, 80):\n",
    "    X_test.append(inputs[i-60:i, 0])\n",
    "\n",
    "#print(X_test)    \n",
    "print(type(X_test))\n",
    "\n",
    "X_test = np.array(X_test)\n",
    "X_test = np.reshape(X_test, (X_test.shape[0], X_test.shape[1], 1) )\n",
    "#X_test = X_test.reshape(X_test.shape[0], X_test.shape[1], 1 ) #reshaped for RNN\n",
    "\n",
    "#X_train = X_train.reshape(X_train.shape[0], X_train.shape[1], 1) #reshaped for RNN\n",
    "\n",
    "\n",
    "print(X_test) \n",
    "\n",
    "predicted_stock_price = model.predict(X_test)\n",
    "predicted_stock_price = sc.inverse_transform(predicted_stock_price)"
   ]
  },
  {
   "cell_type": "code",
   "execution_count": 73,
   "id": "italic-audience",
   "metadata": {},
   "outputs": [
    {
     "data": {
      "image/png": "[encoded data removed]",
      "text/plain": [
       "<Figure size 432x288 with 1 Axes>"
      ]
     },
     "metadata": {
      "needs_background": "light"
     },
     "output_type": "display_data"
    }
   ],
   "source": [
    "# plot de la prediccion vs lo real\n",
    "\n",
    "#plt.figure(figsize=(8,4), dpi=80, facecolor='w', edgecolor='k')\n",
    "\n",
    "plt.plot(real_stock_price, color=\"r\", label=\"Precios reales\")\n",
    "plt.plot(predicted_stock_price, color=\"g\", label=\"Predicciones\")\n",
    "plt.title(\"Predicciones Google stock\")\n",
    "plt.xlabel(\"dias\")\n",
    "plt.ylabel(\"Close Values\")\n",
    "plt.legend()\n",
    "plt.grid(True)\n",
    "plt.show()"
   ]
  },
  {
   "cell_type": "code",
   "execution_count": null,
   "id": "modern-creativity",
   "metadata": {},
   "outputs": [],
   "source": []
  },
  {
   "cell_type": "code",
   "execution_count": null,
   "id": "cheap-statement",
   "metadata": {},
   "outputs": [],
   "source": []
  }
 ],
 "metadata": {
  "kernelspec": {
   "display_name": "Python 3",
   "language": "python",
   "name": "python3"
  },
  "language_info": {
   "codemirror_mode": {
    "name": "ipython",
    "version": 3
   },
   "file_extension": ".py",
   "mimetype": "text/x-python",
   "name": "python",
   "nbconvert_exporter": "python",
   "pygments_lexer": "ipython3",
   "version": "3.7.8"
  }
 },
 "nbformat": 4,
 "nbformat_minor": 5
}
