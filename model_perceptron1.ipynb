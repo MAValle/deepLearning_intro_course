{
  "cells": [
    {
      "cell_type": "markdown",
      "source": [
        "# Modelo de clasificación para Diabetes con un perceptrón\n",
        "\n",
        "El perceptrón tendrá 8 entradas de atributos y una salida. La idea aquí es entrenar un perceptrón utilizando Tensorflow / Keras para ir acostumbándonos a la API Keras de la plataforma de TensorFlow.\n",
        "\n",
        "A diferencia de nuestra programación que hicimos inicialmente \"a mano\" del perceptrón, veamos aquí como lo hacemos con Keras.\n"
      ],
      "metadata": {
        "id": "EYmSMTVc3zuB"
      }
    },
    {
      "cell_type": "code",
      "execution_count": 1,
      "metadata": {
        "id": "8owyPDtZp2Y5"
      },
      "outputs": [],
      "source": [
        "# Carga de paquetes y dependencias\n",
        "\n",
        "from tensorflow.keras.models import Sequential\n",
        "from tensorflow.keras.layers import Dense\n",
        "import numpy as np\n",
        "import pandas as pd\n",
        "import io\n"
      ]
    },
    {
      "cell_type": "code",
      "source": [
        "# Carga de datos alternativa 1: desde el PC\n",
        "# Importar csv al directorio de GoogleColab:\n",
        "\n",
        "from google.colab import files\n",
        "\n",
        "uploaded = files.upload()"
      ],
      "metadata": {
        "colab": {
          "base_uri": "https://localhost:8080/",
          "height": 74
        },
        "id": "dbgOQr9psZPY",
        "outputId": "bdd2bdda-e9bc-4c61-9ba2-435e4bf8b6a7"
      },
      "execution_count": 2,
      "outputs": [
        {
          "output_type": "display_data",
          "data": {
            "text/plain": [
              "<IPython.core.display.HTML object>"
            ],
            "text/html": [
              "\n",
              "     <input type=\"file\" id=\"files-3ab513c1-cc09-43f7-9bf1-9c10e18ecda6\" name=\"files[]\" multiple disabled\n",
              "        style=\"border:none\" />\n",
              "     <output id=\"result-3ab513c1-cc09-43f7-9bf1-9c10e18ecda6\">\n",
              "      Upload widget is only available when the cell has been executed in the\n",
              "      current browser session. Please rerun this cell to enable.\n",
              "      </output>\n",
              "      <script>// Copyright 2017 Google LLC\n",
              "//\n",
              "// Licensed under the Apache License, Version 2.0 (the \"License\");\n",
              "// you may not use this file except in compliance with the License.\n",
              "// You may obtain a copy of the License at\n",
              "//\n",
              "//      http://www.apache.org/licenses/LICENSE-2.0\n",
              "//\n",
              "// Unless required by applicable law or agreed to in writing, software\n",
              "// distributed under the License is distributed on an \"AS IS\" BASIS,\n",
              "// WITHOUT WARRANTIES OR CONDITIONS OF ANY KIND, either express or implied.\n",
              "// See the License for the specific language governing permissions and\n",
              "// limitations under the License.\n",
              "\n",
              "/**\n",
              " * @fileoverview Helpers for google.colab Python module.\n",
              " */\n",
              "(function(scope) {\n",
              "function span(text, styleAttributes = {}) {\n",
              "  const element = document.createElement('span');\n",
              "  element.textContent = text;\n",
              "  for (const key of Object.keys(styleAttributes)) {\n",
              "    element.style[key] = styleAttributes[key];\n",
              "  }\n",
              "  return element;\n",
              "}\n",
              "\n",
              "// Max number of bytes which will be uploaded at a time.\n",
              "const MAX_PAYLOAD_SIZE = 100 * 1024;\n",
              "\n",
              "function _uploadFiles(inputId, outputId) {\n",
              "  const steps = uploadFilesStep(inputId, outputId);\n",
              "  const outputElement = document.getElementById(outputId);\n",
              "  // Cache steps on the outputElement to make it available for the next call\n",
              "  // to uploadFilesContinue from Python.\n",
              "  outputElement.steps = steps;\n",
              "\n",
              "  return _uploadFilesContinue(outputId);\n",
              "}\n",
              "\n",
              "// This is roughly an async generator (not supported in the browser yet),\n",
              "// where there are multiple asynchronous steps and the Python side is going\n",
              "// to poll for completion of each step.\n",
              "// This uses a Promise to block the python side on completion of each step,\n",
              "// then passes the result of the previous step as the input to the next step.\n",
              "function _uploadFilesContinue(outputId) {\n",
              "  const outputElement = document.getElementById(outputId);\n",
              "  const steps = outputElement.steps;\n",
              "\n",
              "  const next = steps.next(outputElement.lastPromiseValue);\n",
              "  return Promise.resolve(next.value.promise).then((value) => {\n",
              "    // Cache the last promise value to make it available to the next\n",
              "    // step of the generator.\n",
              "    outputElement.lastPromiseValue = value;\n",
              "    return next.value.response;\n",
              "  });\n",
              "}\n",
              "\n",
              "/**\n",
              " * Generator function which is called between each async step of the upload\n",
              " * process.\n",
              " * @param {string} inputId Element ID of the input file picker element.\n",
              " * @param {string} outputId Element ID of the output display.\n",
              " * @return {!Iterable<!Object>} Iterable of next steps.\n",
              " */\n",
              "function* uploadFilesStep(inputId, outputId) {\n",
              "  const inputElement = document.getElementById(inputId);\n",
              "  inputElement.disabled = false;\n",
              "\n",
              "  const outputElement = document.getElementById(outputId);\n",
              "  outputElement.innerHTML = '';\n",
              "\n",
              "  const pickedPromise = new Promise((resolve) => {\n",
              "    inputElement.addEventListener('change', (e) => {\n",
              "      resolve(e.target.files);\n",
              "    });\n",
              "  });\n",
              "\n",
              "  const cancel = document.createElement('button');\n",
              "  inputElement.parentElement.appendChild(cancel);\n",
              "  cancel.textContent = 'Cancel upload';\n",
              "  const cancelPromise = new Promise((resolve) => {\n",
              "    cancel.onclick = () => {\n",
              "      resolve(null);\n",
              "    };\n",
              "  });\n",
              "\n",
              "  // Wait for the user to pick the files.\n",
              "  const files = yield {\n",
              "    promise: Promise.race([pickedPromise, cancelPromise]),\n",
              "    response: {\n",
              "      action: 'starting',\n",
              "    }\n",
              "  };\n",
              "\n",
              "  cancel.remove();\n",
              "\n",
              "  // Disable the input element since further picks are not allowed.\n",
              "  inputElement.disabled = true;\n",
              "\n",
              "  if (!files) {\n",
              "    return {\n",
              "      response: {\n",
              "        action: 'complete',\n",
              "      }\n",
              "    };\n",
              "  }\n",
              "\n",
              "  for (const file of files) {\n",
              "    const li = document.createElement('li');\n",
              "    li.append(span(file.name, {fontWeight: 'bold'}));\n",
              "    li.append(span(\n",
              "        `(${file.type || 'n/a'}) - ${file.size} bytes, ` +\n",
              "        `last modified: ${\n",
              "            file.lastModifiedDate ? file.lastModifiedDate.toLocaleDateString() :\n",
              "                                    'n/a'} - `));\n",
              "    const percent = span('0% done');\n",
              "    li.appendChild(percent);\n",
              "\n",
              "    outputElement.appendChild(li);\n",
              "\n",
              "    const fileDataPromise = new Promise((resolve) => {\n",
              "      const reader = new FileReader();\n",
              "      reader.onload = (e) => {\n",
              "        resolve(e.target.result);\n",
              "      };\n",
              "      reader.readAsArrayBuffer(file);\n",
              "    });\n",
              "    // Wait for the data to be ready.\n",
              "    let fileData = yield {\n",
              "      promise: fileDataPromise,\n",
              "      response: {\n",
              "        action: 'continue',\n",
              "      }\n",
              "    };\n",
              "\n",
              "    // Use a chunked sending to avoid message size limits. See b/62115660.\n",
              "    let position = 0;\n",
              "    do {\n",
              "      const length = Math.min(fileData.byteLength - position, MAX_PAYLOAD_SIZE);\n",
              "      const chunk = new Uint8Array(fileData, position, length);\n",
              "      position += length;\n",
              "\n",
              "      const base64 = btoa(String.fromCharCode.apply(null, chunk));\n",
              "      yield {\n",
              "        response: {\n",
              "          action: 'append',\n",
              "          file: file.name,\n",
              "          data: base64,\n",
              "        },\n",
              "      };\n",
              "\n",
              "      let percentDone = fileData.byteLength === 0 ?\n",
              "          100 :\n",
              "          Math.round((position / fileData.byteLength) * 100);\n",
              "      percent.textContent = `${percentDone}% done`;\n",
              "\n",
              "    } while (position < fileData.byteLength);\n",
              "  }\n",
              "\n",
              "  // All done.\n",
              "  yield {\n",
              "    response: {\n",
              "      action: 'complete',\n",
              "    }\n",
              "  };\n",
              "}\n",
              "\n",
              "scope.google = scope.google || {};\n",
              "scope.google.colab = scope.google.colab || {};\n",
              "scope.google.colab._files = {\n",
              "  _uploadFiles,\n",
              "  _uploadFilesContinue,\n",
              "};\n",
              "})(self);\n",
              "</script> "
            ]
          },
          "metadata": {}
        },
        {
          "output_type": "stream",
          "name": "stdout",
          "text": [
            "Saving pima_dataset.csv to pima_dataset.csv\n"
          ]
        }
      ]
    },
    {
      "cell_type": "code",
      "execution_count": 47,
      "metadata": {
        "id": "S45H541lp2Y7"
      },
      "outputs": [],
      "source": [
        "# # Carga de datos alternativa 2: desde el GitHub\n",
        "\n",
        "# https://www.kaggle.com/uciml/pima-indians-diabetes-database\n",
        "\n",
        "# NOTA: ES IMPORTANTE TENER CARGADO EL CSV EN EL MISMO DIRECTORIO DONDE ESTA EL SCRIPT.\n",
        "\n",
        "# Context:\n",
        "# This dataset is originally from the National Institute of Diabetes and Digestive and Kidney Diseases.\n",
        "# The objective of the dataset is to diagnostically predict whether or not a patient has diabetes, based on certain\n",
        "# diagnostic measurements included in the dataset. Several constraints were placed on the selection of these\n",
        "# instances from a larger database. In particular, all patients here are females at least 21 years old of Pima\n",
        "# Indian heritage.\n",
        "\n",
        "# Content:\n",
        "# The datasets consists of several medical predictor variables and one target variable, Outcome. Predictor\n",
        "# variables includes the number of pregnancies the patient has had, their BMI, insulin level, age, and so on.\n",
        "\n",
        "# Acknowledgements\n",
        "# Smith, J.W., Everhart, J.E., Dickson, W.C., Knowler, W.C., & Johannes, R.S. (1988). Using the ADAP learning\n",
        "# algorithm to forecast the onset of diabetes mellitus. In Proceedings of the Symposium on Computer Applications\n",
        "# and Medical Care (pp. 261--265). IEEE Computer Society Press.\n",
        "\n",
        "# Clase:\n",
        "# Y = {0,1} =  {sin diabetes, diabetes}\n",
        "\n",
        "#dataset = np.loadtxt('pima_dataset.csv', delimiter=',')\n",
        "#dataset = np.genfromtxt(\"pima_dataset.csv\", delimiter=\",\", skip_header=1) # sin cargar header\n",
        "\n",
        "# ALTERNATIVA 1 PARA IMPORTAR CSV's\n",
        "# dataset = pd.read_csv(io.BytesIO(uploaded['pima_dataset.csv']))\n",
        "\n",
        "# ALTERNATIVA 2 PARA IMPORTAR CSV'S\n",
        "url = 'https://raw.githubusercontent.com/MAValle/deepLearning_intro_course/main/pima_dataset.csv'\n",
        "dataset = pd.read_csv(url)\n",
        "dataset.head()\n",
        "column_names = list(dataset.columns)"
      ]
    },
    {
      "cell_type": "code",
      "source": [
        "# No olvidemos escalar los datos!\n",
        "from sklearn.preprocessing import MinMaxScaler\n",
        "\n",
        "scaler = MinMaxScaler()\n",
        "cols = dataset.columns[dataset.columns != 'Outcome']\n",
        "dataset[cols] = scaler.fit_transform(dataset[cols])\n",
        "dataset.head()\n"
      ],
      "metadata": {
        "colab": {
          "base_uri": "https://localhost:8080/",
          "height": 206
        },
        "id": "n75EyKde8742",
        "outputId": "ca2d2c17-5087-4f7c-a178-9fad9f93107a"
      },
      "execution_count": 48,
      "outputs": [
        {
          "output_type": "execute_result",
          "data": {
            "text/plain": [
              "   Pregnancies   Glucose  BloodPressure  SkinThickness   Insulin       BMI  \\\n",
              "0     0.352941  0.743719       0.590164       0.353535  0.000000  0.500745   \n",
              "1     0.058824  0.427136       0.540984       0.292929  0.000000  0.396423   \n",
              "2     0.470588  0.919598       0.524590       0.000000  0.000000  0.347243   \n",
              "3     0.058824  0.447236       0.540984       0.232323  0.111111  0.418778   \n",
              "4     0.000000  0.688442       0.327869       0.353535  0.198582  0.642325   \n",
              "\n",
              "   DiabetesPedigreeFunction       Age  Outcome  \n",
              "0                  0.234415  0.483333        1  \n",
              "1                  0.116567  0.166667        0  \n",
              "2                  0.253629  0.183333        1  \n",
              "3                  0.038002  0.000000        0  \n",
              "4                  0.943638  0.200000        1  "
            ],
            "text/html": [
              "\n",
              "  <div id=\"df-e0119ebb-dfb3-44f9-98cc-137133bb2ede\" class=\"colab-df-container\">\n",
              "    <div>\n",
              "<style scoped>\n",
              "    .dataframe tbody tr th:only-of-type {\n",
              "        vertical-align: middle;\n",
              "    }\n",
              "\n",
              "    .dataframe tbody tr th {\n",
              "        vertical-align: top;\n",
              "    }\n",
              "\n",
              "    .dataframe thead th {\n",
              "        text-align: right;\n",
              "    }\n",
              "</style>\n",
              "<table border=\"1\" class=\"dataframe\">\n",
              "  <thead>\n",
              "    <tr style=\"text-align: right;\">\n",
              "      <th></th>\n",
              "      <th>Pregnancies</th>\n",
              "      <th>Glucose</th>\n",
              "      <th>BloodPressure</th>\n",
              "      <th>SkinThickness</th>\n",
              "      <th>Insulin</th>\n",
              "      <th>BMI</th>\n",
              "      <th>DiabetesPedigreeFunction</th>\n",
              "      <th>Age</th>\n",
              "      <th>Outcome</th>\n",
              "    </tr>\n",
              "  </thead>\n",
              "  <tbody>\n",
              "    <tr>\n",
              "      <th>0</th>\n",
              "      <td>0.352941</td>\n",
              "      <td>0.743719</td>\n",
              "      <td>0.590164</td>\n",
              "      <td>0.353535</td>\n",
              "      <td>0.000000</td>\n",
              "      <td>0.500745</td>\n",
              "      <td>0.234415</td>\n",
              "      <td>0.483333</td>\n",
              "      <td>1</td>\n",
              "    </tr>\n",
              "    <tr>\n",
              "      <th>1</th>\n",
              "      <td>0.058824</td>\n",
              "      <td>0.427136</td>\n",
              "      <td>0.540984</td>\n",
              "      <td>0.292929</td>\n",
              "      <td>0.000000</td>\n",
              "      <td>0.396423</td>\n",
              "      <td>0.116567</td>\n",
              "      <td>0.166667</td>\n",
              "      <td>0</td>\n",
              "    </tr>\n",
              "    <tr>\n",
              "      <th>2</th>\n",
              "      <td>0.470588</td>\n",
              "      <td>0.919598</td>\n",
              "      <td>0.524590</td>\n",
              "      <td>0.000000</td>\n",
              "      <td>0.000000</td>\n",
              "      <td>0.347243</td>\n",
              "      <td>0.253629</td>\n",
              "      <td>0.183333</td>\n",
              "      <td>1</td>\n",
              "    </tr>\n",
              "    <tr>\n",
              "      <th>3</th>\n",
              "      <td>0.058824</td>\n",
              "      <td>0.447236</td>\n",
              "      <td>0.540984</td>\n",
              "      <td>0.232323</td>\n",
              "      <td>0.111111</td>\n",
              "      <td>0.418778</td>\n",
              "      <td>0.038002</td>\n",
              "      <td>0.000000</td>\n",
              "      <td>0</td>\n",
              "    </tr>\n",
              "    <tr>\n",
              "      <th>4</th>\n",
              "      <td>0.000000</td>\n",
              "      <td>0.688442</td>\n",
              "      <td>0.327869</td>\n",
              "      <td>0.353535</td>\n",
              "      <td>0.198582</td>\n",
              "      <td>0.642325</td>\n",
              "      <td>0.943638</td>\n",
              "      <td>0.200000</td>\n",
              "      <td>1</td>\n",
              "    </tr>\n",
              "  </tbody>\n",
              "</table>\n",
              "</div>\n",
              "    <div class=\"colab-df-buttons\">\n",
              "\n",
              "  <div class=\"colab-df-container\">\n",
              "    <button class=\"colab-df-convert\" onclick=\"convertToInteractive('df-e0119ebb-dfb3-44f9-98cc-137133bb2ede')\"\n",
              "            title=\"Convert this dataframe to an interactive table.\"\n",
              "            style=\"display:none;\">\n",
              "\n",
              "  <svg xmlns=\"http://www.w3.org/2000/svg\" height=\"24px\" viewBox=\"0 -960 960 960\">\n",
              "    <path d=\"M120-120v-720h720v720H120Zm60-500h600v-160H180v160Zm220 220h160v-160H400v160Zm0 220h160v-160H400v160ZM180-400h160v-160H180v160Zm440 0h160v-160H620v160ZM180-180h160v-160H180v160Zm440 0h160v-160H620v160Z\"/>\n",
              "  </svg>\n",
              "    </button>\n",
              "\n",
              "  <style>\n",
              "    .colab-df-container {\n",
              "      display:flex;\n",
              "      gap: 12px;\n",
              "    }\n",
              "\n",
              "    .colab-df-convert {\n",
              "      background-color: #E8F0FE;\n",
              "      border: none;\n",
              "      border-radius: 50%;\n",
              "      cursor: pointer;\n",
              "      display: none;\n",
              "      fill: #1967D2;\n",
              "      height: 32px;\n",
              "      padding: 0 0 0 0;\n",
              "      width: 32px;\n",
              "    }\n",
              "\n",
              "    .colab-df-convert:hover {\n",
              "      background-color: #E2EBFA;\n",
              "      box-shadow: 0px 1px 2px rgba(60, 64, 67, 0.3), 0px 1px 3px 1px rgba(60, 64, 67, 0.15);\n",
              "      fill: #174EA6;\n",
              "    }\n",
              "\n",
              "    .colab-df-buttons div {\n",
              "      margin-bottom: 4px;\n",
              "    }\n",
              "\n",
              "    [theme=dark] .colab-df-convert {\n",
              "      background-color: #3B4455;\n",
              "      fill: #D2E3FC;\n",
              "    }\n",
              "\n",
              "    [theme=dark] .colab-df-convert:hover {\n",
              "      background-color: #434B5C;\n",
              "      box-shadow: 0px 1px 3px 1px rgba(0, 0, 0, 0.15);\n",
              "      filter: drop-shadow(0px 1px 2px rgba(0, 0, 0, 0.3));\n",
              "      fill: #FFFFFF;\n",
              "    }\n",
              "  </style>\n",
              "\n",
              "    <script>\n",
              "      const buttonEl =\n",
              "        document.querySelector('#df-e0119ebb-dfb3-44f9-98cc-137133bb2ede button.colab-df-convert');\n",
              "      buttonEl.style.display =\n",
              "        google.colab.kernel.accessAllowed ? 'block' : 'none';\n",
              "\n",
              "      async function convertToInteractive(key) {\n",
              "        const element = document.querySelector('#df-e0119ebb-dfb3-44f9-98cc-137133bb2ede');\n",
              "        const dataTable =\n",
              "          await google.colab.kernel.invokeFunction('convertToInteractive',\n",
              "                                                    [key], {});\n",
              "        if (!dataTable) return;\n",
              "\n",
              "        const docLinkHtml = 'Like what you see? Visit the ' +\n",
              "          '<a target=\"_blank\" href=https://colab.research.google.com/notebooks/data_table.ipynb>data table notebook</a>'\n",
              "          + ' to learn more about interactive tables.';\n",
              "        element.innerHTML = '';\n",
              "        dataTable['output_type'] = 'display_data';\n",
              "        await google.colab.output.renderOutput(dataTable, element);\n",
              "        const docLink = document.createElement('div');\n",
              "        docLink.innerHTML = docLinkHtml;\n",
              "        element.appendChild(docLink);\n",
              "      }\n",
              "    </script>\n",
              "  </div>\n",
              "\n",
              "\n",
              "<div id=\"df-81181deb-d634-42f5-8daa-d19a9f309745\">\n",
              "  <button class=\"colab-df-quickchart\" onclick=\"quickchart('df-81181deb-d634-42f5-8daa-d19a9f309745')\"\n",
              "            title=\"Suggest charts\"\n",
              "            style=\"display:none;\">\n",
              "\n",
              "<svg xmlns=\"http://www.w3.org/2000/svg\" height=\"24px\"viewBox=\"0 0 24 24\"\n",
              "     width=\"24px\">\n",
              "    <g>\n",
              "        <path d=\"M19 3H5c-1.1 0-2 .9-2 2v14c0 1.1.9 2 2 2h14c1.1 0 2-.9 2-2V5c0-1.1-.9-2-2-2zM9 17H7v-7h2v7zm4 0h-2V7h2v10zm4 0h-2v-4h2v4z\"/>\n",
              "    </g>\n",
              "</svg>\n",
              "  </button>\n",
              "\n",
              "<style>\n",
              "  .colab-df-quickchart {\n",
              "      --bg-color: #E8F0FE;\n",
              "      --fill-color: #1967D2;\n",
              "      --hover-bg-color: #E2EBFA;\n",
              "      --hover-fill-color: #174EA6;\n",
              "      --disabled-fill-color: #AAA;\n",
              "      --disabled-bg-color: #DDD;\n",
              "  }\n",
              "\n",
              "  [theme=dark] .colab-df-quickchart {\n",
              "      --bg-color: #3B4455;\n",
              "      --fill-color: #D2E3FC;\n",
              "      --hover-bg-color: #434B5C;\n",
              "      --hover-fill-color: #FFFFFF;\n",
              "      --disabled-bg-color: #3B4455;\n",
              "      --disabled-fill-color: #666;\n",
              "  }\n",
              "\n",
              "  .colab-df-quickchart {\n",
              "    background-color: var(--bg-color);\n",
              "    border: none;\n",
              "    border-radius: 50%;\n",
              "    cursor: pointer;\n",
              "    display: none;\n",
              "    fill: var(--fill-color);\n",
              "    height: 32px;\n",
              "    padding: 0;\n",
              "    width: 32px;\n",
              "  }\n",
              "\n",
              "  .colab-df-quickchart:hover {\n",
              "    background-color: var(--hover-bg-color);\n",
              "    box-shadow: 0 1px 2px rgba(60, 64, 67, 0.3), 0 1px 3px 1px rgba(60, 64, 67, 0.15);\n",
              "    fill: var(--button-hover-fill-color);\n",
              "  }\n",
              "\n",
              "  .colab-df-quickchart-complete:disabled,\n",
              "  .colab-df-quickchart-complete:disabled:hover {\n",
              "    background-color: var(--disabled-bg-color);\n",
              "    fill: var(--disabled-fill-color);\n",
              "    box-shadow: none;\n",
              "  }\n",
              "\n",
              "  .colab-df-spinner {\n",
              "    border: 2px solid var(--fill-color);\n",
              "    border-color: transparent;\n",
              "    border-bottom-color: var(--fill-color);\n",
              "    animation:\n",
              "      spin 1s steps(1) infinite;\n",
              "  }\n",
              "\n",
              "  @keyframes spin {\n",
              "    0% {\n",
              "      border-color: transparent;\n",
              "      border-bottom-color: var(--fill-color);\n",
              "      border-left-color: var(--fill-color);\n",
              "    }\n",
              "    20% {\n",
              "      border-color: transparent;\n",
              "      border-left-color: var(--fill-color);\n",
              "      border-top-color: var(--fill-color);\n",
              "    }\n",
              "    30% {\n",
              "      border-color: transparent;\n",
              "      border-left-color: var(--fill-color);\n",
              "      border-top-color: var(--fill-color);\n",
              "      border-right-color: var(--fill-color);\n",
              "    }\n",
              "    40% {\n",
              "      border-color: transparent;\n",
              "      border-right-color: var(--fill-color);\n",
              "      border-top-color: var(--fill-color);\n",
              "    }\n",
              "    60% {\n",
              "      border-color: transparent;\n",
              "      border-right-color: var(--fill-color);\n",
              "    }\n",
              "    80% {\n",
              "      border-color: transparent;\n",
              "      border-right-color: var(--fill-color);\n",
              "      border-bottom-color: var(--fill-color);\n",
              "    }\n",
              "    90% {\n",
              "      border-color: transparent;\n",
              "      border-bottom-color: var(--fill-color);\n",
              "    }\n",
              "  }\n",
              "</style>\n",
              "\n",
              "  <script>\n",
              "    async function quickchart(key) {\n",
              "      const quickchartButtonEl =\n",
              "        document.querySelector('#' + key + ' button');\n",
              "      quickchartButtonEl.disabled = true;  // To prevent multiple clicks.\n",
              "      quickchartButtonEl.classList.add('colab-df-spinner');\n",
              "      try {\n",
              "        const charts = await google.colab.kernel.invokeFunction(\n",
              "            'suggestCharts', [key], {});\n",
              "      } catch (error) {\n",
              "        console.error('Error during call to suggestCharts:', error);\n",
              "      }\n",
              "      quickchartButtonEl.classList.remove('colab-df-spinner');\n",
              "      quickchartButtonEl.classList.add('colab-df-quickchart-complete');\n",
              "    }\n",
              "    (() => {\n",
              "      let quickchartButtonEl =\n",
              "        document.querySelector('#df-81181deb-d634-42f5-8daa-d19a9f309745 button');\n",
              "      quickchartButtonEl.style.display =\n",
              "        google.colab.kernel.accessAllowed ? 'block' : 'none';\n",
              "    })();\n",
              "  </script>\n",
              "</div>\n",
              "\n",
              "    </div>\n",
              "  </div>\n"
            ],
            "application/vnd.google.colaboratory.intrinsic+json": {
              "type": "dataframe",
              "variable_name": "dataset",
              "summary": "{\n  \"name\": \"dataset\",\n  \"rows\": 768,\n  \"fields\": [\n    {\n      \"column\": \"Pregnancies\",\n      \"properties\": {\n        \"dtype\": \"number\",\n        \"std\": 0.19821047427640448,\n        \"min\": 0.0,\n        \"max\": 1.0,\n        \"num_unique_values\": 17,\n        \"samples\": [\n          0.3529411764705882,\n          0.058823529411764705,\n          0.1764705882352941\n        ],\n        \"semantic_type\": \"\",\n        \"description\": \"\"\n      }\n    },\n    {\n      \"column\": \"Glucose\",\n      \"properties\": {\n        \"dtype\": \"number\",\n        \"std\": 0.16066642309113685,\n        \"min\": 0.0,\n        \"max\": 1.0,\n        \"num_unique_values\": 136,\n        \"samples\": [\n          0.7587939698492463,\n          0.507537688442211,\n          0.5628140703517588\n        ],\n        \"semantic_type\": \"\",\n        \"description\": \"\"\n      }\n    },\n    {\n      \"column\": \"BloodPressure\",\n      \"properties\": {\n        \"dtype\": \"number\",\n        \"std\": 0.15865415713643255,\n        \"min\": 0.0,\n        \"max\": 1.0,\n        \"num_unique_values\": 47,\n        \"samples\": [\n          0.7049180327868853,\n          0.3770491803278689,\n          0.6967213114754098\n        ],\n        \"semantic_type\": \"\",\n        \"description\": \"\"\n      }\n    },\n    {\n      \"column\": \"SkinThickness\",\n      \"properties\": {\n        \"dtype\": \"number\",\n        \"std\": 0.16113351078512725,\n        \"min\": 0.0,\n        \"max\": 1.0,\n        \"num_unique_values\": 51,\n        \"samples\": [\n          0.07070707070707072,\n          0.12121212121212122,\n          0.48484848484848486\n        ],\n        \"semantic_type\": \"\",\n        \"description\": \"\"\n      }\n    },\n    {\n      \"column\": \"Insulin\",\n      \"properties\": {\n        \"dtype\": \"number\",\n        \"std\": 0.13622222500158185,\n        \"min\": 0.0,\n        \"max\": 1.0,\n        \"num_unique_values\": 186,\n        \"samples\": [\n          0.061465721040189124,\n          0.04846335697399527,\n          0.21631205673758866\n        ],\n        \"semantic_type\": \"\",\n        \"description\": \"\"\n      }\n    },\n    {\n      \"column\": \"BMI\",\n      \"properties\": {\n        \"dtype\": \"number\",\n        \"std\": 0.11749866349292773,\n        \"min\": 0.0,\n        \"max\": 1.0,\n        \"num_unique_values\": 248,\n        \"samples\": [\n          0.2965722801788376,\n          0.4619970193740686,\n          0.5678092399403876\n        ],\n        \"semantic_type\": \"\",\n        \"description\": \"\"\n      }\n    },\n    {\n      \"column\": \"DiabetesPedigreeFunction\",\n      \"properties\": {\n        \"dtype\": \"number\",\n        \"std\": 0.1414725000054547,\n        \"min\": 0.0,\n        \"max\": 0.9999999999999998,\n        \"num_unique_values\": 517,\n        \"samples\": [\n          0.7058070025619129,\n          0.1485909479077711,\n          0.025619128949615717\n        ],\n        \"semantic_type\": \"\",\n        \"description\": \"\"\n      }\n    },\n    {\n      \"column\": \"Age\",\n      \"properties\": {\n        \"dtype\": \"number\",\n        \"std\": 0.1960038590113113,\n        \"min\": 0.0,\n        \"max\": 1.0,\n        \"num_unique_values\": 52,\n        \"samples\": [\n          0.65,\n          0.43333333333333335,\n          0.85\n        ],\n        \"semantic_type\": \"\",\n        \"description\": \"\"\n      }\n    },\n    {\n      \"column\": \"Outcome\",\n      \"properties\": {\n        \"dtype\": \"number\",\n        \"std\": 0,\n        \"min\": 0,\n        \"max\": 1,\n        \"num_unique_values\": 2,\n        \"samples\": [\n          0,\n          1\n        ],\n        \"semantic_type\": \"\",\n        \"description\": \"\"\n      }\n    }\n  ]\n}"
            }
          },
          "metadata": {},
          "execution_count": 48
        }
      ]
    },
    {
      "cell_type": "code",
      "execution_count": 49,
      "metadata": {
        "colab": {
          "base_uri": "https://localhost:8080/"
        },
        "id": "Bf-FILUPp2Y7",
        "outputId": "b117b6b7-0138-4ed7-e74f-d623addf75f8"
      },
      "outputs": [
        {
          "output_type": "execute_result",
          "data": {
            "text/plain": [
              "array([[0.35294118, 0.74371859, 0.59016393, ..., 0.23441503, 0.48333333,\n",
              "        1.        ],\n",
              "       [0.05882353, 0.42713568, 0.54098361, ..., 0.11656704, 0.16666667,\n",
              "        0.        ],\n",
              "       [0.47058824, 0.91959799, 0.52459016, ..., 0.25362938, 0.18333333,\n",
              "        1.        ],\n",
              "       ...,\n",
              "       [0.29411765, 0.6080402 , 0.59016393, ..., 0.07130658, 0.15      ,\n",
              "        0.        ],\n",
              "       [0.05882353, 0.63316583, 0.49180328, ..., 0.11571307, 0.43333333,\n",
              "        1.        ],\n",
              "       [0.05882353, 0.46733668, 0.57377049, ..., 0.10119556, 0.03333333,\n",
              "        0.        ]])"
            ]
          },
          "metadata": {},
          "execution_count": 49
        }
      ],
      "source": [
        "# dataset es dataframe\n",
        "\n",
        "# vamos a convertir dataset a array:\n",
        "dataset = dataset.to_numpy()\n",
        "dataset"
      ]
    },
    {
      "cell_type": "code",
      "execution_count": 50,
      "metadata": {
        "id": "7Znubqodp2Y9"
      },
      "outputs": [],
      "source": [
        "# seleccionamos los atributos de entrada X  y la clase Y\n",
        "\n",
        "X = dataset[:, 0:8]\n",
        "Y = dataset[:, 8]"
      ]
    },
    {
      "cell_type": "code",
      "execution_count": 51,
      "metadata": {
        "scrolled": true,
        "id": "4BPjbbBmp2Y9",
        "outputId": "7101b759-4eb7-4bc9-aac4-704beb4d5c43",
        "colab": {
          "base_uri": "https://localhost:8080/"
        }
      },
      "outputs": [
        {
          "output_type": "execute_result",
          "data": {
            "text/plain": [
              "array([[0.35294118, 0.74371859, 0.59016393, ..., 0.50074516, 0.23441503,\n",
              "        0.48333333],\n",
              "       [0.05882353, 0.42713568, 0.54098361, ..., 0.39642325, 0.11656704,\n",
              "        0.16666667],\n",
              "       [0.47058824, 0.91959799, 0.52459016, ..., 0.34724292, 0.25362938,\n",
              "        0.18333333],\n",
              "       ...,\n",
              "       [0.29411765, 0.6080402 , 0.59016393, ..., 0.390462  , 0.07130658,\n",
              "        0.15      ],\n",
              "       [0.05882353, 0.63316583, 0.49180328, ..., 0.4485842 , 0.11571307,\n",
              "        0.43333333],\n",
              "       [0.05882353, 0.46733668, 0.57377049, ..., 0.45305514, 0.10119556,\n",
              "        0.03333333]])"
            ]
          },
          "metadata": {},
          "execution_count": 51
        }
      ],
      "source": [
        "X"
      ]
    },
    {
      "cell_type": "code",
      "execution_count": 52,
      "metadata": {
        "id": "meCurcYop2Y-"
      },
      "outputs": [],
      "source": [
        "# Ahora creamos el modelo y agregamos el perceptron, es cual es una Dense layer\n",
        "\n",
        "model = Sequential()\n",
        "\n",
        "#model.add(Dense())\n",
        "#from tensorflow.keras.activations import hard_sigmoid\n",
        "\n",
        "# Al inicializar model.add(Dense()) tendremos un problema!\n",
        "# KERAS no esta diseñado para crear perceptrones. KERAS nos obliga a definir una función de activación\n",
        "# que sea \"continua\" y ademas una \"inicializacion\" o metodo de optimizacion (lo veremos mas adelante)\n",
        "\n",
        "# Explicación más detallada\n",
        "# Para el perceptrón, nosotros usamos la funcion sgn, que no es continua! (no es diferenciable), condición\n",
        "# que es necesaria para la optimizacion (por ejemplo, el Gradient Descent).\n",
        "# Recordemos que los pesos en un perceptron se ajustan \"empujándolos\" en la dirección correcta (Learning rule).\n",
        "# Pero en KERAS para entrenar redes neuronales, esto se hace a través de una función de perdida que es diferenciable\n",
        "# (lo veremos mas adelante). Al minimizar este gradiente, el algoritmo encuentra la manera de ajustar\n",
        "# los pesos. Esto se denomina Stochastic gradient descent. O sea, en vez de empujar los pesos en la dirección\n",
        "# correcta, es como descender montañas por la pendiente más pronunciada.\n",
        "\n",
        "# Como no podemos usar la función sgn, utilizamos una versión continua, muy similar y que es diferenciable y se\n",
        "# llama sigmoide:\n",
        "\n",
        "# sig(t) = 1/(1+e^(-t))\n",
        "\n",
        "# por lo tanto, incializamos así:\n",
        "# model.add(Dense(units = 1, activation='hard_sigmoid'))\n",
        "\n",
        "# Mas detalle: En realidad, la hard_sigmoid es una aproximación por trazos lineales de la sigmoide.\n",
        "# Para tener una idea ver https://stackoverflow.com/questions/35411194/how-is-hard-sigmoid-defined\n"
      ]
    },
    {
      "cell_type": "code",
      "execution_count": 53,
      "metadata": {
        "id": "1yb6dEvip2Y-",
        "colab": {
          "base_uri": "https://localhost:8080/"
        },
        "outputId": "67a034e9-b837-4ff0-8c62-e3e9b51de8b4"
      },
      "outputs": [
        {
          "output_type": "stream",
          "name": "stderr",
          "text": [
            "/usr/local/lib/python3.10/dist-packages/keras/src/layers/core/dense.py:87: UserWarning: Do not pass an `input_shape`/`input_dim` argument to a layer. When using Sequential models, prefer using an `Input(shape)` object as the first layer in the model instead.\n",
            "  super().__init__(activity_regularizer=activity_regularizer, **kwargs)\n"
          ]
        }
      ],
      "source": [
        "# Pero también decimos que el perceptron tendra 8 entradas (8 pesos)\n",
        "#model.add(Dense(1, input_shape=(8,), activation=hard_sigmoid, kernel_initializer='glorot_uniform'))\n",
        "model.add(Dense(1, input_shape=(8,), activation='hard_sigmoid', kernel_initializer='random_uniform'))\n"
      ]
    },
    {
      "cell_type": "code",
      "execution_count": 54,
      "metadata": {
        "id": "ZjzZdYEwp2Y-"
      },
      "outputs": [],
      "source": [
        "# Ahora compilamos el modelo y lo inicializamos\n",
        "model.compile(loss='binary_crossentropy', optimizer='adam', metrics=['accuracy'])\n",
        "\n",
        "\n",
        "# Nota:\n",
        "# La funcion de perdida que se utiliza para poder ir ajustando los pesos es la binary-cross-entropy que es\n",
        "# que se utiliza por defecto en la mayoría de las aplicaciones de clasificación\n",
        "# (Chollet, F. (2017). Deep Learning with Python. New York, NY: Manning Publications.)\n",
        "# El optimizador Adam es una estensión del gradient descent para ir ajustando los pesos.\n",
        "\n"
      ]
    },
    {
      "cell_type": "code",
      "execution_count": 55,
      "metadata": {
        "id": "_K0BgsC7p2Y_"
      },
      "outputs": [],
      "source": [
        "# hacemos fit de datos en este psudo perceptron (entrenamiento).\n",
        "# Presentamos los datos a nuestro pseudo perceptron. Esto le dice a Keras que comience el proceso de\n",
        "# entrenamiento.\n",
        "\n",
        "history = model.fit(X, Y, epochs=100, batch_size=25, verbose=0, validation_split=0.2)\n",
        "\n",
        "# epochs = numero de iteraciones del proceso de aprendizaje optimizacion antes de parar el proceso de aprendizaje\n",
        "# batch_size = tamaño de las muestras durante cada iteracion\n",
        "# verbose = 1 lo dejamos en 1 para ver que va sucediendo\n",
        "# split = 0.3  tomamos un 20% de los datos como set de validacion para evitar el overfitting.\n"
      ]
    },
    {
      "cell_type": "code",
      "execution_count": 12,
      "metadata": {
        "id": "k73MEfsap2Y_"
      },
      "outputs": [],
      "source": [
        "# Vemos que el accuracy logra superar ligeramente el 60%.\n",
        "\n",
        "# Nota: Accuracy es una medida de desempeño que mide la capacidad del clasificador (en este caso, del perceptron)\n",
        "# para clasificar correctamente si la instancia es diabética o no.\n",
        "\n",
        "# No es un problema de clasificacion facil. Pensemos que estamos tratando de clasificar con solo un\n",
        "# perceptron (lineal). A pesar de eso, los resultados son notables.\n",
        "\n",
        "# Hemos visto cómo usar Keras como crear un perceptron (o al menos simular uno). No podemos crear un perceptron\n",
        "# ideal con Keras porque utiliza una funcion de activacion no diferenciable.\n",
        "\n",
        "\n",
        "# Referencias adicionales\n",
        "# Ariosa, R. (2018, April 27). MrRobb/keras-zoo. Retrieved from https://github.com/MrRobb/keras-zoo/blob/master/P%20(Perceptron)/readme.md\n",
        "# Chollet, F. (2017). Deep Learning with Python. New York, NY: Manning Publications.\n",
        "# Rosenblatt, F. (1957). The Perceptron – a Perceiving and Recognizing Automaton. Retrieved from UMass website: https://blogs.umass.edu/brain-wars/files/2016/03/rosenblatt-1957.pdf\n",
        "# Zakaria, Y. (2016, November 23). Non-smooth and non-differentiable customized loss function tensorflow. Retrieved from https://stackoverflow.com/a/40758135"
      ]
    },
    {
      "cell_type": "code",
      "execution_count": 56,
      "metadata": {
        "colab": {
          "base_uri": "https://localhost:8080/",
          "height": 468
        },
        "id": "KpzbnOmrp2Y_",
        "outputId": "0f38d3d1-6eff-4276-e2b5-cb2b90afd67c"
      },
      "outputs": [
        {
          "output_type": "execute_result",
          "data": {
            "text/plain": [
              "Text(0, 0.5, 'Accuracy')"
            ]
          },
          "metadata": {},
          "execution_count": 56
        },
        {
          "output_type": "display_data",
          "data": {
            "text/plain": [
              "<Figure size 640x480 with 1 Axes>"
            ],
            "image/png": "[encoded data removed]"
          },
          "metadata": {}
        }
      ],
      "source": [
        "# Veamos cómo se desarrolla el accuracy en las iteraciones\n",
        "# https://stackoverflow.com/questions/61401114/neural-network-perceptron-visualizing-decision-boundary-as-a-hyperplane-wh\n",
        "\n",
        "import matplotlib.pyplot as plt #cargamos paquete para graficar\n",
        "\n",
        "epochs = range(len(history.epoch))  #creamos un vector rango de 0 a 255\n",
        "\n",
        "# Nota si inspeccionamos print(history.history) veremos que esta lista contiene:\n",
        "# loss, acc, val_loss, val_acc\n",
        "#print(history.history)\n",
        "\n",
        "plt.figure()\n",
        "plt.plot(epochs, history.history['accuracy'])\n",
        "#plt.plot(epochs, history.history['acc'])\n",
        "plt.xlabel('Epochs')\n",
        "plt.ylabel('Accuracy')\n",
        "\n"
      ]
    },
    {
      "cell_type": "code",
      "execution_count": 57,
      "metadata": {
        "colab": {
          "base_uri": "https://localhost:8080/",
          "height": 467
        },
        "id": "dSurPZp6p2Y_",
        "outputId": "4808514a-ba86-47b8-a1e2-f6de8dfe0500"
      },
      "outputs": [
        {
          "output_type": "execute_result",
          "data": {
            "text/plain": [
              "Text(0, 0.5, 'Loss')"
            ]
          },
          "metadata": {},
          "execution_count": 57
        },
        {
          "output_type": "display_data",
          "data": {
            "text/plain": [
              "<Figure size 640x480 with 1 Axes>"
            ],
            "image/png": "[encoded data removed]"
          },
          "metadata": {}
        }
      ],
      "source": [
        "# Veamos un plot de la funcion de perdida a traves de las iteraciones\n",
        "\n",
        "plt.figure()\n",
        "plt.plot(epochs, history.history['loss'])\n",
        "plt.xlabel('Epochs')\n",
        "plt.ylabel('Loss')"
      ]
    },
    {
      "cell_type": "code",
      "execution_count": 58,
      "metadata": {
        "id": "l3g2RJT7p2Y_"
      },
      "outputs": [],
      "source": [
        "# ¿podemos ver los pesos sinápticos finales?\n",
        "\n",
        "#extract weights and bias from model\n",
        "weights = model.layers[0].get_weights()[0]\n",
        "biases = model.layers[0].get_weights()[1]\n",
        "\n",
        "#w1 = weights[0][0] #a\n",
        "#w2 = weights[1][0] #b\n",
        "#w3 = weights[2][0] #c\n",
        "#b = biases[0]      #d"
      ]
    },
    {
      "cell_type": "code",
      "execution_count": 59,
      "metadata": {
        "id": "r-DNJ4enp2ZA",
        "outputId": "17da145d-e86a-4132-9d0d-d639ab80447b",
        "colab": {
          "base_uri": "https://localhost:8080/"
        }
      },
      "outputs": [
        {
          "output_type": "stream",
          "name": "stdout",
          "text": [
            "[-0.93544483]\n"
          ]
        }
      ],
      "source": [
        "print(biases)"
      ]
    },
    {
      "cell_type": "code",
      "execution_count": 60,
      "metadata": {
        "colab": {
          "base_uri": "https://localhost:8080/"
        },
        "id": "JwNTP98Gp2ZA",
        "outputId": "df0e2820-fe81-4061-f42c-537f335463f3"
      },
      "outputs": [
        {
          "output_type": "stream",
          "name": "stdout",
          "text": [
            "[[ 0.5923886 ]\n",
            " [ 0.2784683 ]\n",
            " [-0.6901338 ]\n",
            " [-0.22271667]\n",
            " [ 0.7623882 ]\n",
            " [-0.06671926]\n",
            " [ 0.51141983]\n",
            " [ 0.7706536 ]]\n",
            "['Pregnancies', 'Glucose', 'BloodPressure', 'SkinThickness', 'Insulin', 'BMI', 'DiabetesPedigreeFunction', 'Age', 'Outcome']\n"
          ]
        }
      ],
      "source": [
        "print(weights)\n",
        "\n",
        "print(column_names)"
      ]
    },
    {
      "cell_type": "code",
      "execution_count": null,
      "metadata": {
        "id": "ntvAEqelp2ZA",
        "outputId": "982bb180-5557-4660-9dcb-d914af091f87"
      },
      "outputs": [
        {
          "data": {
            "text/plain": [
              "0.0"
            ]
          },
          "execution_count": 41,
          "metadata": {},
          "output_type": "execute_result"
        }
      ],
      "source": [
        "# Que interesante!\n",
        "# De que manera se podrian interpretar estos pesos?\n",
        "# Los datos de entrada NO fueron escalados!  que pasa si los escalamos/ estandarizamos?"
      ]
    },
    {
      "cell_type": "code",
      "execution_count": 35,
      "metadata": {
        "id": "vI-MLC5Zp2ZA"
      },
      "outputs": [],
      "source": []
    }
  ],
  "metadata": {
    "kernelspec": {
      "display_name": "Python 3",
      "language": "python",
      "name": "python3"
    },
    "language_info": {
      "codemirror_mode": {
        "name": "ipython",
        "version": 3
      },
      "file_extension": ".py",
      "mimetype": "text/x-python",
      "name": "python",
      "nbconvert_exporter": "python",
      "pygments_lexer": "ipython3",
      "version": "3.7.6"
    },
    "colab": {
      "provenance": []
    }
  },
  "nbformat": 4,
  "nbformat_minor": 0
}