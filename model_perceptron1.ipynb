{
 "cells": [
  {
   "cell_type": "code",
   "execution_count": 24,
   "metadata": {},
   "outputs": [],
   "source": [
    "# Utilizamos JupyterLab para simular un perceptron.\n",
    "# El perceptron tendrá 8 entradas de atributos y una salida.\n",
    "# Vamos a \"entrenar\" los pesos del perceptron para un dataset con 8 atributos y una clase.\n",
    "\n",
    "\n",
    "\n",
    "# Instalacion de paquetes y dependencias (esto debe ejecutarse en el terminal)\n",
    "# pip install keras\n",
    "# pip install tensorflow\n",
    "# pip install numpy\n",
    "# pip install scipy\n",
    "\n",
    "# De todas formas, si esta con ANACONDA, sugiero instalar tensorflow desde la aplicación anaconda. \n",
    "# Si numpy y scipy no están instaladas, hacerlo via anaconda."
   ]
  },
  {
   "cell_type": "code",
   "execution_count": 1,
   "metadata": {},
   "outputs": [
    {
     "name": "stderr",
     "output_type": "stream",
     "text": [
      "/Users/MAValle/anaconda3/lib/python3.7/site-packages/tensorflow/python/framework/dtypes.py:526: FutureWarning: Passing (type, 1) or '1type' as a synonym of type is deprecated; in a future version of numpy, it will be understood as (type, (1,)) / '(1,)type'.\n",
      "  _np_qint8 = np.dtype([(\"qint8\", np.int8, 1)])\n",
      "/Users/MAValle/anaconda3/lib/python3.7/site-packages/tensorflow/python/framework/dtypes.py:527: FutureWarning: Passing (type, 1) or '1type' as a synonym of type is deprecated; in a future version of numpy, it will be understood as (type, (1,)) / '(1,)type'.\n",
      "  _np_quint8 = np.dtype([(\"quint8\", np.uint8, 1)])\n",
      "/Users/MAValle/anaconda3/lib/python3.7/site-packages/tensorflow/python/framework/dtypes.py:528: FutureWarning: Passing (type, 1) or '1type' as a synonym of type is deprecated; in a future version of numpy, it will be understood as (type, (1,)) / '(1,)type'.\n",
      "  _np_qint16 = np.dtype([(\"qint16\", np.int16, 1)])\n",
      "/Users/MAValle/anaconda3/lib/python3.7/site-packages/tensorflow/python/framework/dtypes.py:529: FutureWarning: Passing (type, 1) or '1type' as a synonym of type is deprecated; in a future version of numpy, it will be understood as (type, (1,)) / '(1,)type'.\n",
      "  _np_quint16 = np.dtype([(\"quint16\", np.uint16, 1)])\n",
      "/Users/MAValle/anaconda3/lib/python3.7/site-packages/tensorflow/python/framework/dtypes.py:530: FutureWarning: Passing (type, 1) or '1type' as a synonym of type is deprecated; in a future version of numpy, it will be understood as (type, (1,)) / '(1,)type'.\n",
      "  _np_qint32 = np.dtype([(\"qint32\", np.int32, 1)])\n",
      "/Users/MAValle/anaconda3/lib/python3.7/site-packages/tensorflow/python/framework/dtypes.py:535: FutureWarning: Passing (type, 1) or '1type' as a synonym of type is deprecated; in a future version of numpy, it will be understood as (type, (1,)) / '(1,)type'.\n",
      "  np_resource = np.dtype([(\"resource\", np.ubyte, 1)])\n"
     ]
    }
   ],
   "source": [
    "# Carga de paquetes y dependencias\n",
    "from tensorflow.keras.models import Sequential\n",
    "from tensorflow.keras.layers import Dense\n",
    "import numpy as np"
   ]
  },
  {
   "cell_type": "code",
   "execution_count": 2,
   "metadata": {},
   "outputs": [],
   "source": [
    "# carga de los datos\n",
    "# https://www.kaggle.com/uciml/pima-indians-diabetes-database\n",
    "\n",
    "# Context:\n",
    "# This dataset is originally from the National Institute of Diabetes and Digestive and Kidney Diseases. \n",
    "# The objective of the dataset is to diagnostically predict whether or not a patient has diabetes, based on certain \n",
    "# diagnostic measurements included in the dataset. Several constraints were placed on the selection of these \n",
    "# instances from a larger database. In particular, all patients here are females at least 21 years old of Pima \n",
    "# Indian heritage.\n",
    "\n",
    "# Content:\n",
    "# The datasets consists of several medical predictor variables and one target variable, Outcome. Predictor \n",
    "# variables includes the number of pregnancies the patient has had, their BMI, insulin level, age, and so on.\n",
    "\n",
    "# Acknowledgements\n",
    "# Smith, J.W., Everhart, J.E., Dickson, W.C., Knowler, W.C., & Johannes, R.S. (1988). Using the ADAP learning \n",
    "# algorithm to forecast the onset of diabetes mellitus. In Proceedings of the Symposium on Computer Applications \n",
    "# and Medical Care (pp. 261--265). IEEE Computer Society Press.\n",
    "\n",
    "# Clase:\n",
    "# Y = {0,1} =  {sin diabetes, diabetes}\n",
    "\n",
    "#dataset = np.loadtxt('pima_dataset.csv', delimiter=',')\n",
    "dataset = np.genfromtxt(\"pima_dataset.csv\", delimiter=\",\", skip_header=1) # sin cargar header"
   ]
  },
  {
   "cell_type": "code",
   "execution_count": 3,
   "metadata": {},
   "outputs": [
    {
     "data": {
      "text/plain": [
       "array([[  6.   , 148.   ,  72.   , ...,   0.627,  50.   ,   1.   ],\n",
       "       [  1.   ,  85.   ,  66.   , ...,   0.351,  31.   ,   0.   ],\n",
       "       [  8.   , 183.   ,  64.   , ...,   0.672,  32.   ,   1.   ],\n",
       "       ...,\n",
       "       [  5.   , 121.   ,  72.   , ...,   0.245,  30.   ,   0.   ],\n",
       "       [  1.   , 126.   ,  60.   , ...,   0.349,  47.   ,   1.   ],\n",
       "       [  1.   ,  93.   ,  70.   , ...,   0.315,  23.   ,   0.   ]])"
      ]
     },
     "execution_count": 3,
     "metadata": {},
     "output_type": "execute_result"
    }
   ],
   "source": [
    "dataset"
   ]
  },
  {
   "cell_type": "code",
   "execution_count": 4,
   "metadata": {},
   "outputs": [],
   "source": [
    "# seleccionamos los atributos de entrada X  y la clase Y\n",
    "\n",
    "X = dataset[:, 0:8]\n",
    "Y = dataset[:, 8]"
   ]
  },
  {
   "cell_type": "code",
   "execution_count": 14,
   "metadata": {
    "scrolled": true
   },
   "outputs": [
    {
     "data": {
      "text/plain": [
       "array([[  6.   , 148.   ,  72.   , ...,  33.6  ,   0.627,  50.   ],\n",
       "       [  1.   ,  85.   ,  66.   , ...,  26.6  ,   0.351,  31.   ],\n",
       "       [  8.   , 183.   ,  64.   , ...,  23.3  ,   0.672,  32.   ],\n",
       "       ...,\n",
       "       [  5.   , 121.   ,  72.   , ...,  26.2  ,   0.245,  30.   ],\n",
       "       [  1.   , 126.   ,  60.   , ...,  30.1  ,   0.349,  47.   ],\n",
       "       [  1.   ,  93.   ,  70.   , ...,  30.4  ,   0.315,  23.   ]])"
      ]
     },
     "execution_count": 14,
     "metadata": {},
     "output_type": "execute_result"
    }
   ],
   "source": [
    "X"
   ]
  },
  {
   "cell_type": "code",
   "execution_count": 5,
   "metadata": {},
   "outputs": [],
   "source": [
    "# Ahora creamos el modelo y agregamos el perceptron, es cual es una Dense layer\n",
    "\n",
    "model = Sequential()\n",
    "\n",
    "#model.add(Dense())\n",
    "#from tensorflow.keras.activations import hard_sigmoid\n",
    "\n",
    "# Al inicializar model.add(Dense()) tendremos un problema!\n",
    "# KERAS no esta diseñado para crear perceptrones. KERAS nos obliga a definir una función de activación \n",
    "# que sea \"continua\" y ademas una \"inicializacion\" o metodo de optimizacion (lo veremos mas adelante)\n",
    "\n",
    "# Explicación más detallada\n",
    "# Para el perceptron, nosotros usamos la funcion sgn, que no es continua! (no es diferenciable), condición\n",
    "# que es necesaria para la optimizacion (por ejemplo, el gradient descent)\n",
    "# Recordemos que los pesos en un perceptron se ajustan \"empujándolos\" en la dirección correcta (Learning rule).\n",
    "# Pero en KERAS en en redes neuronales, esto se hace a través de una función de perdida que es diferenciable\n",
    "# (lo veremso mas adelante). Al minimizar este gradiente, el algoritmo encuentra la manera de ajustar \n",
    "# los pesos. Esto se denomina Stochastic gradient descent. O sea, en vez de empujar los pesos en la dirección\n",
    "# correcta, es como descender montañas por la pendiente más pronunciada.\n",
    "\n",
    "# Como no podemos usar la función sgn, utilizamos una versión continua, muy similar y que es diferenciable y se \n",
    "# llama sigmoide:\n",
    "\n",
    "# sig(t) = 1/(1+e^(-t))\n",
    "\n",
    "# por lo tanto, incializamos así:\n",
    "# model.add(Dense(units = 1, activation='hard_sigmoid'))\n"
   ]
  },
  {
   "cell_type": "code",
   "execution_count": 6,
   "metadata": {},
   "outputs": [
    {
     "name": "stdout",
     "output_type": "stream",
     "text": [
      "WARNING:tensorflow:From /Users/MAValle/anaconda3/lib/python3.7/site-packages/tensorflow/python/ops/resource_variable_ops.py:435: colocate_with (from tensorflow.python.framework.ops) is deprecated and will be removed in a future version.\n",
      "Instructions for updating:\n",
      "Colocations handled automatically by placer.\n"
     ]
    }
   ],
   "source": [
    "# Pero también decimos que el perceptron tendra 8 entradas (8 pesos)\n",
    "#model.add(Dense(1, input_shape=(8,), activation=hard_sigmoid, kernel_initializer='glorot_uniform'))\n",
    "model.add(Dense(1, input_shape=(8,), activation='hard_sigmoid', kernel_initializer='random_uniform'))\n"
   ]
  },
  {
   "cell_type": "code",
   "execution_count": 7,
   "metadata": {},
   "outputs": [],
   "source": [
    "# Ahora compilamos el modelo y lo inicializamos\n",
    "model.compile(loss='binary_crossentropy', optimizer='adam', metrics=['accuracy'])\n",
    "\n",
    "\n",
    "# Nota:\n",
    "# La funcion de perdida que se utiliza para poder ir ajustando los pesos es la binary cross entropy que es \n",
    "# que se utilzia por defecto en la matyoría de las aplicaciones de clasificación \n",
    "# (Chollet, F. (2017). Deep Learning with Python. New York, NY: Manning Publications.)\n",
    "# El optimizador Adam es una estensión del gradient descent para ir ajustando los pesos.\n",
    "\n"
   ]
  },
  {
   "cell_type": "code",
   "execution_count": 8,
   "metadata": {},
   "outputs": [
    {
     "name": "stdout",
     "output_type": "stream",
     "text": [
      "WARNING:tensorflow:From /Users/MAValle/anaconda3/lib/python3.7/site-packages/tensorflow/python/ops/math_ops.py:3066: to_int32 (from tensorflow.python.ops.math_ops) is deprecated and will be removed in a future version.\n",
      "Instructions for updating:\n",
      "Use tf.cast instead.\n"
     ]
    }
   ],
   "source": [
    "# hacemos fit de datos en este psudo perceptron (entrenamiento).\n",
    "# Presentamos los datos a nuestro pseudo perceptron. Esto le dice a Keras que comience el proceso de \n",
    "# entrenamiento.\n",
    "    \n",
    "history = model.fit(X, Y, epochs=225, batch_size=25, verbose=1, validation_split=0.2)\n",
    "\n",
    "# epochs = numero de iteraciones del proceso de aprendizaje optimizacion antes de parar el proceso de aprendizaje\n",
    "# batch_size = tamaño de las muestras durante cada iteracion\n",
    "# verbose = 1 lo dejamos en 1 para ver que va sucediendo\n",
    "# split = 0.3  tomamos un 20% de los datos como set de validacion para evitar el overfitting.\n"
   ]
  },
  {
   "cell_type": "code",
   "execution_count": null,
   "metadata": {},
   "outputs": [],
   "source": [
    "# Vemos que el accuracy logra superar ligeramente el 60%.\n",
    "\n",
    "# Nota: Accuracy es una medida de desempeño que mide la capacidad del clasificador (en este caso, del perceptron)\n",
    "# para clasificar correctamente si la instancia es diabética o no.\n",
    "\n",
    "# No es un problema de clasificacion facil. Pensemos que estamos tratando de clasificar con solo un\n",
    "# perceptron (lineal). A pesar de eso, los resultados son notables.\n",
    "\n",
    "# Hemos visto cómo usar Keras como crear un perceptron (o al menos simular uno). No podemos crear un perceptron\n",
    "# ideal con Keras porque utiliza una funcion de activacion no diferenciable. \n",
    "\n",
    "\n",
    "# Referencias adicionales\n",
    "# Ariosa, R. (2018, April 27). MrRobb/keras-zoo. Retrieved from https://github.com/MrRobb/keras-zoo/blob/master/P%20(Perceptron)/readme.md\n",
    "# Chollet, F. (2017). Deep Learning with Python. New York, NY: Manning Publications.\n",
    "# Rosenblatt, F. (1957). The Perceptron – a Perceiving and Recognizing Automaton. Retrieved from UMass website: https://blogs.umass.edu/brain-wars/files/2016/03/rosenblatt-1957.pdf\n",
    "# Zakaria, Y. (2016, November 23). Non-smooth and non-differentiable customized loss function tensorflow. Retrieved from https://stackoverflow.com/a/40758135"
   ]
  },
  {
   "cell_type": "code",
   "execution_count": 9,
   "metadata": {},
   "outputs": [
    {
     "data": {
      "text/plain": [
       "Text(0, 0.5, 'Accuracy')"
      ]
     },
     "execution_count": 9,
     "metadata": {},
     "output_type": "execute_result"
    },
    {
     "data": {
      "image/png": "[encoded data removed]",
      "text/plain": [
       "<Figure size 432x288 with 1 Axes>"
      ]
     },
     "metadata": {
      "needs_background": "light"
     },
     "output_type": "display_data"
    }
   ],
   "source": [
    "# Veamos cómo se desarrolla el accuracy en las iteraciones\n",
    "# https://stackoverflow.com/questions/61401114/neural-network-perceptron-visualizing-decision-boundary-as-a-hyperplane-wh\n",
    "\n",
    "import matplotlib.pyplot as plt #cargamos paquete para graficar\n",
    "\n",
    "epochs = range(len(history.epoch))  #creamos un vector rango de 0 a 255\n",
    "\n",
    "# Nota si inspeccionamos print(history.history) veremos que esta lista contiene:\n",
    "# loss, acc, val_loss, val_acc\n",
    "\n",
    "plt.figure()\n",
    "#plt.plot(epochs, history.history['accuracy'])\n",
    "plt.plot(epochs, history.history['acc'])\n",
    "plt.xlabel('Epochs')\n",
    "plt.ylabel('Accuracy')\n",
    "\n"
   ]
  },
  {
   "cell_type": "code",
   "execution_count": 10,
   "metadata": {},
   "outputs": [
    {
     "data": {
      "text/plain": [
       "Text(0, 0.5, 'Loss')"
      ]
     },
     "execution_count": 10,
     "metadata": {},
     "output_type": "execute_result"
    },
    {
     "data": {
      "image/png": "[encoded data removed]",
      "text/plain": [
       "<Figure size 432x288 with 1 Axes>"
      ]
     },
     "metadata": {
      "needs_background": "light"
     },
     "output_type": "display_data"
    }
   ],
   "source": [
    "# Veamos un plot de la funcion de perdida a traves de las iteraciones\n",
    "\n",
    "plt.figure()\n",
    "plt.plot(epochs, history.history['loss'])\n",
    "plt.xlabel('Epochs')\n",
    "plt.ylabel('Loss')"
   ]
  },
  {
   "cell_type": "code",
   "execution_count": 37,
   "metadata": {},
   "outputs": [],
   "source": [
    "# ¿podemos ver los pesos sinápticos finales?\n",
    "\n",
    "#extract weights and bias from model\n",
    "weights = model.layers[0].get_weights()[0]\n",
    "biases = model.layers[0].get_weights()[1]\n",
    "\n",
    "#w1 = weights[0][0] #a\n",
    "#w2 = weights[1][0] #b\n",
    "#w3 = weights[2][0] #c\n",
    "#b = biases[0]      #d"
   ]
  },
  {
   "cell_type": "code",
   "execution_count": 38,
   "metadata": {},
   "outputs": [
    {
     "data": {
      "text/plain": [
       "array([0.], dtype=float32)"
      ]
     },
     "execution_count": 38,
     "metadata": {},
     "output_type": "execute_result"
    }
   ],
   "source": [
    "print(biases)"
   ]
  },
  {
   "cell_type": "code",
   "execution_count": 43,
   "metadata": {},
   "outputs": [
    {
     "name": "stdout",
     "output_type": "stream",
     "text": [
      "[[-0.5204925 ]\n",
      " [-0.5555905 ]\n",
      " [-0.7249668 ]\n",
      " [ 0.04434514]\n",
      " [-0.01109201]\n",
      " [-0.44990337]\n",
      " [ 0.19209158]\n",
      " [-0.38743228]]\n"
     ]
    }
   ],
   "source": [
    "print(weights)"
   ]
  },
  {
   "cell_type": "code",
   "execution_count": 41,
   "metadata": {},
   "outputs": [
    {
     "data": {
      "text/plain": [
       "0.0"
      ]
     },
     "execution_count": 41,
     "metadata": {},
     "output_type": "execute_result"
    }
   ],
   "source": [
    "# Que interesante!  \n",
    "# De que manera se podrian interpretar estos pesos?"
   ]
  },
  {
   "cell_type": "code",
   "execution_count": null,
   "metadata": {},
   "outputs": [],
   "source": []
  }
 ],
 "metadata": {
  "kernelspec": {
   "display_name": "Python 3",
   "language": "python",
   "name": "python3"
  },
  "language_info": {
   "codemirror_mode": {
    "name": "ipython",
    "version": 3
   },
   "file_extension": ".py",
   "mimetype": "text/x-python",
   "name": "python",
   "nbconvert_exporter": "python",
   "pygments_lexer": "ipython3",
   "version": "3.7.6"
  }
 },
 "nbformat": 4,
 "nbformat_minor": 4
}
