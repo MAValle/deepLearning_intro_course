{
 "cells": [
  {
   "cell_type": "code",
   "execution_count": 1,
   "metadata": {},
   "outputs": [],
   "source": [
    "# En model_perceptron_byhand.ipynb programamos un perceptron \"a mano\" para entender que pasa por dentro de una red neuronal.\n",
    "# Entender esto, nos deja en mejor forma para entender modelos mas complejos de redes neuronales.\n"
   ]
  },
  {
   "cell_type": "code",
   "execution_count": 1,
   "metadata": {},
   "outputs": [
    {
     "name": "stdout",
     "output_type": "stream",
     "text": [
      "[[-5.32783010e-01 -1.64847081e+00]\n",
      " [-5.50226372e-01 -1.16166152e+01]\n",
      " [ 1.38862276e+00 -1.43580590e+00]\n",
      " [ 1.37033956e+00 -6.40220712e-01]\n",
      " [-8.80606388e-01 -9.70946740e+00]\n",
      " [-2.22746033e+00 -1.01019963e+01]\n",
      " [-3.83660791e+00 -9.36311253e+00]\n",
      " [-2.61500332e-01 -1.80587922e+00]\n",
      " [ 1.18267985e+00 -7.12729660e-01]\n",
      " [-8.91135194e-01 -8.05385981e+00]\n",
      " [-3.42244116e+00 -9.43290706e+00]\n",
      " [-3.24159714e+00 -7.66373146e+00]\n",
      " [-8.14411765e-02 -1.76413571e+00]\n",
      " [ 2.82215236e+00 -1.76342807e+00]\n",
      " [ 1.90632766e+00 -2.43499725e+00]\n",
      " [ 1.12041042e+00 -2.18272234e+00]\n",
      " [ 4.12652646e-01 -9.79048994e-01]\n",
      " [-1.61986103e+00 -9.03645942e+00]\n",
      " [ 1.24676117e+00 -7.71255216e-01]\n",
      " [-2.01362140e+00 -1.04568119e+01]\n",
      " [-6.48510353e-01 -9.47763290e+00]\n",
      " [ 1.90763236e+00 -6.71105011e-01]\n",
      " [-7.57264801e-01 -9.34864598e+00]\n",
      " [ 2.18263294e+00 -9.04732063e-01]\n",
      " [ 1.53216357e+00 -1.64513848e+00]\n",
      " [ 1.12431439e+00 -4.99224897e-01]\n",
      " [ 1.19440189e+00 -1.98887161e+00]\n",
      " [-2.43377785e+00 -7.81776395e+00]\n",
      " [ 3.50550070e-01 -1.66237773e+00]\n",
      " [-7.52076469e-01 -1.07890279e+01]\n",
      " [ 8.37695007e-01  2.82956613e-01]\n",
      " [ 1.86418091e+00 -6.31399082e-01]\n",
      " [ 2.07793008e+00 -1.63900470e+00]\n",
      " [-3.16320932e+00 -1.03653101e+01]\n",
      " [ 2.09100144e+00  1.43914678e-01]\n",
      " [-1.51976189e+00 -1.16545682e+01]\n",
      " [ 1.57354644e+00 -2.17601731e+00]\n",
      " [-1.23648559e+00 -1.06552971e+01]\n",
      " [-2.89251066e-01  6.01148326e-01]\n",
      " [ 2.60959954e-01 -9.83393657e+00]\n",
      " [ 1.39785819e+00 -1.10283073e+01]\n",
      " [-8.24930811e-01 -8.13917717e+00]\n",
      " [-1.63748148e+00  6.23742032e-01]\n",
      " [-1.76520757e+00 -9.11304244e+00]\n",
      " [ 5.01485985e-01 -2.61100847e+00]\n",
      " [ 6.65365354e-01  9.58359846e-01]\n",
      " [-1.05318015e+00 -1.14330184e+01]\n",
      " [ 6.02120538e-01 -9.93193935e+00]\n",
      " [-8.79142411e-01 -8.88688615e+00]\n",
      " [ 3.69806196e-01 -8.65765515e-02]\n",
      " [-1.94963972e+00 -1.07284683e+01]\n",
      " [ 1.05673513e+00 -2.69907047e+00]\n",
      " [ 2.16363071e+00 -8.46207098e+00]\n",
      " [-4.14163801e-01 -8.17085180e+00]\n",
      " [-4.78938837e-02 -1.19422587e+01]\n",
      " [-1.47904469e+00 -9.56255496e+00]\n",
      " [-1.01070298e+00 -1.05196934e+01]\n",
      " [-1.94651523e+00 -8.94765931e+00]\n",
      " [-2.76985304e+00 -9.74583819e+00]\n",
      " [-2.15069401e+00 -9.38937963e+00]\n",
      " [ 8.09502872e-01 -2.80255275e+00]\n",
      " [ 2.56504894e+00 -2.90121881e+00]\n",
      " [-1.21184474e-01 -1.40749481e+00]\n",
      " [-1.60928556e+00 -8.67191304e+00]\n",
      " [-2.15303534e-01 -1.74140074e+00]\n",
      " [-1.57009042e+00 -1.00242035e+01]\n",
      " [ 1.37655575e+00 -4.80766013e-01]\n",
      " [-1.99166131e+00 -1.09928863e+01]\n",
      " [ 1.75487048e+00 -1.67100033e+00]\n",
      " [ 1.02744330e+00 -3.01614038e+00]\n",
      " [-1.62140407e+00 -1.00697216e+01]\n",
      " [ 5.16310310e-01 -7.53462894e-01]\n",
      " [ 6.10546511e-01 -2.21333060e+00]\n",
      " [ 1.00754280e-01 -2.18851103e+00]\n",
      " [ 8.11524834e-01 -1.70866587e+00]\n",
      " [-1.67455485e+00 -9.55966966e+00]\n",
      " [ 2.07284370e+00 -2.05152586e+00]\n",
      " [-1.06568358e+00 -8.00444431e+00]\n",
      " [ 2.39559403e+00 -9.75791345e-01]\n",
      " [ 2.00207060e+00 -4.97263283e-01]\n",
      " [ 3.02306437e+00 -2.41788829e+00]\n",
      " [-3.90196076e-01 -3.42042542e+00]\n",
      " [-9.49674615e-01 -9.46539680e-01]\n",
      " [ 1.34595337e+00  7.06042557e-01]\n",
      " [-6.38194139e-01 -9.43110624e+00]\n",
      " [ 9.06891914e-01 -1.61345206e+00]\n",
      " [-1.49987326e+00 -1.23210622e+00]\n",
      " [-1.27170922e-01 -1.97912985e+00]\n",
      " [ 6.61771687e-01 -2.71105436e+00]\n",
      " [-2.46989189e+00 -9.02672818e+00]\n",
      " [-2.20211525e+00 -9.64573124e+00]\n",
      " [ 1.05336305e+00 -1.12650924e+00]\n",
      " [ 3.93298869e-01 -9.86498477e-01]\n",
      " [ 1.63390085e+00 -8.48880402e-01]\n",
      " [-4.40962962e-01 -8.15573102e+00]\n",
      " [-7.29590706e-01 -8.70943181e+00]\n",
      " [-2.83669071e+00 -8.59284788e+00]\n",
      " [ 5.30737681e+00 -4.31375226e-01]\n",
      " [ 9.90932790e-01 -1.43980862e+00]\n",
      " [-1.28009171e+00 -8.91200516e+00]\n",
      " [-1.72038426e+00 -9.62042071e+00]\n",
      " [-1.68069426e+00 -9.41166190e+00]\n",
      " [ 2.13334628e+00 -3.46263782e-01]\n",
      " [-3.24949022e-01 -3.08480293e-01]\n",
      " [-7.53151890e-01 -1.03678998e+01]\n",
      " [ 2.60159789e+00 -3.37869021e+00]\n",
      " [-2.29717776e-01 -9.88162251e+00]\n",
      " [-1.40024432e+00 -1.00045583e+01]\n",
      " [-1.63586502e+00 -9.72946860e+00]\n",
      " [-7.41560748e-01 -2.00299703e+00]\n",
      " [-7.01075210e-01 -7.07465695e+00]\n",
      " [ 1.08288221e+00 -5.94951156e-01]\n",
      " [-1.15501512e-01 -1.13346390e+01]\n",
      " [-2.39095179e+00 -1.04359334e+01]\n",
      " [-3.10495944e+00 -8.38861021e+00]\n",
      " [-1.56261177e+00 -7.13854024e+00]\n",
      " [-4.07252389e+00 -9.57750062e+00]\n",
      " [-1.30018898e+00 -8.24772408e+00]\n",
      " [-4.90538865e-01 -1.05249244e+01]\n",
      " [ 1.40959572e+00 -1.62390046e+00]\n",
      " [-1.70418884e+00 -1.09352200e+01]\n",
      " [ 1.55495238e-01 -8.20269545e+00]\n",
      " [-1.47252136e+00 -8.41062790e+00]\n",
      " [-1.97784850e-01 -2.03634408e+00]\n",
      " [-5.49094079e-01 -8.74918828e+00]\n",
      " [-1.59939272e+00 -6.76691575e+00]\n",
      " [-2.03531849e+00 -1.00940607e+01]\n",
      " [-8.06521224e-01 -1.37402369e+00]\n",
      " [ 1.40306083e+00 -2.69267265e-01]\n",
      " [-6.05043919e-02 -9.07609341e+00]\n",
      " [-1.96601474e+00 -8.59689627e+00]\n",
      " [ 2.16703063e+00 -1.58150634e+00]\n",
      " [-1.13128258e+00 -1.01218094e+00]\n",
      " [-1.61012617e-01 -2.00915932e+00]\n",
      " [-1.32165071e+00 -9.13917176e+00]\n",
      " [-2.21284571e-01  2.18426780e-03]\n",
      " [ 4.89265190e-01 -2.36418370e+00]\n",
      " [ 8.25539221e-01 -7.17158260e-01]\n",
      " [-2.06536645e+00 -9.47199885e+00]\n",
      " [ 3.43955298e-01 -8.95817959e-01]\n",
      " [-2.90411030e+00 -1.16682599e+01]\n",
      " [ 9.85268362e-01 -2.27407434e+00]\n",
      " [-2.39394095e+00 -8.86022552e+00]\n",
      " [-2.77238005e+00 -9.64264532e+00]\n",
      " [ 6.46997402e-01 -9.01875100e+00]\n",
      " [-7.14090721e-01 -1.01074430e+01]\n",
      " [ 2.60170010e-01 -1.04160339e+00]\n",
      " [-2.35258742e+00 -9.02745988e+00]\n",
      " [ 1.69068204e+00 -5.21923247e-01]\n",
      " [ 6.95554065e-01 -7.28206672e-01]]\n"
     ]
    }
   ],
   "source": [
    "# Primero vamos a crear una data artificial \n",
    "import numpy as np\n",
    "from sklearn import datasets\n",
    "\n",
    "\n",
    "# aqui creamos un set de 150 instancas con 2 features, y una variable clase \"y\". La gracia de este set de datos simulados es que\n",
    "# lo hacemos de tla forma que las instancias correspondan a dos cluster bien definidos.\n",
    "X, y = datasets.make_blobs(n_samples=150,n_features=2, centers=2, cluster_std=1.05, random_state=2)\n",
    "\n",
    "print(X)\n",
    "# print(y)"
   ]
  },
  {
   "cell_type": "code",
   "execution_count": 2,
   "metadata": {},
   "outputs": [
    {
     "data": {
      "text/plain": [
       "Text(0.5, 1.0, 'Problema de clasificacion simulado')"
      ]
     },
     "execution_count": 2,
     "metadata": {},
     "output_type": "execute_result"
    },
    {
     "data": {
      "image/png": "[encoded data removed]",
      "text/plain": [
       "<Figure size 720x576 with 1 Axes>"
      ]
     },
     "metadata": {
      "needs_background": "light"
     },
     "output_type": "display_data"
    }
   ],
   "source": [
    "# Grafiquemos las instancias en el plano cartesiano, ya que tenemos solo 2 features.\n",
    "import matplotlib.pyplot as plt #cargamos paquete para graficar\n",
    "\n",
    "fig = plt.figure(figsize=(10,8))\n",
    "plt.plot(X[:, 0][y == 0], X[:, 1][y == 0], 'r^') \n",
    "plt.plot(X[:, 0][y == 1], X[:, 1][y == 1], 'bs') \n",
    "plt.xlabel(\"feature 1\")\n",
    "plt.ylabel(\"feature 2\")\n",
    "plt.title('Problema de clasificacion simulado')\n",
    "\n"
   ]
  },
  {
   "cell_type": "code",
   "execution_count": 3,
   "metadata": {},
   "outputs": [],
   "source": [
    "# definamos nuestra funcion de activacion, que es simplemente z>=0, g(z) = 1,   y   si z<0, g(z) = 0\n",
    "\n",
    "def step_func(z):\n",
    " return 1.0 if (z > 0) else 0.0"
   ]
  },
  {
   "cell_type": "code",
   "execution_count": 6,
   "metadata": {},
   "outputs": [],
   "source": [
    "# ahora definamos el perceptron.\n",
    "# recordemos que los pesos se actualizan de acuerdo a la regla:\n",
    "\n",
    "# theta_j = theta_j + \\nu(y_i - h_theta(x_i))*x_i     donde theta son los pesos, y es la output, y x es la entrada.\n",
    "\n",
    "def perceptron(X, y, lr, epochs):\n",
    "    # X --> Inputs.\n",
    "    # y --> la clase.\n",
    "    # lr --> learning rate.\n",
    "    # epochs --> numero de iteraciones.\n",
    "    # m-> numero de instancias de entrenamiento  # n-> numero de veatures\n",
    "    m, n = X.shape\n",
    "    \n",
    "    # Inicializacion de parametros theta (pesos sinapticos) a cero. # +1 in n+1 for the bias term.\n",
    "    theta = np.zeros((n+1,1))\n",
    "    \n",
    "    # Lista vacia para contar cuantas instancias estan mal clasificadas en cada iteracion. \n",
    "    n_miss_list = []\n",
    "    \n",
    "    # Entreanamiento.\n",
    "    for epoch in range(epochs):\n",
    "        # variable a almacenar #misclassified.\n",
    "        n_miss = 0\n",
    "        # looping para cada instancia.\n",
    "        for idx, x_i in enumerate(X):   # enumerate da The *count* of the current iteration & *value* of the item at the current iteration\n",
    "            # Insertar  1 para el bias, X0 = 1.\n",
    "            x_i = np.insert(x_i, 0, 1).reshape(-1,1)  # fabrica una columan nueva con puros 1s para el bias.\n",
    "            # aqui calculamos el output. Notar que la funcion es un escalon (step)\n",
    "            y_hat = step_func(np.dot(x_i.T, theta))\n",
    "            # Updating if the example is misclassified.\n",
    "            if (np.squeeze(y_hat) - y[idx]) != 0: \n",
    "                theta += lr*((y[idx] - y_hat)*x_i)  # LA REGLA DE ENTRENAMIENTO!\n",
    "                # incremento por 1 de los \n",
    "                n_miss += 1\n",
    "        # anexamos el numero de malclasificados en cada iteracion \n",
    "        n_miss_list.append(n_miss)\n",
    "    return theta, n_miss_list\n",
    "\n",
    "\n",
    "\n"
   ]
  },
  {
   "cell_type": "code",
   "execution_count": 10,
   "metadata": {},
   "outputs": [],
   "source": [
    "# Y ademas vamos a definir una funcion par agraficar el decision boundary.\n",
    "\n",
    "def plot_decision_boundary(X, theta):\n",
    "    # X --> Inputs\n",
    "    # theta --> parametros pesos\n",
    "    # decison bpundari es y=mx+c\n",
    "    # Igualamos mx+c = theta0.X0 + theta1.X1 + theta2.X2 # al resolver encntramos la pendiente m y la constante c.\n",
    "    x1 = [min(X[:,0]), max(X[:,0])]\n",
    "    m = -theta[1]/theta[2]\n",
    "    c = -theta[0]/theta[2]\n",
    "    x2 = m*x1 + c\n",
    "    # Plotting\n",
    "    fig = plt.figure(figsize=(10,8)) \n",
    "    plt.plot(X[:, 0][y==0], X[:, 1][y==0], \"r^\") \n",
    "    plt.plot(X[:, 0][y==1], X[:, 1][y==1], \"bs\") \n",
    "    plt.xlabel(\"feature 1\")\n",
    "    plt.ylabel(\"feature 2\") \n",
    "    plt.title('Perceptron')\n",
    "    plt.plot(x1, x2, 'y-')\n",
    "\n",
    "\n"
   ]
  },
  {
   "cell_type": "code",
   "execution_count": 11,
   "metadata": {},
   "outputs": [
    {
     "data": {
      "image/png": "[encoded data removed]",
      "text/plain": [
       "<Figure size 720x576 with 1 Axes>"
      ]
     },
     "metadata": {
      "needs_background": "light"
     },
     "output_type": "display_data"
    }
   ],
   "source": [
    "# ahora probemos con nuetros set de datos simulados X y clases y.\n",
    "\n",
    "theta, miss_l = perceptron(X, y, 0.5, 100)\n",
    "plot_decision_boundary(X, theta)"
   ]
  },
  {
   "cell_type": "code",
   "execution_count": 13,
   "metadata": {},
   "outputs": [
    {
     "name": "stdout",
     "output_type": "stream",
     "text": [
      "[[5.        ]\n",
      " [0.7442977 ]\n",
      " [0.84692166]]\n"
     ]
    }
   ],
   "source": [
    "# veamos los pesos:\n",
    "\n",
    "#print(miss_l)\n",
    "print(theta)   contante o bias, w1 y w2."
   ]
  },
  {
   "cell_type": "code",
   "execution_count": null,
   "metadata": {},
   "outputs": [],
   "source": []
  },
  {
   "cell_type": "code",
   "execution_count": null,
   "metadata": {},
   "outputs": [],
   "source": []
  },
  {
   "cell_type": "code",
   "execution_count": null,
   "metadata": {},
   "outputs": [],
   "source": []
  },
  {
   "cell_type": "code",
   "execution_count": null,
   "metadata": {},
   "outputs": [],
   "source": []
  },
  {
   "cell_type": "code",
   "execution_count": 83,
   "metadata": {},
   "outputs": [],
   "source": [
    "# pruebas\n",
    "m, n = X.shape\n",
    "lr = 0.5\n",
    "epochs = 100\n",
    "\n",
    "# pesos\n",
    "theta = np.zeros((n+1,1))\n",
    "\n",
    "    "
   ]
  },
  {
   "cell_type": "code",
   "execution_count": 36,
   "metadata": {},
   "outputs": [
    {
     "name": "stdout",
     "output_type": "stream",
     "text": [
      "<enumerate object at 0x11e9a9f00>\n"
     ]
    }
   ],
   "source": [
    "#print(np.zeros((3,1)))\n",
    "#print(theta)\n",
    "b = enumerate(X)\n",
    "print(b)"
   ]
  },
  {
   "cell_type": "code",
   "execution_count": 84,
   "metadata": {},
   "outputs": [
    {
     "name": "stdout",
     "output_type": "stream",
     "text": [
      "     theta0    theta1    theta2\n",
      "0       0.5 -0.266392 -0.824235\n",
      "1       0.0  0.008722  4.984072\n",
      "2       0.5  0.703033  4.266169\n",
      "3       1.0  1.388203  3.946059\n",
      "4       1.0  1.388203  3.946059\n",
      "..      ...       ...       ...\n",
      "145     5.0  0.744298  0.846922\n",
      "146     5.0  0.744298  0.846922\n",
      "147     5.0  0.744298  0.846922\n",
      "148     5.0  0.744298  0.846922\n",
      "149     5.0  0.744298  0.846922\n",
      "\n",
      "[150 rows x 3 columns]\n"
     ]
    }
   ],
   "source": [
    "import pandas as pd\n",
    "df = pd.DataFrame(columns = ['theta0', 'theta1', 'theta2'])\n",
    "\n",
    "for idx, x_i in enumerate(X):\n",
    "    #print(idx)\n",
    "    #print(x_i)\n",
    "    #xx_i = np.insert(x_i, 0, 1)     # formato [ 1.         -0.53278301 -1.64847081]    \n",
    "    #print(xx_i)\n",
    "    xx_i = np.insert(x_i, 0, 1).reshape(-1,1) # formato [[ 1.        ] [-0.53278301] [-1.64847081]]   (convertimos el array de shape (150,3) en 150 bloques de )\n",
    "    #print(xx_i)\n",
    "    y_hat = step_func(np.dot(xx_i.T, theta))\n",
    "    #print(y_hat)\n",
    "    #print(np.squeeze(y_hat) - y[idx])\n",
    "    if (np.squeeze(y_hat) - y[idx]) != 0: \n",
    "                theta += lr*((y[idx] - y_hat)*xx_i) \n",
    "    #print(theta)\n",
    "    #print(theta[1])\n",
    "    df = df.append({'theta0' : float(theta[0]), 'theta1' : float(theta[1]), 'theta2' : float(theta[2]) }, ignore_index = True)\n",
    "\n",
    "print(df)\n",
    "#type(float( theta[1]))\n",
    "\n"
   ]
  },
  {
   "cell_type": "code",
   "execution_count": 88,
   "metadata": {},
   "outputs": [
    {
     "name": "stdout",
     "output_type": "stream",
     "text": [
      "     theta0    theta1    theta2  iter\n",
      "0       0.5 -0.266392 -0.824235     1\n",
      "1       0.0  0.008722  4.984072     2\n",
      "2       0.5  0.703033  4.266169     3\n",
      "3       1.0  1.388203  3.946059     4\n",
      "4       1.0  1.388203  3.946059     5\n",
      "..      ...       ...       ...   ...\n",
      "145     5.0  0.744298  0.846922   146\n",
      "146     5.0  0.744298  0.846922   147\n",
      "147     5.0  0.744298  0.846922   148\n",
      "148     5.0  0.744298  0.846922   149\n",
      "149     5.0  0.744298  0.846922   150\n",
      "\n",
      "[150 rows x 4 columns]\n"
     ]
    }
   ],
   "source": [
    "n_list = list(range(1, 151))\n",
    "df['iter'] = n_list\n",
    "print(df)"
   ]
  },
  {
   "cell_type": "code",
   "execution_count": 89,
   "metadata": {},
   "outputs": [
    {
     "data": {
      "text/plain": [
       "<AxesSubplot:xlabel='iter'>"
      ]
     },
     "execution_count": 89,
     "metadata": {},
     "output_type": "execute_result"
    },
    {
     "data": {
      "image/png": "[encoded data removed]",
      "text/plain": [
       "<Figure size 720x720 with 1 Axes>"
      ]
     },
     "metadata": {
      "needs_background": "light"
     },
     "output_type": "display_data"
    }
   ],
   "source": [
    "# grafiquemos la evolucion de los pesos\n",
    "\n",
    "import matplotlib.pyplot as plt\n",
    "\n",
    "\n",
    "df.plot(x=\"iter\" , y=[\"theta0\", \"theta1\", \"theta2\"], kind=\"line\", figsize=(10, 10))\n",
    "  \n"
   ]
  },
  {
   "cell_type": "code",
   "execution_count": 69,
   "metadata": {},
   "outputs": [
    {
     "name": "stdout",
     "output_type": "stream",
     "text": [
      "[0.84692166]\n"
     ]
    }
   ],
   "source": [
    "#type(theta)  # numpy.ndarray\n",
    "#theta.ndim  #2\n",
    "#theta.shape # (3, 1)\n",
    "print(theta[2])\n",
    "\n"
   ]
  },
  {
   "cell_type": "code",
   "execution_count": 59,
   "metadata": {},
   "outputs": [
    {
     "data": {
      "text/plain": [
       "array([[[ 1,  2,  3],\n",
       "        [ 4,  5,  6]],\n",
       "\n",
       "       [[ 7,  8,  9],\n",
       "        [10, 11, 12]]])"
      ]
     },
     "execution_count": 59,
     "metadata": {},
     "output_type": "execute_result"
    }
   ],
   "source": [
    "#np.array([[1,2,3,4,5], [6,7,8,9,10]])\n",
    "np.array([[[1, 2, 3], [4, 5, 6]], [[7, 8, 9], [10, 11, 12]]])"
   ]
  },
  {
   "cell_type": "code",
   "execution_count": null,
   "metadata": {},
   "outputs": [],
   "source": []
  }
 ],
 "metadata": {
  "kernelspec": {
   "display_name": "Python 3",
   "language": "python",
   "name": "python3"
  },
  "language_info": {
   "codemirror_mode": {
    "name": "ipython",
    "version": 3
   },
   "file_extension": ".py",
   "mimetype": "text/x-python",
   "name": "python",
   "nbconvert_exporter": "python",
   "pygments_lexer": "ipython3",
   "version": "3.7.1"
  }
 },
 "nbformat": 4,
 "nbformat_minor": 5
}
