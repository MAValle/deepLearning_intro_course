{
 "cells": [
  {
   "cell_type": "code",
   "execution_count": 1,
   "metadata": {},
   "outputs": [],
   "source": [
    "# Valores de las neuronas de entrada x1 y x2\n",
    "\n",
    "import numpy as np\n",
    "\n",
    "input_data = np.array([0, 3])"
   ]
  },
  {
   "cell_type": "code",
   "execution_count": 2,
   "metadata": {},
   "outputs": [],
   "source": [
    "# creamos diccionario para los pesos son:\n",
    "\n",
    "weights_0 = {'node_0': [2, 1],\n",
    "             'node_1': [1, 2],\n",
    "             'output': [1, 1]\n",
    "            }"
   ]
  },
  {
   "cell_type": "code",
   "execution_count": 3,
   "metadata": {},
   "outputs": [],
   "source": [
    "# valor real de la salida\n",
    "target_actual = 3"
   ]
  },
  {
   "cell_type": "code",
   "execution_count": 4,
   "metadata": {},
   "outputs": [],
   "source": [
    "# cargemos nuestra funcion predict_with_network para calcular la prediccion.\n",
    "\n",
    "def predict_with_network(input_data_row, weights):\n",
    "\n",
    "    # Calcular valor node 0 \n",
    "    node_0_input = (input_data_row * weights['node_0']).sum()\n",
    "    node_0_output = relu(node_0_input)\n",
    "\n",
    "    # Calcular valor  node 1 \n",
    "    node_1_input = (input_data_row * weights['node_1']).sum()\n",
    "    node_1_output = relu(node_1_input)\n",
    "\n",
    "    # Poner valores de los nodos en un array que se llame: hidden_layer_outputs\n",
    "    hidden_layer_outputs = np.array([node_0_output, node_1_output])\n",
    "    \n",
    "    # Calcular la salida del modelo\n",
    "    input_to_final_layer = np.array([node_0_output, node_1_output])\n",
    "    model_output = (hidden_layer_outputs * weights['output']).sum()\n",
    "    \n",
    "    # entregar  el valor final.\n",
    "    return(model_output)\n",
    "\n",
    "\n",
    "# tambien la funcion relu:\n",
    "\n",
    "def relu(input):\n",
    "    output = max(0, input)\n",
    "    # salida\n",
    "    return(output)"
   ]
  },
  {
   "cell_type": "code",
   "execution_count": 5,
   "metadata": {},
   "outputs": [
    {
     "data": {
      "text/plain": [
       "9"
      ]
     },
     "execution_count": 5,
     "metadata": {},
     "output_type": "execute_result"
    }
   ],
   "source": [
    "# ahora hagamos la prediccion\n",
    "\n",
    "model_output_0 = predict_with_network(input_data, weights_0)\n",
    "model_output_0 "
   ]
  },
  {
   "cell_type": "code",
   "execution_count": 6,
   "metadata": {},
   "outputs": [
    {
     "data": {
      "text/plain": [
       "6"
      ]
     },
     "execution_count": 6,
     "metadata": {},
     "output_type": "execute_result"
    }
   ],
   "source": [
    "# calcular el error\n",
    "\n",
    "error_0 = model_output_0 - target_actual\n",
    "error_0"
   ]
  },
  {
   "cell_type": "code",
   "execution_count": null,
   "metadata": {},
   "outputs": [],
   "source": [
    "########\n"
   ]
  },
  {
   "cell_type": "code",
   "execution_count": null,
   "metadata": {},
   "outputs": [],
   "source": [
    "# Ahora vamos a modificar un poco los pesos\n",
    "# ¿cuento tienen que ser lo pesos para una error cero?\n",
    "\n",
    "weights_1 = {'node_0': [X, X],\n",
    "             'node_1': [X, X],\n",
    "             'output': [X, X]\n",
    "            }\n",
    "\n",
    "\n"
   ]
  },
  {
   "cell_type": "code",
   "execution_count": null,
   "metadata": {},
   "outputs": [],
   "source": [
    "# volvemos a hacer la prediccion\n",
    "\n",
    "model_output_1 = predict_with_network(input_data, weights_1)"
   ]
  },
  {
   "cell_type": "code",
   "execution_count": null,
   "metadata": {},
   "outputs": [],
   "source": [
    "# volvemos a calcular el error\n",
    "\n",
    "error_1 = model_output_1 - target_actual"
   ]
  }
 ],
 "metadata": {
  "kernelspec": {
   "display_name": "Python 3",
   "language": "python",
   "name": "python3"
  },
  "language_info": {
   "codemirror_mode": {
    "name": "ipython",
    "version": 3
   },
   "file_extension": ".py",
   "mimetype": "text/x-python",
   "name": "python",
   "nbconvert_exporter": "python",
   "pygments_lexer": "ipython3",
   "version": "3.7.1"
  }
 },
 "nbformat": 4,
 "nbformat_minor": 5
}
