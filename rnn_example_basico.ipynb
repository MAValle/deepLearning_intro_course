{
 "cells": [
  {
   "cell_type": "code",
   "execution_count": 1,
   "id": "viral-jungle",
   "metadata": {},
   "outputs": [
    {
     "name": "stderr",
     "output_type": "stream",
     "text": [
      "Using TensorFlow backend.\n",
      "/Users/MAValle/anaconda3/lib/python3.7/site-packages/tensorflow/python/framework/dtypes.py:526: FutureWarning: Passing (type, 1) or '1type' as a synonym of type is deprecated; in a future version of numpy, it will be understood as (type, (1,)) / '(1,)type'.\n",
      "  _np_qint8 = np.dtype([(\"qint8\", np.int8, 1)])\n",
      "/Users/MAValle/anaconda3/lib/python3.7/site-packages/tensorflow/python/framework/dtypes.py:527: FutureWarning: Passing (type, 1) or '1type' as a synonym of type is deprecated; in a future version of numpy, it will be understood as (type, (1,)) / '(1,)type'.\n",
      "  _np_quint8 = np.dtype([(\"quint8\", np.uint8, 1)])\n",
      "/Users/MAValle/anaconda3/lib/python3.7/site-packages/tensorflow/python/framework/dtypes.py:528: FutureWarning: Passing (type, 1) or '1type' as a synonym of type is deprecated; in a future version of numpy, it will be understood as (type, (1,)) / '(1,)type'.\n",
      "  _np_qint16 = np.dtype([(\"qint16\", np.int16, 1)])\n",
      "/Users/MAValle/anaconda3/lib/python3.7/site-packages/tensorflow/python/framework/dtypes.py:529: FutureWarning: Passing (type, 1) or '1type' as a synonym of type is deprecated; in a future version of numpy, it will be understood as (type, (1,)) / '(1,)type'.\n",
      "  _np_quint16 = np.dtype([(\"quint16\", np.uint16, 1)])\n",
      "/Users/MAValle/anaconda3/lib/python3.7/site-packages/tensorflow/python/framework/dtypes.py:530: FutureWarning: Passing (type, 1) or '1type' as a synonym of type is deprecated; in a future version of numpy, it will be understood as (type, (1,)) / '(1,)type'.\n",
      "  _np_qint32 = np.dtype([(\"qint32\", np.int32, 1)])\n",
      "/Users/MAValle/anaconda3/lib/python3.7/site-packages/tensorflow/python/framework/dtypes.py:535: FutureWarning: Passing (type, 1) or '1type' as a synonym of type is deprecated; in a future version of numpy, it will be understood as (type, (1,)) / '(1,)type'.\n",
      "  np_resource = np.dtype([(\"resource\", np.ubyte, 1)])\n"
     ]
    }
   ],
   "source": [
    "# veamos un ejemplo de RNN por partes para entender mejor que pasa.\n",
    "\n",
    "\n",
    "from pandas import read_csv\n",
    "import numpy as np\n",
    "from keras.models import Sequential\n",
    "from keras.layers import Dense, SimpleRNN\n",
    "from sklearn.preprocessing import MinMaxScaler\n",
    "from sklearn.metrics import mean_squared_error\n",
    "import math\n",
    "import matplotlib.pyplot as plt\n",
    "\n"
   ]
  },
  {
   "cell_type": "code",
   "execution_count": 3,
   "id": "inner-adelaide",
   "metadata": {},
   "outputs": [],
   "source": [
    "# definamos el modelo\n",
    "\n",
    "model = Sequential() # inicializo el modelo \n",
    "\n",
    "# creamos una capa recurrente con 2 neuronas escondidas. El input shape a esta capa es una array de 3 entradas (3X1)\n",
    "# y utilizaremos una funcion activacion linear solamente.\n",
    "model.add(SimpleRNN(2, input_shape = (3,1), activation = 'linear' ))\n",
    "\n",
    "# agregamos una capa densa clasica que tiene 1 salida y funcion de activacion lineal.\n",
    "model.add(Dense(units = 1, activation = 'linear' ))\n",
    "\n",
    "model.compile(loss='mean_squared_error', optimizer='adam')\n",
    "    \n",
    "    "
   ]
  },
  {
   "cell_type": "code",
   "execution_count": 4,
   "id": "surrounded-arena",
   "metadata": {},
   "outputs": [
    {
     "name": "stdout",
     "output_type": "stream",
     "text": [
      "wx =  [[0.68826926 0.9853822 ]]  wh =  [[-0.7257256 -0.6879843]\n",
      " [-0.6879843  0.7257256]]  bh =  [0. 0.]  wy = [[0.74372923]\n",
      " [0.08650351]] by =  [0.]\n"
     ]
    }
   ],
   "source": [
    "# veamos los pesos. Por defecto se inicializan en forma random.\n",
    "wx = model.get_weights()[0]\n",
    "wh = model.get_weights()[1]\n",
    "bh = model.get_weights()[2] # bias\n",
    "wy = model.get_weights()[3]\n",
    "by = model.get_weights()[4] # bias\n",
    "\n",
    "print('wx = ', wx, ' wh = ', wh, ' bh = ', bh, ' wy =', wy, 'by = ', by)\n"
   ]
  },
  {
   "cell_type": "code",
   "execution_count": 8,
   "id": "raised-nelson",
   "metadata": {},
   "outputs": [
    {
     "name": "stdout",
     "output_type": "stream",
     "text": [
      "[[[1]\n",
      "  [2]\n",
      "  [3]]]\n",
      "(1, 3, 1)\n"
     ]
    }
   ],
   "source": [
    "# consideremos una entrada con 3 time steps que sea [1,2,3] de rec valores  y veamos cual seria la salida\n",
    "\n",
    "x = np.array([1, 2, 3]) #[1 2 3]\n",
    "# reshape la entrada para el tamano de muestra deseado  1X3X1\n",
    "# Reshape the input to the required sample_size x time_steps x features \n",
    "x_input = np.reshape(x,(1, 3, 1))\n",
    "\n",
    "#print(x_input) # [[[1] [2] [3]]]\n",
    "#print(x_input.shape) # (1, 3, 1)"
   ]
  },
  {
   "cell_type": "code",
   "execution_count": 11,
   "id": "warming-sphere",
   "metadata": {},
   "outputs": [
    {
     "name": "stdout",
     "output_type": "stream",
     "text": [
      "h1 =  [[0.68826926 0.9853822 ]] h2 =  [[0.19911643 2.21236304]] h3 =  [[0.39823287 4.4247261 ]]\n"
     ]
    }
   ],
   "source": [
    "# calculemos el valor de las nauronas escondidas\n",
    "\n",
    "m = 2 # la capa recurrente tiene dos neuronas\n",
    "h0 = np.zeros(m) # definimos un vector de entrada de dos valores porque la capa recurrente tiene 2 neuronas.\n",
    "h1 = np.dot(x[0], wx) + h0 + bh\n",
    "h2 = np.dot(x[1], wx) + np.dot(h1,wh) + bh\n",
    "h3 = np.dot(x[2], wx) + np.dot(h2,wh) + bh\n",
    "o3 = np.dot(h3, wy) + by # esta sería la salida\n",
    "\n",
    "print('h1 = ', h1,'h2 = ', h2,'h3 = ', h3)\n",
    "\n"
   ]
  },
  {
   "cell_type": "code",
   "execution_count": 13,
   "id": "excessive-stuff",
   "metadata": {},
   "outputs": [
    {
     "name": "stdout",
     "output_type": "stream",
     "text": [
      "[[0.67893183]]\n"
     ]
    }
   ],
   "source": [
    "# hagamos una prediccion con la maquina\n",
    "y_pred_model = model.predict(x_input)\n",
    "print(y_pred_model)"
   ]
  },
  {
   "cell_type": "code",
   "execution_count": 14,
   "id": "stuffed-boxing",
   "metadata": {},
   "outputs": [
    {
     "name": "stdout",
     "output_type": "stream",
     "text": [
      "a mano nos dio  [[0.67893175]]\n"
     ]
    }
   ],
   "source": [
    "# hagamos una prediccion a mano\n",
    "print(\"a mano nos dio \", o3)"
   ]
  },
  {
   "cell_type": "code",
   "execution_count": 18,
   "id": "considered-bolivia",
   "metadata": {},
   "outputs": [
    {
     "name": "stdout",
     "output_type": "stream",
     "text": [
      "[[1.37653852 1.9707644 ]]\n",
      "[[-1.17742208  0.24159864]]\n"
     ]
    }
   ],
   "source": [
    "print(np.dot(x[1], wx))\n",
    "\n",
    "print(np.dot(h1,wh))"
   ]
  },
  {
   "cell_type": "code",
   "execution_count": null,
   "id": "conceptual-celebration",
   "metadata": {},
   "outputs": [],
   "source": []
  }
 ],
 "metadata": {
  "kernelspec": {
   "display_name": "Python 3",
   "language": "python",
   "name": "python3"
  },
  "language_info": {
   "codemirror_mode": {
    "name": "ipython",
    "version": 3
   },
   "file_extension": ".py",
   "mimetype": "text/x-python",
   "name": "python",
   "nbconvert_exporter": "python",
   "pygments_lexer": "ipython3",
   "version": "3.7.6"
  }
 },
 "nbformat": 4,
 "nbformat_minor": 5
}
