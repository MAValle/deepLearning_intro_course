{
 "cells": [
  {
   "cell_type": "code",
   "execution_count": 1,
   "id": "exempt-joseph",
   "metadata": {},
   "outputs": [],
   "source": [
    "# ejemplo para entender como funciona el forward propagation\n"
   ]
  },
  {
   "cell_type": "code",
   "execution_count": 14,
   "id": "international-disease",
   "metadata": {},
   "outputs": [],
   "source": [
    "import numpy as np \n",
    "\n",
    "# vector de entrada / la instancia tiene  3 cuentas y 5 hijos\n",
    "input_data = np.array([3, 5])\n",
    "\n"
   ]
  },
  {
   "cell_type": "code",
   "execution_count": 17,
   "id": "forward-volleyball",
   "metadata": {},
   "outputs": [],
   "source": [
    "# un diccionario que compone los pesos de la red\n",
    "weights = {'node_0': np.array([2, 4]), 'node_1': np.array([ 4, -5]), 'output': np.array([2, 7])}"
   ]
  },
  {
   "cell_type": "code",
   "execution_count": 20,
   "id": "introductory-thunder",
   "metadata": {},
   "outputs": [
    {
     "data": {
      "text/plain": [
       "26"
      ]
     },
     "execution_count": 20,
     "metadata": {},
     "output_type": "execute_result"
    }
   ],
   "source": [
    "\n",
    "# calculamos el valor en el nodo 0\n",
    "node_0_value = (input_data * weights['node_0']).sum()\n",
    "node_0_value"
   ]
  },
  {
   "cell_type": "code",
   "execution_count": 21,
   "id": "chemical-walter",
   "metadata": {},
   "outputs": [
    {
     "data": {
      "text/plain": [
       "-13"
      ]
     },
     "execution_count": 21,
     "metadata": {},
     "output_type": "execute_result"
    }
   ],
   "source": [
    "# calculamos el valor del nodo 1\n",
    "node_1_value = (input_data * weights['node_1']).sum()\n",
    "node_1_value"
   ]
  },
  {
   "cell_type": "code",
   "execution_count": 22,
   "id": "brilliant-valentine",
   "metadata": {},
   "outputs": [],
   "source": [
    "# vamos a poner los valores de los nodos en un array:\n",
    "\n",
    "hidden_layer_outputs = np.array([node_0_value, node_1_value])\n",
    "hidden_layer_outputs"
   ]
  },
  {
   "cell_type": "code",
   "execution_count": 23,
   "id": "speaking-salvation",
   "metadata": {},
   "outputs": [
    {
     "data": {
      "text/plain": [
       "-39"
      ]
     },
     "execution_count": 23,
     "metadata": {},
     "output_type": "execute_result"
    }
   ],
   "source": [
    "\n",
    "#calcular el output:\n",
    "\n",
    "output = (hidden_layer_outputs * weights['output']).sum()\n",
    "output"
   ]
  },
  {
   "cell_type": "code",
   "execution_count": 24,
   "id": "prerequisite-controversy",
   "metadata": {},
   "outputs": [
    {
     "name": "stdout",
     "output_type": "stream",
     "text": [
      "-39\n"
     ]
    }
   ],
   "source": [
    "# Print output\n",
    "print(output)"
   ]
  },
  {
   "cell_type": "code",
   "execution_count": null,
   "id": "welcome-classroom",
   "metadata": {},
   "outputs": [],
   "source": []
  }
 ],
 "metadata": {
  "kernelspec": {
   "display_name": "Python 3",
   "language": "python",
   "name": "python3"
  },
  "language_info": {
   "codemirror_mode": {
    "name": "ipython",
    "version": 3
   },
   "file_extension": ".py",
   "mimetype": "text/x-python",
   "name": "python",
   "nbconvert_exporter": "python",
   "pygments_lexer": "ipython3",
   "version": "3.7.6"
  }
 },
 "nbformat": 4,
 "nbformat_minor": 5
}
