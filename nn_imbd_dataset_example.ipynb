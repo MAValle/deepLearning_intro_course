{
 "cells": [
  {
   "cell_type": "code",
   "execution_count": 1,
   "metadata": {},
   "outputs": [],
   "source": [
    "# Binary classification ejemplo\n",
    "# Utilizamos el IMBD dataset\n",
    "\n",
    "# pag. 68 \"Deep learning with Python\"\n",
    "\n",
    "\n",
    "# Para evita rproblemas de compatibilidad, usar\n",
    "# tensowflow 1.13.1 \n",
    "# numpy 1.18.5\n",
    "# keras 2.1.5\n",
    "\n",
    "# comandos para rebajar versiones (para alternativa 1):\n",
    "# !pip install tensorflow==1.13.1\n",
    "# pip install keras==2.1.5 install numpy==1.18.5\n"
   ]
  },
  {
   "cell_type": "code",
   "execution_count": 2,
   "metadata": {},
   "outputs": [
    {
     "name": "stdout",
     "output_type": "stream",
     "text": [
      "<class 'list'>\n"
     ]
    },
    {
     "data": {
      "text/plain": [
       "9999"
      ]
     },
     "execution_count": 2,
     "metadata": {},
     "output_type": "execute_result"
    }
   ],
   "source": [
    "# Carga del dataset\n",
    "\n",
    "# ALTERNATIVA 1\n",
    "\n",
    "# Veamos info del dataset:\n",
    "# https://keras.io/api/datasets/imdb/\n",
    "\n",
    "from keras.datasets import imdb\n",
    "\n",
    "\n",
    "# # # # # # # # # # # # # # # # # # # # # # # # # # # # # # # # # # # \n",
    "# Debido a problemas de compataibilidad entre paquetes, utilizamos este truco\n",
    "# https://stackoverflow.com/questions/55890813/how-to-fix-object-arrays-cannot-be-loaded-when-allow-pickle-false-for-imdb-loa\n",
    "\n",
    "import numpy as np\n",
    "# save np.load\n",
    "np_load_old = np.load\n",
    "\n",
    "# modify the default parameters of np.load\n",
    "np.load = lambda *a,**k: np_load_old(*a, allow_pickle=True, **k)\n",
    "\n",
    "# call load_data with allow_pickle implicitly set to true\n",
    "(train_data, train_labels), (test_data, test_labels) = imdb.load_data(num_words=10000)\n",
    "# num_words significa que vamos a utilizar las 10,000 palabras mas frecuentes en el set de entrenamiento.\n",
    "# Palabras raras serán descartadas. Esto ademas no spermite trabajar con un vector de datos manejable.\n",
    "\n",
    "\n",
    "# restore np.load for future normal usage\n",
    "np.load = np_load_old\n",
    "# # # # # # # # # # # # # # # # # # # # # # # # # # # # # # # # # # # \n",
    "\n",
    "\n",
    "# Como hemos restringido a las 10000 palabras mas frecuentes, ningun indice de palabra debe exceder 10000.\n",
    "# esto lo verificamos asi: \n",
    "# esto nos data una lista de los indices maximos en cada comentario.\n",
    "\n",
    "print(type([max(sequence) for sequence in train_data]))\n",
    "\n",
    "# Encontramos el maximo de todos los indices. \n",
    "max([max(sequence) for sequence in train_data])\n"
   ]
  },
  {
   "cell_type": "code",
   "execution_count": 3,
   "metadata": {},
   "outputs": [],
   "source": [
    "# Carga del dataset\n",
    "\n",
    "# ALTERNATIVA 2\n",
    "# \n",
    "\n",
    "# Veamos info del dataset:\n",
    "# https://keras.io/api/datasets/imdb/\n",
    "\n",
    "#import tensorflow as tf\n",
    "\n",
    "#import matplotlib.pyplot as plt\n",
    "\n",
    "#layers = tf.keras.layers\n",
    "\n",
    "#import numpy as np\n",
    "#print('Tensorflow Version ', tf.__version__)\n",
    "\n",
    "\n",
    "\n",
    "\n",
    "#imdb_data = tf.keras.datasets.imdb\n",
    "#(train_data, train_labels), (test_data, test_labels) = imdb_data.load_data(num_words=10000)\n",
    "\n",
    "# num_words significa que vamos a utilizar las 10,000 palabras maás frecuentes en el set de entrenamiento.\n",
    "# Palabras raras serán descartadas. Esto ademas no spermite trabajar con un vector de datos manejable."
   ]
  },
  {
   "cell_type": "code",
   "execution_count": 4,
   "metadata": {},
   "outputs": [
    {
     "data": {
      "text/plain": [
       "[1,\n",
       " 14,\n",
       " 22,\n",
       " 16,\n",
       " 43,\n",
       " 530,\n",
       " 973,\n",
       " 1622,\n",
       " 1385,\n",
       " 65,\n",
       " 458,\n",
       " 4468,\n",
       " 66,\n",
       " 3941,\n",
       " 4,\n",
       " 173,\n",
       " 36,\n",
       " 256,\n",
       " 5,\n",
       " 25,\n",
       " 100,\n",
       " 43,\n",
       " 838,\n",
       " 112,\n",
       " 50,\n",
       " 670,\n",
       " 2,\n",
       " 9,\n",
       " 35,\n",
       " 480,\n",
       " 284,\n",
       " 5,\n",
       " 150,\n",
       " 4,\n",
       " 172,\n",
       " 112,\n",
       " 167,\n",
       " 2,\n",
       " 336,\n",
       " 385,\n",
       " 39,\n",
       " 4,\n",
       " 172,\n",
       " 4536,\n",
       " 1111,\n",
       " 17,\n",
       " 546,\n",
       " 38,\n",
       " 13,\n",
       " 447,\n",
       " 4,\n",
       " 192,\n",
       " 50,\n",
       " 16,\n",
       " 6,\n",
       " 147,\n",
       " 2025,\n",
       " 19,\n",
       " 14,\n",
       " 22,\n",
       " 4,\n",
       " 1920,\n",
       " 4613,\n",
       " 469,\n",
       " 4,\n",
       " 22,\n",
       " 71,\n",
       " 87,\n",
       " 12,\n",
       " 16,\n",
       " 43,\n",
       " 530,\n",
       " 38,\n",
       " 76,\n",
       " 15,\n",
       " 13,\n",
       " 1247,\n",
       " 4,\n",
       " 22,\n",
       " 17,\n",
       " 515,\n",
       " 17,\n",
       " 12,\n",
       " 16,\n",
       " 626,\n",
       " 18,\n",
       " 2,\n",
       " 5,\n",
       " 62,\n",
       " 386,\n",
       " 12,\n",
       " 8,\n",
       " 316,\n",
       " 8,\n",
       " 106,\n",
       " 5,\n",
       " 4,\n",
       " 2223,\n",
       " 5244,\n",
       " 16,\n",
       " 480,\n",
       " 66,\n",
       " 3785,\n",
       " 33,\n",
       " 4,\n",
       " 130,\n",
       " 12,\n",
       " 16,\n",
       " 38,\n",
       " 619,\n",
       " 5,\n",
       " 25,\n",
       " 124,\n",
       " 51,\n",
       " 36,\n",
       " 135,\n",
       " 48,\n",
       " 25,\n",
       " 1415,\n",
       " 33,\n",
       " 6,\n",
       " 22,\n",
       " 12,\n",
       " 215,\n",
       " 28,\n",
       " 77,\n",
       " 52,\n",
       " 5,\n",
       " 14,\n",
       " 407,\n",
       " 16,\n",
       " 82,\n",
       " 2,\n",
       " 8,\n",
       " 4,\n",
       " 107,\n",
       " 117,\n",
       " 5952,\n",
       " 15,\n",
       " 256,\n",
       " 4,\n",
       " 2,\n",
       " 7,\n",
       " 3766,\n",
       " 5,\n",
       " 723,\n",
       " 36,\n",
       " 71,\n",
       " 43,\n",
       " 530,\n",
       " 476,\n",
       " 26,\n",
       " 400,\n",
       " 317,\n",
       " 46,\n",
       " 7,\n",
       " 4,\n",
       " 2,\n",
       " 1029,\n",
       " 13,\n",
       " 104,\n",
       " 88,\n",
       " 4,\n",
       " 381,\n",
       " 15,\n",
       " 297,\n",
       " 98,\n",
       " 32,\n",
       " 2071,\n",
       " 56,\n",
       " 26,\n",
       " 141,\n",
       " 6,\n",
       " 194,\n",
       " 7486,\n",
       " 18,\n",
       " 4,\n",
       " 226,\n",
       " 22,\n",
       " 21,\n",
       " 134,\n",
       " 476,\n",
       " 26,\n",
       " 480,\n",
       " 5,\n",
       " 144,\n",
       " 30,\n",
       " 5535,\n",
       " 18,\n",
       " 51,\n",
       " 36,\n",
       " 28,\n",
       " 224,\n",
       " 92,\n",
       " 25,\n",
       " 104,\n",
       " 4,\n",
       " 226,\n",
       " 65,\n",
       " 16,\n",
       " 38,\n",
       " 1334,\n",
       " 88,\n",
       " 12,\n",
       " 16,\n",
       " 283,\n",
       " 5,\n",
       " 16,\n",
       " 4472,\n",
       " 113,\n",
       " 103,\n",
       " 32,\n",
       " 15,\n",
       " 16,\n",
       " 5345,\n",
       " 19,\n",
       " 178,\n",
       " 32]"
      ]
     },
     "execution_count": 4,
     "metadata": {},
     "output_type": "execute_result"
    }
   ],
   "source": [
    "# train_data y test_data son listas de comentarios. Cada comentario es una lista con índices de palabras (una\n",
    "# codificación de palabras).\n",
    "\n",
    "# train_labels y test_labels con listas de 0s y 1s  (variable clase) donde 0 es negativo y 1 es positivo.\n",
    "\n",
    "train_data[0]\n"
   ]
  },
  {
   "cell_type": "code",
   "execution_count": 5,
   "metadata": {},
   "outputs": [
    {
     "data": {
      "text/plain": [
       "1"
      ]
     },
     "execution_count": 5,
     "metadata": {},
     "output_type": "execute_result"
    }
   ],
   "source": [
    "train_labels[0]"
   ]
  },
  {
   "cell_type": "code",
   "execution_count": 6,
   "metadata": {},
   "outputs": [
    {
     "data": {
      "text/plain": [
       "9999"
      ]
     },
     "execution_count": 6,
     "metadata": {},
     "output_type": "execute_result"
    }
   ],
   "source": [
    "# esto nos da la máxima cantidad de palabras que vamos a utilizar como atributos de entrada.\n",
    "\n",
    "max([max(sequence) for sequence in train_data])"
   ]
  },
  {
   "cell_type": "code",
   "execution_count": 8,
   "metadata": {},
   "outputs": [],
   "source": [
    "# (opcional)\n",
    "# decodificacion de un de estos comentarios en ingles.\n",
    "\n",
    "\n",
    "word_index = imdb.get_word_index()\n",
    "reverse_word_index = dict([(value, key) for (key, value) in word_index.items()])\n",
    "decoded_review = ' '.join([reverse_word_index.get(i - 3, '?') for i in train_data[0]])\n"
   ]
  },
  {
   "cell_type": "code",
   "execution_count": 9,
   "metadata": {},
   "outputs": [
    {
     "data": {
      "text/plain": [
       "\"? this film was just brilliant casting location scenery story direction everyone's really suited the part they played and you could just imagine being there robert ? is an amazing actor and now the same being director ? father came from the same scottish island as myself so i loved the fact there was a real connection with this film the witty remarks throughout the film were great it was just brilliant so much that i bought the film as soon as it was released for ? and would recommend it to everyone to watch and the fly fishing was amazing really cried at the end it was so sad and you know what they say if you cry at a film it must have been good and this definitely was also ? to the two little boy's that played the ? of norman and paul they were just brilliant children are often left out of the ? list i think because the stars that play them all grown up are such a big profile for the whole film but these children are amazing and should be praised for what they have done don't you think the whole story was so lovely because it was true and was someone's life after all that was shared with us all\""
      ]
     },
     "execution_count": 9,
     "metadata": {},
     "output_type": "execute_result"
    }
   ],
   "source": [
    "# lista de las palabras\n",
    "#word_index\n",
    "\n",
    "#reverse_word_index\n",
    "\n",
    "decoded_review\n",
    "#print(decoded_review[0])\n",
    "#print(decoded_review[1])\n",
    "#print(decoded_review[2])\n",
    "#print(decoded_review[3])\n"
   ]
  },
  {
   "cell_type": "code",
   "execution_count": 10,
   "metadata": {},
   "outputs": [],
   "source": [
    "# Preparación de los datos:\n",
    "# Tenemos que convertir los datos de la dataset en tensores, es decir, en un formato de matriz para que sea\n",
    "# leido por la capa de entrada (embedding layer) de la red neurona.\n",
    "\n",
    "# Para cada comentario (sample) creamos un tensor (vector) que contiene el id de la muestra (sample) y \n",
    "# además las palabras (word_indices) codificadas numericamente.\n",
    "\n",
    "\n",
    "import numpy as np\n",
    "\n",
    "def vectorize_sequences(sequences, dimension=10000):\n",
    "    results = np.zeros((len(sequences), dimension))\n",
    "    for i, sequence in enumerate(sequences):\n",
    "        results[i, sequence] = 1.\n",
    "    return results\n",
    "\n",
    "x_train = vectorize_sequences(train_data)\n",
    "x_test = vectorize_sequences(test_data)"
   ]
  },
  {
   "cell_type": "code",
   "execution_count": 11,
   "metadata": {},
   "outputs": [
    {
     "data": {
      "text/plain": [
       "array([0., 1., 1., ..., 0., 0., 0.])"
      ]
     },
     "execution_count": 11,
     "metadata": {},
     "output_type": "execute_result"
    }
   ],
   "source": [
    "x_train[0]"
   ]
  },
  {
   "cell_type": "code",
   "execution_count": 12,
   "metadata": {},
   "outputs": [
    {
     "data": {
      "text/plain": [
       "array([[0., 1., 1., ..., 0., 0., 0.],\n",
       "       [0., 1., 1., ..., 0., 0., 0.],\n",
       "       [0., 1., 1., ..., 0., 0., 0.],\n",
       "       ...,\n",
       "       [0., 1., 1., ..., 0., 0., 0.],\n",
       "       [0., 1., 1., ..., 0., 0., 0.],\n",
       "       [0., 1., 1., ..., 0., 0., 0.]])"
      ]
     },
     "execution_count": 12,
     "metadata": {},
     "output_type": "execute_result"
    }
   ],
   "source": [
    "x_test"
   ]
  },
  {
   "cell_type": "code",
   "execution_count": 13,
   "metadata": {},
   "outputs": [],
   "source": [
    "# ahora vectorizamos las clases:\n",
    "\n",
    "\n",
    "y_train = np.asarray(train_labels).astype('float32')\n",
    "y_test = np.asarray(test_labels).astype('float32')"
   ]
  },
  {
   "cell_type": "code",
   "execution_count": 14,
   "metadata": {},
   "outputs": [
    {
     "data": {
      "text/plain": [
       "array([1., 0., 0., ..., 0., 1., 0.], dtype=float32)"
      ]
     },
     "execution_count": 14,
     "metadata": {},
     "output_type": "execute_result"
    }
   ],
   "source": [
    "y_train"
   ]
  },
  {
   "cell_type": "code",
   "execution_count": 15,
   "metadata": {},
   "outputs": [
    {
     "name": "stdout",
     "output_type": "stream",
     "text": [
      "WARNING:tensorflow:From /Users/MAValle/anaconda3/lib/python3.7/site-packages/tensorflow/python/framework/op_def_library.py:263: colocate_with (from tensorflow.python.framework.ops) is deprecated and will be removed in a future version.\n",
      "Instructions for updating:\n",
      "Colocations handled automatically by placer.\n"
     ]
    }
   ],
   "source": [
    "# Ahora construimos nuestra ANN\n",
    "\n",
    "# ver nn_imdb_dataset_nn design.pptx\n",
    "\n",
    "# alternativa I\n",
    "from keras import models\n",
    "from keras import layers\n",
    "# estructura del modelo\n",
    "model = models.Sequential()\n",
    "model.add(layers.Dense(16, activation='relu', input_shape=(10000,)))\n",
    "model.add(layers.Dense(16, activation='relu'))\n",
    "model.add(layers.Dense(1, activation='sigmoid'))\n",
    "\n",
    "\n",
    "\n",
    "# # # # # # # # # # # # # # # # # # # # # # # # # # # # # # # # # # # # # # # # # # # # # \n",
    "# Recordemos que sin funcion de activacion, la red neuronal seria un clasificador lineal\n",
    "# que divide el espacio de entrada en planos multidimensionales del tipo:\n",
    "#  output = W * inputs + b\n",
    "\n",
    "# En este caso, la capa solo aprende los pesos para llevar a cabo transformaciones lineales\n",
    "# de la informacion de entrada. El \"espacio de hipotesis\" de la capa seria el conjunto posible\n",
    "# de transformaciones lineales a los datos de netrada en un espacio con 16 dimensiones..\n",
    "# Tal espacio de hipotesis es demasiado restrictivo considerando la nolinealidad intrinseca\n",
    "# potencial de los datos. Aun asi si agregamos mas capas no no sbeneficiariamos.\n",
    "\n",
    "# Para acceder a un espacio de hipotesis mas rico, necesitamos lograr no-linealidad, y eso\n",
    "# lo logramos con funcion de activacion. En el caso de RELU, es la mas popular en deep learning \n",
    "# y se sabe que da bueno resultados para problemas de clasificacion.\n",
    "# # # # # # # # # # # # # # # # # # # # # # # # # # # # # # # # # # # # # # # # # # # # # \n",
    "\n",
    "\n",
    "# alternativa II\n",
    "#from tensorflow.keras.models import Sequential\n",
    "#from tensorflow.keras.layers import Dense\n",
    "#model = Sequential()\n",
    "#model.add(Dense(16, input_shape=(10000,), activation='relu' ))\n",
    "#model.add(Dense(16, activation='relu' ))\n",
    "#model.add(Dense(1, activation='sigmoid' ))\n",
    "\n",
    "\n",
    "\n",
    "\n",
    "\n"
   ]
  },
  {
   "cell_type": "code",
   "execution_count": 56,
   "metadata": {},
   "outputs": [],
   "source": [
    "# Loss function y optimizer\n",
    "\n",
    "# compilacion\n",
    "\n",
    "# model.compile(optimizer='rmsprop', loss='binary_crossentropy', metrics=['accuracy'])\n"
   ]
  },
  {
   "cell_type": "code",
   "execution_count": 16,
   "metadata": {},
   "outputs": [],
   "source": [
    "# configuracion del optimizer\n",
    "\n",
    "\n",
    "# # # # # # # # # # # # # # # # # # # # # # # # # # # # # # # # # # # # # # # # # # # # # \n",
    "# Ahora necesitamos seleccioanr una funcion de perdida y un optimizados. Dado que es un problema de \n",
    "# clasificaciones y la salida de la red es una \"probabilidad\" (1 sola neurona con activacion sigmoide)\n",
    "# seria mejor usar  la funcion de \"entropia cruzada binaria (binary cross-entropy)\".\n",
    "# La entropia cruzada es una cantida que tiene su fundamento en la teoria de la informacion y  basicamente\n",
    "# mide la distancia entre distribuciones de probabilidad, o en este caso, entre la distribucion real\n",
    "# de lo datos y de las predicciones que ofrece la maquina.\n",
    "\n",
    "# Aqui configuramos el optimizer rmsprop y la loss function binary_crossentropy. Note que vamos\n",
    "# a monitorear el accuracy.\n",
    "# # # # # # # # # # # # # # # # # # # # # # # # # # # # # # # # # # # # # # # # # # # # # \n",
    "\n",
    "\n",
    "# alternativa I \n",
    "from keras import optimizers\n",
    "model.compile(optimizer=optimizers.RMSprop(lr=0.001), loss='binary_crossentropy', metrics=['accuracy'])\n",
    "\n",
    "\n",
    "# https://stackoverflow.com/questions/62465620/error-keras-requires-tensorflow-2-2-or-higher\n",
    "# La version de Keras que tengo es la 2.4.3. Si bajo a la 2.3.1 alternativa I es valida.\n",
    "\n",
    "# alternativa II \n",
    "# https://www.tensorflow.org/api_docs/python/tf/keras/optimizers/RMSprop\n",
    "# https://www.tensorflow.org/tutorials/quickstart/advanced\n",
    "#opt = tf.keras.optimizers.RMSprop(learning_rate=0.1)\n",
    "#model.compile(optimizer = opt, loss='binary_crossentropy', metrics=['accuracy'])\n",
    "#model.compile(optimizer = optimizers.RMSprop(lr=0.001), loss='binary_crossentropy', metrics=['accuracy'])"
   ]
  },
  {
   "cell_type": "code",
   "execution_count": 17,
   "metadata": {},
   "outputs": [],
   "source": [
    "\n",
    "# Alternativa I\n",
    "from keras import losses\n",
    "from keras import metrics\n",
    "\n",
    "# # # # # # # # # # # # # # # # # # # # # # # # # # # # # # # # # # # # # # # # # # # # # \n",
    "# Quizas quisieramos configurar los parametros del optimizador, o utilizar una funcion de perdida\n",
    "# a nuestra medida. En el primer caso, podemos utilizar una clase como argumento del optimizador:\n",
    "\n",
    "# from keras import optimizers\n",
    "# model.compile(optimizer=optimizers.RMSprop(lr=0.001), loss='binary_crossentropy', metrics=['accuracy'])\n",
    "\n",
    "# En el segundo caso, podemos pasar el objeto de la funcion como argumento loss / metrics:\n",
    "# from keras import losses\n",
    "# from keras import metrics\n",
    "# model.compile(optimizer=optimizers.RMSprop(lr=0.001), loss=losses.binary_crossentropy, metrics=[metrics.binary_accuracy])    \n",
    "# # # # # # # # # # # # # # # # # # # # # # # # # # # # # # # # # # # # # # # # # # # # # \n",
    "\n",
    "\n",
    "\n",
    "\n",
    "model.compile(optimizer=optimizers.RMSprop(lr=0.001),\n",
    "                      loss=losses.binary_crossentropy,\n",
    "                      metrics=[metrics.binary_accuracy])\n",
    "\n",
    "\n",
    "\n",
    "\n",
    "# no ejecutar\n",
    "# uso de función de perdida a la medida y metricas\n",
    "#opt = tf.keras.optimizers.RMSprop(learning_rate=0.1)\n",
    "\n",
    "# https://www.tensorflow.org/api_docs/python/tf/keras/metrics/binary_accuracy\n",
    "#mtr = tf.keras.metrics.binary_accuracy(y_true, y_pred, threshold=0.5)\n",
    "#model.compile(optimizer = opt, loss='binary_crossentropy', metrics= mtr)\n",
    "\n",
    "\n",
    "#model.compile(optimizer = opt, loss='binary_crossentropy', metrics='binary_accuracy')\n",
    "\n",
    "#model.compile(optimizer = opt, loss=losses.binary_crossentropy, metrics=[metrics.binary_accuracy])\n",
    "\n",
    "\n"
   ]
  },
  {
   "cell_type": "code",
   "execution_count": 18,
   "metadata": {},
   "outputs": [],
   "source": [
    "# validacion de nuestro modelo\n",
    "\n",
    "\n",
    "# # # # # # # # # # # # # # # # # # # # # # # # # # # # # # # # # # # # # # # # # # # # # \n",
    "# Para poder monitorear el accuracy en el entrenamiento por primera vez, podemos crear un set\n",
    "# de datos de validacion y dejarlos aparte de las 10000 muestras originales:\n",
    "# # # # # # # # # # # # # # # # # # # # # # # # # # # # # # # # # # # # # # # # # # # # # \n",
    "\n",
    "\n",
    "# generamos las muestras\n",
    "x_val = x_train[:10000]\n",
    "partial_x_train = x_train[10000:]\n",
    "\n",
    "y_val = y_train[:10000]\n",
    "partial_y_train = y_train[10000:]\n"
   ]
  },
  {
   "cell_type": "code",
   "execution_count": 19,
   "metadata": {},
   "outputs": [
    {
     "name": "stdout",
     "output_type": "stream",
     "text": [
      "WARNING:tensorflow:From /Users/MAValle/anaconda3/lib/python3.7/site-packages/tensorflow/python/ops/math_ops.py:3066: to_int32 (from tensorflow.python.ops.math_ops) is deprecated and will be removed in a future version.\n",
      "Instructions for updating:\n",
      "Use tf.cast instead.\n",
      "Train on 15000 samples, validate on 10000 samples\n",
      "Epoch 1/20\n",
      "15000/15000 [==============================] - 5s 301us/step - loss: 0.5085 - acc: 0.7815 - val_loss: 0.3797 - val_acc: 0.8689\n",
      "Epoch 2/20\n",
      "15000/15000 [==============================] - 2s 147us/step - loss: 0.3004 - acc: 0.9045 - val_loss: 0.3002 - val_acc: 0.8900\n",
      "Epoch 3/20\n",
      "15000/15000 [==============================] - 2s 108us/step - loss: 0.2179 - acc: 0.9281 - val_loss: 0.3081 - val_acc: 0.8717\n",
      "Epoch 4/20\n",
      "15000/15000 [==============================] - 1s 95us/step - loss: 0.1750 - acc: 0.9435 - val_loss: 0.2841 - val_acc: 0.8839\n",
      "Epoch 5/20\n",
      "15000/15000 [==============================] - 2s 116us/step - loss: 0.1426 - acc: 0.9545 - val_loss: 0.2848 - val_acc: 0.8866\n",
      "Epoch 6/20\n",
      "15000/15000 [==============================] - 2s 110us/step - loss: 0.1151 - acc: 0.9651 - val_loss: 0.3145 - val_acc: 0.8778\n",
      "Epoch 7/20\n",
      "15000/15000 [==============================] - 2s 116us/step - loss: 0.0978 - acc: 0.9706 - val_loss: 0.3127 - val_acc: 0.8848\n",
      "Epoch 8/20\n",
      "15000/15000 [==============================] - 2s 108us/step - loss: 0.0806 - acc: 0.9765 - val_loss: 0.3849 - val_acc: 0.8660\n",
      "Epoch 9/20\n",
      "15000/15000 [==============================] - 1s 96us/step - loss: 0.0659 - acc: 0.9821 - val_loss: 0.3631 - val_acc: 0.8781\n",
      "Epoch 10/20\n",
      "15000/15000 [==============================] - 2s 107us/step - loss: 0.0553 - acc: 0.9853 - val_loss: 0.3844 - val_acc: 0.8790\n",
      "Epoch 11/20\n",
      "15000/15000 [==============================] - 2s 106us/step - loss: 0.0451 - acc: 0.9887 - val_loss: 0.4167 - val_acc: 0.8763\n",
      "Epoch 12/20\n",
      "15000/15000 [==============================] - 2s 109us/step - loss: 0.0383 - acc: 0.9913 - val_loss: 0.4506 - val_acc: 0.8700\n",
      "Epoch 13/20\n",
      "15000/15000 [==============================] - 1s 95us/step - loss: 0.0296 - acc: 0.9931 - val_loss: 0.4703 - val_acc: 0.8729\n",
      "Epoch 14/20\n",
      "15000/15000 [==============================] - 2s 106us/step - loss: 0.0242 - acc: 0.9949 - val_loss: 0.5027 - val_acc: 0.8724\n",
      "Epoch 15/20\n",
      "15000/15000 [==============================] - 2s 107us/step - loss: 0.0176 - acc: 0.9977 - val_loss: 0.5352 - val_acc: 0.8697\n",
      "Epoch 16/20\n",
      "15000/15000 [==============================] - 2s 106us/step - loss: 0.0167 - acc: 0.9971 - val_loss: 0.5724 - val_acc: 0.8706\n",
      "Epoch 17/20\n",
      "15000/15000 [==============================] - 1s 97us/step - loss: 0.0093 - acc: 0.9994 - val_loss: 0.6326 - val_acc: 0.8619\n",
      "Epoch 18/20\n",
      "15000/15000 [==============================] - 2s 106us/step - loss: 0.0105 - acc: 0.9981 - val_loss: 0.6425 - val_acc: 0.8670\n",
      "Epoch 19/20\n",
      "15000/15000 [==============================] - 2s 107us/step - loss: 0.0074 - acc: 0.9991 - val_loss: 0.6730 - val_acc: 0.8672\n",
      "Epoch 20/20\n",
      "15000/15000 [==============================] - 2s 105us/step - loss: 0.0106 - acc: 0.9967 - val_loss: 0.6980 - val_acc: 0.8653\n"
     ]
    }
   ],
   "source": [
    "\n",
    "# # # # # # # # # # # # # # # # # # # # # # # # # # # # # # # # # # # # # # # # # # # # # \n",
    "# Ahora entrenamos el modelo en 20 epochs (en 20 iteraciones sobre todas las muestras en \n",
    "# x_train y y_train), en mini-lotes de 512 muestras. AL mismo tiempo, vamos a monitorear\n",
    "# el loss y el accuracy sobre las 10000 muestras que dejamos aparte.\n",
    "# # # # # # # # # # # # # # # # # # # # # # # # # # # # # # # # # # # # # # # # # # # # # \n",
    "\n",
    "\n",
    "# entrenamiento de la red\n",
    "model.compile(optimizer='rmsprop', loss='binary_crossentropy', metrics=['acc'])\n",
    "history = model.fit(partial_x_train, partial_y_train, epochs=20, batch_size=512, validation_data=(x_val, y_val))"
   ]
  },
  {
   "cell_type": "code",
   "execution_count": 20,
   "metadata": {},
   "outputs": [
    {
     "data": {
      "text/plain": [
       "dict_keys(['val_loss', 'val_acc', 'loss', 'acc'])"
      ]
     },
     "execution_count": 20,
     "metadata": {},
     "output_type": "execute_result"
    }
   ],
   "source": [
    "# # # # # # # # # # # # # # # # # # # # # # # # # # # # # # # # # # # # # # # # # # # # # \n",
    "# Como vemos esto nos toma unos cuantos segundos . Al final de cada epoch, ocurre una \n",
    "# pausa dado que se calcula el loss y el accuracy sobre estas 10000 muestras de los \n",
    "# datos de validacion.\n",
    "\n",
    "# Note que mode.fit() devuelve un objeto History. Este objeto tiene miembros, que son\n",
    "# el diccionaro que contiene los datos de todo lo que ha ocurrido durante el entrenamiento.\n",
    "# # # # # # # # # # # # # # # # # # # # # # # # # # # # # # # # # # # # # # # # # # # # # \n",
    "\n",
    "\n",
    "history_dict = history.history\n",
    "history_dict.keys()\n",
    "\n",
    "\n",
    "# # # # # # # # # # # # # # # # # # # # # # # # # # # # # # # # # # # # # # # # # # # # # \n",
    "# El diccionario tiene 4 entradas. 'val_loss', 'val_acc', 'loss', 'acc'\n",
    "# Vamos a plotear el loss del entrenamiento y validacion en la misma grafica, asi tambien\n",
    "# el accuracy de entrenamiento y validacion.\n",
    "# # # # # # # # # # # # # # # # # # # # # # # # # # # # # # # # # # # # # # # # # # # # # \n"
   ]
  },
  {
   "cell_type": "code",
   "execution_count": 22,
   "metadata": {},
   "outputs": [
    {
     "data": {
      "image/png": "[encoded data removed]",
      "text/plain": [
       "<Figure size 432x288 with 1 Axes>"
      ]
     },
     "metadata": {
      "needs_background": "light"
     },
     "output_type": "display_data"
    }
   ],
   "source": [
    "# Plotting the training and validation loss\n",
    "import matplotlib.pyplot as plt\n",
    "history_dict = history.history\n",
    "loss_values = history_dict['loss']\n",
    "val_loss_values = history_dict['val_loss']\n",
    "\n",
    "\n",
    "epochs = range(1, len(loss_values) + 1)\n",
    "\n",
    "plt.plot(epochs, loss_values, 'bo', label='Training loss')\n",
    "plt.plot(epochs, val_loss_values, 'b', label='Validation loss')\n",
    "\n",
    "\n",
    "plt.title('Training and validation loss')\n",
    "\n",
    "plt.xlabel('Epochs')\n",
    "plt.ylabel('Loss')\n",
    "plt.legend()\n",
    "plt.show()"
   ]
  },
  {
   "cell_type": "code",
   "execution_count": 25,
   "metadata": {},
   "outputs": [
    {
     "data": {
      "image/png": "[encoded data removed]",
      "text/plain": [
       "<Figure size 432x288 with 1 Axes>"
      ]
     },
     "metadata": {
      "needs_background": "light"
     },
     "output_type": "display_data"
    }
   ],
   "source": [
    "# Plotting the training and validation accuracy\n",
    "\n",
    "plt.clf()\n",
    "acc_values = history_dict['acc'] \n",
    "val_acc_values = history_dict['val_acc']\n",
    "\n",
    "plt.plot(epochs, acc_values, 'bo', label='Training acc')\n",
    "plt.plot(epochs, val_acc_values, 'b', label='Validation acc')\n",
    "plt.title('Training and validation accuracy')\n",
    "plt.xlabel('Epochs')\n",
    "plt.ylabel('Loss')\n",
    "plt.legend()\n",
    "plt.show()\n",
    "\n"
   ]
  },
  {
   "cell_type": "code",
   "execution_count": null,
   "metadata": {},
   "outputs": [],
   "source": [
    "# # # # # # # # # # # # # # # # # # # # # # # # # # # # # # # # # # # # # # # # # # # # # \n",
    "# Como podemos ver el loss del entrenamiento va disminuyendo en cada iteracion, y el accuracy\n",
    "# del entrenamiento hace lo contrario. Eso es lo que tenemos que esperar al utilizar la \n",
    "# optimizacion gradient-descent.\n",
    "\n",
    "# Sin embargo, no ocurre lo mismo para el loss y el accuracy en el set de validacion: \n",
    "# Ambos tienen comportamientos distintos. ¿por que ocurre esto?\n",
    "# RESPUESTA!  PORQUE UN MODELO QUE SE DESEMPEÑA BIEN EN EL SET DE ENTRENAMIENTO NO TIENE\n",
    "# QUE HACERLO TAMBIEN EN EL DE VALIDACION--->  ESTO SE DENOMINA OVERFITTING.\n",
    "# El modelo ha sido optimizado para el set de entrenamiento pero no se generaliza para\n",
    "# datos que esten fuera de ese set.\n",
    "\n",
    "# Mas adelante veremos tecnicas para prevenir esto.\n",
    "# # # # # # # # # # # # # # # # # # # # # # # # # # # # # # # # # # # # # # # # # # # # # \n"
   ]
  },
  {
   "cell_type": "code",
   "execution_count": 26,
   "metadata": {},
   "outputs": [
    {
     "name": "stdout",
     "output_type": "stream",
     "text": [
      "Epoch 1/4\n",
      "25000/25000 [==============================] - 4s 155us/step - loss: 0.4749 - acc: 0.8217\n",
      "Epoch 2/4\n",
      "25000/25000 [==============================] - 2s 88us/step - loss: 0.2666 - acc: 0.9096\n",
      "Epoch 3/4\n",
      "25000/25000 [==============================] - 2s 70us/step - loss: 0.1987 - acc: 0.9292\n",
      "Epoch 4/4\n",
      "25000/25000 [==============================] - 2s 72us/step - loss: 0.1679 - acc: 0.9402\n",
      "25000/25000 [==============================] - 5s 190us/step\n"
     ]
    },
    {
     "data": {
      "text/plain": [
       "[0.3238498728275299, 0.87312]"
      ]
     },
     "execution_count": 26,
     "metadata": {},
     "output_type": "execute_result"
    }
   ],
   "source": [
    "#  RE-ENTRENAMIENTO DEL MODELO DESDE CERO.\n",
    "# Entrenemos una nueva red desde cero, para 4 iteraciones y luego evaluemos sobre el \n",
    "# set de datos de testeo.\n",
    "\n",
    "model = models.Sequential()\n",
    "model.add(layers.Dense(16, activation='relu', input_shape=(10000,)))\n",
    "model.add(layers.Dense(16, activation='relu'))\n",
    "model.add(layers.Dense(1, activation='sigmoid'))\n",
    "\n",
    "\n",
    "model.compile(optimizer='rmsprop',\n",
    "              loss='binary_crossentropy',\n",
    "              metrics=['accuracy'])\n",
    "\n",
    "\n",
    "model.fit(x_train, y_train, epochs=4, batch_size=512)\n",
    "results = model.evaluate(x_test, y_test)\n",
    "\n",
    "# Vemos que results"
   ]
  },
  {
   "cell_type": "code",
   "execution_count": 27,
   "metadata": {},
   "outputs": [
    {
     "data": {
      "text/plain": [
       "array([[0.13560814],\n",
       "       [0.999712  ],\n",
       "       [0.278258  ],\n",
       "       ...,\n",
       "       [0.07140881],\n",
       "       [0.04283339],\n",
       "       [0.473888  ]], dtype=float32)"
      ]
     },
     "execution_count": 27,
     "metadata": {},
     "output_type": "execute_result"
    }
   ],
   "source": [
    "# vemos que logramos un accuracy de 87%, no es malo, aunque es posible mejorarlo.\n",
    "\n",
    "# Teniendo nuestra red entrenada, quisieramos utilizarla para nuevas instancias. El modelos nos \n",
    "# puede entregar un likelihood de que el comentario de una pelicula sea positivo utilizando \"predict\":\n",
    "\n",
    "model.predict(x_test)"
   ]
  },
  {
   "cell_type": "code",
   "execution_count": null,
   "metadata": {},
   "outputs": [],
   "source": [
    "# Otras cosas que Ud. puede experimentar para convencerse de que la arquitectura \n",
    "# de la red es razonable:\n",
    "\n",
    "# 1. Hemos utilizado 2 capas escondidas. Intentemos utilizar solo 1 o 3 capas y veamos\n",
    "# los efectos sobre loss y accuracy\n",
    "\n",
    "# 2. Intentar utilizar capas con mas unidades escondidas: 32 unidades y 64.\n",
    "\n",
    "# 3. Intentar utilizar la funcion de activacion \"tanh\", la cual era bastante popular al \n",
    "# inicio de las redes neuronales, en vez de relu."
   ]
  }
 ],
 "metadata": {
  "kernelspec": {
   "display_name": "Python 3",
   "language": "python",
   "name": "python3"
  },
  "language_info": {
   "codemirror_mode": {
    "name": "ipython",
    "version": 3
   },
   "file_extension": ".py",
   "mimetype": "text/x-python",
   "name": "python",
   "nbconvert_exporter": "python",
   "pygments_lexer": "ipython3",
   "version": "3.7.6"
  }
 },
 "nbformat": 4,
 "nbformat_minor": 4
}
