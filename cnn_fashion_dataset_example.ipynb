{
  "cells": [
    {
      "cell_type": "code",
      "execution_count": 1,
      "metadata": {
        "id": "7CXyhFC1dgoO"
      },
      "outputs": [],
      "source": [
        "\n",
        "# Ejemplo de clasificacion multiclass:\n",
        "# clasificacion de imagenes de ropa.\n",
        "\n",
        "# dataset con 60,000 imagenes de training de 28x28 en escada de grises de 10 categorias de ropa. Otros\n",
        "# 10,000 imagenes para test.\n",
        "\n",
        "# Las clases son:\n",
        "\n",
        "#0\tT-shirt/top\n",
        "#1\tTrouser\n",
        "#2\tPullover\n",
        "#3\tDress\n",
        "#4\tCoat\n",
        "#5\tSandal\n",
        "#6\tShirt\n",
        "#7\tSneaker\n",
        "#8\tBag\n",
        "#9\tAnkle boot\n",
        "\n",
        "# La idea es entrenar una NN convolucional para hacer un clasificador multiclass de las10 clases\n",
        "# La NN tendra una capa escondida convolucional con un kernel de 3x3 con 32 canales (o filtros)\n",
        "# para capturar los distintos features de las imagenes.\n",
        "# Luego, una capa flatten que hace de entrada a la capa escondida densa tradicional para efectos de\n",
        "# clasificacion.\n"
      ],
      "id": "7CXyhFC1dgoO"
    },
    {
      "cell_type": "code",
      "execution_count": 2,
      "metadata": {
        "id": "OIaOuK13dgoR",
        "outputId": "094c9f0c-d18e-415e-c449-871c9e941d3e",
        "colab": {
          "base_uri": "https://localhost:8080/"
        }
      },
      "outputs": [
        {
          "output_type": "stream",
          "name": "stdout",
          "text": [
            "Tensorflow Version  2.12.0\n"
          ]
        }
      ],
      "source": [
        "\n",
        "# carga de paquetes\n",
        "\n",
        "import tensorflow as tf\n",
        "\n",
        "import matplotlib.pyplot as plt\n",
        "\n",
        "layers = tf.keras.layers\n",
        "\n",
        "import numpy as np\n",
        "print('Tensorflow Version ', tf.__version__)"
      ],
      "id": "OIaOuK13dgoR"
    },
    {
      "cell_type": "code",
      "execution_count": 6,
      "metadata": {
        "id": "zmNGFz_udgoS",
        "outputId": "804bec29-72d0-446a-ae98-e26a4e0dea8c",
        "colab": {
          "base_uri": "https://localhost:8080/"
        }
      },
      "outputs": [
        {
          "output_type": "stream",
          "name": "stdout",
          "text": [
            "(60000, 28, 28)\n",
            "(60000,)\n"
          ]
        }
      ],
      "source": [
        "# descargamos la dataset desde tf\n",
        "# https://keras.io/api/datasets/fashion_mnist/\n",
        "\n",
        "\n",
        "mnist = tf.keras.datasets.fashion_mnist\n",
        "#(x_train, y_train), (x_test, y_test) = mnist.load_data()\n",
        "(trainX, trainY), (testX, testY) = mnist.load_data()\n",
        "\n",
        "print(trainX.shape)   # 60,000 arrays de 28x28\n",
        "print(trainY.shape)"
      ],
      "id": "zmNGFz_udgoS"
    },
    {
      "cell_type": "code",
      "source": [
        "print(trainX[0])"
      ],
      "metadata": {
        "colab": {
          "base_uri": "https://localhost:8080/"
        },
        "id": "ZfRLPqRDe0Dh",
        "outputId": "1ebb0403-c5f7-4e0d-db31-1edb3b96d8e0"
      },
      "id": "ZfRLPqRDe0Dh",
      "execution_count": 7,
      "outputs": [
        {
          "output_type": "stream",
          "name": "stdout",
          "text": [
            "[[  0   0   0   0   0   0   0   0   0   0   0   0   0   0   0   0   0   0\n",
            "    0   0   0   0   0   0   0   0   0   0]\n",
            " [  0   0   0   0   0   0   0   0   0   0   0   0   0   0   0   0   0   0\n",
            "    0   0   0   0   0   0   0   0   0   0]\n",
            " [  0   0   0   0   0   0   0   0   0   0   0   0   0   0   0   0   0   0\n",
            "    0   0   0   0   0   0   0   0   0   0]\n",
            " [  0   0   0   0   0   0   0   0   0   0   0   0   1   0   0  13  73   0\n",
            "    0   1   4   0   0   0   0   1   1   0]\n",
            " [  0   0   0   0   0   0   0   0   0   0   0   0   3   0  36 136 127  62\n",
            "   54   0   0   0   1   3   4   0   0   3]\n",
            " [  0   0   0   0   0   0   0   0   0   0   0   0   6   0 102 204 176 134\n",
            "  144 123  23   0   0   0   0  12  10   0]\n",
            " [  0   0   0   0   0   0   0   0   0   0   0   0   0   0 155 236 207 178\n",
            "  107 156 161 109  64  23  77 130  72  15]\n",
            " [  0   0   0   0   0   0   0   0   0   0   0   1   0  69 207 223 218 216\n",
            "  216 163 127 121 122 146 141  88 172  66]\n",
            " [  0   0   0   0   0   0   0   0   0   1   1   1   0 200 232 232 233 229\n",
            "  223 223 215 213 164 127 123 196 229   0]\n",
            " [  0   0   0   0   0   0   0   0   0   0   0   0   0 183 225 216 223 228\n",
            "  235 227 224 222 224 221 223 245 173   0]\n",
            " [  0   0   0   0   0   0   0   0   0   0   0   0   0 193 228 218 213 198\n",
            "  180 212 210 211 213 223 220 243 202   0]\n",
            " [  0   0   0   0   0   0   0   0   0   1   3   0  12 219 220 212 218 192\n",
            "  169 227 208 218 224 212 226 197 209  52]\n",
            " [  0   0   0   0   0   0   0   0   0   0   6   0  99 244 222 220 218 203\n",
            "  198 221 215 213 222 220 245 119 167  56]\n",
            " [  0   0   0   0   0   0   0   0   0   4   0   0  55 236 228 230 228 240\n",
            "  232 213 218 223 234 217 217 209  92   0]\n",
            " [  0   0   1   4   6   7   2   0   0   0   0   0 237 226 217 223 222 219\n",
            "  222 221 216 223 229 215 218 255  77   0]\n",
            " [  0   3   0   0   0   0   0   0   0  62 145 204 228 207 213 221 218 208\n",
            "  211 218 224 223 219 215 224 244 159   0]\n",
            " [  0   0   0   0  18  44  82 107 189 228 220 222 217 226 200 205 211 230\n",
            "  224 234 176 188 250 248 233 238 215   0]\n",
            " [  0  57 187 208 224 221 224 208 204 214 208 209 200 159 245 193 206 223\n",
            "  255 255 221 234 221 211 220 232 246   0]\n",
            " [  3 202 228 224 221 211 211 214 205 205 205 220 240  80 150 255 229 221\n",
            "  188 154 191 210 204 209 222 228 225   0]\n",
            " [ 98 233 198 210 222 229 229 234 249 220 194 215 217 241  65  73 106 117\n",
            "  168 219 221 215 217 223 223 224 229  29]\n",
            " [ 75 204 212 204 193 205 211 225 216 185 197 206 198 213 240 195 227 245\n",
            "  239 223 218 212 209 222 220 221 230  67]\n",
            " [ 48 203 183 194 213 197 185 190 194 192 202 214 219 221 220 236 225 216\n",
            "  199 206 186 181 177 172 181 205 206 115]\n",
            " [  0 122 219 193 179 171 183 196 204 210 213 207 211 210 200 196 194 191\n",
            "  195 191 198 192 176 156 167 177 210  92]\n",
            " [  0   0  74 189 212 191 175 172 175 181 185 188 189 188 193 198 204 209\n",
            "  210 210 211 188 188 194 192 216 170   0]\n",
            " [  2   0   0   0  66 200 222 237 239 242 246 243 244 221 220 193 191 179\n",
            "  182 182 181 176 166 168  99  58   0   0]\n",
            " [  0   0   0   0   0   0   0  40  61  44  72  41  35   0   0   0   0   0\n",
            "    0   0   0   0   0   0   0   0   0   0]\n",
            " [  0   0   0   0   0   0   0   0   0   0   0   0   0   0   0   0   0   0\n",
            "    0   0   0   0   0   0   0   0   0   0]\n",
            " [  0   0   0   0   0   0   0   0   0   0   0   0   0   0   0   0   0   0\n",
            "    0   0   0   0   0   0   0   0   0   0]]\n"
          ]
        }
      ]
    },
    {
      "cell_type": "code",
      "execution_count": 13,
      "metadata": {
        "id": "fbCVsdrrdgoS",
        "outputId": "5d8fd59b-d2a1-4e3e-ae08-058414b10ab5",
        "colab": {
          "base_uri": "https://localhost:8080/"
        }
      },
      "outputs": [
        {
          "output_type": "stream",
          "name": "stdout",
          "text": [
            "(60000, 28, 28, 1)\n"
          ]
        }
      ],
      "source": [
        "# Como son imagenes B&W, las imagenes solo tienen 1 canal.\n",
        "\n",
        "# # reshape dataset  para tener un canal unico  (crea tensor de 60000 X 28 X 28 X 1 canal)\n",
        "trainX = trainX.reshape((trainX.shape[0], 28, 28, 1))\n",
        "testX = testX.reshape((testX.shape[0], 28, 28, 1))\n",
        "\n",
        "print(trainX.shape)  #  60,000 imagenes de 28x28 con 1 canal\n",
        "\n",
        "#print(testY)  #[9 2 1 ... 8 1 5]\n",
        "#print(trainY) # [9, 0, 0, ..., 3, 0, 5]"
      ],
      "id": "fbCVsdrrdgoS"
    },
    {
      "cell_type": "code",
      "source": [
        "print(trainY)"
      ],
      "metadata": {
        "colab": {
          "base_uri": "https://localhost:8080/"
        },
        "id": "SBwqKCnagC64",
        "outputId": "7e73c897-8dad-44c1-8bf8-dac7888f4323"
      },
      "id": "SBwqKCnagC64",
      "execution_count": 14,
      "outputs": [
        {
          "output_type": "stream",
          "name": "stdout",
          "text": [
            "[9 0 0 ... 3 0 5]\n"
          ]
        }
      ]
    },
    {
      "cell_type": "code",
      "execution_count": 16,
      "metadata": {
        "id": "bAnYfg7AdgoT",
        "outputId": "5365d913-b0d3-4a97-daae-391e2c9b19f9",
        "colab": {
          "base_uri": "https://localhost:8080/"
        }
      },
      "outputs": [
        {
          "output_type": "stream",
          "name": "stdout",
          "text": [
            "[9 0 0 ... 3 0 5]\n",
            "(60000,)\n"
          ]
        }
      ],
      "source": [
        "# vamos a simplificar las imagenes, binarizando las imagenes en blanco-negro utilizando enconding.\n",
        "\n",
        "# recordemos que OneHotEncoder  codifica variables categoricas de N niveles utilizando N bits.\n",
        "# si N=3,  100, 010, 001.\n",
        "# el LabelEncoder codifica target de N clases con valores de 0 a N-1.\n",
        "\n",
        "from sklearn.preprocessing import OneHotEncoder\n",
        "from sklearn.preprocessing import LabelEncoder\n",
        "\n",
        "# integer encode  (para el target)\n",
        "label_encoder = LabelEncoder()\n",
        "integer_encoded = label_encoder.fit_transform(trainY)\n",
        "print(integer_encoded)  #\n",
        "print(integer_encoded.shape) # (60000,)\n",
        "\n",
        "# Note en realidad que no es necesario este paso en regir,\n",
        "# porque el trainY ya viene codificado de 0 a 9. De todas formas igual lo pongo\n",
        "# para otro ejemplo que no venga asi."
      ],
      "id": "bAnYfg7AdgoT"
    },
    {
      "cell_type": "code",
      "execution_count": 17,
      "metadata": {
        "id": "fA5ilRnZdgoT",
        "outputId": "cd73fb0a-3fa7-4187-b3b2-2b6cbc23ecc8",
        "colab": {
          "base_uri": "https://localhost:8080/"
        }
      },
      "outputs": [
        {
          "output_type": "stream",
          "name": "stdout",
          "text": [
            "[[9]\n",
            " [0]\n",
            " [0]\n",
            " ...\n",
            " [3]\n",
            " [0]\n",
            " [5]]\n",
            "(60000, 1)\n"
          ]
        }
      ],
      "source": [
        "# binary encode\n",
        "integer_encoded = integer_encoded.reshape(len(integer_encoded), 1) # transforma a arrat 60,000 x 1\n",
        "print(integer_encoded)  #\n",
        "print(integer_encoded.shape) # (60000, 1)\n"
      ],
      "id": "fA5ilRnZdgoT"
    },
    {
      "cell_type": "code",
      "execution_count": 18,
      "metadata": {
        "id": "Q6eESxPRdgoU",
        "outputId": "640dbc78-c087-4725-f423-c40b9827e9ac",
        "colab": {
          "base_uri": "https://localhost:8080/"
        }
      },
      "outputs": [
        {
          "output_type": "stream",
          "name": "stdout",
          "text": [
            "[[0. 0. 0. ... 0. 0. 1.]\n",
            " [1. 0. 0. ... 0. 0. 0.]\n",
            " [1. 0. 0. ... 0. 0. 0.]\n",
            " ...\n",
            " [0. 0. 0. ... 0. 0. 0.]\n",
            " [1. 0. 0. ... 0. 0. 0.]\n",
            " [0. 0. 0. ... 0. 0. 0.]]\n"
          ]
        },
        {
          "output_type": "stream",
          "name": "stderr",
          "text": [
            "/usr/local/lib/python3.10/dist-packages/sklearn/preprocessing/_encoders.py:868: FutureWarning: `sparse` was renamed to `sparse_output` in version 1.2 and will be removed in 1.4. `sparse_output` is ignored unless you leave `sparse` to its default value.\n",
            "  warnings.warn(\n"
          ]
        }
      ],
      "source": [
        "# y ahora usamos one-hotencoder para formar vectores de largo 10 que nos indican la clase a la que corresponde\n",
        "# cada instancia\n",
        "onehot_encoder = OneHotEncoder(sparse=False)\n",
        "onehot_encoded = onehot_encoder.fit_transform(integer_encoded)\n",
        "print(onehot_encoded)\n",
        "trainY = integer_encoded\n"
      ],
      "id": "Q6eESxPRdgoU"
    },
    {
      "cell_type": "code",
      "execution_count": 19,
      "metadata": {
        "id": "rULsw2iadgoV",
        "outputId": "b6de8897-7b79-4414-d078-ead3ee9de3ac",
        "colab": {
          "base_uri": "https://localhost:8080/"
        }
      },
      "outputs": [
        {
          "output_type": "stream",
          "name": "stdout",
          "text": [
            "[9 2 1 ... 8 1 5]\n",
            "[[0. 0. 0. ... 0. 0. 1.]\n",
            " [0. 0. 1. ... 0. 0. 0.]\n",
            " [0. 1. 0. ... 0. 0. 0.]\n",
            " ...\n",
            " [0. 0. 0. ... 0. 1. 0.]\n",
            " [0. 1. 0. ... 0. 0. 0.]\n",
            " [0. 0. 0. ... 0. 0. 0.]]\n"
          ]
        },
        {
          "output_type": "stream",
          "name": "stderr",
          "text": [
            "/usr/local/lib/python3.10/dist-packages/sklearn/preprocessing/_encoders.py:868: FutureWarning: `sparse` was renamed to `sparse_output` in version 1.2 and will be removed in 1.4. `sparse_output` is ignored unless you leave `sparse` to its default value.\n",
            "  warnings.warn(\n"
          ]
        }
      ],
      "source": [
        "# hacemos lo mismo para testY\n",
        "\n",
        "label_encoder = LabelEncoder()\n",
        "integer_encoded = label_encoder.fit_transform(testY)\n",
        "print(integer_encoded)\n",
        "# binary encode\n",
        "onehot_encoder = OneHotEncoder(sparse=False)\n",
        "integer_encoded = integer_encoded.reshape(len(integer_encoded), 1)\n",
        "onehot_encoded = onehot_encoder.fit_transform(integer_encoded)\n",
        "print(onehot_encoded)\n",
        "testY = integer_encoded\n",
        "\n",
        "# one hot encode target values\n",
        "#trainY = to_categorical(trainY)\n",
        "#testY = to_categorical(testY)\n"
      ],
      "id": "rULsw2iadgoV"
    },
    {
      "cell_type": "code",
      "execution_count": 20,
      "metadata": {
        "id": "0vraCuwudgoV",
        "outputId": "f649bf37-1eaa-4da6-90e9-3d39ab69c887",
        "colab": {
          "base_uri": "https://localhost:8080/"
        }
      },
      "outputs": [
        {
          "output_type": "stream",
          "name": "stdout",
          "text": [
            "(60000, 28, 28, 1)\n",
            "(10000, 28, 28, 1)\n"
          ]
        }
      ],
      "source": [
        "# vamos a escalar los pixeles unsando la  siguiente funcion\n",
        "# esto es importante. Si no lo hace, el desempeno del clasificador podría ser pobre.\n",
        "\n",
        "# scale pixels\n",
        "def prep_pixels(train, test):\n",
        "    # convert from integers to floats\n",
        "    train_norm = train.astype('float32')\n",
        "    test_norm = test.astype('float32')\n",
        "    # normalize to range 0-1\n",
        "    train_norm = train_norm / 255.0\n",
        "    test_norm = test_norm / 255.0\n",
        "    # return normalized images\n",
        "    return train_norm, test_norm\n",
        "\n",
        "\n",
        "trainX_norm, testX_norm = prep_pixels(trainX, testX)\n",
        "\n",
        "print(trainX_norm.shape)\n",
        "print(testX_norm.shape)\n",
        "\n",
        "trainX = trainX_norm\n",
        "testX = testX_norm"
      ],
      "id": "0vraCuwudgoV"
    },
    {
      "cell_type": "code",
      "execution_count": 21,
      "metadata": {
        "id": "B907g5hCdgoW",
        "outputId": "8724ec2e-5f06-4596-d894-df7e8d5191e0",
        "colab": {
          "base_uri": "https://localhost:8080/",
          "height": 807
        }
      },
      "outputs": [
        {
          "output_type": "display_data",
          "data": {
            "text/plain": [
              "<Figure size 1000x1000 with 25 Axes>"
            ],
            "image/png": "[encoded data removed]"
          },
          "metadata": {}
        }
      ],
      "source": [
        "# Para tener una idea de los datos, vamos a plotear algunas instancias.\n",
        "\n",
        "class_names = ['T-shirt/top', 'Trouser', 'Pullover', 'Dress', 'Coat', 'Sandal',\n",
        "               'Shirt', 'Sneaker', 'Bag', 'Ankle boot']\n",
        "plt.figure(figsize=(10,10))\n",
        "for i in range(25):\n",
        " plt.subplot(5,5,i+1)\n",
        " plt.xticks([])\n",
        " plt.yticks([])\n",
        " plt.grid(False)\n",
        " plt.imshow(trainX[i], cmap=plt.cm.binary)\n",
        " #plt.xlabel(class_names[trainY[i]])\n",
        "plt.show()"
      ],
      "id": "B907g5hCdgoW"
    },
    {
      "cell_type": "code",
      "execution_count": 22,
      "metadata": {
        "id": "PhL7clxIdgoW",
        "colab": {
          "base_uri": "https://localhost:8080/"
        },
        "outputId": "e3778e83-44f5-40a6-9e3f-d0aca4eeff30"
      },
      "outputs": [
        {
          "output_type": "stream",
          "name": "stderr",
          "text": [
            "WARNING:absl:`lr` is deprecated in Keras optimizer, please use `learning_rate` or use the legacy optimizer, e.g.,tf.keras.optimizers.legacy.SGD.\n"
          ]
        }
      ],
      "source": [
        "# ahora viene el diseño de la red:\n",
        "\n",
        "import tensorflow as tf\n",
        "from tensorflow.keras import Sequential\n",
        "from tensorflow.keras.layers import Dense, Dropout, Conv2D, MaxPooling2D, Flatten\n",
        "from tensorflow.keras.optimizers import SGD\n",
        "\n",
        "\n",
        "# tenemos una capa convolucional (feature extraction) seguida de una capa de agregacion, y finalmente un clasificador\n",
        "# que hace la prediccion.\n",
        "\n",
        "# Para la capa convolucional, podemos utilizar un kernel pequeño de 3X3 con un número de modesto de 32 canales.\n",
        "# Luego seguido de la capa de agregacion. Luego la capa Flatten lo unico que hace es convertir\n",
        "# el mapeo de la capa de agregacion en un vector (reducto de dimensionalidad), que entra como input\n",
        "# al clasificador.\n",
        "\n",
        "model = Sequential()\n",
        "#model.add(Conv2D(32, (3, 3), activation='relu', kernel_initializer='he_uniform', input_shape=(28, 28, 1),\n",
        "#                kernel_regularizer =tf.keras.regularizers.l1( l=0.01)) )\n",
        "model.add(Conv2D(32, (3, 3), activation='relu', kernel_initializer='he_uniform', input_shape=(28, 28, 1) ))\n",
        "model.add(Dropout(0.2))\n",
        "\n",
        "\n",
        "model.add(MaxPooling2D((2, 2)))\n",
        "model.add(Flatten())\n",
        "model.add(Dense(100, activation='relu', kernel_initializer='he_uniform'))\n",
        "model.add(Dense(10, activation='softmax'))\n",
        "\n",
        "# compila\n",
        "opt = SGD(lr=0.01, momentum=0.9)\n",
        "model.compile(optimizer=opt, loss='sparse_categorical_crossentropy', metrics=['accuracy'])\n"
      ],
      "id": "PhL7clxIdgoW"
    },
    {
      "cell_type": "code",
      "execution_count": 23,
      "metadata": {
        "id": "gTNFjEu7dgoX",
        "outputId": "829568fe-9ce5-4255-bfb0-0ae7669e1356",
        "colab": {
          "base_uri": "https://localhost:8080/"
        }
      },
      "outputs": [
        {
          "output_type": "stream",
          "name": "stdout",
          "text": [
            "Epoch 1/5\n",
            "1875/1875 [==============================] - 64s 33ms/step - loss: 0.4245 - accuracy: 0.8469 - val_loss: 0.3363 - val_accuracy: 0.8798\n",
            "Epoch 2/5\n",
            "1875/1875 [==============================] - 64s 34ms/step - loss: 0.2925 - accuracy: 0.8928 - val_loss: 0.3109 - val_accuracy: 0.8866\n",
            "Epoch 3/5\n",
            "1875/1875 [==============================] - 63s 34ms/step - loss: 0.2540 - accuracy: 0.9069 - val_loss: 0.2967 - val_accuracy: 0.8932\n",
            "Epoch 4/5\n",
            "1875/1875 [==============================] - 65s 35ms/step - loss: 0.2295 - accuracy: 0.9146 - val_loss: 0.2661 - val_accuracy: 0.9052\n",
            "Epoch 5/5\n",
            "1875/1875 [==============================] - 61s 32ms/step - loss: 0.2066 - accuracy: 0.9229 - val_loss: 0.2629 - val_accuracy: 0.9069\n"
          ]
        }
      ],
      "source": [
        "# Training\n",
        "# nota: yo apenas le puse epoch=1, pero Ud hagalo con mas.\n",
        "\n",
        "history = model.fit(trainX, trainY, epochs=5, batch_size=32, validation_data=(testX, testY), verbose=1)\n",
        "#history = model.fit(trainX, trainY, epochs=5, batch_size=32, validation_split=0.15, verbose=1)\n",
        "#history = model.fit(trainX, trainY, epochs=5, batch_size=32, validation_split=0.15, verbose=1, batch_size=64)\n",
        "\n"
      ],
      "id": "gTNFjEu7dgoX"
    },
    {
      "cell_type": "code",
      "execution_count": 24,
      "metadata": {
        "id": "qJ0FJhzadgoY",
        "outputId": "a7a48f42-57c3-4dfd-e0e8-ce5c1dc15dbb",
        "colab": {
          "base_uri": "https://localhost:8080/"
        }
      },
      "outputs": [
        {
          "output_type": "stream",
          "name": "stdout",
          "text": [
            "> 90.690\n"
          ]
        }
      ],
      "source": [
        "# evaluar el modelo\n",
        "_, acc = model.evaluate(testX, testY, verbose=0)\n",
        "print('> %.3f' % (acc * 100.0))"
      ],
      "id": "qJ0FJhzadgoY"
    },
    {
      "cell_type": "code",
      "execution_count": 25,
      "metadata": {
        "id": "JCfwLQgOdgoY",
        "outputId": "1b5d2d32-aa25-4428-816d-ec6d6dbbbecc",
        "colab": {
          "base_uri": "https://localhost:8080/",
          "height": 452
        }
      },
      "outputs": [
        {
          "output_type": "display_data",
          "data": {
            "text/plain": [
              "<Figure size 640x480 with 2 Axes>"
            ],
            "image/png": "[encoded data removed]"
          },
          "metadata": {}
        }
      ],
      "source": [
        "from matplotlib import pyplot\n",
        "\n",
        "# plot loss\n",
        "pyplot.subplot(211)\n",
        "pyplot.title('Cross Entropy Loss')\n",
        "pyplot.plot(history.history['loss'], color='blue', label='train')\n",
        "pyplot.plot(history.history['val_loss'], color='orange', label='test')\n",
        "\n",
        "# plot accuracy\n",
        "pyplot.subplot(212)\n",
        "pyplot.title('Classification Accuracy')\n",
        "pyplot.plot(history.history['accuracy'], color='blue', label='train')\n",
        "pyplot.plot(history.history['val_accuracy'], color='orange', label='test')\n",
        "\n",
        "pyplot.show()\n"
      ],
      "id": "JCfwLQgOdgoY"
    },
    {
      "cell_type": "code",
      "execution_count": null,
      "metadata": {
        "id": "FQWRyMRrdgoY",
        "outputId": "29fe665e-a879-4b4c-f3cd-9132dc988bb2"
      },
      "outputs": [
        {
          "data": {
            "text/plain": [
              "{'loss': [0.285524899900953,\n",
              "  0.24385585407515367,\n",
              "  0.21641914153397082,\n",
              "  0.1930176695595185,\n",
              "  0.17308147877802452],\n",
              " 'acc': [0.8971, 0.91055, 0.92006665, 0.92865, 0.9360333],\n",
              " 'val_loss': [2.4373193715315646,\n",
              "  2.229857486128801,\n",
              "  1.8696737136760588,\n",
              "  2.1993166664123533,\n",
              "  1.9022067698955478],\n",
              " 'val_acc': [0.8459, 0.8593, 0.882, 0.8617, 0.8797]}"
            ]
          },
          "execution_count": 46,
          "metadata": {},
          "output_type": "execute_result"
        }
      ],
      "source": [
        "history.history"
      ],
      "id": "FQWRyMRrdgoY"
    },
    {
      "cell_type": "code",
      "execution_count": null,
      "metadata": {
        "id": "NCkBSyqBdgoY",
        "outputId": "34e4510f-e384-49b2-a869-aaa49f377d82"
      },
      "outputs": [
        {
          "data": {
            "text/plain": [
              "[0.285524899900953,\n",
              " 0.24385585407515367,\n",
              " 0.21641914153397082,\n",
              " 0.1930176695595185,\n",
              " 0.17308147877802452]"
            ]
          },
          "execution_count": 47,
          "metadata": {},
          "output_type": "execute_result"
        }
      ],
      "source": [
        "history.history['loss']"
      ],
      "id": "NCkBSyqBdgoY"
    },
    {
      "cell_type": "code",
      "execution_count": null,
      "metadata": {
        "id": "VGm8-iQEdgoZ"
      },
      "outputs": [],
      "source": [],
      "id": "VGm8-iQEdgoZ"
    },
    {
      "cell_type": "code",
      "execution_count": null,
      "metadata": {
        "id": "fEKbs9WLdgoZ"
      },
      "outputs": [],
      "source": [],
      "id": "fEKbs9WLdgoZ"
    },
    {
      "cell_type": "code",
      "execution_count": null,
      "metadata": {
        "id": "Homyh50QdgoZ"
      },
      "outputs": [],
      "source": [],
      "id": "Homyh50QdgoZ"
    },
    {
      "cell_type": "code",
      "execution_count": null,
      "metadata": {
        "id": "fRJruqBrdgoZ"
      },
      "outputs": [],
      "source": [],
      "id": "fRJruqBrdgoZ"
    }
  ],
  "metadata": {
    "kernelspec": {
      "display_name": "Python 3",
      "language": "python",
      "name": "python3"
    },
    "language_info": {
      "codemirror_mode": {
        "name": "ipython",
        "version": 3
      },
      "file_extension": ".py",
      "mimetype": "text/x-python",
      "name": "python",
      "nbconvert_exporter": "python",
      "pygments_lexer": "ipython3",
      "version": "3.7.1"
    },
    "colab": {
      "provenance": []
    }
  },
  "nbformat": 4,
  "nbformat_minor": 5
}