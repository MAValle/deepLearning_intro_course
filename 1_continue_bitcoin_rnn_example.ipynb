{
 "cells": [
  {
   "cell_type": "code",
   "execution_count": 1,
   "id": "removable-vietnam",
   "metadata": {},
   "outputs": [
    {
     "name": "stderr",
     "output_type": "stream",
     "text": [
      "Using TensorFlow backend.\n",
      "/Users/MAValle/anaconda3/lib/python3.7/site-packages/tensorflow/python/framework/dtypes.py:526: FutureWarning: Passing (type, 1) or '1type' as a synonym of type is deprecated; in a future version of numpy, it will be understood as (type, (1,)) / '(1,)type'.\n",
      "  _np_qint8 = np.dtype([(\"qint8\", np.int8, 1)])\n",
      "/Users/MAValle/anaconda3/lib/python3.7/site-packages/tensorflow/python/framework/dtypes.py:527: FutureWarning: Passing (type, 1) or '1type' as a synonym of type is deprecated; in a future version of numpy, it will be understood as (type, (1,)) / '(1,)type'.\n",
      "  _np_quint8 = np.dtype([(\"quint8\", np.uint8, 1)])\n",
      "/Users/MAValle/anaconda3/lib/python3.7/site-packages/tensorflow/python/framework/dtypes.py:528: FutureWarning: Passing (type, 1) or '1type' as a synonym of type is deprecated; in a future version of numpy, it will be understood as (type, (1,)) / '(1,)type'.\n",
      "  _np_qint16 = np.dtype([(\"qint16\", np.int16, 1)])\n",
      "/Users/MAValle/anaconda3/lib/python3.7/site-packages/tensorflow/python/framework/dtypes.py:529: FutureWarning: Passing (type, 1) or '1type' as a synonym of type is deprecated; in a future version of numpy, it will be understood as (type, (1,)) / '(1,)type'.\n",
      "  _np_quint16 = np.dtype([(\"quint16\", np.uint16, 1)])\n",
      "/Users/MAValle/anaconda3/lib/python3.7/site-packages/tensorflow/python/framework/dtypes.py:530: FutureWarning: Passing (type, 1) or '1type' as a synonym of type is deprecated; in a future version of numpy, it will be understood as (type, (1,)) / '(1,)type'.\n",
      "  _np_qint32 = np.dtype([(\"qint32\", np.int32, 1)])\n",
      "/Users/MAValle/anaconda3/lib/python3.7/site-packages/tensorflow/python/framework/dtypes.py:535: FutureWarning: Passing (type, 1) or '1type' as a synonym of type is deprecated; in a future version of numpy, it will be understood as (type, (1,)) / '(1,)type'.\n",
      "  np_resource = np.dtype([(\"resource\", np.ubyte, 1)])\n"
     ]
    }
   ],
   "source": [
    "# ejemplo de RNN para predecir precio de bitcoin\n",
    "\n",
    "import numpy as np\n",
    "import pandas as pd \n",
    "import matplotlib.pyplot as plt\n",
    "from sklearn.metrics import mean_absolute_error\n",
    "\n",
    "from keras.models import Sequential\n",
    "from keras.layers import Dense, LSTM, Dropout,Flatten, SimpleRNN\n",
    "\n",
    "# en jupyter lab online cargamos con tensorflow\n",
    "#import tensorflow as tf\n",
    "#from tensorflow.keras import Sequential\n",
    "#from tensorflow.keras.layers import Dense, LSTM, Dropout,Flatten, SimpleRNN"
   ]
  },
  {
   "cell_type": "code",
   "execution_count": 2,
   "id": "amino-grocery",
   "metadata": {},
   "outputs": [
    {
     "data": {
      "text/html": [
       "<div>\n",
       "<style scoped>\n",
       "    .dataframe tbody tr th:only-of-type {\n",
       "        vertical-align: middle;\n",
       "    }\n",
       "\n",
       "    .dataframe tbody tr th {\n",
       "        vertical-align: top;\n",
       "    }\n",
       "\n",
       "    .dataframe thead th {\n",
       "        text-align: right;\n",
       "    }\n",
       "</style>\n",
       "<table border=\"1\" class=\"dataframe\">\n",
       "  <thead>\n",
       "    <tr style=\"text-align: right;\">\n",
       "      <th></th>\n",
       "      <th>Price</th>\n",
       "    </tr>\n",
       "  </thead>\n",
       "  <tbody>\n",
       "    <tr>\n",
       "      <th>0</th>\n",
       "      <td>5.874167</td>\n",
       "    </tr>\n",
       "    <tr>\n",
       "      <th>1</th>\n",
       "      <td>5.582143</td>\n",
       "    </tr>\n",
       "    <tr>\n",
       "      <th>2</th>\n",
       "      <td>5.120000</td>\n",
       "    </tr>\n",
       "    <tr>\n",
       "      <th>3</th>\n",
       "      <td>4.835000</td>\n",
       "    </tr>\n",
       "    <tr>\n",
       "      <th>4</th>\n",
       "      <td>4.870000</td>\n",
       "    </tr>\n",
       "  </tbody>\n",
       "</table>\n",
       "</div>"
      ],
      "text/plain": [
       "      Price\n",
       "0  5.874167\n",
       "1  5.582143\n",
       "2  5.120000\n",
       "3  4.835000\n",
       "4  4.870000"
      ]
     },
     "execution_count": 2,
     "metadata": {},
     "output_type": "execute_result"
    }
   ],
   "source": [
    "# carga de datos\n",
    "data = pd.read_csv(\"data_bitcoin.csv\") # son app 63Kb de datos.\n",
    "data.head()"
   ]
  },
  {
   "cell_type": "code",
   "execution_count": 3,
   "id": "premium-spell",
   "metadata": {},
   "outputs": [
    {
     "data": {
      "text/plain": [
       "(3448, 1)"
      ]
     },
     "execution_count": 3,
     "metadata": {},
     "output_type": "execute_result"
    }
   ],
   "source": [
    "data.shape"
   ]
  },
  {
   "cell_type": "code",
   "execution_count": 9,
   "id": "resident-stability",
   "metadata": {},
   "outputs": [
    {
     "name": "stdout",
     "output_type": "stream",
     "text": [
      "             Price\n",
      "3388  34793.749638\n",
      "3389  34694.376658\n",
      "3390  38636.764980\n",
      "3391  37039.937682\n",
      "3392  36841.820185\n",
      "(3388, 1)\n",
      "(60, 1)\n"
     ]
    }
   ],
   "source": [
    "# El objetivo es hacer una prediccion de los precios diarios de cierre. \n",
    "# consideraremos los últimos 60 precios para el testeo.\n",
    "\n",
    "close_train = data.iloc[:len(data)-60]\n",
    "close_test  = data.iloc[len(close_train):]\n",
    "\n",
    "print(close_test.head())\n",
    "print(close_train.shape)\n",
    "print(close_test.shape)"
   ]
  },
  {
   "cell_type": "code",
   "execution_count": 10,
   "id": "existing-baptist",
   "metadata": {},
   "outputs": [
    {
     "name": "stdout",
     "output_type": "stream",
     "text": [
      "[[5.87416667e+00]\n",
      " [5.58214286e+00]\n",
      " [5.12000000e+00]\n",
      " ...\n",
      " [4.04054990e+04]\n",
      " [3.89682115e+04]\n",
      " [3.36545416e+04]]\n"
     ]
    }
   ],
   "source": [
    "# Aqui transformamos los valores entre 0-1 para estandarizar.\n",
    "\n",
    "# convertir a array\n",
    "close_train = np.array(close_train)\n",
    "close_train = close_train.reshape(close_train.shape[0],1) # convierte close_train en un array de 3388 filas y 1 columna\n",
    "print(close_train)\n",
    "#print(close_train.shape[0])"
   ]
  },
  {
   "cell_type": "code",
   "execution_count": 11,
   "id": "flush-storm",
   "metadata": {},
   "outputs": [
    {
     "name": "stdout",
     "output_type": "stream",
     "text": [
      "[[8.99473645e-05]\n",
      " [8.27196354e-05]\n",
      " [7.12813785e-05]\n",
      " ...\n",
      " [1.00000000e+00]\n",
      " [9.64426445e-01]\n",
      " [8.32910571e-01]]\n"
     ]
    }
   ],
   "source": [
    "# estandarizar\n",
    "from sklearn.preprocessing import MinMaxScaler\n",
    "\n",
    "scaler = MinMaxScaler(feature_range=(0,1))\n",
    "close_scaled = scaler.fit_transform(close_train)\n",
    "print(close_scaled)"
   ]
  },
  {
   "cell_type": "code",
   "execution_count": 17,
   "id": "processed-robert",
   "metadata": {},
   "outputs": [
    {
     "name": "stdout",
     "output_type": "stream",
     "text": [
      "3328\n",
      "3328\n"
     ]
    },
    {
     "data": {
      "text/plain": [
       "array([8.99473645e-05, 8.27196354e-05, 7.12813785e-05, 6.42274921e-05,\n",
       "       6.50937588e-05, 6.43512445e-05, 6.58362732e-05, 7.84153400e-05,\n",
       "       8.62801686e-05, 8.54881533e-05, 8.58841609e-05, 8.62200603e-05,\n",
       "       9.42993236e-05, 9.07217545e-05, 6.52175112e-05, 6.50584010e-05,\n",
       "       6.37737333e-05, 6.45574985e-05, 6.54959541e-05, 7.27994079e-05,\n",
       "       6.61368147e-05, 6.02497366e-05, 5.43273006e-05, 4.08382898e-05,\n",
       "       5.10354870e-05, 4.41177282e-05, 4.22738175e-05, 4.23480690e-05,\n",
       "       4.47983664e-05, 4.15808041e-05, 3.96007658e-07, 0.00000000e+00,\n",
       "       1.76965922e-05, 1.12202170e-05, 1.31177537e-05, 4.25089471e-05,\n",
       "       4.50046203e-05, 3.20271194e-05, 2.57758556e-05, 2.68542693e-05,\n",
       "       2.72930278e-05, 2.15329164e-05, 1.75728398e-05, 2.07904021e-05,\n",
       "       2.43049700e-05, 2.45339120e-05, 2.62355074e-05, 2.74730313e-05,\n",
       "       2.74730313e-05, 1.08572100e-05, 1.55928015e-05, 1.27464965e-05,\n",
       "       1.25608679e-05, 8.22953415e-06, 5.50698150e-06, 3.21756222e-06,\n",
       "       5.65135929e-06, 7.52414551e-06, 1.25732432e-05, 6.30566041e-05])"
      ]
     },
     "execution_count": 17,
     "metadata": {},
     "output_type": "execute_result"
    }
   ],
   "source": [
    "# utiliza 60 datos como set de entrenamiento y entrada, y luego la 61 es el valor a predecir.\n",
    "\n",
    "timestep=60\n",
    "x_train=[]\n",
    "y_train=[]\n",
    "\n",
    "#close_scaled.shape[0]  es el largo de la serie igual a 3388\n",
    "\n",
    "for i in range(timestep,close_scaled.shape[0]):\n",
    "    x_train.append(close_scaled[i-timestep:i,0])\n",
    "    y_train.append(close_scaled[i,0])\n",
    "\n",
    "\n",
    "#print(x_train) # tiene 3388 vectores de 60 precios\n",
    "print(len(x_train))\n",
    "#print(y_train) # tiene 3388 precios\n",
    "print(len(y_train))\n",
    "\n",
    "#y_train[0]\n",
    "x_train[0]"
   ]
  },
  {
   "cell_type": "code",
   "execution_count": 18,
   "id": "oriental-rapid",
   "metadata": {},
   "outputs": [
    {
     "name": "stdout",
     "output_type": "stream",
     "text": [
      "x-train-shape=  (3328, 60, 1)\n",
      "y-train-shape=  (3328,)\n"
     ]
    }
   ],
   "source": [
    "# paso 2\n",
    "x_train,y_train = np.array(x_train),np.array(y_train)\n",
    "x_train=x_train.reshape(x_train.shape[0],x_train.shape[1],1) #reshaped for RNN\n",
    "print(\"x-train-shape= \",x_train.shape)\n",
    "print(\"y-train-shape= \",y_train.shape)"
   ]
  },
  {
   "cell_type": "code",
   "execution_count": 46,
   "id": "respected-pharmacology",
   "metadata": {},
   "outputs": [
    {
     "name": "stdout",
     "output_type": "stream",
     "text": [
      "(3328, 60, 1)\n",
      "60\n"
     ]
    }
   ],
   "source": [
    "# notar la estructura de x_train:\n",
    "\n",
    "# por ejemplo x_train.shape[1] es un array con 60 columnas. Estas columnas son las\n",
    "#que van a entrar al input layer. No entra un vector numérico. \n",
    "# esto es importante porque condiciona la forma en que salen los ouputs.\n",
    "\n",
    "print(x_train.shape) # tenemos 3328 vectores de 60 precios. Esto es lo que va entrando a la red.\n",
    "print(x_train.shape[1]) # cada vector tiene 60 precios.\n"
   ]
  },
  {
   "cell_type": "code",
   "execution_count": null,
   "id": "bridal-secretariat",
   "metadata": {},
   "outputs": [],
   "source": [
    "# # # # # # # # # # # # # # # # # # # # # # # # # # # # # # # # # "
   ]
  },
  {
   "cell_type": "code",
   "execution_count": 49,
   "id": "intellectual-watch",
   "metadata": {},
   "outputs": [
    {
     "name": "stdout",
     "output_type": "stream",
     "text": [
      "Epoch 1/50\n",
      "3328/3328 [==============================] - 1s 312us/step - loss: 0.0021 - mean_squared_error: 0.0021\n",
      "Epoch 2/50\n",
      "3328/3328 [==============================] - 0s 94us/step - loss: 6.3141e-04 - mean_squared_error: 6.3141e-04\n",
      "Epoch 3/50\n",
      "3328/3328 [==============================] - 0s 90us/step - loss: 3.4009e-04 - mean_squared_error: 3.4009e-04\n",
      "Epoch 4/50\n",
      "3328/3328 [==============================] - 0s 92us/step - loss: 2.4679e-04 - mean_squared_error: 2.4679e-04\n",
      "Epoch 5/50\n",
      "3328/3328 [==============================] - 0s 88us/step - loss: 1.9795e-04 - mean_squared_error: 1.9795e-04\n",
      "Epoch 6/50\n",
      "3328/3328 [==============================] - 0s 91us/step - loss: 1.7735e-04 - mean_squared_error: 1.7735e-04\n",
      "Epoch 7/50\n",
      "3328/3328 [==============================] - 0s 94us/step - loss: 1.6509e-04 - mean_squared_error: 1.6509e-04\n",
      "Epoch 8/50\n",
      "3328/3328 [==============================] - 0s 89us/step - loss: 1.5139e-04 - mean_squared_error: 1.5139e-04\n",
      "Epoch 9/50\n",
      "3328/3328 [==============================] - 0s 92us/step - loss: 1.3911e-04 - mean_squared_error: 1.3911e-04\n",
      "Epoch 10/50\n",
      "3328/3328 [==============================] - 0s 89us/step - loss: 1.4162e-04 - mean_squared_error: 1.4162e-04\n",
      "Epoch 11/50\n",
      "3328/3328 [==============================] - 0s 90us/step - loss: 1.3541e-04 - mean_squared_error: 1.3541e-04\n",
      "Epoch 12/50\n",
      "3328/3328 [==============================] - 0s 94us/step - loss: 1.1313e-04 - mean_squared_error: 1.1313e-04\n",
      "Epoch 13/50\n",
      "3328/3328 [==============================] - 0s 94us/step - loss: 1.3828e-04 - mean_squared_error: 1.3828e-04\n",
      "Epoch 14/50\n",
      "3328/3328 [==============================] - 0s 101us/step - loss: 9.9077e-05 - mean_squared_error: 9.9077e-05\n",
      "Epoch 15/50\n",
      "3328/3328 [==============================] - 0s 110us/step - loss: 1.1199e-04 - mean_squared_error: 1.1199e-04\n",
      "Epoch 16/50\n",
      "3328/3328 [==============================] - 0s 115us/step - loss: 9.8938e-05 - mean_squared_error: 9.8938e-05\n",
      "Epoch 17/50\n",
      "3328/3328 [==============================] - 0s 112us/step - loss: 1.0365e-04 - mean_squared_error: 1.0365e-04\n",
      "Epoch 18/50\n",
      "3328/3328 [==============================] - 0s 89us/step - loss: 1.2460e-04 - mean_squared_error: 1.2460e-04\n",
      "Epoch 19/50\n",
      "3328/3328 [==============================] - 0s 106us/step - loss: 1.0566e-04 - mean_squared_error: 1.0566e-04\n",
      "Epoch 20/50\n",
      "3328/3328 [==============================] - 0s 89us/step - loss: 9.1984e-05 - mean_squared_error: 9.1984e-05\n",
      "Epoch 21/50\n",
      "3328/3328 [==============================] - 0s 96us/step - loss: 9.0840e-05 - mean_squared_error: 9.0840e-05\n",
      "Epoch 22/50\n",
      "3328/3328 [==============================] - 0s 85us/step - loss: 8.9315e-05 - mean_squared_error: 8.9315e-05\n",
      "Epoch 23/50\n",
      "3328/3328 [==============================] - 0s 107us/step - loss: 8.4877e-05 - mean_squared_error: 8.4877e-05\n",
      "Epoch 24/50\n",
      "3328/3328 [==============================] - 0s 103us/step - loss: 8.1890e-05 - mean_squared_error: 8.1890e-05\n",
      "Epoch 25/50\n",
      "3328/3328 [==============================] - 0s 111us/step - loss: 8.7162e-05 - mean_squared_error: 8.7162e-05\n",
      "Epoch 26/50\n",
      "3328/3328 [==============================] - 0s 100us/step - loss: 8.8522e-05 - mean_squared_error: 8.8522e-05\n",
      "Epoch 27/50\n",
      "3328/3328 [==============================] - 0s 90us/step - loss: 9.0717e-05 - mean_squared_error: 9.0717e-05\n",
      "Epoch 28/50\n",
      "3328/3328 [==============================] - 0s 90us/step - loss: 7.3319e-05 - mean_squared_error: 7.3319e-05\n",
      "Epoch 29/50\n",
      "3328/3328 [==============================] - 0s 82us/step - loss: 7.4377e-05 - mean_squared_error: 7.4377e-05\n",
      "Epoch 30/50\n",
      "3328/3328 [==============================] - 0s 81us/step - loss: 1.1804e-04 - mean_squared_error: 1.1804e-04\n",
      "Epoch 31/50\n",
      "3328/3328 [==============================] - 0s 91us/step - loss: 9.9130e-05 - mean_squared_error: 9.9130e-05\n",
      "Epoch 32/50\n",
      "3328/3328 [==============================] - 0s 81us/step - loss: 7.3280e-05 - mean_squared_error: 7.3280e-05\n",
      "Epoch 33/50\n",
      "3328/3328 [==============================] - 0s 86us/step - loss: 8.2177e-05 - mean_squared_error: 8.2177e-05\n",
      "Epoch 34/50\n",
      "3328/3328 [==============================] - 0s 81us/step - loss: 7.9164e-05 - mean_squared_error: 7.9164e-05\n",
      "Epoch 35/50\n",
      "3328/3328 [==============================] - 0s 87us/step - loss: 8.2632e-05 - mean_squared_error: 8.2632e-05\n",
      "Epoch 36/50\n",
      "3328/3328 [==============================] - 0s 86us/step - loss: 8.3642e-05 - mean_squared_error: 8.3642e-05\n",
      "Epoch 37/50\n",
      "3328/3328 [==============================] - 0s 81us/step - loss: 8.7229e-05 - mean_squared_error: 8.7229e-05\n",
      "Epoch 38/50\n",
      "3328/3328 [==============================] - 0s 83us/step - loss: 7.0406e-05 - mean_squared_error: 7.0406e-05\n",
      "Epoch 39/50\n",
      "3328/3328 [==============================] - 0s 83us/step - loss: 9.9971e-05 - mean_squared_error: 9.9971e-05\n",
      "Epoch 40/50\n",
      "3328/3328 [==============================] - 0s 84us/step - loss: 8.7040e-05 - mean_squared_error: 8.7040e-05\n",
      "Epoch 41/50\n",
      "3328/3328 [==============================] - 0s 85us/step - loss: 6.7787e-05 - mean_squared_error: 6.7787e-05\n",
      "Epoch 42/50\n",
      "3328/3328 [==============================] - 0s 84us/step - loss: 7.0585e-05 - mean_squared_error: 7.0585e-05\n",
      "Epoch 43/50\n",
      "3328/3328 [==============================] - 0s 82us/step - loss: 9.1249e-05 - mean_squared_error: 9.1249e-05\n",
      "Epoch 44/50\n",
      "3328/3328 [==============================] - 0s 82us/step - loss: 1.1604e-04 - mean_squared_error: 1.1604e-04\n",
      "Epoch 45/50\n",
      "3328/3328 [==============================] - 0s 86us/step - loss: 6.3737e-05 - mean_squared_error: 6.3737e-05\n",
      "Epoch 46/50\n",
      "3328/3328 [==============================] - 0s 82us/step - loss: 9.9161e-05 - mean_squared_error: 9.9161e-05\n",
      "Epoch 47/50\n",
      "3328/3328 [==============================] - 0s 81us/step - loss: 7.8864e-05 - mean_squared_error: 7.8864e-05\n",
      "Epoch 48/50\n",
      "3328/3328 [==============================] - 0s 81us/step - loss: 7.1221e-05 - mean_squared_error: 7.1221e-05\n",
      "Epoch 49/50\n",
      "3328/3328 [==============================] - 0s 90us/step - loss: 6.0730e-05 - mean_squared_error: 6.0730e-05\n",
      "Epoch 50/50\n",
      "3328/3328 [==============================] - 0s 91us/step - loss: 7.6643e-05 - mean_squared_error: 7.6643e-05\n"
     ]
    }
   ],
   "source": [
    "# Implementacion de NN\n",
    "# la API de Keras Sequential es usada como de costumbre para crear el modelo. El MLP se contruye\n",
    "# sobre la base de capas en lostes densamente conectadas, por lo que usamos la funcion Dense().\n",
    "\n",
    "# Luego la arquitectura se compila estableciendo los hiperparámetros y el kernel de optimización.\n",
    "# Finalmente, se fitea la red a los datos de entrenamiento con 50 epochs.\n",
    "\n",
    "model = Sequential()\n",
    "model.add(Dense(56, input_shape=(x_train.shape[1],1), activation='relu')) # entrada 60 neuronas, salida 56 neuronas\n",
    "#model.add(Dense(56, input_shape=(x_train.shape[1],), activation='relu')) # entrada 60 neuronas, salida 56 neuronas\n",
    "model.add(Dense(32, activation='relu')) \n",
    "model.add(Flatten())  #https://stackoverflow.com/questions/43237124/what-is-the-role-of-flatten-in-keras\n",
    "model.add(Dense(1))\n",
    "\n",
    "model.compile(optimizer=\"adam\",loss=\"mean_squared_error\", metrics=['mse'])\n",
    "history = model.fit(x_train,y_train,epochs=50,batch_size=64)\n"
   ]
  },
  {
   "cell_type": "code",
   "execution_count": 58,
   "id": "amateur-prize",
   "metadata": {},
   "outputs": [
    {
     "data": {
      "image/png": "[encoded data removed]",
      "text/plain": [
       "<Figure size 432x288 with 1 Axes>"
      ]
     },
     "metadata": {
      "needs_background": "light"
     },
     "output_type": "display_data"
    }
   ],
   "source": [
    "# Evaluacion del modelo con train set\n",
    "#print(history.history) # tiene loss y mean_squared_error\n",
    "\n",
    "plt.plot(history.history['loss'], label='train')\n",
    "#plt.plot(history.history['mean_squared_error'], label='train')\n",
    "plt.show()"
   ]
  },
  {
   "cell_type": "code",
   "execution_count": 50,
   "id": "alpha-exhaust",
   "metadata": {},
   "outputs": [
    {
     "name": "stdout",
     "output_type": "stream",
     "text": [
      "(120, 1)\n",
      "[[16279.82971834]\n",
      " [16002.77983225]\n",
      " [15979.96787722]\n",
      " [16430.74588307]\n",
      " [17268.94039002]\n",
      " [17881.21028309]\n",
      " [17801.6469543 ]\n",
      " [18360.23015132]\n",
      " [18720.46861578]\n",
      " [18337.80238069]\n",
      " [18438.878714  ]\n",
      " [18939.28873823]\n",
      " [19051.71350101]\n",
      " [17200.67461348]\n",
      " [16955.0982882 ]\n",
      " [17389.9772657 ]\n",
      " [18027.70585954]\n",
      " [19061.8357438 ]\n",
      " [19196.46453403]\n",
      " [18933.50034101]\n",
      " [19309.47116477]\n",
      " [19081.52631458]\n",
      " [18981.5437042 ]\n",
      " [19150.4708231 ]\n",
      " [19189.08096393]\n",
      " [18865.08550867]\n",
      " [18244.81628606]\n",
      " [18273.61070645]\n",
      " [17923.9118587 ]\n",
      " [18479.16546148]\n",
      " [19142.26171027]\n",
      " [19166.1507658 ]\n",
      " [19335.52610827]\n",
      " [20378.55465055]\n",
      " [22730.73493971]\n",
      " [22865.0388434 ]\n",
      " [23458.76198432]\n",
      " [23603.69759416]\n",
      " [23078.46686784]\n",
      " [23129.09807163]\n",
      " [23483.56654105]\n",
      " [23203.45488959]\n",
      " [24075.884614  ]\n",
      " [25594.26362466]\n",
      " [27094.35316904]\n",
      " [26963.03143607]\n",
      " [26654.23907847]\n",
      " [28180.26608524]\n",
      " [28835.9243266 ]\n",
      " [29269.12533855]\n",
      " [31247.50621825]\n",
      " [33477.30571855]\n",
      " [31286.55592198]\n",
      " [32372.35450507]\n",
      " [34957.00203889]\n",
      " [38286.02575034]\n",
      " [39948.57306874]\n",
      " [40405.49903271]\n",
      " [38968.21147457]\n",
      " [33654.54156201]\n",
      " [34793.74963787]\n",
      " [34694.37665806]\n",
      " [38636.76497962]\n",
      " [37039.93768222]\n",
      " [36841.82018525]\n",
      " [35449.61375655]\n",
      " [36128.49258488]\n",
      " [36905.98612804]\n",
      " [34983.61966319]\n",
      " [32428.14605407]\n",
      " [31527.45412869]\n",
      " [32339.51360104]\n",
      " [32125.92799015]\n",
      " [33425.19559263]\n",
      " [32010.87239597]\n",
      " [30913.83875829]\n",
      " [31906.7522413 ]\n",
      " [35423.680283  ]\n",
      " [33985.69543408]\n",
      " [33375.98597837]\n",
      " [33749.27081401]\n",
      " [34840.06038176]\n",
      " [36632.39169812]\n",
      " [37439.6186536 ]\n",
      " [37704.81290422]\n",
      " [39853.19953531]\n",
      " [38583.07518547]\n",
      " [42964.52368138]\n",
      " [46721.06133376]\n",
      " [45614.54624363]\n",
      " [46708.86613448]\n",
      " [47563.68564053]\n",
      " [47152.48532221]\n",
      " [48729.62364695]\n",
      " [47558.14272431]\n",
      " [48926.91391113]\n",
      " [51102.55266637]\n",
      " [51855.64365371]\n",
      " [53758.61336987]\n",
      " [56331.67441344]\n",
      " [57193.40189409]\n",
      " [53808.381228  ]\n",
      " [48517.63953166]\n",
      " [49814.61151226]\n",
      " [49852.94249518]\n",
      " [46514.54403621]\n",
      " [47007.4793528 ]\n",
      " [44632.89115247]\n",
      " [47971.25305236]\n",
      " [48576.89034581]\n",
      " [50816.08659958]\n",
      " [49263.59237302]\n",
      " [47634.46965531]\n",
      " [48257.10736922]\n",
      " [50354.91584106]\n",
      " [50840.52708824]\n",
      " [54000.55701023]\n",
      " [55569.27626517]\n",
      " [56286.85736442]\n",
      " [56721.64882773]]\n"
     ]
    }
   ],
   "source": [
    "# ahora preparamos data de test para prediccion.\n",
    "# recordemos que en close_test tenemos nuestros datos para el testeo!\n",
    "\n",
    "# len(data) - len(close_test)# = 3388  datos de entrenamiento \n",
    "# len(data) - len(close_test) - timestep = 3328. tomaremos para prediccion desde el dato 3328 \n",
    "# hasta el ultimo quedando en 120 valores. Tomamos 60 de entrenamiento y otros 60 del test.\n",
    "# Esto lo dejaremos en input.\n",
    "# ¿por que?  porque si queremos 60 predicciones con 60 datos de entrada, necesitamos al menos\n",
    "# el doble de datos.\n",
    "\n",
    "inputs=data[len(data)-len(close_test)-timestep:]\n",
    "\n",
    "\n",
    "inputs=inputs.values.reshape(-1,1) # convierte inputs a array de 120 filas y 1 columna \n",
    "print(inputs.shape)\n",
    "print(inputs)\n",
    "inputs=scaler.transform(inputs) # escala valores 0-1.\n",
    "\n"
   ]
  },
  {
   "cell_type": "code",
   "execution_count": 51,
   "id": "manual-shanghai",
   "metadata": {},
   "outputs": [
    {
     "name": "stdout",
     "output_type": "stream",
     "text": [
      "(60, 60, 1)\n",
      "[[[0.40287814]\n",
      "  [0.39602102]\n",
      "  [0.39545641]\n",
      "  ...\n",
      "  [1.        ]\n",
      "  [0.96442644]\n",
      "  [0.83291057]]\n",
      "\n",
      " [[0.39602102]\n",
      "  [0.39545641]\n",
      "  [0.40661338]\n",
      "  ...\n",
      "  [0.96442644]\n",
      "  [0.83291057]\n",
      "  [0.86110652]]\n",
      "\n",
      " [[0.39545641]\n",
      "  [0.40661338]\n",
      "  [0.4273591 ]\n",
      "  ...\n",
      "  [0.83291057]\n",
      "  [0.86110652]\n",
      "  [0.85864699]]\n",
      "\n",
      " ...\n",
      "\n",
      " [[1.        ]\n",
      "  [0.96442644]\n",
      "  [0.83291057]\n",
      "  ...\n",
      "  [1.24625283]\n",
      "  [1.25827194]\n",
      "  [1.33648419]]\n",
      "\n",
      " [[0.96442644]\n",
      "  [0.83291057]\n",
      "  [0.86110652]\n",
      "  ...\n",
      "  [1.25827194]\n",
      "  [1.33648419]\n",
      "  [1.37531074]]\n",
      "\n",
      " [[0.83291057]\n",
      "  [0.86110652]\n",
      "  [0.85864699]\n",
      "  ...\n",
      "  [1.33648419]\n",
      "  [1.37531074]\n",
      "  [1.39307122]]]\n"
     ]
    }
   ],
   "source": [
    "# paso 2\n",
    "# al igual que con x_train, tenemos que generar del set de datos de input, aquellas muestras \n",
    "# que seran de entrada para hacer la prediccion. Obviamente, en bloques de 60.\n",
    "\n",
    "\n",
    "x_test=[]\n",
    "for i in range(timestep,inputs.shape[0]):\n",
    "    x_test.append(inputs[i-timestep:i,0])\n",
    "x_test=np.array(x_test)\n",
    "x_test=x_test.reshape(x_test.shape[0],x_test.shape[1],1)\n",
    "\n",
    "print(x_test.shape) #60 vectores con 60 valores de entrada para la prediccion.\n",
    "print(x_test)"
   ]
  },
  {
   "cell_type": "code",
   "execution_count": 48,
   "id": "selected-shooting",
   "metadata": {},
   "outputs": [
    {
     "name": "stdout",
     "output_type": "stream",
     "text": [
      "[[37373.016]\n",
      " [36600.496]\n",
      " [36236.543]\n",
      " [38022.004]\n",
      " [38135.87 ]\n",
      " [37833.543]\n",
      " [37024.81 ]\n",
      " [37127.934]\n",
      " [37765.926]\n",
      " [36747.688]\n",
      " [34860.42 ]\n",
      " [33474.543]\n",
      " [33553.137]\n",
      " [34054.48 ]\n",
      " [34704.402]\n",
      " [34146.9  ]\n",
      " [33063.582]\n",
      " [32981.36 ]\n",
      " [34520.008]\n",
      " [34753.15 ]\n",
      " [34192.63 ]\n",
      " [34051.52 ]\n",
      " [34957.066]\n",
      " [37165.203]\n",
      " [37897.082]\n",
      " [38166.37 ]\n",
      " [39191.855]\n",
      " [39489.73 ]\n",
      " [42017.61 ]\n",
      " [45311.004]\n",
      " [46866.094]\n",
      " [47133.56 ]\n",
      " [48133.387]\n",
      " [48708.906]\n",
      " [50591.133]\n",
      " [49965.54 ]\n",
      " [50201.285]\n",
      " [51203.77 ]\n",
      " [52740.562]\n",
      " [54361.207]\n",
      " [56930.43 ]\n",
      " [57921.594]\n",
      " [56098.965]\n",
      " [52456.348]\n",
      " [51101.492]\n",
      " [52291.676]\n",
      " [50531.88 ]\n",
      " [49195.035]\n",
      " [47005.54 ]\n",
      " [47992.43 ]\n",
      " [49317.156]\n",
      " [51002.87 ]\n",
      " [50186.27 ]\n",
      " [49656.145]\n",
      " [49196.23 ]\n",
      " [50666.67 ]\n",
      " [52372.523]\n",
      " [54459.93 ]\n",
      " [55991.145]\n",
      " [57191.066]]\n"
     ]
    }
   ],
   "source": [
    "#predicciones\n",
    "\n",
    "predicted_data=model.predict(x_test)\n",
    "predicted_data=scaler.inverse_transform(predicted_data)\n",
    "\n",
    "print(predicted_data)"
   ]
  },
  {
   "cell_type": "code",
   "execution_count": 86,
   "id": "divided-korea",
   "metadata": {},
   "outputs": [],
   "source": [
    "# para ploteo\n",
    "data_test = np.array(close_test)\n",
    "data_test = data_test.reshape(len(data_test),1)"
   ]
  },
  {
   "cell_type": "code",
   "execution_count": 87,
   "id": "southern-progress",
   "metadata": {},
   "outputs": [
    {
     "data": {
      "image/png": "[encoded data removed]",
      "text/plain": [
       "<Figure size 640x320 with 1 Axes>"
      ]
     },
     "metadata": {},
     "output_type": "display_data"
    }
   ],
   "source": [
    "# ploteo de predicciones\n",
    "plt.figure(figsize=(8,4), dpi=80, facecolor='w', edgecolor='k')\n",
    "plt.plot(data_test,color=\"r\",label=\"true result\")\n",
    "plt.plot(predicted_data,color=\"b\",label=\"predicted result\")\n",
    "plt.legend()\n",
    "plt.xlabel(\"Time(60 days)\")\n",
    "plt.ylabel(\"Values\")\n",
    "plt.grid(True)\n",
    "plt.show()\n"
   ]
  },
  {
   "cell_type": "code",
   "execution_count": 89,
   "id": "mounted-panama",
   "metadata": {},
   "outputs": [
    {
     "name": "stdout",
     "output_type": "stream",
     "text": [
      "5378022.8198098\n"
     ]
    }
   ],
   "source": [
    "# Como hacemos para ver la evolucion del MSE (loss function) con el set de test?\n",
    "\n",
    "#print(data_test.shape)  # (60, 1)\n",
    "#print(predicted_data.shape) # (60, 1)\n",
    "\n",
    "from sklearn.metrics import mean_squared_error\n",
    "mse = mean_squared_error(data_test, predicted_data)\n",
    "\n",
    "print(mse)\n"
   ]
  },
  {
   "cell_type": "code",
   "execution_count": 91,
   "id": "shaped-halloween",
   "metadata": {},
   "outputs": [
    {
     "name": "stdout",
     "output_type": "stream",
     "text": [
      "(3328, 60, 1)\n",
      "60\n"
     ]
    }
   ],
   "source": [
    "# # # # # # # # # # # # # # # # # # # # # # # # # # # # # # # # # \n",
    "# # # # # # # # # # # # # # # # # # # # # # # # # # # # # # # # # \n",
    "# # # # # # # # # # # # # # # # # # # # # # # # # # # # # # # # # \n",
    "# # # # # # # # # # # # # # # # # # # # # # # # # # # # # # # # # \n",
    "print(x_train.shape)\n",
    "print(x_train.shape[1])"
   ]
  },
  {
   "cell_type": "code",
   "execution_count": 92,
   "id": "dense-burning",
   "metadata": {},
   "outputs": [
    {
     "name": "stdout",
     "output_type": "stream",
     "text": [
      "Epoch 1/50\n",
      "3328/3328 [==============================] - 13s 4ms/step - loss: 0.0023\n",
      "Epoch 2/50\n",
      "3328/3328 [==============================] - 12s 4ms/step - loss: 4.4015e-04\n",
      "Epoch 3/50\n",
      "3328/3328 [==============================] - 12s 4ms/step - loss: 2.6030e-04\n",
      "Epoch 4/50\n",
      "3328/3328 [==============================] - 12s 4ms/step - loss: 2.2121e-04\n",
      "Epoch 5/50\n",
      "3328/3328 [==============================] - 12s 4ms/step - loss: 2.6784e-04\n",
      "Epoch 6/50\n",
      "3328/3328 [==============================] - 11s 3ms/step - loss: 2.0067e-04\n",
      "Epoch 7/50\n",
      "3328/3328 [==============================] - 12s 3ms/step - loss: 1.7199e-04\n",
      "Epoch 8/50\n",
      "3328/3328 [==============================] - 12s 4ms/step - loss: 1.6735e-04\n",
      "Epoch 9/50\n",
      "3328/3328 [==============================] - 13s 4ms/step - loss: 1.6545e-04\n",
      "Epoch 10/50\n",
      "3328/3328 [==============================] - 13s 4ms/step - loss: 1.3059e-04\n",
      "Epoch 11/50\n",
      "3328/3328 [==============================] - 12s 4ms/step - loss: 9.8283e-05\n",
      "Epoch 12/50\n",
      "3328/3328 [==============================] - 12s 4ms/step - loss: 1.9023e-04\n",
      "Epoch 13/50\n",
      "3328/3328 [==============================] - 13s 4ms/step - loss: 1.3905e-04\n",
      "Epoch 14/50\n",
      "3328/3328 [==============================] - 12s 4ms/step - loss: 9.2958e-05\n",
      "Epoch 15/50\n",
      "3328/3328 [==============================] - 12s 4ms/step - loss: 6.8936e-05\n",
      "Epoch 16/50\n",
      "3328/3328 [==============================] - 12s 4ms/step - loss: 9.1014e-05\n",
      "Epoch 17/50\n",
      "3328/3328 [==============================] - 12s 4ms/step - loss: 1.2693e-04\n",
      "Epoch 18/50\n",
      "3328/3328 [==============================] - 12s 4ms/step - loss: 1.0227e-04\n",
      "Epoch 19/50\n",
      "3328/3328 [==============================] - 12s 4ms/step - loss: 1.1142e-04\n",
      "Epoch 20/50\n",
      "3328/3328 [==============================] - 13s 4ms/step - loss: 7.6433e-05\n",
      "Epoch 21/50\n",
      "3328/3328 [==============================] - 12s 4ms/step - loss: 9.8738e-05\n",
      "Epoch 22/50\n",
      "3328/3328 [==============================] - 12s 4ms/step - loss: 7.6187e-05\n",
      "Epoch 23/50\n",
      "3328/3328 [==============================] - 12s 4ms/step - loss: 7.7201e-05\n",
      "Epoch 24/50\n",
      "3328/3328 [==============================] - 12s 4ms/step - loss: 8.5254e-05\n",
      "Epoch 25/50\n",
      "3328/3328 [==============================] - 12s 4ms/step - loss: 6.4231e-05\n",
      "Epoch 26/50\n",
      "3328/3328 [==============================] - 12s 4ms/step - loss: 7.1461e-05\n",
      "Epoch 27/50\n",
      "3328/3328 [==============================] - 12s 4ms/step - loss: 5.6909e-05\n",
      "Epoch 28/50\n",
      "3328/3328 [==============================] - 12s 4ms/step - loss: 7.9465e-05\n",
      "Epoch 29/50\n",
      "3328/3328 [==============================] - 12s 4ms/step - loss: 5.4074e-05\n",
      "Epoch 30/50\n",
      "3328/3328 [==============================] - 12s 4ms/step - loss: 5.4918e-05\n",
      "Epoch 31/50\n",
      "3328/3328 [==============================] - 12s 3ms/step - loss: 4.5507e-05\n",
      "Epoch 32/50\n",
      "3328/3328 [==============================] - 12s 3ms/step - loss: 5.0920e-05\n",
      "Epoch 33/50\n",
      "3328/3328 [==============================] - 12s 4ms/step - loss: 4.5572e-05\n",
      "Epoch 34/50\n",
      "3328/3328 [==============================] - 12s 3ms/step - loss: 5.0350e-05\n",
      "Epoch 35/50\n",
      "3328/3328 [==============================] - 12s 4ms/step - loss: 4.5170e-05\n",
      "Epoch 36/50\n",
      "3328/3328 [==============================] - 12s 4ms/step - loss: 4.4896e-05\n",
      "Epoch 37/50\n",
      "3328/3328 [==============================] - 12s 4ms/step - loss: 4.8318e-05\n",
      "Epoch 38/50\n",
      "3328/3328 [==============================] - 12s 4ms/step - loss: 4.4145e-05\n",
      "Epoch 39/50\n",
      "3328/3328 [==============================] - 12s 4ms/step - loss: 4.8572e-05\n",
      "Epoch 40/50\n",
      "3328/3328 [==============================] - 12s 4ms/step - loss: 5.7259e-05\n",
      "Epoch 41/50\n",
      "3328/3328 [==============================] - 12s 4ms/step - loss: 9.4419e-05\n",
      "Epoch 42/50\n",
      "3328/3328 [==============================] - 12s 4ms/step - loss: 5.0969e-05\n",
      "Epoch 43/50\n",
      "3328/3328 [==============================] - 12s 4ms/step - loss: 9.2639e-05\n",
      "Epoch 44/50\n",
      "3328/3328 [==============================] - 12s 4ms/step - loss: 5.5167e-05\n",
      "Epoch 45/50\n",
      "3328/3328 [==============================] - 12s 4ms/step - loss: 4.5510e-05\n",
      "Epoch 46/50\n",
      "3328/3328 [==============================] - 12s 4ms/step - loss: 5.0797e-05\n",
      "Epoch 47/50\n",
      "3328/3328 [==============================] - 12s 4ms/step - loss: 5.1172e-05\n",
      "Epoch 48/50\n",
      "3328/3328 [==============================] - 12s 4ms/step - loss: 4.7972e-05\n",
      "Epoch 49/50\n",
      "3328/3328 [==============================] - 12s 4ms/step - loss: 4.7744e-05\n",
      "Epoch 50/50\n",
      "3328/3328 [==============================] - 12s 4ms/step - loss: 6.0558e-05\n"
     ]
    }
   ],
   "source": [
    "# Implementacion de RNN\n",
    "\n",
    "# Tenemos en Keras el layer “SimpleRNN”, que tiene como entrada un tensor de shape \n",
    "#(batch_size, internal_units) y sus repsectivas funciones de activación (RELU).\n",
    "# La RNN pasa informacion a traves de la capa escondida a la siguiente capa y a si misma, por lo que\n",
    "# dejamos return_sequences = True.\n",
    "# La matriz al final es convertida en un solo vector de 1 columna usando Flatten().\n",
    "# finalmente compilamos.\n",
    "\n",
    "reg=Sequential()\n",
    "reg.add(SimpleRNN(128,activation=\"relu\", return_sequences = True, input_shape=(x_train.shape[1],1)))\n",
    "#reg.add(Dropout(0.25))\n",
    "#aqui el shape de salida de esta capa seria (1,60,128), es decir 60 vectores con 128 estados de las neuronas\n",
    "# que van de input a la siguiente capa. La última (output del timestamp 60) se realimenta a primera RNN\n",
    "# de esta capa.\n",
    "\n",
    "reg.add(SimpleRNN(256,activation=\"relu\",return_sequences = True))\n",
    "#reg.add(Dropout(0.25))\n",
    "\n",
    "reg.add(SimpleRNN(512,activation=\"relu\",return_sequences = True))\n",
    "#reg.add(Dropout(0.35))\n",
    "\n",
    "reg.add(Flatten())\n",
    "reg.add(Dense(1))\n",
    "\n",
    "reg.compile(optimizer=\"adam\",loss=\"mean_squared_error\")\n",
    "history = reg.fit(x_train,y_train,epochs=50,batch_size=64)"
   ]
  },
  {
   "cell_type": "code",
   "execution_count": 93,
   "id": "derived-princess",
   "metadata": {},
   "outputs": [
    {
     "data": {
      "image/png": "[encoded data removed]",
      "text/plain": [
       "<Figure size 432x288 with 1 Axes>"
      ]
     },
     "metadata": {
      "needs_background": "light"
     },
     "output_type": "display_data"
    }
   ],
   "source": [
    "# #evaluacion del proceso \n",
    "\n",
    "plt.plot(history.history['loss'], label='train')\n",
    "#plt.plot(history.history['mean_squared_error'], label='train')\n",
    "plt.show()\n"
   ]
  },
  {
   "cell_type": "code",
   "execution_count": 94,
   "id": "mexican-prime",
   "metadata": {},
   "outputs": [],
   "source": [
    "# predicciones.\n",
    "\n",
    "predicted_data=reg.predict(x_test)\n",
    "predicted_data=scaler.inverse_transform(predicted_data)"
   ]
  },
  {
   "cell_type": "code",
   "execution_count": 95,
   "id": "recognized-charity",
   "metadata": {},
   "outputs": [
    {
     "data": {
      "image/png": "[encoded data removed]",
      "text/plain": [
       "<Figure size 640x320 with 1 Axes>"
      ]
     },
     "metadata": {},
     "output_type": "display_data"
    }
   ],
   "source": [
    "# Ploteo.\n",
    "plt.figure(figsize=(8,4), dpi=80, facecolor='w', edgecolor='k')\n",
    "plt.plot(data_test,color=\"r\",label=\"true-result\")\n",
    "plt.plot(predicted_data,color=\"g\",label=\"predicted-result\")\n",
    "plt.legend()\n",
    "plt.xlabel(\"Time(60 days)\")\n",
    "plt.ylabel(\"Close Values\")\n",
    "plt.grid(True)\n",
    "plt.show()"
   ]
  },
  {
   "cell_type": "code",
   "execution_count": 96,
   "id": "dense-drain",
   "metadata": {},
   "outputs": [
    {
     "name": "stdout",
     "output_type": "stream",
     "text": [
      "9878539.711630173\n"
     ]
    }
   ],
   "source": [
    "# Como hacemos para ver la evolucion del MSE (loss function) con el set de test?\n",
    "\n",
    "#print(data_test.shape)  # (60, 1)\n",
    "#print(predicted_data.shape) # (60, 1)\n",
    "\n",
    "from sklearn.metrics import mean_squared_error\n",
    "mse = mean_squared_error(data_test, predicted_data)\n",
    "\n",
    "print(mse)"
   ]
  },
  {
   "cell_type": "code",
   "execution_count": null,
   "id": "guilty-island",
   "metadata": {},
   "outputs": [],
   "source": [
    "# Los resultados no son tan satisfactorios. esto es debido al vanishing gradient.\n",
    "# Podemos utilizar LSTM\n"
   ]
  }
 ],
 "metadata": {
  "kernelspec": {
   "display_name": "Python 3",
   "language": "python",
   "name": "python3"
  },
  "language_info": {
   "codemirror_mode": {
    "name": "ipython",
    "version": 3
   },
   "file_extension": ".py",
   "mimetype": "text/x-python",
   "name": "python",
   "nbconvert_exporter": "python",
   "pygments_lexer": "ipython3",
   "version": "3.7.6"
  }
 },
 "nbformat": 4,
 "nbformat_minor": 5
}
