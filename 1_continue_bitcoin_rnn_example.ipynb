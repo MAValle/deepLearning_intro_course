{
  "cells": [
    {
      "cell_type": "code",
      "execution_count": 2,
      "id": "removable-vietnam",
      "metadata": {
        "id": "removable-vietnam"
      },
      "outputs": [],
      "source": [
        "# ejemplo de RNN para predecir precio de bitcoin\n",
        "\n",
        "import numpy as np\n",
        "import pandas as pd\n",
        "import matplotlib.pyplot as plt\n",
        "from sklearn.metrics import mean_absolute_error\n",
        "\n",
        "from keras.models import Sequential\n",
        "from keras.layers import Dense, LSTM, Dropout,Flatten, SimpleRNN\n",
        "\n",
        "# en jupyter lab online cargamos con tensorflow\n",
        "#import tensorflow as tf\n",
        "#from tensorflow.keras import Sequential\n",
        "#from tensorflow.keras.layers import Dense, LSTM, Dropout,Flatten, SimpleRNN"
      ]
    },
    {
      "cell_type": "code",
      "execution_count": 4,
      "id": "amino-grocery",
      "metadata": {
        "id": "amino-grocery",
        "outputId": "0945c53b-d1b9-417a-bdb5-c3bfa07fd5e2",
        "colab": {
          "base_uri": "https://localhost:8080/",
          "height": 206
        }
      },
      "outputs": [
        {
          "output_type": "execute_result",
          "data": {
            "text/plain": [
              "      Price\n",
              "0  5.874167\n",
              "1  5.582143\n",
              "2  5.120000\n",
              "3  4.835000\n",
              "4  4.870000"
            ],
            "text/html": [
              "\n",
              "\n",
              "  <div id=\"df-591678e4-99ee-4699-be77-23add7977a61\">\n",
              "    <div class=\"colab-df-container\">\n",
              "      <div>\n",
              "<style scoped>\n",
              "    .dataframe tbody tr th:only-of-type {\n",
              "        vertical-align: middle;\n",
              "    }\n",
              "\n",
              "    .dataframe tbody tr th {\n",
              "        vertical-align: top;\n",
              "    }\n",
              "\n",
              "    .dataframe thead th {\n",
              "        text-align: right;\n",
              "    }\n",
              "</style>\n",
              "<table border=\"1\" class=\"dataframe\">\n",
              "  <thead>\n",
              "    <tr style=\"text-align: right;\">\n",
              "      <th></th>\n",
              "      <th>Price</th>\n",
              "    </tr>\n",
              "  </thead>\n",
              "  <tbody>\n",
              "    <tr>\n",
              "      <th>0</th>\n",
              "      <td>5.874167</td>\n",
              "    </tr>\n",
              "    <tr>\n",
              "      <th>1</th>\n",
              "      <td>5.582143</td>\n",
              "    </tr>\n",
              "    <tr>\n",
              "      <th>2</th>\n",
              "      <td>5.120000</td>\n",
              "    </tr>\n",
              "    <tr>\n",
              "      <th>3</th>\n",
              "      <td>4.835000</td>\n",
              "    </tr>\n",
              "    <tr>\n",
              "      <th>4</th>\n",
              "      <td>4.870000</td>\n",
              "    </tr>\n",
              "  </tbody>\n",
              "</table>\n",
              "</div>\n",
              "      <button class=\"colab-df-convert\" onclick=\"convertToInteractive('df-591678e4-99ee-4699-be77-23add7977a61')\"\n",
              "              title=\"Convert this dataframe to an interactive table.\"\n",
              "              style=\"display:none;\">\n",
              "\n",
              "  <svg xmlns=\"http://www.w3.org/2000/svg\" height=\"24px\"viewBox=\"0 0 24 24\"\n",
              "       width=\"24px\">\n",
              "    <path d=\"M0 0h24v24H0V0z\" fill=\"none\"/>\n",
              "    <path d=\"M18.56 5.44l.94 2.06.94-2.06 2.06-.94-2.06-.94-.94-2.06-.94 2.06-2.06.94zm-11 1L8.5 8.5l.94-2.06 2.06-.94-2.06-.94L8.5 2.5l-.94 2.06-2.06.94zm10 10l.94 2.06.94-2.06 2.06-.94-2.06-.94-.94-2.06-.94 2.06-2.06.94z\"/><path d=\"M17.41 7.96l-1.37-1.37c-.4-.4-.92-.59-1.43-.59-.52 0-1.04.2-1.43.59L10.3 9.45l-7.72 7.72c-.78.78-.78 2.05 0 2.83L4 21.41c.39.39.9.59 1.41.59.51 0 1.02-.2 1.41-.59l7.78-7.78 2.81-2.81c.8-.78.8-2.07 0-2.86zM5.41 20L4 18.59l7.72-7.72 1.47 1.35L5.41 20z\"/>\n",
              "  </svg>\n",
              "      </button>\n",
              "\n",
              "\n",
              "\n",
              "    <div id=\"df-561fd42b-8a56-4edb-9185-9289def2c0d3\">\n",
              "      <button class=\"colab-df-quickchart\" onclick=\"quickchart('df-561fd42b-8a56-4edb-9185-9289def2c0d3')\"\n",
              "              title=\"Suggest charts.\"\n",
              "              style=\"display:none;\">\n",
              "\n",
              "<svg xmlns=\"http://www.w3.org/2000/svg\" height=\"24px\"viewBox=\"0 0 24 24\"\n",
              "     width=\"24px\">\n",
              "    <g>\n",
              "        <path d=\"M19 3H5c-1.1 0-2 .9-2 2v14c0 1.1.9 2 2 2h14c1.1 0 2-.9 2-2V5c0-1.1-.9-2-2-2zM9 17H7v-7h2v7zm4 0h-2V7h2v10zm4 0h-2v-4h2v4z\"/>\n",
              "    </g>\n",
              "</svg>\n",
              "      </button>\n",
              "    </div>\n",
              "\n",
              "<style>\n",
              "  .colab-df-quickchart {\n",
              "    background-color: #E8F0FE;\n",
              "    border: none;\n",
              "    border-radius: 50%;\n",
              "    cursor: pointer;\n",
              "    display: none;\n",
              "    fill: #1967D2;\n",
              "    height: 32px;\n",
              "    padding: 0 0 0 0;\n",
              "    width: 32px;\n",
              "  }\n",
              "\n",
              "  .colab-df-quickchart:hover {\n",
              "    background-color: #E2EBFA;\n",
              "    box-shadow: 0px 1px 2px rgba(60, 64, 67, 0.3), 0px 1px 3px 1px rgba(60, 64, 67, 0.15);\n",
              "    fill: #174EA6;\n",
              "  }\n",
              "\n",
              "  [theme=dark] .colab-df-quickchart {\n",
              "    background-color: #3B4455;\n",
              "    fill: #D2E3FC;\n",
              "  }\n",
              "\n",
              "  [theme=dark] .colab-df-quickchart:hover {\n",
              "    background-color: #434B5C;\n",
              "    box-shadow: 0px 1px 3px 1px rgba(0, 0, 0, 0.15);\n",
              "    filter: drop-shadow(0px 1px 2px rgba(0, 0, 0, 0.3));\n",
              "    fill: #FFFFFF;\n",
              "  }\n",
              "</style>\n",
              "\n",
              "    <script>\n",
              "      async function quickchart(key) {\n",
              "        const containerElement = document.querySelector('#' + key);\n",
              "        const charts = await google.colab.kernel.invokeFunction(\n",
              "            'suggestCharts', [key], {});\n",
              "      }\n",
              "    </script>\n",
              "\n",
              "      <script>\n",
              "\n",
              "function displayQuickchartButton(domScope) {\n",
              "  let quickchartButtonEl =\n",
              "    domScope.querySelector('#df-561fd42b-8a56-4edb-9185-9289def2c0d3 button.colab-df-quickchart');\n",
              "  quickchartButtonEl.style.display =\n",
              "    google.colab.kernel.accessAllowed ? 'block' : 'none';\n",
              "}\n",
              "\n",
              "        displayQuickchartButton(document);\n",
              "      </script>\n",
              "      <style>\n",
              "    .colab-df-container {\n",
              "      display:flex;\n",
              "      flex-wrap:wrap;\n",
              "      gap: 12px;\n",
              "    }\n",
              "\n",
              "    .colab-df-convert {\n",
              "      background-color: #E8F0FE;\n",
              "      border: none;\n",
              "      border-radius: 50%;\n",
              "      cursor: pointer;\n",
              "      display: none;\n",
              "      fill: #1967D2;\n",
              "      height: 32px;\n",
              "      padding: 0 0 0 0;\n",
              "      width: 32px;\n",
              "    }\n",
              "\n",
              "    .colab-df-convert:hover {\n",
              "      background-color: #E2EBFA;\n",
              "      box-shadow: 0px 1px 2px rgba(60, 64, 67, 0.3), 0px 1px 3px 1px rgba(60, 64, 67, 0.15);\n",
              "      fill: #174EA6;\n",
              "    }\n",
              "\n",
              "    [theme=dark] .colab-df-convert {\n",
              "      background-color: #3B4455;\n",
              "      fill: #D2E3FC;\n",
              "    }\n",
              "\n",
              "    [theme=dark] .colab-df-convert:hover {\n",
              "      background-color: #434B5C;\n",
              "      box-shadow: 0px 1px 3px 1px rgba(0, 0, 0, 0.15);\n",
              "      filter: drop-shadow(0px 1px 2px rgba(0, 0, 0, 0.3));\n",
              "      fill: #FFFFFF;\n",
              "    }\n",
              "  </style>\n",
              "\n",
              "      <script>\n",
              "        const buttonEl =\n",
              "          document.querySelector('#df-591678e4-99ee-4699-be77-23add7977a61 button.colab-df-convert');\n",
              "        buttonEl.style.display =\n",
              "          google.colab.kernel.accessAllowed ? 'block' : 'none';\n",
              "\n",
              "        async function convertToInteractive(key) {\n",
              "          const element = document.querySelector('#df-591678e4-99ee-4699-be77-23add7977a61');\n",
              "          const dataTable =\n",
              "            await google.colab.kernel.invokeFunction('convertToInteractive',\n",
              "                                                     [key], {});\n",
              "          if (!dataTable) return;\n",
              "\n",
              "          const docLinkHtml = 'Like what you see? Visit the ' +\n",
              "            '<a target=\"_blank\" href=https://colab.research.google.com/notebooks/data_table.ipynb>data table notebook</a>'\n",
              "            + ' to learn more about interactive tables.';\n",
              "          element.innerHTML = '';\n",
              "          dataTable['output_type'] = 'display_data';\n",
              "          await google.colab.output.renderOutput(dataTable, element);\n",
              "          const docLink = document.createElement('div');\n",
              "          docLink.innerHTML = docLinkHtml;\n",
              "          element.appendChild(docLink);\n",
              "        }\n",
              "      </script>\n",
              "    </div>\n",
              "  </div>\n"
            ]
          },
          "metadata": {},
          "execution_count": 4
        }
      ],
      "source": [
        "# carga de datos\n",
        "#data = pd.read_csv(\"data_bitcoin.csv\") # son app 63Kb de datos.\n",
        "#data.head()\n",
        "\n",
        "\n",
        "# carga de datos\n",
        "# vamos a importar los datos directamente desde github:\n",
        "url = 'https://raw.githubusercontent.com/MAValle/deepLearning_intro_course/main/data_bitcoin.csv'\n",
        "data = pd.read_csv(url)\n",
        "data.head()\n",
        "\n"
      ]
    },
    {
      "cell_type": "code",
      "execution_count": 5,
      "id": "premium-spell",
      "metadata": {
        "id": "premium-spell",
        "outputId": "7c1e9a7d-d27b-4e3c-c820-adb595f52701",
        "colab": {
          "base_uri": "https://localhost:8080/"
        }
      },
      "outputs": [
        {
          "output_type": "execute_result",
          "data": {
            "text/plain": [
              "(3448, 1)"
            ]
          },
          "metadata": {},
          "execution_count": 5
        }
      ],
      "source": [
        "data.shape"
      ]
    },
    {
      "cell_type": "code",
      "execution_count": 6,
      "id": "resident-stability",
      "metadata": {
        "id": "resident-stability",
        "outputId": "8fc4316a-aa53-4304-b233-8a5331c40b1b",
        "colab": {
          "base_uri": "https://localhost:8080/"
        }
      },
      "outputs": [
        {
          "output_type": "stream",
          "name": "stdout",
          "text": [
            "             Price\n",
            "3388  34793.749638\n",
            "3389  34694.376658\n",
            "3390  38636.764980\n",
            "3391  37039.937682\n",
            "3392  36841.820185\n",
            "(3388, 1)\n",
            "(60, 1)\n"
          ]
        }
      ],
      "source": [
        "# El objetivo es hacer una prediccion de los precios diarios de cierre.\n",
        "# consideraremos los últimos 60 precios para el testeo.\n",
        "\n",
        "close_train = data.iloc[:len(data)-60]\n",
        "close_test  = data.iloc[len(close_train):]\n",
        "\n",
        "print(close_test.head())\n",
        "print(close_train.shape)\n",
        "print(close_test.shape)"
      ]
    },
    {
      "cell_type": "code",
      "execution_count": 7,
      "id": "existing-baptist",
      "metadata": {
        "id": "existing-baptist",
        "outputId": "ef79bdee-6c76-4846-d6f4-78a50667b2e1",
        "colab": {
          "base_uri": "https://localhost:8080/"
        }
      },
      "outputs": [
        {
          "output_type": "stream",
          "name": "stdout",
          "text": [
            "[[5.87416667e+00]\n",
            " [5.58214286e+00]\n",
            " [5.12000000e+00]\n",
            " ...\n",
            " [4.04054990e+04]\n",
            " [3.89682115e+04]\n",
            " [3.36545416e+04]]\n"
          ]
        }
      ],
      "source": [
        "# Aqui transformamos los valores entre 0-1 para estandarizar.\n",
        "\n",
        "# convertir a array\n",
        "close_train = np.array(close_train)\n",
        "close_train = close_train.reshape(close_train.shape[0],1) # convierte close_train en un array de 3388 filas y 1 columna\n",
        "print(close_train)\n",
        "#print(close_train.shape[0])"
      ]
    },
    {
      "cell_type": "code",
      "execution_count": 8,
      "id": "flush-storm",
      "metadata": {
        "id": "flush-storm",
        "outputId": "a6dd164d-8db3-4083-9751-2dacd5e5a972",
        "colab": {
          "base_uri": "https://localhost:8080/"
        }
      },
      "outputs": [
        {
          "output_type": "stream",
          "name": "stdout",
          "text": [
            "[[8.99473645e-05]\n",
            " [8.27196354e-05]\n",
            " [7.12813785e-05]\n",
            " ...\n",
            " [1.00000000e+00]\n",
            " [9.64426445e-01]\n",
            " [8.32910571e-01]]\n"
          ]
        }
      ],
      "source": [
        "# estandarizar\n",
        "from sklearn.preprocessing import MinMaxScaler\n",
        "\n",
        "scaler = MinMaxScaler(feature_range=(0,1))\n",
        "close_scaled = scaler.fit_transform(close_train)\n",
        "print(close_scaled)"
      ]
    },
    {
      "cell_type": "code",
      "execution_count": 9,
      "id": "processed-robert",
      "metadata": {
        "id": "processed-robert",
        "outputId": "8d573448-01e2-4a67-96d0-0bcea81fff40",
        "colab": {
          "base_uri": "https://localhost:8080/"
        }
      },
      "outputs": [
        {
          "output_type": "stream",
          "name": "stdout",
          "text": [
            "3328\n",
            "3328\n"
          ]
        },
        {
          "output_type": "execute_result",
          "data": {
            "text/plain": [
              "array([8.99473645e-05, 8.27196354e-05, 7.12813785e-05, 6.42274921e-05,\n",
              "       6.50937588e-05, 6.43512445e-05, 6.58362732e-05, 7.84153400e-05,\n",
              "       8.62801686e-05, 8.54881533e-05, 8.58841609e-05, 8.62200603e-05,\n",
              "       9.42993236e-05, 9.07217545e-05, 6.52175112e-05, 6.50584010e-05,\n",
              "       6.37737333e-05, 6.45574985e-05, 6.54959541e-05, 7.27994079e-05,\n",
              "       6.61368147e-05, 6.02497366e-05, 5.43273006e-05, 4.08382898e-05,\n",
              "       5.10354870e-05, 4.41177282e-05, 4.22738175e-05, 4.23480690e-05,\n",
              "       4.47983664e-05, 4.15808041e-05, 3.96007658e-07, 0.00000000e+00,\n",
              "       1.76965922e-05, 1.12202170e-05, 1.31177537e-05, 4.25089471e-05,\n",
              "       4.50046203e-05, 3.20271194e-05, 2.57758556e-05, 2.68542693e-05,\n",
              "       2.72930278e-05, 2.15329164e-05, 1.75728398e-05, 2.07904021e-05,\n",
              "       2.43049700e-05, 2.45339120e-05, 2.62355074e-05, 2.74730313e-05,\n",
              "       2.74730313e-05, 1.08572100e-05, 1.55928015e-05, 1.27464965e-05,\n",
              "       1.25608679e-05, 8.22953415e-06, 5.50698150e-06, 3.21756222e-06,\n",
              "       5.65135929e-06, 7.52414551e-06, 1.25732432e-05, 6.30566041e-05])"
            ]
          },
          "metadata": {},
          "execution_count": 9
        }
      ],
      "source": [
        "# utiliza 60 datos como set de entrenamiento y entrada, y luego la 61 es el valor a predecir.\n",
        "\n",
        "timestep=60\n",
        "x_train=[]\n",
        "y_train=[]\n",
        "\n",
        "#close_scaled.shape[0]  es el largo de la serie igual a 3388\n",
        "\n",
        "for i in range(timestep,close_scaled.shape[0]):\n",
        "    x_train.append(close_scaled[i-timestep:i,0])\n",
        "    y_train.append(close_scaled[i,0])\n",
        "\n",
        "\n",
        "#print(x_train) # tiene 3388 vectores de 60 precios\n",
        "print(len(x_train))\n",
        "#print(y_train) # tiene 3388 precios\n",
        "print(len(y_train))\n",
        "\n",
        "#y_train[0]\n",
        "x_train[0]"
      ]
    },
    {
      "cell_type": "code",
      "execution_count": 10,
      "id": "oriental-rapid",
      "metadata": {
        "id": "oriental-rapid",
        "outputId": "580cd6bb-1583-4335-93a5-36b7bc50ee6f",
        "colab": {
          "base_uri": "https://localhost:8080/"
        }
      },
      "outputs": [
        {
          "output_type": "stream",
          "name": "stdout",
          "text": [
            "x-train-shape=  (3328, 60, 1)\n",
            "y-train-shape=  (3328,)\n"
          ]
        }
      ],
      "source": [
        "# paso 2\n",
        "x_train,y_train = np.array(x_train),np.array(y_train)\n",
        "x_train=x_train.reshape(x_train.shape[0],x_train.shape[1],1) #reshaped for RNN\n",
        "print(\"x-train-shape= \",x_train.shape)\n",
        "print(\"y-train-shape= \",y_train.shape)"
      ]
    },
    {
      "cell_type": "code",
      "execution_count": 11,
      "id": "respected-pharmacology",
      "metadata": {
        "id": "respected-pharmacology",
        "outputId": "75d34cd7-87fe-4ec1-8364-199ac6cf1936",
        "colab": {
          "base_uri": "https://localhost:8080/"
        }
      },
      "outputs": [
        {
          "output_type": "stream",
          "name": "stdout",
          "text": [
            "(3328, 60, 1)\n",
            "60\n"
          ]
        }
      ],
      "source": [
        "# notar la estructura de x_train:\n",
        "\n",
        "# por ejemplo x_train.shape[1] es un array con 60 columnas. Estas columnas son las\n",
        "#que van a entrar al input layer. No entra un vector numérico.\n",
        "# esto es importante porque condiciona la forma en que salen los ouputs.\n",
        "\n",
        "print(x_train.shape) # tenemos 3328 vectores de 60 precios. Esto es lo que va entrando a la red.\n",
        "print(x_train.shape[1]) # cada vector tiene 60 precios.\n"
      ]
    },
    {
      "cell_type": "code",
      "execution_count": null,
      "id": "bridal-secretariat",
      "metadata": {
        "id": "bridal-secretariat"
      },
      "outputs": [],
      "source": [
        "# # # # # # # # # # # # # # # # # # # # # # # # # # # # # # # # #"
      ]
    },
    {
      "cell_type": "code",
      "execution_count": 13,
      "id": "intellectual-watch",
      "metadata": {
        "id": "intellectual-watch",
        "outputId": "6694bdc9-473d-4c6f-d0e7-3bc6187c4f56",
        "colab": {
          "base_uri": "https://localhost:8080/"
        }
      },
      "outputs": [
        {
          "output_type": "stream",
          "name": "stdout",
          "text": [
            "Epoch 1/10\n",
            "52/52 [==============================] - 1s 6ms/step - loss: 0.0030 - mse: 0.0030\n",
            "Epoch 2/10\n",
            "52/52 [==============================] - 0s 6ms/step - loss: 7.8870e-04 - mse: 7.8870e-04\n",
            "Epoch 3/10\n",
            "52/52 [==============================] - 0s 6ms/step - loss: 5.0208e-04 - mse: 5.0208e-04\n",
            "Epoch 4/10\n",
            "52/52 [==============================] - 0s 5ms/step - loss: 3.3882e-04 - mse: 3.3882e-04\n",
            "Epoch 5/10\n",
            "52/52 [==============================] - 0s 6ms/step - loss: 2.7058e-04 - mse: 2.7058e-04\n",
            "Epoch 6/10\n",
            "52/52 [==============================] - 0s 5ms/step - loss: 2.2948e-04 - mse: 2.2948e-04\n",
            "Epoch 7/10\n",
            "52/52 [==============================] - 0s 6ms/step - loss: 1.9034e-04 - mse: 1.9034e-04\n",
            "Epoch 8/10\n",
            "52/52 [==============================] - 0s 5ms/step - loss: 1.6692e-04 - mse: 1.6692e-04\n",
            "Epoch 9/10\n",
            "52/52 [==============================] - 0s 5ms/step - loss: 1.5717e-04 - mse: 1.5717e-04\n",
            "Epoch 10/10\n",
            "52/52 [==============================] - 0s 5ms/step - loss: 1.6832e-04 - mse: 1.6832e-04\n"
          ]
        }
      ],
      "source": [
        "# Implementacion de NN\n",
        "# la API de Keras Sequential es usada como de costumbre para crear el modelo. El MLP se contruye\n",
        "# sobre la base de capas en lostes densamente conectadas, por lo que usamos la funcion Dense().\n",
        "\n",
        "# Luego la arquitectura se compila estableciendo los hiperparámetros y el kernel de optimización.\n",
        "# Finalmente, se fitea la red a los datos de entrenamiento con 50 epochs.\n",
        "\n",
        "model = Sequential()\n",
        "model.add(Dense(56, input_shape=(x_train.shape[1],1), activation='relu')) # entrada 60 neuronas, salida 56 neuronas\n",
        "#model.add(Dense(56, input_shape=(x_train.shape[1],), activation='relu')) # entrada 60 neuronas, salida 56 neuronas\n",
        "model.add(Dense(32, activation='relu'))\n",
        "model.add(Flatten())  #https://stackoverflow.com/questions/43237124/what-is-the-role-of-flatten-in-keras\n",
        "model.add(Dense(1))\n",
        "\n",
        "model.compile(optimizer=\"adam\",loss=\"mean_squared_error\", metrics=['mse'])\n",
        "history = model.fit(x_train,y_train,epochs=10,batch_size=64)\n"
      ]
    },
    {
      "cell_type": "code",
      "execution_count": 14,
      "id": "amateur-prize",
      "metadata": {
        "id": "amateur-prize",
        "outputId": "7b4b491c-fd7b-4dad-c4e0-296cbeee7d5a",
        "colab": {
          "base_uri": "https://localhost:8080/",
          "height": 430
        }
      },
      "outputs": [
        {
          "output_type": "display_data",
          "data": {
            "text/plain": [
              "<Figure size 640x480 with 1 Axes>"
            ],
            "image/png": "[encoded data removed]"
          },
          "metadata": {}
        }
      ],
      "source": [
        "# Evaluacion del modelo con train set\n",
        "#print(history.history) # tiene loss y mean_squared_error\n",
        "\n",
        "plt.plot(history.history['loss'], label='train')\n",
        "#plt.plot(history.history['mean_squared_error'], label='train')\n",
        "plt.show()"
      ]
    },
    {
      "cell_type": "code",
      "execution_count": 15,
      "id": "alpha-exhaust",
      "metadata": {
        "id": "alpha-exhaust",
        "outputId": "741710ca-63d3-4400-b86e-26cdca9795c3",
        "colab": {
          "base_uri": "https://localhost:8080/"
        }
      },
      "outputs": [
        {
          "output_type": "stream",
          "name": "stdout",
          "text": [
            "(120, 1)\n",
            "[[16279.82971834]\n",
            " [16002.77983225]\n",
            " [15979.96787722]\n",
            " [16430.74588307]\n",
            " [17268.94039002]\n",
            " [17881.21028309]\n",
            " [17801.6469543 ]\n",
            " [18360.23015132]\n",
            " [18720.46861578]\n",
            " [18337.80238069]\n",
            " [18438.878714  ]\n",
            " [18939.28873823]\n",
            " [19051.71350101]\n",
            " [17200.67461348]\n",
            " [16955.0982882 ]\n",
            " [17389.9772657 ]\n",
            " [18027.70585954]\n",
            " [19061.8357438 ]\n",
            " [19196.46453403]\n",
            " [18933.50034101]\n",
            " [19309.47116477]\n",
            " [19081.52631458]\n",
            " [18981.5437042 ]\n",
            " [19150.4708231 ]\n",
            " [19189.08096393]\n",
            " [18865.08550867]\n",
            " [18244.81628606]\n",
            " [18273.61070645]\n",
            " [17923.9118587 ]\n",
            " [18479.16546148]\n",
            " [19142.26171027]\n",
            " [19166.1507658 ]\n",
            " [19335.52610827]\n",
            " [20378.55465055]\n",
            " [22730.73493971]\n",
            " [22865.0388434 ]\n",
            " [23458.76198432]\n",
            " [23603.69759416]\n",
            " [23078.46686784]\n",
            " [23129.09807163]\n",
            " [23483.56654105]\n",
            " [23203.45488959]\n",
            " [24075.884614  ]\n",
            " [25594.26362466]\n",
            " [27094.35316904]\n",
            " [26963.03143607]\n",
            " [26654.23907847]\n",
            " [28180.26608524]\n",
            " [28835.9243266 ]\n",
            " [29269.12533855]\n",
            " [31247.50621825]\n",
            " [33477.30571855]\n",
            " [31286.55592198]\n",
            " [32372.35450507]\n",
            " [34957.00203889]\n",
            " [38286.02575034]\n",
            " [39948.57306874]\n",
            " [40405.49903271]\n",
            " [38968.21147457]\n",
            " [33654.54156201]\n",
            " [34793.74963787]\n",
            " [34694.37665806]\n",
            " [38636.76497962]\n",
            " [37039.93768222]\n",
            " [36841.82018525]\n",
            " [35449.61375655]\n",
            " [36128.49258488]\n",
            " [36905.98612804]\n",
            " [34983.61966319]\n",
            " [32428.14605407]\n",
            " [31527.45412869]\n",
            " [32339.51360104]\n",
            " [32125.92799015]\n",
            " [33425.19559263]\n",
            " [32010.87239597]\n",
            " [30913.83875829]\n",
            " [31906.7522413 ]\n",
            " [35423.680283  ]\n",
            " [33985.69543408]\n",
            " [33375.98597837]\n",
            " [33749.27081401]\n",
            " [34840.06038176]\n",
            " [36632.39169812]\n",
            " [37439.6186536 ]\n",
            " [37704.81290422]\n",
            " [39853.19953531]\n",
            " [38583.07518547]\n",
            " [42964.52368138]\n",
            " [46721.06133376]\n",
            " [45614.54624363]\n",
            " [46708.86613448]\n",
            " [47563.68564053]\n",
            " [47152.48532221]\n",
            " [48729.62364695]\n",
            " [47558.14272431]\n",
            " [48926.91391113]\n",
            " [51102.55266637]\n",
            " [51855.64365371]\n",
            " [53758.61336987]\n",
            " [56331.67441344]\n",
            " [57193.40189409]\n",
            " [53808.381228  ]\n",
            " [48517.63953166]\n",
            " [49814.61151226]\n",
            " [49852.94249518]\n",
            " [46514.54403621]\n",
            " [47007.4793528 ]\n",
            " [44632.89115247]\n",
            " [47971.25305236]\n",
            " [48576.89034581]\n",
            " [50816.08659958]\n",
            " [49263.59237302]\n",
            " [47634.46965531]\n",
            " [48257.10736922]\n",
            " [50354.91584106]\n",
            " [50840.52708824]\n",
            " [54000.55701023]\n",
            " [55569.27626517]\n",
            " [56286.85736442]\n",
            " [56721.64882773]]\n"
          ]
        }
      ],
      "source": [
        "# ahora preparamos data de test para prediccion.\n",
        "# recordemos que en close_test tenemos nuestros datos para el testeo!\n",
        "\n",
        "# len(data) - len(close_test)# = 3388  datos de entrenamiento\n",
        "# len(data) - len(close_test) - timestep = 3328. tomaremos para prediccion desde el dato 3328\n",
        "# hasta el ultimo quedando en 120 valores. Tomamos 60 de entrenamiento y otros 60 del test.\n",
        "# Esto lo dejaremos en input.\n",
        "# ¿por que?  porque si queremos 60 predicciones con 60 datos de entrada, necesitamos al menos\n",
        "# el doble de datos.\n",
        "\n",
        "inputs=data[len(data)-len(close_test)-timestep:]\n",
        "\n",
        "\n",
        "inputs=inputs.values.reshape(-1,1) # convierte inputs a array de 120 filas y 1 columna\n",
        "print(inputs.shape)\n",
        "print(inputs)\n",
        "inputs=scaler.transform(inputs) # escala valores 0-1.\n",
        "\n"
      ]
    },
    {
      "cell_type": "code",
      "execution_count": 16,
      "id": "manual-shanghai",
      "metadata": {
        "id": "manual-shanghai",
        "outputId": "c4cb0b13-016d-429e-b5a1-c1e02e930720",
        "colab": {
          "base_uri": "https://localhost:8080/"
        }
      },
      "outputs": [
        {
          "output_type": "stream",
          "name": "stdout",
          "text": [
            "(60, 60, 1)\n",
            "[[[0.40287814]\n",
            "  [0.39602102]\n",
            "  [0.39545641]\n",
            "  ...\n",
            "  [1.        ]\n",
            "  [0.96442644]\n",
            "  [0.83291057]]\n",
            "\n",
            " [[0.39602102]\n",
            "  [0.39545641]\n",
            "  [0.40661338]\n",
            "  ...\n",
            "  [0.96442644]\n",
            "  [0.83291057]\n",
            "  [0.86110652]]\n",
            "\n",
            " [[0.39545641]\n",
            "  [0.40661338]\n",
            "  [0.4273591 ]\n",
            "  ...\n",
            "  [0.83291057]\n",
            "  [0.86110652]\n",
            "  [0.85864699]]\n",
            "\n",
            " ...\n",
            "\n",
            " [[1.        ]\n",
            "  [0.96442644]\n",
            "  [0.83291057]\n",
            "  ...\n",
            "  [1.24625283]\n",
            "  [1.25827194]\n",
            "  [1.33648419]]\n",
            "\n",
            " [[0.96442644]\n",
            "  [0.83291057]\n",
            "  [0.86110652]\n",
            "  ...\n",
            "  [1.25827194]\n",
            "  [1.33648419]\n",
            "  [1.37531074]]\n",
            "\n",
            " [[0.83291057]\n",
            "  [0.86110652]\n",
            "  [0.85864699]\n",
            "  ...\n",
            "  [1.33648419]\n",
            "  [1.37531074]\n",
            "  [1.39307122]]]\n"
          ]
        }
      ],
      "source": [
        "# paso 2\n",
        "# al igual que con x_train, tenemos que generar del set de datos de input, aquellas muestras\n",
        "# que seran de entrada para hacer la prediccion. Obviamente, en bloques de 60.\n",
        "\n",
        "\n",
        "x_test=[]\n",
        "for i in range(timestep,inputs.shape[0]):\n",
        "    x_test.append(inputs[i-timestep:i,0])\n",
        "x_test=np.array(x_test)\n",
        "x_test=x_test.reshape(x_test.shape[0],x_test.shape[1],1)\n",
        "\n",
        "print(x_test.shape) #60 vectores con 60 valores de entrada para la prediccion.\n",
        "print(x_test)"
      ]
    },
    {
      "cell_type": "code",
      "execution_count": 17,
      "id": "selected-shooting",
      "metadata": {
        "id": "selected-shooting",
        "outputId": "dd966898-baac-4cc1-8fd9-0289550897ff",
        "colab": {
          "base_uri": "https://localhost:8080/"
        }
      },
      "outputs": [
        {
          "output_type": "stream",
          "name": "stdout",
          "text": [
            "2/2 [==============================] - 1s 12ms/step\n",
            "[[39999.52 ]\n",
            " [40146.15 ]\n",
            " [40208.188]\n",
            " [40974.22 ]\n",
            " [41732.797]\n",
            " [42091.59 ]\n",
            " [42384.07 ]\n",
            " [42472.754]\n",
            " [42586.152]\n",
            " [41815.8  ]\n",
            " [40662.355]\n",
            " [39911.652]\n",
            " [39552.938]\n",
            " [39648.35 ]\n",
            " [39289.96 ]\n",
            " [39006.387]\n",
            " [38077.56 ]\n",
            " [37992.94 ]\n",
            " [38330.387]\n",
            " [38325.473]\n",
            " [38189.812]\n",
            " [38053.195]\n",
            " [38099.035]\n",
            " [38356.137]\n",
            " [38922.81 ]\n",
            " [39826.914]\n",
            " [41054.164]\n",
            " [42017.535]\n",
            " [42986.04 ]\n",
            " [44465.504]\n",
            " [45760.133]\n",
            " [47115.21 ]\n",
            " [48559.754]\n",
            " [49900.77 ]\n",
            " [51554.293]\n",
            " [52543.29 ]\n",
            " [53808.082]\n",
            " [55337.215]\n",
            " [57308.87 ]\n",
            " [58367.83 ]\n",
            " [60312.883]\n",
            " [62191.09 ]\n",
            " [62355.41 ]\n",
            " [61868.223]\n",
            " [61984.14 ]\n",
            " [62044.254]\n",
            " [61738.453]\n",
            " [61154.71 ]\n",
            " [60940.07 ]\n",
            " [60831.57 ]\n",
            " [60723.63 ]\n",
            " [60562.984]\n",
            " [60089.434]\n",
            " [59603.363]\n",
            " [59758.094]\n",
            " [60095.117]\n",
            " [59578.27 ]\n",
            " [60178.59 ]\n",
            " [61162.742]\n",
            " [63063.99 ]]\n"
          ]
        }
      ],
      "source": [
        "#predicciones\n",
        "\n",
        "predicted_data=model.predict(x_test)\n",
        "predicted_data=scaler.inverse_transform(predicted_data)\n",
        "\n",
        "print(predicted_data)"
      ]
    },
    {
      "cell_type": "code",
      "execution_count": null,
      "id": "divided-korea",
      "metadata": {
        "id": "divided-korea"
      },
      "outputs": [],
      "source": [
        "# para ploteo\n",
        "data_test = np.array(close_test)\n",
        "data_test = data_test.reshape(len(data_test),1)"
      ]
    },
    {
      "cell_type": "code",
      "execution_count": null,
      "id": "southern-progress",
      "metadata": {
        "id": "southern-progress",
        "outputId": "7be05a90-b6eb-4414-b5a4-6d240daafbc0"
      },
      "outputs": [
        {
          "data": {
            "image/png": "[encoded data removed]",
            "text/plain": [
              "<Figure size 640x320 with 1 Axes>"
            ]
          },
          "metadata": {},
          "output_type": "display_data"
        }
      ],
      "source": [
        "# ploteo de predicciones\n",
        "plt.figure(figsize=(8,4), dpi=80, facecolor='w', edgecolor='k')\n",
        "plt.plot(data_test,color=\"r\",label=\"true result\")\n",
        "plt.plot(predicted_data,color=\"b\",label=\"predicted result\")\n",
        "plt.legend()\n",
        "plt.xlabel(\"Time(60 days)\")\n",
        "plt.ylabel(\"Values\")\n",
        "plt.grid(True)\n",
        "plt.show()\n"
      ]
    },
    {
      "cell_type": "code",
      "execution_count": null,
      "id": "mounted-panama",
      "metadata": {
        "id": "mounted-panama",
        "outputId": "c7af3304-5208-4734-d8c4-3140eee66b96"
      },
      "outputs": [
        {
          "name": "stdout",
          "output_type": "stream",
          "text": [
            "5378022.8198098\n"
          ]
        }
      ],
      "source": [
        "# Como hacemos para ver la evolucion del MSE (loss function) con el set de test?\n",
        "\n",
        "#print(data_test.shape)  # (60, 1)\n",
        "#print(predicted_data.shape) # (60, 1)\n",
        "\n",
        "from sklearn.metrics import mean_squared_error\n",
        "mse = mean_squared_error(data_test, predicted_data)\n",
        "\n",
        "print(mse)\n"
      ]
    },
    {
      "cell_type": "code",
      "execution_count": null,
      "id": "shaped-halloween",
      "metadata": {
        "id": "shaped-halloween",
        "outputId": "6abc5837-a267-4af9-8e87-0e31d760b921"
      },
      "outputs": [
        {
          "name": "stdout",
          "output_type": "stream",
          "text": [
            "(3328, 60, 1)\n",
            "60\n"
          ]
        }
      ],
      "source": [
        "# # # # # # # # # # # # # # # # # # # # # # # # # # # # # # # # #\n",
        "# # # # # # # # # # # # # # # # # # # # # # # # # # # # # # # # #\n",
        "# # # # # # # # # # # # # # # # # # # # # # # # # # # # # # # # #\n",
        "# # # # # # # # # # # # # # # # # # # # # # # # # # # # # # # # #\n",
        "print(x_train.shape)\n",
        "print(x_train.shape[1])"
      ]
    },
    {
      "cell_type": "code",
      "execution_count": 19,
      "id": "dense-burning",
      "metadata": {
        "id": "dense-burning",
        "outputId": "a9f2f9ad-0f98-4409-e347-8fc864680e0b",
        "colab": {
          "base_uri": "https://localhost:8080/"
        }
      },
      "outputs": [
        {
          "output_type": "stream",
          "name": "stdout",
          "text": [
            "Epoch 1/5\n",
            "52/52 [==============================] - 25s 417ms/step - loss: 0.0016\n",
            "Epoch 2/5\n",
            "52/52 [==============================] - 22s 424ms/step - loss: 3.4229e-04\n",
            "Epoch 3/5\n",
            "52/52 [==============================] - 21s 391ms/step - loss: 2.0657e-04\n",
            "Epoch 4/5\n",
            "52/52 [==============================] - 22s 416ms/step - loss: 1.9929e-04\n",
            "Epoch 5/5\n",
            "52/52 [==============================] - 20s 381ms/step - loss: 2.0211e-04\n"
          ]
        }
      ],
      "source": [
        "# Implementacion de RNN\n",
        "\n",
        "# Tenemos en Keras el layer “SimpleRNN”, que tiene como entrada un tensor de shape\n",
        "#(batch_size, internal_units) y sus repsectivas funciones de activación (RELU).\n",
        "# La RNN pasa informacion a traves de la capa escondida a la siguiente capa y a si misma, por lo que\n",
        "# dejamos return_sequences = True.\n",
        "# La matriz al final es convertida en un solo vector de 1 columna usando Flatten().\n",
        "# finalmente compilamos.\n",
        "\n",
        "reg=Sequential()\n",
        "reg.add(SimpleRNN(128,activation=\"relu\", return_sequences = True, input_shape=(x_train.shape[1],1)))\n",
        "#reg.add(Dropout(0.25))\n",
        "#aqui el shape de salida de esta capa seria (1,60,128), es decir 60 vectores con 128 estados de las neuronas\n",
        "# que van de input a la siguiente capa. La última (output del timestamp 60) se realimenta a primera RNN\n",
        "# de esta capa.\n",
        "\n",
        "reg.add(SimpleRNN(256,activation=\"relu\",return_sequences = True))\n",
        "#reg.add(Dropout(0.25))\n",
        "\n",
        "reg.add(SimpleRNN(512,activation=\"relu\",return_sequences = True))\n",
        "#reg.add(Dropout(0.35))\n",
        "\n",
        "reg.add(Flatten())\n",
        "reg.add(Dense(1))\n",
        "\n",
        "reg.compile(optimizer=\"adam\",loss=\"mean_squared_error\")\n",
        "history = reg.fit(x_train,y_train,epochs=5,batch_size=64)"
      ]
    },
    {
      "cell_type": "code",
      "execution_count": 20,
      "id": "derived-princess",
      "metadata": {
        "id": "derived-princess",
        "outputId": "af090682-014d-4e26-dab5-a2a7b3fdcb0e",
        "colab": {
          "base_uri": "https://localhost:8080/",
          "height": 430
        }
      },
      "outputs": [
        {
          "output_type": "display_data",
          "data": {
            "text/plain": [
              "<Figure size 640x480 with 1 Axes>"
            ],
            "image/png": "[encoded data removed]"
          },
          "metadata": {}
        }
      ],
      "source": [
        "# #evaluacion del proceso\n",
        "\n",
        "plt.plot(history.history['loss'], label='train')\n",
        "#plt.plot(history.history['mean_squared_error'], label='train')\n",
        "plt.show()\n"
      ]
    },
    {
      "cell_type": "code",
      "execution_count": null,
      "id": "mexican-prime",
      "metadata": {
        "id": "mexican-prime"
      },
      "outputs": [],
      "source": [
        "# predicciones.\n",
        "\n",
        "predicted_data=reg.predict(x_test)\n",
        "predicted_data=scaler.inverse_transform(predicted_data)"
      ]
    },
    {
      "cell_type": "code",
      "execution_count": null,
      "id": "recognized-charity",
      "metadata": {
        "id": "recognized-charity",
        "outputId": "013dcb4b-7e77-4db0-8413-224bc117e9e6"
      },
      "outputs": [
        {
          "data": {
            "image/png": "[encoded data removed]",
            "text/plain": [
              "<Figure size 640x320 with 1 Axes>"
            ]
          },
          "metadata": {},
          "output_type": "display_data"
        }
      ],
      "source": [
        "# Ploteo.\n",
        "plt.figure(figsize=(8,4), dpi=80, facecolor='w', edgecolor='k')\n",
        "plt.plot(data_test,color=\"r\",label=\"true-result\")\n",
        "plt.plot(predicted_data,color=\"g\",label=\"predicted-result\")\n",
        "plt.legend()\n",
        "plt.xlabel(\"Time(60 days)\")\n",
        "plt.ylabel(\"Close Values\")\n",
        "plt.grid(True)\n",
        "plt.show()"
      ]
    },
    {
      "cell_type": "code",
      "execution_count": null,
      "id": "dense-drain",
      "metadata": {
        "id": "dense-drain",
        "outputId": "6a76fa35-d5a5-4d7a-905b-651c61d8c7ae"
      },
      "outputs": [
        {
          "name": "stdout",
          "output_type": "stream",
          "text": [
            "9878539.711630173\n"
          ]
        }
      ],
      "source": [
        "# Como hacemos para ver la evolucion del MSE (loss function) con el set de test?\n",
        "\n",
        "#print(data_test.shape)  # (60, 1)\n",
        "#print(predicted_data.shape) # (60, 1)\n",
        "\n",
        "from sklearn.metrics import mean_squared_error\n",
        "mse = mean_squared_error(data_test, predicted_data)\n",
        "\n",
        "print(mse)"
      ]
    },
    {
      "cell_type": "code",
      "execution_count": null,
      "id": "guilty-island",
      "metadata": {
        "id": "guilty-island"
      },
      "outputs": [],
      "source": [
        "# Los resultados no son tan satisfactorios. esto es debido al vanishing gradient.\n",
        "# Podemos utilizar LSTM\n"
      ]
    }
  ],
  "metadata": {
    "kernelspec": {
      "display_name": "Python 3",
      "language": "python",
      "name": "python3"
    },
    "language_info": {
      "codemirror_mode": {
        "name": "ipython",
        "version": 3
      },
      "file_extension": ".py",
      "mimetype": "text/x-python",
      "name": "python",
      "nbconvert_exporter": "python",
      "pygments_lexer": "ipython3",
      "version": "3.7.6"
    },
    "colab": {
      "provenance": []
    }
  },
  "nbformat": 4,
  "nbformat_minor": 5
}