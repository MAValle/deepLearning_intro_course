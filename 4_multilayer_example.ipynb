{
 "cells": [
  {
   "cell_type": "code",
   "execution_count": null,
   "id": "structural-karaoke",
   "metadata": {},
   "outputs": [],
   "source": [
    "# Practiquemos forward propagation con una NN de dos capas escondidas\n",
    "# cada capa escondida tiene 2 nodos."
   ]
  },
  {
   "cell_type": "code",
   "execution_count": 2,
   "id": "supreme-difficulty",
   "metadata": {},
   "outputs": [],
   "source": [
    "# vamos a llamar node_0_0 y node_0_1 los nodos de la primera capa escondida.\n",
    "# vamos a llamar node_1_0 y node_1_1 los nodos de la segunda capa escondida.\n",
    "\n",
    "import numpy as np \n",
    "# los pesos los definimos como:\n",
    "\n",
    "weights = {'node_0_0': np.array([2, 4]),\n",
    " 'node_0_1': np.array([ 4, -5]),\n",
    " 'node_1_0': np.array([-1,  2]),\n",
    " 'node_1_1': np.array([1, 2]),\n",
    " 'output': np.array([2, 7])}\n"
   ]
  },
  {
   "cell_type": "code",
   "execution_count": 3,
   "id": "graduate-football",
   "metadata": {},
   "outputs": [],
   "source": [
    "# cargar los datos de la instancia\n",
    "# vector de entrada / la instancia tiene  3 cuentas y 5 hijos\n",
    "input_data = np.array([3, 5])"
   ]
  },
  {
   "cell_type": "code",
   "execution_count": 6,
   "id": "respective-wealth",
   "metadata": {},
   "outputs": [],
   "source": [
    "# cargar nuestra funcion de activacion RELU:\n",
    "\n",
    "def relu(input):\n",
    "    output = max(0, input)\n",
    "    # salida\n",
    "    return(output)"
   ]
  },
  {
   "cell_type": "code",
   "execution_count": 4,
   "id": "closing-impossible",
   "metadata": {},
   "outputs": [],
   "source": [
    "# De manera similar al caso anterior, vamos a calcular los valores de los nodos y del output\n",
    "# con una funcion\n",
    "\n",
    "\n",
    "# VER CON ATENCION!!!!\n",
    "\n",
    "def predict_with_network(input_data):\n",
    "    #  calcular valor nodo 0 de la primera capa\n",
    "    node_0_0_input = (input_data * weights['node_0_0']).sum()\n",
    "    node_0_0_output = relu(node_0_0_input)\n",
    "\n",
    "    #  calcular valor nodo 1 de la primera capa\n",
    "    node_0_1_input = (input_data * weights['node_0_1']).sum()\n",
    "    node_0_1_output = relu(node_0_1_input)\n",
    "\n",
    "    # ponemos todo en un array    hidden_0_outputs\n",
    "    hidden_0_outputs = np.array([node_0_0_output, node_0_1_output])\n",
    "    \n",
    "    # calcular valor nodo 0 de la segunda capa\n",
    "    node_1_0_input = (hidden_0_outputs * weights['node_1_0']).sum()\n",
    "    node_1_0_output = relu(node_1_0_input)\n",
    "\n",
    "    # calcular valor nodo 1 de la segunda capa\n",
    "    node_1_1_input = (hidden_0_outputs * weights['node_1_1']).sum()\n",
    "    node_1_1_output = relu(node_1_1_input)\n",
    "\n",
    "    # ponemos todo en unarray hidden_1_outputs\n",
    "    hidden_1_outputs = np.array([node_1_0_output, node_1_1_output])\n",
    "\n",
    "    # calculamos la salida: model_output\n",
    "    model_output = (hidden_1_outputs * weights['output']).sum()\n",
    "    \n",
    "    # Return model_output\n",
    "    return(model_output)\n",
    "\n",
    "\n"
   ]
  },
  {
   "cell_type": "code",
   "execution_count": 7,
   "id": "fluid-andrews",
   "metadata": {},
   "outputs": [
    {
     "name": "stdout",
     "output_type": "stream",
     "text": [
      "182\n"
     ]
    }
   ],
   "source": [
    "output = predict_with_network(input_data)\n",
    "print(output)"
   ]
  },
  {
   "cell_type": "code",
   "execution_count": null,
   "id": "valid-leave",
   "metadata": {},
   "outputs": [],
   "source": [
    "# Pregunta:  ¿de donde salen los pesos?\n",
    "# Pregunta: ¿en que parte de la red se van capurando las interelaciones mas complejas de los datos?"
   ]
  }
 ],
 "metadata": {
  "kernelspec": {
   "display_name": "Python 3",
   "language": "python",
   "name": "python3"
  },
  "language_info": {
   "codemirror_mode": {
    "name": "ipython",
    "version": 3
   },
   "file_extension": ".py",
   "mimetype": "text/x-python",
   "name": "python",
   "nbconvert_exporter": "python",
   "pygments_lexer": "ipython3",
   "version": "3.7.6"
  }
 },
 "nbformat": 4,
 "nbformat_minor": 5
}
