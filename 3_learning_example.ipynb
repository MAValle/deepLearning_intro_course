{
 "cells": [
  {
   "cell_type": "code",
   "execution_count": 1,
   "metadata": {},
   "outputs": [],
   "source": [
    "# Vamos a escribir un codigo para ir calculando el gradient descent sobre una red simple de 3 neuronas de entrada\n",
    "# y una de salida.\n",
    "\n",
    "\n",
    "import numpy as np\n",
    "\n",
    "\n",
    "# los pesos son:\n",
    "weights = np.array([0, 2, 1])\n",
    "\n",
    "# y los valores de de entrada son \n",
    "input_data = np.array([1, 2, 3])\n",
    "\n",
    "# valor real de la salida\n",
    "target = 0\n"
   ]
  },
  {
   "cell_type": "code",
   "execution_count": 2,
   "metadata": {},
   "outputs": [
    {
     "data": {
      "text/plain": [
       "7"
      ]
     },
     "execution_count": 2,
     "metadata": {},
     "output_type": "execute_result"
    }
   ],
   "source": [
    "# primero calculemos las predicciones:\n",
    "preds = sum(weights * input_data)\n",
    "preds"
   ]
  },
  {
   "cell_type": "code",
   "execution_count": 3,
   "metadata": {},
   "outputs": [
    {
     "data": {
      "text/plain": [
       "7"
      ]
     },
     "execution_count": 3,
     "metadata": {},
     "output_type": "execute_result"
    }
   ],
   "source": [
    "# ahora calculamos el error\n",
    "error = preds - target\n",
    "error"
   ]
  },
  {
   "cell_type": "code",
   "execution_count": 4,
   "metadata": {},
   "outputs": [
    {
     "data": {
      "text/plain": [
       "array([14, 28, 42])"
      ]
     },
     "execution_count": 4,
     "metadata": {},
     "output_type": "execute_result"
    }
   ],
   "source": [
    "# y finalmente la pendiente de la funcion de perdida con respecto a la prediccion.:\n",
    "\n",
    "slope = 2 * input_data * error\n",
    "slope\n",
    "\n",
    "\n",
    "# nota:  ¿por qué va el 2?\n",
    "# R: como funcion de perdida estamso utilizando el MSE, es decir (prediccion - real)^2. \n",
    "# La derivada de esto, siempre va multiplicada por 2."
   ]
  },
  {
   "cell_type": "code",
   "execution_count": 11,
   "metadata": {},
   "outputs": [],
   "source": [
    "############"
   ]
  },
  {
   "cell_type": "code",
   "execution_count": 5,
   "metadata": {},
   "outputs": [],
   "source": [
    "# ahora haremos una actualizacion de los pesos.\n",
    "# con LR \n",
    "\n",
    "learning_rate = 0.01"
   ]
  },
  {
   "cell_type": "code",
   "execution_count": 6,
   "metadata": {},
   "outputs": [
    {
     "name": "stdout",
     "output_type": "stream",
     "text": [
      "[0 2 1]\n",
      "[-0.14  1.72  0.58]\n"
     ]
    }
   ],
   "source": [
    "# hagamos el upgrade de pesos \n",
    "weights_updated = weights - learning_rate * slope\n",
    "\n",
    "print(weights)\n",
    "print(weights_updated)"
   ]
  },
  {
   "cell_type": "code",
   "execution_count": 7,
   "metadata": {},
   "outputs": [
    {
     "data": {
      "text/plain": [
       "5.04"
      ]
     },
     "execution_count": 7,
     "metadata": {},
     "output_type": "execute_result"
    }
   ],
   "source": [
    "# prediccion con los nuevos pesos\n",
    "preds_updated = (weights_updated * input_data).sum()\n",
    "\n",
    "preds_updated"
   ]
  },
  {
   "cell_type": "code",
   "execution_count": 8,
   "metadata": {},
   "outputs": [
    {
     "name": "stdout",
     "output_type": "stream",
     "text": [
      "7\n",
      "5.04\n"
     ]
    }
   ],
   "source": [
    "# el nuevo error seria:\n",
    "\n",
    "error_updated = preds_updated - target\n",
    "\n",
    "print(error)\n",
    "print(error_updated)"
   ]
  },
  {
   "cell_type": "code",
   "execution_count": 20,
   "metadata": {},
   "outputs": [
    {
     "name": "stdout",
     "output_type": "stream",
     "text": [
      "[7, 5.04, 5.5888, 5.435136, 5.47816192, 5.4661146624, 5.469487894528, 5.46854338953216, 5.468807850930995, 5.4687338017393206, 5.46875453551299, 5.468748730056363, 5.468750355584218, 5.468749900436419, 5.468750027877802]\n",
      "Pesos iniciales:\n",
      "[0 2 1]\n",
      "Pesos finales:\n",
      "[-0.109375  1.78125   0.671875]\n"
     ]
    }
   ],
   "source": [
    "############  ¿Hagamos lo mismo pero con un loop?\n",
    "\n",
    "\n",
    "# los pesos son:\n",
    "weights = np.array([0, 2, 1])\n",
    "\n",
    "# y los valores de de entrada son \n",
    "input_data = np.array([1, 2, 3])\n",
    "\n",
    "# valor real de la salida\n",
    "target = 0\n",
    "\n",
    "\n",
    "learning_rate = 0.01\n",
    "iteraciones = 15\n",
    "\n",
    "loss_it = []\n",
    "\n",
    "weights_updated = weights\n",
    "for it in range(iteraciones):\n",
    "    preds = sum(weights_updated * input_data)\n",
    "    error = preds - target\n",
    "    loss_it.append(error)\n",
    "    slope = 2 * input_data * error\n",
    "    weights_updated = weights - learning_rate * slope\n",
    "\n",
    "\n",
    "print(loss_it)\n",
    "print(\"Pesos iniciales:\")\n",
    "print(weights)\n",
    "print(\"Pesos finales:\")\n",
    "print(weights_updated)\n",
    "############"
   ]
  },
  {
   "cell_type": "code",
   "execution_count": 21,
   "metadata": {},
   "outputs": [
    {
     "data": {
      "image/png": "[encoded data removed]",
      "text/plain": [
       "<Figure size 432x288 with 1 Axes>"
      ]
     },
     "metadata": {
      "needs_background": "light"
     },
     "output_type": "display_data"
    }
   ],
   "source": [
    "############  grafica de loss\n",
    "import matplotlib.pyplot as plt\n",
    "\n",
    "plt.plot(list(range(0,iteraciones)), loss_it, label='Loss' )\n",
    "plt.legend()\n",
    "plt.show()\n",
    "\n",
    "\n"
   ]
  },
  {
   "cell_type": "code",
   "execution_count": null,
   "metadata": {},
   "outputs": [],
   "source": []
  }
 ],
 "metadata": {
  "kernelspec": {
   "display_name": "Python 3",
   "language": "python",
   "name": "python3"
  },
  "language_info": {
   "codemirror_mode": {
    "name": "ipython",
    "version": 3
   },
   "file_extension": ".py",
   "mimetype": "text/x-python",
   "name": "python",
   "nbconvert_exporter": "python",
   "pygments_lexer": "ipython3",
   "version": "3.7.1"
  }
 },
 "nbformat": 4,
 "nbformat_minor": 5
}
