{
 "cells": [
  {
   "cell_type": "code",
   "execution_count": 3,
   "id": "operational-condition",
   "metadata": {},
   "outputs": [
    {
     "name": "stderr",
     "output_type": "stream",
     "text": [
      "Using TensorFlow backend.\n"
     ]
    }
   ],
   "source": [
    "# Continuacion ejemplo de prediccion precios de cierre del bitcoin con LSTM\n",
    "# Se cargan los mismos paquetes y el pre-procesamiento es exactamente el mismo que antes.\n",
    "\n",
    "import numpy as np\n",
    "import pandas as pd \n",
    "import matplotlib.pyplot as plt\n",
    "\n",
    "from sklearn.metrics import mean_absolute_error\n",
    "from keras.models import Sequential\n",
    "from keras.layers import Dense, LSTM, Dropout,Flatten, SimpleRNN\n",
    "\n",
    "# en jupyter lab online cargamos con tensorflow\n",
    "#import tensorflow as tf\n",
    "#from tensorflow.keras import Sequential\n",
    "#from tensorflow.keras.layers import Dense, LSTM, Dropout,Flatten, SimpleRNN"
   ]
  },
  {
   "cell_type": "code",
   "execution_count": 4,
   "id": "disciplinary-crawford",
   "metadata": {},
   "outputs": [
    {
     "data": {
      "text/html": [
       "<div>\n",
       "<style scoped>\n",
       "    .dataframe tbody tr th:only-of-type {\n",
       "        vertical-align: middle;\n",
       "    }\n",
       "\n",
       "    .dataframe tbody tr th {\n",
       "        vertical-align: top;\n",
       "    }\n",
       "\n",
       "    .dataframe thead th {\n",
       "        text-align: right;\n",
       "    }\n",
       "</style>\n",
       "<table border=\"1\" class=\"dataframe\">\n",
       "  <thead>\n",
       "    <tr style=\"text-align: right;\">\n",
       "      <th></th>\n",
       "      <th>Price</th>\n",
       "    </tr>\n",
       "  </thead>\n",
       "  <tbody>\n",
       "    <tr>\n",
       "      <th>0</th>\n",
       "      <td>5.874167</td>\n",
       "    </tr>\n",
       "    <tr>\n",
       "      <th>1</th>\n",
       "      <td>5.582143</td>\n",
       "    </tr>\n",
       "    <tr>\n",
       "      <th>2</th>\n",
       "      <td>5.120000</td>\n",
       "    </tr>\n",
       "    <tr>\n",
       "      <th>3</th>\n",
       "      <td>4.835000</td>\n",
       "    </tr>\n",
       "    <tr>\n",
       "      <th>4</th>\n",
       "      <td>4.870000</td>\n",
       "    </tr>\n",
       "  </tbody>\n",
       "</table>\n",
       "</div>"
      ],
      "text/plain": [
       "      Price\n",
       "0  5.874167\n",
       "1  5.582143\n",
       "2  5.120000\n",
       "3  4.835000\n",
       "4  4.870000"
      ]
     },
     "execution_count": 4,
     "metadata": {},
     "output_type": "execute_result"
    }
   ],
   "source": [
    "# carga de datos\n",
    "data = pd.read_csv(\"data_bitcoin.csv\") # son app 63Kb de datos.\n",
    "data.head()"
   ]
  },
  {
   "cell_type": "code",
   "execution_count": 5,
   "id": "negative-gazette",
   "metadata": {},
   "outputs": [
    {
     "data": {
      "text/plain": [
       "(3448, 1)"
      ]
     },
     "execution_count": 5,
     "metadata": {},
     "output_type": "execute_result"
    }
   ],
   "source": [
    "data.shape"
   ]
  },
  {
   "cell_type": "code",
   "execution_count": 6,
   "id": "headed-folks",
   "metadata": {},
   "outputs": [
    {
     "name": "stdout",
     "output_type": "stream",
     "text": [
      "             Price\n",
      "3388  34793.749638\n",
      "3389  34694.376658\n",
      "3390  38636.764980\n",
      "3391  37039.937682\n",
      "3392  36841.820185\n",
      "(3388, 1)\n",
      "(60, 1)\n"
     ]
    }
   ],
   "source": [
    "# El objetivo es hacer una prediccion de los precios diarios de cierre. \n",
    "# consideraremos los últimos 60 precios para el testeo.\n",
    "\n",
    "close_train = data.iloc[:len(data)-60]\n",
    "close_test  = data.iloc[len(close_train):]\n",
    "\n",
    "print(close_test.head())\n",
    "print(close_train.shape)\n",
    "print(close_test.shape)"
   ]
  },
  {
   "cell_type": "code",
   "execution_count": 7,
   "id": "diagnostic-learning",
   "metadata": {},
   "outputs": [
    {
     "name": "stdout",
     "output_type": "stream",
     "text": [
      "[[5.87416667e+00]\n",
      " [5.58214286e+00]\n",
      " [5.12000000e+00]\n",
      " ...\n",
      " [4.04054990e+04]\n",
      " [3.89682115e+04]\n",
      " [3.36545416e+04]]\n"
     ]
    }
   ],
   "source": [
    "# Aqui transformamos los valores entre 0-1 para estandarizar.\n",
    "\n",
    "# convertir a array\n",
    "close_train = np.array(close_train)\n",
    "close_train = close_train.reshape(close_train.shape[0],1) # convierte close_train en un array de 3388 filas y 1 columna\n",
    "print(close_train)\n",
    "#print(close_train.shape[0])"
   ]
  },
  {
   "cell_type": "code",
   "execution_count": 8,
   "id": "convinced-survival",
   "metadata": {},
   "outputs": [
    {
     "name": "stdout",
     "output_type": "stream",
     "text": [
      "[[8.99473645e-05]\n",
      " [8.27196354e-05]\n",
      " [7.12813785e-05]\n",
      " ...\n",
      " [1.00000000e+00]\n",
      " [9.64426445e-01]\n",
      " [8.32910571e-01]]\n"
     ]
    }
   ],
   "source": [
    "# estandarizar\n",
    "from sklearn.preprocessing import MinMaxScaler\n",
    "\n",
    "scaler = MinMaxScaler(feature_range=(0,1))\n",
    "close_scaled = scaler.fit_transform(close_train)\n",
    "print(close_scaled)"
   ]
  },
  {
   "cell_type": "code",
   "execution_count": 9,
   "id": "premier-mouth",
   "metadata": {},
   "outputs": [
    {
     "name": "stdout",
     "output_type": "stream",
     "text": [
      "3328\n",
      "3328\n"
     ]
    },
    {
     "data": {
      "text/plain": [
       "array([8.99473645e-05, 8.27196354e-05, 7.12813785e-05, 6.42274921e-05,\n",
       "       6.50937588e-05, 6.43512445e-05, 6.58362732e-05, 7.84153400e-05,\n",
       "       8.62801686e-05, 8.54881533e-05, 8.58841609e-05, 8.62200603e-05,\n",
       "       9.42993236e-05, 9.07217545e-05, 6.52175112e-05, 6.50584010e-05,\n",
       "       6.37737333e-05, 6.45574985e-05, 6.54959541e-05, 7.27994079e-05,\n",
       "       6.61368147e-05, 6.02497366e-05, 5.43273006e-05, 4.08382898e-05,\n",
       "       5.10354870e-05, 4.41177282e-05, 4.22738175e-05, 4.23480690e-05,\n",
       "       4.47983664e-05, 4.15808041e-05, 3.96007658e-07, 0.00000000e+00,\n",
       "       1.76965922e-05, 1.12202170e-05, 1.31177537e-05, 4.25089471e-05,\n",
       "       4.50046203e-05, 3.20271194e-05, 2.57758556e-05, 2.68542693e-05,\n",
       "       2.72930278e-05, 2.15329164e-05, 1.75728398e-05, 2.07904021e-05,\n",
       "       2.43049700e-05, 2.45339120e-05, 2.62355074e-05, 2.74730313e-05,\n",
       "       2.74730313e-05, 1.08572100e-05, 1.55928015e-05, 1.27464965e-05,\n",
       "       1.25608679e-05, 8.22953415e-06, 5.50698150e-06, 3.21756222e-06,\n",
       "       5.65135929e-06, 7.52414551e-06, 1.25732432e-05, 6.30566041e-05])"
      ]
     },
     "execution_count": 9,
     "metadata": {},
     "output_type": "execute_result"
    }
   ],
   "source": [
    "# utiliza 60 datos como set de entrenamiento y entrada, y luego la 61 es el valor a predecir.\n",
    "\n",
    "timestep=60\n",
    "x_train=[]\n",
    "y_train=[]\n",
    "\n",
    "#close_scaled.shape[0]  es el largo de la serie igual a 3388\n",
    "\n",
    "for i in range(timestep,close_scaled.shape[0]):\n",
    "    x_train.append(close_scaled[i-timestep:i,0])\n",
    "    y_train.append(close_scaled[i,0])\n",
    "\n",
    "\n",
    "#print(x_train) # tiene 3388 vectores de 60 precios\n",
    "print(len(x_train))\n",
    "#print(y_train) # tiene 3388 precios\n",
    "print(len(y_train))\n",
    "\n",
    "#y_train[0]\n",
    "x_train[0]"
   ]
  },
  {
   "cell_type": "code",
   "execution_count": 12,
   "id": "everyday-slide",
   "metadata": {},
   "outputs": [
    {
     "name": "stdout",
     "output_type": "stream",
     "text": [
      "x-train-shape=  (3328, 60, 1)\n",
      "y-train-shape=  (3328,)\n"
     ]
    }
   ],
   "source": [
    "# paso 2\n",
    "x_train,y_train = np.array(x_train),np.array(y_train)\n",
    "x_train=x_train.reshape(x_train.shape[0],x_train.shape[1],1) #reshaped for RNN\n",
    "print(\"x-train-shape= \",x_train.shape)\n",
    "print(\"y-train-shape= \",y_train.shape)"
   ]
  },
  {
   "cell_type": "code",
   "execution_count": 13,
   "id": "respected-cinema",
   "metadata": {},
   "outputs": [
    {
     "name": "stdout",
     "output_type": "stream",
     "text": [
      "(3328, 60, 1)\n",
      "60\n"
     ]
    }
   ],
   "source": [
    "# notar la estructura de x_train:\n",
    "\n",
    "# por ejemplo x_train.shape[1] es un array con 60 columnas. Estas columnas son las\n",
    "#que van a entrar al input layer. No entra un vector numérico. \n",
    "# esto es importante porque condiciona la forma en que salen los ouputs.\n",
    "\n",
    "print(x_train.shape) # tenemos 3328 vectores de 60 precios. Esto es lo que va entrando a la red.\n",
    "print(x_train.shape[1]) # cada vector tiene 60 precios."
   ]
  },
  {
   "cell_type": "code",
   "execution_count": 10,
   "id": "invalid-adobe",
   "metadata": {},
   "outputs": [],
   "source": [
    "# # # # # # # # # # # # # # # # # # # # # # # # # # # # # # # # # \n",
    "# # # # # # # # # # # # # # # # # # # # # # # # # # # # # # # # # \n",
    "# # # # # # # # # # # # # # # # # # # # # # # # # # # # # # # # # \n",
    "# # # # # # # # # # # # # # # # # # # # # # # # # # # # # # # # # "
   ]
  },
  {
   "cell_type": "code",
   "execution_count": 14,
   "id": "uniform-domain",
   "metadata": {},
   "outputs": [
    {
     "name": "stdout",
     "output_type": "stream",
     "text": [
      "Epoch 1/3\n",
      "3328/3328 [==============================] - 41s 12ms/step - loss: 0.0023\n",
      "Epoch 2/3\n",
      "3328/3328 [==============================] - 33s 10ms/step - loss: 5.9219e-04\n",
      "Epoch 3/3\n",
      "3328/3328 [==============================] - 32s 10ms/step - loss: 5.9882e-04\n"
     ]
    },
    {
     "data": {
      "text/plain": [
       "<keras.callbacks.callbacks.History at 0x1a49ecc780>"
      ]
     },
     "execution_count": 14,
     "metadata": {},
     "output_type": "execute_result"
    }
   ],
   "source": [
    "# Implementacion de LSTM\n",
    "\n",
    "\n",
    "modell = Sequential()\n",
    "modell.add(LSTM(50, activation=\"relu\", return_sequences=True, input_shape=(x_train.shape[1],1)))\n",
    "#modell.add(Dropout(0.2))\n",
    "modell.add(LSTM(100, activation=\"relu\", return_sequences=False))\n",
    "#modell.add(Dropout(0.2))\n",
    "modell.add(Dense(1))\n",
    "\n",
    "#igual que antes\n",
    "modell.compile(loss=\"mean_squared_error\",optimizer=\"rmsprop\")\n",
    "modell.fit(x_train,y_train,epochs= 3,batch_size=64)\n"
   ]
  },
  {
   "cell_type": "code",
   "execution_count": 15,
   "id": "incorporate-suspension",
   "metadata": {},
   "outputs": [
    {
     "name": "stdout",
     "output_type": "stream",
     "text": [
      "(120, 1)\n",
      "[[16279.82971834]\n",
      " [16002.77983225]\n",
      " [15979.96787722]\n",
      " [16430.74588307]\n",
      " [17268.94039002]\n",
      " [17881.21028309]\n",
      " [17801.6469543 ]\n",
      " [18360.23015132]\n",
      " [18720.46861578]\n",
      " [18337.80238069]\n",
      " [18438.878714  ]\n",
      " [18939.28873823]\n",
      " [19051.71350101]\n",
      " [17200.67461348]\n",
      " [16955.0982882 ]\n",
      " [17389.9772657 ]\n",
      " [18027.70585954]\n",
      " [19061.8357438 ]\n",
      " [19196.46453403]\n",
      " [18933.50034101]\n",
      " [19309.47116477]\n",
      " [19081.52631458]\n",
      " [18981.5437042 ]\n",
      " [19150.4708231 ]\n",
      " [19189.08096393]\n",
      " [18865.08550867]\n",
      " [18244.81628606]\n",
      " [18273.61070645]\n",
      " [17923.9118587 ]\n",
      " [18479.16546148]\n",
      " [19142.26171027]\n",
      " [19166.1507658 ]\n",
      " [19335.52610827]\n",
      " [20378.55465055]\n",
      " [22730.73493971]\n",
      " [22865.0388434 ]\n",
      " [23458.76198432]\n",
      " [23603.69759416]\n",
      " [23078.46686784]\n",
      " [23129.09807163]\n",
      " [23483.56654105]\n",
      " [23203.45488959]\n",
      " [24075.884614  ]\n",
      " [25594.26362466]\n",
      " [27094.35316904]\n",
      " [26963.03143607]\n",
      " [26654.23907847]\n",
      " [28180.26608524]\n",
      " [28835.9243266 ]\n",
      " [29269.12533855]\n",
      " [31247.50621825]\n",
      " [33477.30571855]\n",
      " [31286.55592198]\n",
      " [32372.35450507]\n",
      " [34957.00203889]\n",
      " [38286.02575034]\n",
      " [39948.57306874]\n",
      " [40405.49903271]\n",
      " [38968.21147457]\n",
      " [33654.54156201]\n",
      " [34793.74963787]\n",
      " [34694.37665806]\n",
      " [38636.76497962]\n",
      " [37039.93768222]\n",
      " [36841.82018525]\n",
      " [35449.61375655]\n",
      " [36128.49258488]\n",
      " [36905.98612804]\n",
      " [34983.61966319]\n",
      " [32428.14605407]\n",
      " [31527.45412869]\n",
      " [32339.51360104]\n",
      " [32125.92799015]\n",
      " [33425.19559263]\n",
      " [32010.87239597]\n",
      " [30913.83875829]\n",
      " [31906.7522413 ]\n",
      " [35423.680283  ]\n",
      " [33985.69543408]\n",
      " [33375.98597837]\n",
      " [33749.27081401]\n",
      " [34840.06038176]\n",
      " [36632.39169812]\n",
      " [37439.6186536 ]\n",
      " [37704.81290422]\n",
      " [39853.19953531]\n",
      " [38583.07518547]\n",
      " [42964.52368138]\n",
      " [46721.06133376]\n",
      " [45614.54624363]\n",
      " [46708.86613448]\n",
      " [47563.68564053]\n",
      " [47152.48532221]\n",
      " [48729.62364695]\n",
      " [47558.14272431]\n",
      " [48926.91391113]\n",
      " [51102.55266637]\n",
      " [51855.64365371]\n",
      " [53758.61336987]\n",
      " [56331.67441344]\n",
      " [57193.40189409]\n",
      " [53808.381228  ]\n",
      " [48517.63953166]\n",
      " [49814.61151226]\n",
      " [49852.94249518]\n",
      " [46514.54403621]\n",
      " [47007.4793528 ]\n",
      " [44632.89115247]\n",
      " [47971.25305236]\n",
      " [48576.89034581]\n",
      " [50816.08659958]\n",
      " [49263.59237302]\n",
      " [47634.46965531]\n",
      " [48257.10736922]\n",
      " [50354.91584106]\n",
      " [50840.52708824]\n",
      " [54000.55701023]\n",
      " [55569.27626517]\n",
      " [56286.85736442]\n",
      " [56721.64882773]]\n"
     ]
    }
   ],
   "source": [
    "# ahora preparamos data de test para prediccion. IGUAL QUE ANTES!!!\n",
    "# recordemos que en close_test tenemos nuestros datos para el testeo!\n",
    "\n",
    "# len(data) - len(close_test)# = 3388  datos de entrenamiento \n",
    "# len(data) - len(close_test) - timestep = 3328. tomaremos para prediccion desde el dato 3328 \n",
    "# hasta el ultimo quedando en 120 valores. Tomamos 60 de entrenamiento y otros 60 del test.\n",
    "# Esto lo dejaremos en input.\n",
    "# ¿por que?  porque si queremos 60 predicciones con 60 datos de entrada, necesitamos al menos\n",
    "# el doble de datos.\n",
    "\n",
    "inputs=data[len(data)-len(close_test)-timestep:]\n",
    "\n",
    "\n",
    "inputs=inputs.values.reshape(-1,1) # convierte inputs a array de 120 filas y 1 columna \n",
    "print(inputs.shape)\n",
    "print(inputs)\n",
    "inputs=scaler.transform(inputs) # escala valores 0-1."
   ]
  },
  {
   "cell_type": "code",
   "execution_count": 16,
   "id": "liberal-documentary",
   "metadata": {},
   "outputs": [
    {
     "name": "stdout",
     "output_type": "stream",
     "text": [
      "(60, 60, 1)\n",
      "[[[0.40287814]\n",
      "  [0.39602102]\n",
      "  [0.39545641]\n",
      "  ...\n",
      "  [1.        ]\n",
      "  [0.96442644]\n",
      "  [0.83291057]]\n",
      "\n",
      " [[0.39602102]\n",
      "  [0.39545641]\n",
      "  [0.40661338]\n",
      "  ...\n",
      "  [0.96442644]\n",
      "  [0.83291057]\n",
      "  [0.86110652]]\n",
      "\n",
      " [[0.39545641]\n",
      "  [0.40661338]\n",
      "  [0.4273591 ]\n",
      "  ...\n",
      "  [0.83291057]\n",
      "  [0.86110652]\n",
      "  [0.85864699]]\n",
      "\n",
      " ...\n",
      "\n",
      " [[1.        ]\n",
      "  [0.96442644]\n",
      "  [0.83291057]\n",
      "  ...\n",
      "  [1.24625283]\n",
      "  [1.25827194]\n",
      "  [1.33648419]]\n",
      "\n",
      " [[0.96442644]\n",
      "  [0.83291057]\n",
      "  [0.86110652]\n",
      "  ...\n",
      "  [1.25827194]\n",
      "  [1.33648419]\n",
      "  [1.37531074]]\n",
      "\n",
      " [[0.83291057]\n",
      "  [0.86110652]\n",
      "  [0.85864699]\n",
      "  ...\n",
      "  [1.33648419]\n",
      "  [1.37531074]\n",
      "  [1.39307122]]]\n"
     ]
    }
   ],
   "source": [
    "# paso 2 IGUAL QUE ANTES!!\n",
    "# al igual que con x_train, tenemos que generar del set de datos de input, aquellas muestras \n",
    "# que seran de entrada para hacer la prediccion. Obviamente, en bloques de 60.\n",
    "\n",
    "\n",
    "x_test=[]\n",
    "for i in range(timestep,inputs.shape[0]):\n",
    "    x_test.append(inputs[i-timestep:i,0])\n",
    "x_test=np.array(x_test)\n",
    "x_test=x_test.reshape(x_test.shape[0],x_test.shape[1],1)\n",
    "\n",
    "print(x_test.shape) #60 vectores con 60 valores de entrada para la prediccion.\n",
    "print(x_test)"
   ]
  },
  {
   "cell_type": "code",
   "execution_count": 18,
   "id": "sealed-paradise",
   "metadata": {},
   "outputs": [
    {
     "name": "stdout",
     "output_type": "stream",
     "text": [
      "[[ 38679.215]\n",
      " [ 39708.395]\n",
      " [ 40512.035]\n",
      " [ 41334.895]\n",
      " [ 42067.426]\n",
      " [ 42689.81 ]\n",
      " [ 43126.625]\n",
      " [ 43446.164]\n",
      " [ 43704.453]\n",
      " [ 43795.49 ]\n",
      " [ 43606.855]\n",
      " [ 43181.27 ]\n",
      " [ 42643.465]\n",
      " [ 42017.105]\n",
      " [ 41404.473]\n",
      " [ 40741.316]\n",
      " [ 40001.98 ]\n",
      " [ 39278.543]\n",
      " [ 38764.914]\n",
      " [ 38342.047]\n",
      " [ 37969.2  ]\n",
      " [ 37664.75 ]\n",
      " [ 37474.535]\n",
      " [ 37464.746]\n",
      " [ 37631.027]\n",
      " [ 37941.906]\n",
      " [ 38482.297]\n",
      " [ 39119.41 ]\n",
      " [ 40045.8  ]\n",
      " [ 41369.516]\n",
      " [ 42919.688]\n",
      " [ 44676.39 ]\n",
      " [ 46610.48 ]\n",
      " [ 48628.27 ]\n",
      " [ 50762.03 ]\n",
      " [ 52877.93 ]\n",
      " [ 55017.62 ]\n",
      " [ 57308.168]\n",
      " [ 59750.867]\n",
      " [ 62407.816]\n",
      " [ 65385.785]\n",
      " [ 68706.   ]\n",
      " [ 72113.26 ]\n",
      " [ 75266.71 ]\n",
      " [ 78274.03 ]\n",
      " [ 81146.414]\n",
      " [ 83665.85 ]\n",
      " [ 85892.055]\n",
      " [ 87693.914]\n",
      " [ 89345.84 ]\n",
      " [ 90907.22 ]\n",
      " [ 92551.01 ]\n",
      " [ 94242.73 ]\n",
      " [ 95995.24 ]\n",
      " [ 97885.73 ]\n",
      " [100073.25 ]\n",
      " [102609.64 ]\n",
      " [105716.54 ]\n",
      " [109474.5  ]\n",
      " [113908.836]]\n"
     ]
    }
   ],
   "source": [
    "#predicciones\n",
    "\n",
    "predicted_data=modell.predict(x_test)\n",
    "predicted_data=scaler.inverse_transform(predicted_data)\n",
    "\n",
    "print(predicted_data)"
   ]
  },
  {
   "cell_type": "code",
   "execution_count": 19,
   "id": "indonesian-horse",
   "metadata": {},
   "outputs": [
    {
     "data": {
      "image/png": "[encoded data removed]",
      "text/plain": [
       "<Figure size 640x320 with 1 Axes>"
      ]
     },
     "metadata": {},
     "output_type": "display_data"
    }
   ],
   "source": [
    "# para ploteo\n",
    "data_test = np.array(close_test)\n",
    "data_test = data_test.reshape(len(data_test),1)\n",
    "\n",
    "plt.figure(figsize=(8,4), dpi=80, facecolor='w', edgecolor='k')\n",
    "plt.plot(data_test,color=\"r\",label=\"true-result\")\n",
    "plt.plot(predicted_data,color=\"g\",label=\"predicted-result\")\n",
    "plt.legend()\n",
    "plt.title(\"LSTM\")\n",
    "plt.xlabel(\"Time(60 days)\")\n",
    "plt.ylabel(\"Close Values\")\n",
    "plt.grid(True)\n",
    "plt.show()"
   ]
  },
  {
   "cell_type": "code",
   "execution_count": 20,
   "id": "static-theory",
   "metadata": {},
   "outputs": [
    {
     "name": "stdout",
     "output_type": "stream",
     "text": [
      "580883731.2945956\n"
     ]
    }
   ],
   "source": [
    "# Como hacemos para ver la evolucion del MSE (loss function) con el set de test?\n",
    "\n",
    "#print(data_test.shape)  # (60, 1)\n",
    "#print(predicted_data.shape) # (60, 1)\n",
    "\n",
    "from sklearn.metrics import mean_squared_error\n",
    "mse = mean_squared_error(data_test, predicted_data)\n",
    "\n",
    "print(mse)\n",
    "\n",
    "\n",
    "#recordar que con RNN da app 5,378,022.8"
   ]
  },
  {
   "cell_type": "code",
   "execution_count": null,
   "id": "wrong-round",
   "metadata": {},
   "outputs": [],
   "source": [
    "# Puede suceder que el resultado sea similar al de la RNN. En este caso, conviene cambiar algunos valores de \n",
    "# los hiperparámetros con diferentes optimizadores (Adam, SDG, etc.) para ver si hay cambios. \n",
    "\n",
    "# Tambièn podemos incrementar el número de capas LSTM y verificar.\n",
    "\n",
    "# Algo a tener en cuenta, que en rigor para comparar modelos, es necesario repetirlo un buen número de veces\n",
    "# y promediar la resultados. \n",
    "\n",
    "# La estructura de este código puede servir tambièn para otras series de tiempo."
   ]
  },
  {
   "cell_type": "code",
   "execution_count": 25,
   "id": "single-kitchen",
   "metadata": {},
   "outputs": [
    {
     "data": {
      "text/plain": [
       "array([[0.9572737]], dtype=float32)"
      ]
     },
     "execution_count": 25,
     "metadata": {},
     "output_type": "execute_result"
    }
   ],
   "source": [
    "predicted_data0=modell.predict(x_test[])\n",
    "predicted_data0\n",
    "#predicted_data0=scaler.inverse_transform(predicted_data)\n",
    "\n",
    "\n",
    "\n",
    "\n"
   ]
  },
  {
   "cell_type": "code",
   "execution_count": null,
   "id": "committed-snapshot",
   "metadata": {},
   "outputs": [],
   "source": []
  }
 ],
 "metadata": {
  "kernelspec": {
   "display_name": "Python 3",
   "language": "python",
   "name": "python3"
  },
  "language_info": {
   "codemirror_mode": {
    "name": "ipython",
    "version": 3
   },
   "file_extension": ".py",
   "mimetype": "text/x-python",
   "name": "python",
   "nbconvert_exporter": "python",
   "pygments_lexer": "ipython3",
   "version": "3.7.6"
  }
 },
 "nbformat": 4,
 "nbformat_minor": 5
}
